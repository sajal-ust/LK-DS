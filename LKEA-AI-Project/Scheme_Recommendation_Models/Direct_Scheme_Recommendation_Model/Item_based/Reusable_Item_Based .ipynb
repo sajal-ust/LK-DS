{
 "cells": [
  {
   "cell_type": "code",
   "execution_count": 1,
   "id": "7cfcef2c-f816-4d1c-85ed-f590644b2559",
   "metadata": {},
   "outputs": [],
   "source": [
    "import pandas as pd\n",
    "import numpy as np\n",
    "import logging\n",
    "from sklearn.preprocessing import MultiLabelBinarizer\n",
    "from sklearn.metrics import jaccard_score\n",
    "from sklearn.model_selection import train_test_split\n"
   ]
  },
  {
   "cell_type": "code",
   "execution_count": 2,
   "id": "cf606bea-1fcd-45bf-9a68-65ef11228c89",
   "metadata": {},
   "outputs": [],
   "source": [
    "# ----------------------- Logging Setup -----------------------\n",
    "# Configure logging to show timestamp, log level, and message\n",
    "logging.basicConfig(level=logging.INFO, format=\"%(asctime)s — %(levelname)s — %(message)s\")\n",
    "logger = logging.getLogger(__name__)\n"
   ]
  },
  {
   "cell_type": "code",
   "execution_count": 3,
   "id": "c2bcbe2d-1c0d-4320-8417-07904b588af2",
   "metadata": {},
   "outputs": [],
   "source": [
    "# ----------------------- Functions -----------------------\n",
    "\n",
    "def load_and_split_data(filepath, test_size=0.2, random_state=42):\n",
    "    logger.info(\"Loading data from file...\")\n",
    "    df = pd.read_csv(filepath)\n",
    "    logger.info(f\"Dataset loaded with {df.shape[0]} rows and {df.shape[1]} columns.\")\n",
    "    \n",
    "    train_df, test_df = train_test_split(df, test_size=test_size, random_state=random_state)\n",
    "    logger.info(f\"Data split into train ({len(train_df)}) and test ({len(test_df)}) sets.\")\n",
    "    return train_df, test_df"
   ]
  },
  {
   "cell_type": "code",
   "execution_count": 4,
   "id": "52278cf6-97e5-45f2-9522-2f0ae32625d7",
   "metadata": {},
   "outputs": [],
   "source": [
    "def create_scheme_matrix(train_df):\n",
    "    logger.info(\"Creating scheme-product association matrix...\")\n",
    "    grouped_schemes = train_df.groupby('Scheme_Type')['Product_id'].apply(set).reset_index()\n",
    "    \n",
    "    mlb = MultiLabelBinarizer()\n",
    "    scheme_matrix = pd.DataFrame(\n",
    "        mlb.fit_transform(grouped_schemes['Product_id']),\n",
    "        index=grouped_schemes['Scheme_Type'],\n",
    "        columns=mlb.classes_\n",
    "    )\n",
    "    \n",
    "    logger.info(f\"Scheme matrix created with shape: {scheme_matrix.shape}\")\n",
    "    return scheme_matrix"
   ]
  },
  {
   "cell_type": "code",
   "execution_count": null,
   "id": "e1ca2a26-d625-4770-b0b0-3b22a568895c",
   "metadata": {},
   "outputs": [],
   "source": [
    "# def preprocess_stockist_data(train_df):\n",
    "#     \"\"\"\n",
    "#     Preprocess the training DataFrame by:\n",
    "#     - One-hot encoding 'Geography' and 'Stockist_Type' columns.\n",
    "#     - Validating that encoded columns exist.\n",
    "#     - Replacing 0 in 'Sales_Value_Last_Period' to avoid log(0) errors.\n",
    "    \n",
    "#     Returns:\n",
    "#         Processed DataFrame, list of geo columns, list of stockist type columns\n",
    "#     \"\"\"\n",
    "#     # One-hot encode Geography and Stockist_Type\n",
    "#     train_df = pd.get_dummies(train_df, columns=[\"Geography\", \"Stockist_Type\"], dtype=int)\n",
    "\n",
    "#     # Identify the newly created one-hot columns\n",
    "#     geo_columns = [col for col in train_df.columns if col.startswith(\"Geography_\")]\n",
    "#     stockist_columns = [col for col in train_df.columns if col.startswith(\"Stockist_Type_\")]\n",
    "\n",
    "#     # Validation\n",
    "#     if not geo_columns or not stockist_columns:\n",
    "#         raise ValueError(\"One-hot encoding failed: 'Geography_' or 'Stockist_Type_' columns not found.\")\n",
    "\n",
    "#     # Replace zeros in Sales_Value_Last_Period to avoid log(0)\n",
    "#     if \"Sales_Value_Last_Period\" in train_df.columns:\n",
    "#         train_df[\"Sales_Value_Last_Period\"] = train_df[\"Sales_Value_Last_Period\"].replace(0, 1)\n",
    "\n",
    "#     return train_df, geo_columns, stockist_columns\n"
   ]
  },
  {
   "cell_type": "code",
   "execution_count": 5,
   "id": "ec0eafa1-cae3-4533-a884-ad511a4f6723",
   "metadata": {},
   "outputs": [],
   "source": [
    "def compute_similarity_matrix(scheme_matrix):\n",
    "    logger.info(\"Computing Jaccard similarity matrix...\")\n",
    "    similarity_matrix = pd.DataFrame(index=scheme_matrix.index, columns=scheme_matrix.index, dtype=float)\n",
    "\n",
    "    for i in range(len(scheme_matrix)):\n",
    "        for j in range(len(scheme_matrix)):\n",
    "            if i != j:\n",
    "                similarity = jaccard_score(scheme_matrix.iloc[i], scheme_matrix.iloc[j])\n",
    "                similarity_matrix.iloc[i, j] = similarity\n",
    "            else:\n",
    "                similarity_matrix.iloc[i, j] = 1.0\n",
    "    \n",
    "    logger.info(\"Similarity matrix computation completed.\")\n",
    "    return similarity_matrix"
   ]
  },
  {
   "cell_type": "code",
   "execution_count": 6,
   "id": "01b8e8a3-008d-46e6-8ad9-ef115c0b74dc",
   "metadata": {},
   "outputs": [],
   "source": [
    "def recommend_similar_schemes(similarity_matrix, scheme_name, top_n=3):\n",
    "    if scheme_name not in similarity_matrix.index:\n",
    "        logger.warning(f\"Scheme '{scheme_name}' not found in similarity matrix.\")\n",
    "        return []\n",
    "\n",
    "    similarities = similarity_matrix.loc[scheme_name].drop(scheme_name)\n",
    "    return similarities.sort_values(ascending=False).head(top_n).index.tolist()\n"
   ]
  },
  {
   "cell_type": "code",
   "execution_count": 7,
   "id": "347afdfc-9f0c-44cb-88ff-81150cd62aac",
   "metadata": {},
   "outputs": [],
   "source": [
    "def generate_recommendations(test_df, similarity_matrix, top_n=3):\n",
    "    logger.info(\"Generating scheme recommendations for test data...\")\n",
    "    recommendations = []\n",
    "\n",
    "    for product in test_df[\"Product_id\"].unique():\n",
    "        product_schemes = test_df[test_df[\"Product_id\"] == product][\"Scheme_Type\"].unique()\n",
    "        \n",
    "        for scheme in product_schemes:\n",
    "            if scheme in similarity_matrix.index:\n",
    "                similar_schemes = similarity_matrix.loc[scheme].drop(scheme).sort_values(ascending=False).head(top_n)\n",
    "                recommendations.append({\n",
    "                    \"Product_id\": product,\n",
    "                    \"Similarity_Scores\": round(similar_schemes.mean(), 6),\n",
    "                    \"Scheme_1\": similar_schemes.index[0] if len(similar_schemes) > 0 else None,\n",
    "                    \"Scheme_2\": similar_schemes.index[1] if len(similar_schemes) > 1 else None,\n",
    "                    \"Scheme_3\": similar_schemes.index[2] if len(similar_schemes) > 2 else None,\n",
    "                })\n",
    "            else:\n",
    "                logger.debug(f\"Scheme '{scheme}' for product '{product}' not in training similarity matrix.\")\n",
    "\n",
    "    logger.info(f\"Total recommendations generated: {len(recommendations)}\")\n",
    "    return pd.DataFrame(recommendations)\n"
   ]
  },
  {
   "cell_type": "code",
   "execution_count": 8,
   "id": "271ce13e-093f-4b53-b05b-d2e88e725002",
   "metadata": {},
   "outputs": [],
   "source": [
    "def save_recommendations(recommendation_df, output_path):\n",
    "    logger.info(f\"Saving recommendations to {output_path}...\")\n",
    "    recommendation_df.to_csv(output_path, index=False)\n",
    "    logger.info(\"Recommendations saved successfully.\")"
   ]
  },
  {
   "cell_type": "code",
   "execution_count": 9,
   "id": "1d05ee77-2c26-47b0-bb5d-b77f39b9a704",
   "metadata": {},
   "outputs": [],
   "source": [
    "# ----------------------- Main Pipeline -----------------------\n",
    "\n",
    "def main(filepath, output_path=\"Scheme_Recommendations.csv\"):\n",
    "    try:\n",
    "        train_df, test_df = load_and_split_data(filepath)\n",
    "        scheme_matrix = create_scheme_matrix(train_df)\n",
    "        similarity_matrix = compute_similarity_matrix(scheme_matrix)\n",
    "        recommendation_df = generate_recommendations(test_df, similarity_matrix)\n",
    "        save_recommendations(recommendation_df, output_path)\n",
    "        logger.info(\"Pipeline executed successfully.\")\n",
    "    except Exception as e:\n",
    "        logger.exception(f\"An error occurred during pipeline execution: {e}\")\n"
   ]
  },
  {
   "cell_type": "code",
   "execution_count": 11,
   "id": "a7a61b35-55af-4847-91bc-9e8e18f5a94a",
   "metadata": {},
   "outputs": [
    {
     "name": "stderr",
     "output_type": "stream",
     "text": [
      "2025-04-07 08:30:55,643 — INFO — Loading data from file...\n",
      "2025-04-07 08:30:55,688 — INFO — Dataset loaded with 15090 rows and 13 columns.\n",
      "2025-04-07 08:30:55,693 — INFO — Data split into train (12072) and test (3018) sets.\n",
      "2025-04-07 08:30:55,694 — INFO — Creating scheme-product association matrix...\n",
      "2025-04-07 08:30:55,700 — INFO — Scheme matrix created with shape: (4, 15)\n",
      "2025-04-07 08:30:55,700 — INFO — Computing Jaccard similarity matrix...\n",
      "2025-04-07 08:30:55,738 — INFO — Similarity matrix computation completed.\n",
      "2025-04-07 08:30:55,740 — INFO — Generating scheme recommendations for test data...\n",
      "2025-04-07 08:30:55,784 — INFO — Total recommendations generated: 30\n",
      "2025-04-07 08:30:55,785 — INFO — Saving recommendations to Scheme_Recommendations.csv...\n",
      "2025-04-07 08:30:55,793 — INFO — Recommendations saved successfully.\n",
      "2025-04-07 08:30:55,794 — INFO — Pipeline executed successfully.\n"
     ]
    }
   ],
   "source": [
    "# ----------------------- Script Entry Point -----------------------\n",
    "\n",
    "if __name__ == \"__main__\":\n",
    "    main(\"Augmented_Stockist_data.csv\")"
   ]
  },
  {
   "cell_type": "code",
   "execution_count": null,
   "id": "e4f93d75-de3b-4be8-a6e3-7baab86d7b34",
   "metadata": {},
   "outputs": [],
   "source": []
  }
 ],
 "metadata": {
  "kernelspec": {
   "display_name": "anaconda-2024.02-py310",
   "language": "python",
   "name": "conda-env-anaconda-2024.02-py310-py"
  },
  "language_info": {
   "codemirror_mode": {
    "name": "ipython",
    "version": 3
   },
   "file_extension": ".py",
   "mimetype": "text/x-python",
   "name": "python",
   "nbconvert_exporter": "python",
   "pygments_lexer": "ipython3",
   "version": "3.10.14"
  }
 },
 "nbformat": 4,
 "nbformat_minor": 5
}
