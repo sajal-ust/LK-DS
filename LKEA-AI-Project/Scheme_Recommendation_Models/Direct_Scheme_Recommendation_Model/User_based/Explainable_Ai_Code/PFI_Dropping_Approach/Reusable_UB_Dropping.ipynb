{
 "cells": [
  {
   "cell_type": "code",
   "execution_count": 30,
   "id": "722bbb3d-f401-487c-911b-017210a18047",
   "metadata": {},
   "outputs": [],
   "source": [
    "import pandas as pd\n",
    "import numpy as np\n",
    "from sklearn.model_selection import train_test_split\n",
    "from sklearn.neighbors import NearestNeighbors\n",
    "from sklearn.preprocessing import MinMaxScaler\n",
    "from scipy.sparse import csr_matrix\n",
    "import logging\n",
    "import matplotlib.pyplot as plt\n",
    "from copy import deepcopy"
   ]
  },
  {
   "cell_type": "code",
   "execution_count": 31,
   "id": "db62331c-9487-4a8d-b550-6407d5b85957",
   "metadata": {},
   "outputs": [],
   "source": [
    "# Configure logging\n",
    "logging.basicConfig(level=logging.INFO, format=\"%(asctime)s - %(levelname)s - %(message)s\")\n"
   ]
  },
  {
   "cell_type": "markdown",
   "id": "11d2c443-0aed-4f3d-a10c-0d95f8474862",
   "metadata": {},
   "source": [
    "Loads data from a CSV file.\n",
    "\n",
    "Applies one-hot encoding to categorical columns.\n",
    "\n",
    "Identifies the columns for Geography and Stockist Type.\n",
    "\n",
    "Replaces zero values in \"Sales_Value_Last_Period\" to avoid log(0) errors."
   ]
  },
  {
   "cell_type": "code",
   "execution_count": 32,
   "id": "b7a0b290-9dec-4a55-9b3f-d92d76a67ae0",
   "metadata": {},
   "outputs": [],
   "source": [
    "def load_and_preprocess_data(file_path):\n",
    "    df = pd.read_csv(file_path)  # Load dataset from CSV file\n",
    "\n",
    "    # One-hot encoding categorical columns: Geography & Stockist_Type\n",
    "    df = pd.get_dummies(df, columns=[\"Geography\", \"Stockist_Type\"], dtype=int)\n",
    "\n",
    "    # Extract encoded column names\n",
    "    geo_columns = [col for col in df.columns if col.startswith(\"Geography\")]\n",
    "    stockist_columns = [col for col in df.columns if col.startswith(\"Stockist_Type\")]\n",
    "\n",
    "    # Check if encoding was successful\n",
    "    if not geo_columns or not stockist_columns:\n",
    "        raise ValueError(\"No Geography or Stockist_Type features found after encoding!\")\n",
    "\n",
    "    # Avoid log(0) issues by replacing 0 sales with 1\n",
    "    df[\"Sales_Value_Last_Period\"] = df[\"Sales_Value_Last_Period\"].replace(0, 1)\n",
    "\n",
    "    # Compute Engagement Score: log-transformed sales weighted by feedback & categorical features\n",
    "    df[\"Engagement_Score\"] = np.log1p(df[\"Sales_Value_Last_Period\"]) * (\n",
    "        df[\"Feedback_Score\"] + df[geo_columns + stockist_columns].sum(axis=1) * 5\n",
    "    )\n",
    "    logging.info(\"Data preprocessing completed.\")\n",
    "    return df, geo_columns, stockist_columns  # Return processed data & feature lists\n"
   ]
  },
  {
   "cell_type": "markdown",
   "id": "68844b61-51b8-4f9b-bc93-96814acf29bf",
   "metadata": {},
   "source": [
    "Pivot table where rows represent \"Partner_id\", columns represent \"Scheme_Type\", and values are summed \"Engagement_Score\".\n",
    "\n",
    "Aggregates categorical features per \"Partner_id\"."
   ]
  },
  {
   "cell_type": "code",
   "execution_count": 33,
   "id": "9dd35ced-a522-49ab-ab45-59671e6bd6da",
   "metadata": {},
   "outputs": [],
   "source": [
    "def create_user_scheme_matrix(train_df, geo_columns, stockist_columns):\n",
    "    # Pivot table to create user-item matrix based on engagement scores\n",
    "    user_scheme_matrix = train_df.pivot_table(\n",
    "        index=\"Partner_id\", columns=\"Scheme_Type\", values=\"Engagement_Score\", aggfunc=\"sum\", fill_value=0\n",
    "    )\n",
    "\n",
    "    # Extract additional user features (mean values for encoded geography & stockist features)\n",
    "    user_features = train_df.groupby(\"Partner_id\")[geo_columns + stockist_columns].mean()\n",
    "    user_scheme_matrix = user_scheme_matrix.merge(user_features, left_index=True, right_index=True, how=\"left\")\n",
    "    #print(user_scheme_matrix)\n",
    "    # Prepare sparse matrix\n",
    "    \n",
    "    user_scheme_matrix_scaled_baseline = user_scheme_matrix.copy()\n",
    "    \n",
    "    # Apply Min-Max Scaling to bring all features to [0,1] range\n",
    "    scaler = MinMaxScaler()\n",
    "    user_scheme_matrix_scaled_baseline[:] = scaler.fit_transform(user_scheme_matrix_scaled_baseline)\n",
    "    # Merge user scheme matrix with extracted features\n",
    "    logging.info(\"User-scheme matrix created.\")\n",
    "    return user_scheme_matrix_scaled_baseline\n",
    "    #return user_scheme_matrix.merge(user_features, left_index=True, right_index=True, how=\"left\")\n"
   ]
  },
  {
   "cell_type": "markdown",
   "id": "573c530b-0a4f-4b4a-bb60-b9f90fd852b7",
   "metadata": {},
   "source": [
    "Converts the matrix into a sparse representation.\n",
    "\n",
    "Fits a KNN model using cosine similarity to find nearest users."
   ]
  },
  {
   "cell_type": "code",
   "execution_count": 34,
   "id": "721c81cc-4beb-4164-a76e-48e32fe0b686",
   "metadata": {},
   "outputs": [],
   "source": [
    "def train_knn_model(user_scheme_matrix):\n",
    "    # Convert matrix to a sparse representation for efficient processing\n",
    "    \n",
    "    # Train KNN model with the normalized user-scheme matrix\n",
    "    user_scheme_sparse_scaled_baseline = csr_matrix(user_scheme_matrix.values)\n",
    "    #print(user_scheme_sparse_scaled)\n",
    "    partner_id_lookup = list(user_scheme_matrix.index)\n",
    "    knn_model = NearestNeighbors(metric='cosine', algorithm='brute')\n",
    "    knn_model.fit(user_scheme_sparse_scaled_baseline)\n",
    "    ##sparse_matrix = csr_matrix(user_scheme_matrix.values)\n",
    "\n",
    "    # Initialize KNN model with cosine similarity metric\n",
    "    #knn_model = NearestNeighbors(metric='cosine', algorithm='brute')\n",
    "\n",
    "    # Train the model on sparse matrix data\n",
    "    #knn_model.fit(sparse_matrix)\n",
    "    logging.info(\"KNN model trained successfully.\")\n",
    "    return knn_model, list(user_scheme_matrix.index), user_scheme_sparse_scaled_baseline  # Return model & metadata\n"
   ]
  },
  {
   "cell_type": "markdown",
   "id": "307721a1-2d49-4d70-8594-e30873d0aed3",
   "metadata": {},
   "source": [
    "Finds nearest neighbors based on engagement score.\n",
    "\n",
    "Filters out the queried user.\n",
    "\n",
    "Extracts top 3 schemes from the most similar user.\n",
    "\n",
    "Returns a recommendation list."
   ]
  },
  {
   "cell_type": "code",
   "execution_count": 35,
   "id": "d69cad4f-2588-4694-924f-315af3303ca1",
   "metadata": {},
   "outputs": [],
   "source": [
    "\n",
    "def recommend_user_based(partner_id, knn_model, user_scheme_matrix, train_df, partner_id_lookup, top_n=3):\n",
    "    # Check if the given Partner ID exists in the dataset\n",
    "    if partner_id not in user_scheme_matrix.index:\n",
    "        return None  # Return None if the user is not in the dataset\n",
    "\n",
    "    # Get the row index of the Partner ID\n",
    "    idx = partner_id_lookup.index(partner_id)\n",
    "\n",
    "    # Find nearest neighbors based on cosine similarity\n",
    "    distances, indices = knn_model.kneighbors(\n",
    "        user_scheme_matrix.iloc[idx].values.reshape(1, -1),\n",
    "        n_neighbors=min(top_n + 1, len(user_scheme_matrix))\n",
    "    )\n",
    "\n",
    "    # Convert distances into similarity scores\n",
    "    similarities = 1 - distances.flatten()\n",
    "    neighbors = indices.flatten()\n",
    "\n",
    "    # Filter out the current user (self-matching case)\n",
    "    filtered = [(i, sim) for i, sim in zip(neighbors, similarities) if i != idx]\n",
    "\n",
    "    if not filtered:\n",
    "        return None  # If no valid recommendations, return None\n",
    "\n",
    "    # Retrieve the most similar user and their top schemes\n",
    "    top_idx, sim_score = filtered[0]\n",
    "    similar_user = partner_id_lookup[top_idx]\n",
    "    sim_score = round(sim_score, 6)  # Round similarity score\n",
    "\n",
    "    # Get the most popular schemes used by the similar user\n",
    "    top_schemes = train_df[train_df[\"Partner_id\"] == similar_user][\"Scheme_Type\"].value_counts().head(3).index.tolist()\n",
    "\n",
    "    # If fewer than 3 schemes found, fill the remaining slots with \"No Scheme\"\n",
    "    while len(top_schemes) < 3:\n",
    "        top_schemes.append(\"No Scheme\")\n",
    "\n",
    "    # Get the product associated with the original Partner ID\n",
    "    product = train_df[train_df[\"Partner_id\"] == partner_id][\"Product_id\"].unique()[0]\n",
    "\n",
    "    return [partner_id, product, sim_score, *top_schemes]  # Return recommendations\n"
   ]
  },
  {
   "cell_type": "markdown",
   "id": "d904809b-69ba-4555-8107-8282b90f3a18",
   "metadata": {},
   "source": [
    "Computes recommendations before and after removing geography-related features.\n",
    "\n",
    "Measures the percentage of changes in recommendations after dropping Geography features.\n",
    "\n",
    "Helps determine the importance of Geography in recommendations."
   ]
  },
  {
   "cell_type": "code",
   "execution_count": 36,
   "id": "a819c143-59ec-42d7-b78e-90c04877e7f6",
   "metadata": {},
   "outputs": [],
   "source": [
    "def compute_feature_importance_drop(df, train_df, test_df, geo_columns, stockist_columns, knn_model, user_scheme_matrix, partner_id_lookup, drop_feature):\n",
    "    baseline_recommendations = {\n",
    "        pid: recommend_user_based(pid, knn_model, user_scheme_matrix, train_df, partner_id_lookup)\n",
    "        for pid in test_df[\"Partner_id\"].unique()\n",
    "    }\n",
    "    \n",
    "    baseline_df = pd.DataFrame(\n",
    "        [v for v in baseline_recommendations.values() if v],\n",
    "        columns=[\"Partner_id\", \"Product_id\", \"Similarity_Score\", \"Scheme_1\", \"Scheme_2\", \"Scheme_3\"]\n",
    "    ).set_index([\"Partner_id\", \"Product_id\"])\n",
    "    \n",
    "    perturbed_df = deepcopy(df).drop(columns=drop_feature, errors='ignore')\n",
    "    train_df_perturbed = perturbed_df.loc[train_df.index]\n",
    "    train_df_perturbed[\"Engagement_Score\"] = np.log1p(train_df_perturbed[\"Sales_Value_Last_Period\"]) * (\n",
    "        train_df_perturbed[\"Feedback_Score\"] + train_df_perturbed[geo_columns if drop_feature == stockist_columns else stockist_columns].sum(axis=1)\n",
    "    )\n",
    "    \n",
    "    user_scheme_matrix_perturbed = create_user_scheme_matrix(train_df_perturbed, geo_columns if drop_feature == stockist_columns else [], stockist_columns if drop_feature == geo_columns else [])\n",
    "    #knn_model_perturbed, _, _ = train_knn_model(user_scheme_matrix_perturbed)\n",
    "    user_scheme_matrix_scaled = user_scheme_matrix_perturbed.copy()\n",
    "\n",
    "    # Apply Min-Max Scaling to bring all features to [0,1] range\n",
    "    scaler = MinMaxScaler()\n",
    "    user_scheme_matrix_scaled[:] = scaler.fit_transform(user_scheme_matrix_scaled)\n",
    "    \n",
    "    # Train KNN model with the normalized user-scheme matrix\n",
    "    user_scheme_sparse_scaled = csr_matrix(user_scheme_matrix_scaled.values)\n",
    "    #print(user_scheme_sparse_scaled)\n",
    "    knn_model_scaled = NearestNeighbors(metric='cosine', algorithm='brute')\n",
    "    knn_model_scaled.fit(user_scheme_sparse_scaled)\n",
    "    \n",
    "    perturbed_recommendations = {\n",
    "        pid: recommend_user_based(pid, knn_model_scaled, user_scheme_matrix_scaled, train_df, partner_id_lookup)\n",
    "        for pid in test_df[\"Partner_id\"].unique()\n",
    "    }\n",
    "    \n",
    "    perturbed_df = pd.DataFrame(\n",
    "        [v for v in perturbed_recommendations.values() if v],\n",
    "        columns=[\"Partner_id\", \"Product_id\", \"Similarity_Score\", \"Scheme_1\", \"Scheme_2\", \"Scheme_3\"]\n",
    "    ).set_index([\"Partner_id\", \"Product_id\"])\n",
    "    scheme_columns = [\"Scheme_1\", \"Scheme_2\", \"Scheme_3\"]\n",
    "    changed_recommendations = (baseline_df[scheme_columns] != perturbed_df[scheme_columns]).all(axis=1)\n",
    "    \n",
    "    # Count only rows where all three schemes have changed\n",
    "    changed_count = changed_recommendations.sum()\n",
    "    \n",
    "    # Normalize by total recommendations in baseline\n",
    "    importance_scores = changed_count / len(baseline_df)\n",
    "    \n",
    "    logging.info(\"User-Based Recommendations saved successfully.\")\n",
    "    return {f\"Dropped_{'Stockist_Type' if drop_feature == stockist_columns else 'Geography'}\": importance_scores}\n"
   ]
  },
  {
   "cell_type": "code",
   "execution_count": 37,
   "id": "8a1add57-f373-48b8-88e9-cf4efd2a9268",
   "metadata": {},
   "outputs": [
    {
     "name": "stderr",
     "output_type": "stream",
     "text": [
      "2025-04-07 12:30:17,624 - INFO - Data preprocessing completed.\n",
      "2025-04-07 12:30:17,722 - INFO - User-scheme matrix created.\n",
      "2025-04-07 12:30:17,740 - INFO - KNN model trained successfully.\n",
      "2025-04-07 12:30:18,489 - INFO - User-scheme matrix created.\n",
      "2025-04-07 12:30:18,948 - INFO - User-Based Recommendations saved successfully.\n",
      "2025-04-07 12:30:19,520 - INFO - User-scheme matrix created.\n",
      "2025-04-07 12:30:20,020 - INFO - User-Based Recommendations saved successfully.\n"
     ]
    },
    {
     "name": "stdout",
     "output_type": "stream",
     "text": [
      "Feature Importance Drop (Geography): {'Dropped_Geography': 0.43564356435643564}\n",
      "Feature Importance Drop (Stockist Type): {'Dropped_Stockist_Type': 0.39603960396039606}\n"
     ]
    }
   ],
   "source": [
    "\n",
    "# Main Execution\n",
    "base_dir = os.getcwd()\n",
    "file_path = os.path.join(base_dir, \"Augmented_Stockist_Data (1).csv\")\n",
    "df, geo_columns, stockist_columns = load_and_preprocess_data(file_path\)\n",
    "train_df, test_df = train_test_split(df, test_size=0.2, random_state=42, stratify=df[\"Partner_id\"])\n",
    "user_scheme_matrix = create_user_scheme_matrix(train_df, geo_columns, stockist_columns)\n",
    "knn_model, partner_id_lookup, _ = train_knn_model(user_scheme_matrix)\n",
    "\n",
    "# Feature importance for Geography\n",
    "drop_geo_score = compute_feature_importance_drop(df, train_df, test_df, geo_columns, stockist_columns, knn_model, user_scheme_matrix, partner_id_lookup, geo_columns)\n",
    "\n",
    "# Feature importance for Stockist Type\n",
    "drop_stockist_score = compute_feature_importance_drop(df, train_df, test_df, geo_columns, stockist_columns, knn_model, user_scheme_matrix, partner_id_lookup, stockist_columns)\n",
    "\n",
    "print(\"Feature Importance Drop (Geography):\", drop_geo_score)\n",
    "print(\"Feature Importance Drop (Stockist Type):\", drop_stockist_score)\n"
   ]
  },
  {
   "cell_type": "code",
   "execution_count": 38,
   "id": "2adf281c-28c3-483a-af02-efd5c4909f7f",
   "metadata": {},
   "outputs": [],
   "source": [
    "# Convert to DataFrame for saving to CSV\n",
    "drop_geo_importance_df = pd.DataFrame(list(drop_geo_score.items()), columns=[\"Feature\", \"Importance\"])\n",
    "drop_stockist_importance_df = pd.DataFrame(list(drop_stockist_score.items()), columns=[\"Feature\", \"Importance\"])\n",
    "\n",
    "# Save results to CSV files\n",
    "drop_geo_importance_df.to_csv(\"geo_feature_importance.csv\", index=False)\n",
    "drop_stockist_importance_df.to_csv(\"stockist_feature_importance.csv\", index=False)\n"
   ]
  },
  {
   "cell_type": "code",
   "execution_count": 39,
   "id": "bdc5caf4-2d81-48e5-957c-e127fb637806",
   "metadata": {},
   "outputs": [
    {
     "data": {
      "image/png": "iVBORw0KGgoAAAANSUhEUgAAArMAAAJCCAYAAADTKU+nAAAAOXRFWHRTb2Z0d2FyZQBNYXRwbG90bGliIHZlcnNpb24zLjkuMiwgaHR0cHM6Ly9tYXRwbG90bGliLm9yZy8hTgPZAAAACXBIWXMAAA9hAAAPYQGoP6dpAACMC0lEQVR4nOzdd1hT1/8H8HcmQ4bKUkFRcYADceGqCxcO3Nu6reLEUbfWPVHrKop7oIhatbXYuheurwO11l1QVLSyQZCR5P7+8EcgAkqUFXy/nsfnkZObm88JyeWdm3POFQmCIICIiIiISAeJ87sAIiIiIqIvxTBLRERERDqLYZaIiIiIdBbDLBERERHpLIZZIiIiItJZDLNEREREpLMYZomIiIhIZzHMEhEREZHOYpglIiIiIp3FMEuftWPHDohEokz//fjjj7nymPfv38fcuXPx7NmzXNn/13j27BlEIhFWrFiR36V8scuXL2Pu3LmIjo7O71JyzLVr19ClSxeUKVMGenp6sLKyQoMGDTBp0qT8Lu2LDRkyBK6uruqfC8NrL1VCQgLmzp2Lc+fO5fi+nz17hvbt26N48eIQiUQYP358ltuWLVtWfTwTi8UwNTWFg4MDBgwYgBMnTuR4bbkl9bWxY8eOfHvszP7VqVMnVx4zN18/OW3r1q2wtrZGfHx8fpdSaEnzuwDSHdu3b4e9vb1GW6lSpXLlse7fv4958+ahWbNmKFu2bK48xrfs8uXLmDdvHgYNGoSiRYvmdzlfzd/fHx07dkSzZs2wfPlylCxZEq9fv8aNGzewb98+rFy5Mr9L1FpgYCB27tyJa9eu5XcpuSIhIQHz5s0DADRr1ixH9z1hwgRcu3YN27ZtQ4kSJVCyZMlPbt+oUSP1B4R3797h0aNH2LdvH9q0aYNu3brB19cXMpksR2vMaSVLlsSVK1dgZ2eXbzWMHTsWffv21WgzMjLKlcfKzddPThs4cCCWLVuG5cuXq2umnMUwS9lWrVq1XPuUnVdSUlIgEokglX6bL/33799DX18/v8vIccuXL0e5cuVw/Phxjd9t7969sXz58jytJSEhAYaGhl+9n6VLl8LZ2Vnn33P54d69e3B2dkbnzp2ztX3RokVRv3599c8tW7bE6NGjMXfuXMybNw+zZs3CsmXLsry/UqmEQqGAnp7e15b+xfT09DT6kB/KlCmT7zV8LUEQkJiYCAMDgxzbp1QqxYgRI7BgwQJMnTo1R44PpInDDCjH+Pn5oUGDBihSpAiMjIzQpk0bBAYGamxz48YN9O7dG2XLloWBgQHKli2LPn364Pnz5+ptduzYgR49egAAmjdvrv66KvXrs7Jly2LQoEEZHr9Zs2Yan9DPnTsHkUiE3bt3Y9KkSbC2toaenh6ePn0KADh16hRatGgBExMTGBoaolGjRjh9+vQX9T11KMaZM2fwww8/wMzMDCYmJhgwYADi4+Px5s0b9OzZE0WLFkXJkiXx448/IiUlRX3/1K/pli9fjkWLFqFMmTLQ19dHnTp1Mq0pICAALVq0gLGxMQwNDdGwYUP4+/tnWtOJEycwZMgQWFhYwNDQENOnT8fkyZMBAOXKlVM/v6lf1/n5+aF169YoWbIkDAwM4ODggGnTpmX4imzQoEEwMjLC06dP0a5dOxgZGaF06dKYNGkSkpKSNLZNSkrC/Pnz4eDgAH19fZiZmaF58+a4fPmyehtBEODl5QUnJycYGBigWLFi6N69O4KCgj77/EdERMDc3DzTDyliccbD3N69e9GgQQMYGRnByMgITk5O2Lp1q8Y227ZtQ40aNaCvr4/ixYujS5cuePDgQabPwd9//43WrVvD2NgYLVq0AAAkJydj4cKFsLe3h56eHiwsLDB48GCEhYV9tj///fcfDh8+jP79+39227x87T19+hSDBw9GxYoVYWhoCGtra7i5ueHvv//OUFd0dDQmTZqE8uXLQ09PD5aWlmjXrh0ePnyIZ8+ewcLCAgAwb9489Wsws/d1eiEhIfj+++9haWkJPT09ODg4YOXKlVCpVADS3vNPnz7Fn3/+qd7vlw5Xmjt3LqpWrYr169cjMTExw/O1cOFClCtXDnp6ejh79iwA4Pfff0eDBg1gaGgIY2NjtGrVCleuXMmwX5FIhMDAQHTt2hUmJiYwNTXF999/n+H1UbZsWXTo0AGHDx+Go6Mj9PX1Ub58eaxdu1Zju8yGGaQ+zj///IM+ffrA1NQUVlZWGDJkCGJiYjTuHx0djaFDh6J48eIwMjJC+/btERQUBJFIhLlz537R8/exGzduoGPHjihevDj09fVRs2ZN7N+/X2ObsLAwjBo1ClWqVIGRkREsLS3h4uKCixcvavT1U6+fQYMGZfqNXurzkZ5IJMKYMWOwceNGODg4QE9PDzt37gQAPHnyBH379tV4vf3yyy8a91epVFi4cCEqV64MAwMDFC1aFI6OjlizZo3Gdv369UNsbCz27dv3Rc8dfRrDLGVb6tmH9P9SLV68GH369EGVKlWwf/9+7N69G3FxcWjcuDHu37+v3u7Zs2eoXLkyVq9ejePHj2PZsmV4/fo16tati/DwcABA+/btsXjxYgDAL7/8gitXruDKlSto3779F9U9ffp0hISEYOPGjTh69CgsLS3h4+OD1q1bw8TEBDt37sT+/ftRvHhxtGnT5osDLQAMGzYMpqam2LdvH2bNmoW9e/fihx9+QPv27VGjRg0cPHgQAwcOxMqVK7Fu3boM91+/fj3++usvrF69Gj4+PhCLxWjbtq3GH8Pz58/DxcUFMTEx2Lp1K3x9fWFsbAw3Nzf4+fll2OeQIUMgk8mwe/duHDx4ECNHjsTYsWMBAIcOHVI/v7Vq1QLw4QDerl07bN26FX/99RfGjx+P/fv3w83NLcO+U1JS0LFjR7Ro0QK//fYbhgwZgp9//lnjLJZCoUDbtm2xYMEC9R/lHTt2oGHDhggJCVFvN2LECIwfPx4tW7bEkSNH4OXlhX/++QcNGzbEf//998nnvUGDBrh27RrGjRuHa9euaYS1j/3000/o168fSpUqhR07duDw4cMYOHCgxgeqJUuWYOjQoahatSoOHTqENWvW4O7du2jQoAGePHmisb/k5GR07NgRLi4u+O233zBv3jyoVCp06tQJS5cuRd++feHv74+lS5fi5MmTaNasGd6/f//J/pw4cQIpKSlo3rz5J7dLLy9ee6GhoTAzM8PSpUvx119/4ZdffoFUKkW9evXw6NEj9XZxcXH47rvv4O3tjcGDB+Po0aPYuHEjKlWqhNevX6NkyZL466+/AABDhw5VvwZnz56dZf/CwsLQsGFDnDhxAgsWLMDvv/+Oli1b4scff8SYMWMAALVq1cKVK1dQokQJNGrUSL3fzw0z+BQ3NzckJCTgxo0bGu1r167FmTNnsGLFCvz555+wt7fH3r170alTJ5iYmMDX1xdbt25FVFQUmjVrhoCAgAz77tKlCypUqICDBw9i7ty5OHLkCNq0aZPh9Xv79m2MHz8eEyZMwOHDh9GwYUN4eHhke+x0t27dUKlSJfz666+YNm0a9u7diwkTJqhvV6lUcHNzw969ezF16lQcPnwY9erV0xivnR0qlSrD3whBEAAAZ8+eRaNGjRAdHY2NGzfit99+g5OTE3r16qURwCMjIwEAc+bMgb+/P7Zv347y5cujWbNm6g/cX/L6+ZQjR45gw4YN+Omnn3D8+HH13626devi3r17WLlyJf744w+0b98e48aN0xgqsHz5csydOxd9+vSBv78//Pz8MHTo0AzzEUqUKAF7e/sMJx0ohwhEn7F9+3YBQKb/UlJShJCQEEEqlQpjx47VuF9cXJxQokQJoWfPnlnuW6FQCO/evROKFCkirFmzRt1+4MABAYBw9uzZDPextbUVBg4cmKG9adOmQtOmTdU/nz17VgAgNGnSRGO7+Ph4oXjx4oKbm5tGu1KpFGrUqCE4Ozt/4tkQhODgYAGA4OnpqW5LfY4+fg46d+4sABBWrVql0e7k5CTUqlUrwz5LlSolvH//Xt0eGxsrFC9eXGjZsqW6rX79+oKlpaUQFxenblMoFEK1atUEGxsbQaVSadQ0YMCADH3w9PQUAAjBwcGf7KtKpRJSUlKE8+fPCwCEO3fuqG8bOHCgAEDYv3+/xn3atWsnVK5cWf3zrl27BADC5s2bs3ycK1euCACElStXarS/ePFCMDAwEKZMmfLJOsPDw4XvvvtO/bqUyWRCw4YNhSVLlmg8T0FBQYJEIhH69euX5b6ioqIEAwMDoV27dhrtISEhgp6entC3b98Mz8G2bds0tvX19RUACL/++qtG+/Xr1wUAgpeX1yf7M3LkSMHAwED9u0yV36+9jykUCiE5OVmoWLGiMGHCBHX7/PnzBQDCyZMns7xvWFiYAECYM2dOltukN23aNAGAcO3aNY32kSNHCiKRSHj06JG6zdbWVmjfvn229vu5bTds2CAAEPz8/ARBSHu+7OzshOTkZPV2SqVSKFWqlFC9enVBqVSq2+Pi4gRLS0uhYcOG6rY5c+YIADSeM0EQhD179ggABB8fH436RCKRcPv2bY1tW7VqJZiYmAjx8fEadW3fvj3D4yxfvlzjvqNGjRL09fXVry9/f38BgLBhwwaN7ZYsWZKt31HqY2f2L/U1YG9vL9SsWVNISUnRuG+HDh2EkiVLajxn6SkUCiElJUVo0aKF0KVLF3X7p14/AwcOFGxtbTO0pz4f6QEQTE1NhcjISI32Nm3aCDY2NkJMTIxG+5gxYwR9fX319h06dBCcnJwyf2I+0q9fP8HKyipb25J2eGaWsm3Xrl24fv26xj+pVIrjx49DoVBgwIABGp/I9fX10bRpU43Zpu/evcPUqVNRoUIFSKVSSKVSGBkZIT4+PsNXuDmlW7duGj9fvnwZkZGRGDhwoEa9KpUKrq6uuH79+hfPOu3QoYPGzw4ODgCQ4ayyg4ODxpnAVF27dtUY05p6xvXChQtQKpWIj4/HtWvX0L17d42JFRKJBP3798fLly81zpBl1v/PCQoKQt++fVGiRAlIJBLIZDI0bdoUADL8jkQiUYYzto6Ojhp9+/PPP6Gvr48hQ4Zk+Zh//PEHRCIRvv/+e43fSYkSJVCjRo3Pzlg2MzPDxYsXcf36dSxduhSdOnXC48ePMX36dFSvXl191v/kyZNQKpUYPXp0lvu6cuUK3r9/n+Er79KlS8PFxSXTM/cfP8d//PEHihYtCjc3N43+ODk5oUSJEp/tT2hoKCwsLDJ8Jfopuf3aAz6cZV+8eDGqVKkCuVwOqVQKuVyOJ0+eaLw2/vzzT1SqVAktW7bMdv2fc+bMGVSpUgXOzs4a7YMGDYIgCDhz5kyOPVZ6wv+fWfxYx44dNSaFPXr0CKGhoejfv7/G0BYjIyN069YNV69eRUJCgsY++vXrp/Fzz549IZVK1UMWUlWtWhU1atTQaOvbty9iY2Nx69atz/ahY8eOGj87OjoiMTERb9++BfDh257Ux0+vT58+n913eh4eHhn+RtSrVw9Pnz7Fw4cP1f1N/55o164dXr9+rXHc2rhxI2rVqgV9fX1IpVLIZDKcPn061/5GuLi4oFixYuqfExMTcfr0aXTp0gWGhoYZ6k1MTMTVq1cBAM7Ozrhz5w5GjRqF48ePIzY2NsvHsbS0xNu3bzW+1aSc8W3OgqEv4uDgkOlklNSvgOvWrZvp/dIf2Pv27YvTp09j9uzZqFu3LkxMTCASidCuXbvPfvX6pT7+ijG13u7du2d5n8jISBQpUkTrxypevLjGz3K5PMv21DF46ZUoUSLTtuTkZLx79w5xcXEQBCHTr01TV5aIiIjQaNfmK9Z3796hcePG0NfXx8KFC1GpUiUYGhrixYsX6Nq1a4bfkaGhYYYJZXp6ehp9CwsLQ6lSpTIdu5rqv//+gyAIsLKyyvT28uXLZ6v+OnXqqF+jKSkpmDp1Kn7++WcsX74cy5cvV49HtLGxyXIfqc9fVs/xyZMnNdoMDQ1hYmKSoT/R0dHq3//HUsN1Vr5kol5uv/ZMTU0xceJE/PLLL5g6dSqaNm2KYsWKQSwWY9iwYRqvjbCwMJQpU0ar+j8nIiIi03GQWb3uc0pq8P945ZaPXx+fe92oVCpERUVpTP75+DmXSqUwMzPL0JesfjfpH/dTzMzMNH5OnaiW+juLiIiAVCrN8FrJ6v2YFRsbm0z/Rty9excA8OOPP2a5nGPqe2LVqlWYNGkS3N3dsWDBApibm0MikWD27Nm5FmYz+10qFAqsW7cu0yE56eudPn06ihQpAh8fH2zcuBESiQRNmjTBsmXLMjwX+vr66glmubXKw7eKYZa+mrm5OQDg4MGDsLW1zXK7mJgY/PHHH5gzZw6mTZumbk9KSlKPk8oOfX39DBOMgA8Hl9Ra0vv47FbqNuvWrcty5q22B/Gc8ubNm0zb5HI5jIyMIJVKIRaL8fr16wzbhYaGAkCG50Cbs3tnzpxBaGgozp07pz4bC+Cr1qO1sLBAQEAAVCpVloHW3NwcIpEIFy9ezHRG+JfMEpfJZJgzZw5+/vln3Lt3T10LALx8+RKlS5fO9H6pf/izeo6z8/yam5vDzMxMPa7vY8bGxp+s3dzcPFtn3HLS5157AODj44MBAwaox7SnCg8P11jizcLCAi9fvszR+szMzLR63ecEQRBw9OhRFClSJEMw+fj3/rnXjVgs1jj7B3x4fq2trdU/KxQKREREZAifWf1u0j/u1zAzM4NCoUBkZKRGoM3scb9E6u9m+vTp6Nq1a6bbVK5cGcCH11izZs2wYcMGjdvj4uKy/Xif+huRmY9/l8WKFVN/25XVtzjlypUD8OEDyMSJEzFx4kRER0fj1KlTmDFjBtq0aYMXL15ofHiJjIyEnp4eg2wu4DAD+mpt2rSBVCrFv//+qz4z9vE/4MMBQxCEDMFky5Yt6q8xU3185iC9smXLqj/pp3r8+HGGr9ez0qhRIxQtWhT379/Pst6szqjltkOHDmmcNYuLi8PRo0fRuHFjSCQSFClSBPXq1cOhQ4c0nhuVSgUfHx/Y2NigUqVKn32crJ7f1IP6x78jb2/vL+5T27ZtkZiY+MnF3Dt06ABBEPDq1atMfx/Vq1f/5GNkFiCAtGERqWfVWrduDYlEkuEPZXoNGjSAgYEBfHx8NNpfvnyJM2fOqFcr+JQOHTogIiICSqUy0/6k/uHOir29PSIiIjLMOM9Nn3vtAR9eHx+/Nvz9/fHq1SuNtrZt2+Lx48ef/Or/U+/xzLRo0QL379/PEPJ37doFkUik1WS57Jo3bx7u378PDw+Pz54pr1y5MqytrbF3716NoQnx8fH49ddf1SscpLdnzx6Nn/fv3w+FQpFh3dR//vkHd+7c0Wjbu3cvjI2N1RM3v0bqB9ePJ5Dm1Mz7ypUro2LFirhz506Wx9zUD3iZvcbu3r2bYUWIz/2NePv2rcbE0eTkZBw/fjxb9RoaGqJ58+YIDAyEo6NjpvVm9iGiaNGi6N69O0aPHo3IyMgMq2gEBQWhSpUq2aqBtMMzs/TVypYti/nz52PmzJkICgqCq6srihUrhv/++w//+9//UKRIEcybNw8mJiZo0qQJPD09YW5ujrJly+L8+fPYunVrhoX7q1WrBgDYtGkTjI2Noa+vj3LlysHMzAz9+/fH999/j1GjRqFbt254/vw5li9frj7r9jlGRkZYt24dBg4ciMjISHTv3h2WlpYICwvDnTt3EBYW9smwk5skEglatWqFiRMnQqVSYdmyZYiNjdWYPbtkyRK0atUKzZs3x48//gi5XA4vLy/cu3cPvr6+2ToTmxoO16xZg4EDB0Imk6Fy5cpo2LAhihUrBnd3d8yZMwcymQx79uzJ8IdUG3369MH27dvh7u6OR48eoXnz5lCpVLh27RocHBzQu3dvNGrUCMOHD8fgwYNx48YNNGnSBEWKFMHr168REBCA6tWrY+TIkVk+Rps2bWBjYwM3NzfY29tDpVLh9u3bWLlyJYyMjODh4QHgw2t1xowZWLBgAd6/f69eruj+/fsIDw/HvHnzULRoUcyePRszZszAgAED0KdPH0RERGDevHnQ19fHnDlzPtvn3r17Y8+ePWjXrh08PDzg7OwMmUyGly9f4uzZs+jUqRO6dOmS5f2bNWsGQRBw7do1tG7dWvsn/Qtk57XXoUMH7NixA/b29nB0dMTNmzfh6emZYdjG+PHj4efnh06dOmHatGlwdnbG+/fvcf78eXTo0AHNmzeHsbExbG1t8dtvv6FFixYoXry4+riQmQkTJmDXrl1o37495s+fD1tbW/j7+8PLywsjR47M1oe4rERHR6vHQMbHx6svmnDx4kX07NkzWwvdi8ViLF++HP369UOHDh0wYsQIJCUlwdPTE9HR0Vi6dGmG+xw6dAhSqRStWrXCP//8g9mzZ6NGjRoZxq6WKlUKHTt2xNy5c1GyZEn4+Pjg5MmTWLZsWY6sWerq6opGjRph0qRJiI2NRe3atXHlyhXs2rVL3bev5e3tjbZt26JNmzYYNGgQrK2tERkZiQcPHuDWrVs4cOAAgA+vsQULFmDOnDlo2rQpHj16hPnz56NcuXIaY00/9frp1asXfvrpJ/Tu3RuTJ09GYmIi1q5dm+GkyaesWbMG3333HRo3boyRI0eibNmyiIuLw9OnT3H06FH1BzU3Nzf1GuwWFhZ4/vw5Vq9eDVtbW1SsWFG9P5VKhf/9738YOnToVz+XlIn8mnlGuiN1tvT169c/ud2RI0eE5s2bCyYmJoKenp5ga2srdO/eXTh16pR6m5cvXwrdunUTihUrJhgbGwuurq7CvXv3Ml2hYPXq1UK5cuUEiUSiMUtXpVIJy5cvF8qXLy/o6+sLderUEc6cOZPlagYHDhzItN7z588L7du3F4oXLy7IZDLB2tpaaN++fZbbp/rUjPKPn6PU2bNhYWEa7QMHDhSKFCmSYZ/Lli0T5s2bJ9jY2AhyuVyoWbOmcPz48Qw1XLx4UXBxcRGKFCkiGBgYCPXr1xeOHj2qsc3nfm/Tp08XSpUqJYjFYo2VIy5fviw0aNBAMDQ0FCwsLIRhw4YJt27dyjBT+uM+fNzn9N6/fy/89NNPQsWKFQW5XC6YmZkJLi4uwuXLlzW227Ztm1CvXj11v+zs7IQBAwYIN27cyLQPqfz8/IS+ffsKFStWFIyMjASZTCaUKVNG6N+/v3D//v0M2+/atUuoW7euoK+vLxgZGQk1a9bU6JsgCMKWLVsER0dHQS6XC6ampkKnTp2Ef/75R2ObrJ4DQRCElJQUYcWKFUKNGjXUj2Nvby+MGDFCePLkySf7o1QqhbJlywqjRo3SaM/v115UVJQwdOhQwdLSUjA0NBS+++474eLFixnee6nbenh4CGXKlBFkMplgaWkptG/fXnj48KF6m1OnTgk1a9YU9PT0BACZrlKS3vPnz4W+ffsKZmZmgkwmEypXrix4enpmmAmv7WoG+P+Z9yKRSDAyMhIqV64s9O/fP9P3Xma/g/SOHDki1KtXT9DX1xeKFCkitGjRQrh06ZLGNqm/m5s3bwpubm6CkZGRYGxsLPTp00f477//Mu3LwYMHhapVqwpyuVwoW7ZshlUqPrWawcevgdTXTPrVTCIjI4XBgwcLRYsWFQwNDYVWrVoJV69eFQBorDSTmc89J6nu3Lkj9OzZU7C0tBRkMplQokQJwcXFRdi4caN6m6SkJOHHH38UrK2tBX19faFWrVrCkSNHMl2h4FOvn2PHjglOTk6CgYGBUL58eWH9+vVZrmYwevToLPs1ZMgQwdraWpDJZIKFhYXQsGFDYeHCheptVq5cKTRs2FAwNzcX5HK5UKZMGWHo0KHCs2fPNPZ1+vRp9e+ccp5IELKYqklEeebZs2coV64cPD09s5wgQd+WlStXYtGiRXj16lWOXo3oY3zt5b3UK4uFhYV9dqxv2bJlUa1aNfzxxx95VF2avXv3ol+/frh06RIaNmyY549fmPTv3x9BQUG4dOlSfpdSKHGYARFRATR69GisX78ev/zyC0Mm5TpfX1+8evUK1atXh1gsxtWrV+Hp6YkmTZowyH6lf//9F35+frm2fBwxzBIRFUj6+vrYvXt3hktCE+UGY2Nj7Nu3DwsXLkR8fDxKliyJQYMGYeHChfldms4LCQnB+vXr8d133+V3KYUWhxkQERERkc7i0lxEREREpLMYZomIiIhIZzHMEhEREZHO+uYmgKlUKoSGhsLY2Firy3wSERERUd4QBAFxcXEoVarUZy/c8c2F2dDQ0CyvyU5EREREBceLFy8yXGXwY99cmE29/vOLFy9gYmKSz9UQERER0cdiY2NRunRpdW77lG8uzKYOLTAxMWGYJSIiIirAsjMklBPAiIiIiEhnMcwSERERkc5imCUiIiIincUwS0REREQ6i2GWiIiIiHQWwywRERER6SyGWSIiIiLSWQyzRERERKSzGGaJiIiISGcxzBIRERGRzmKYJSIiIiKdxTBLRERERDqLYZaIiIiIdBbDLBERERHpLIZZIiIiItJZ0vwugHSHSJTfFdC3QhDyuwIiItIVPDNLRERERDqLYZaIiIiIdBbDLBERERHpLIZZIiIiItJZDLNEREREpLMYZomIiIhIZzHMEhEREZHOYpglIiIiIp3FMEtEREREOothloiIiIh0FsMsEREREekshlkiIiIi0lkMs0RERESksxhmiYiIiEhnMcwSERERkc5imCUiIiIincUwS0REREQ6i2GWiIiIiHQWwywRERER6SyGWSIiIiLSWQyzRERERKSzGGaJiIiISGcxzBIRERGRzmKYJSIiIiKdxTBLRERERDor38Osl5cXypUrB319fdSuXRsXL17M1v0uXboEqVQKJyen3C2QiIiIiAqsfA2zfn5+GD9+PGbOnInAwEA0btwYbdu2RUhIyCfvFxMTgwEDBqBFixZ5VCkRERERFUQiQRCE/HrwevXqoVatWtiwYYO6zcHBAZ07d8aSJUuyvF/v3r1RsWJFSCQSHDlyBLdv3872Y8bGxsLU1BQxMTEwMTH5mvK/OSJRfldA34r8OyoREVFBoE1ek+ZRTRkkJyfj5s2bmDZtmkZ769atcfny5Szvt337dvz777/w8fHBwoULP/s4SUlJSEpKUv8cGxsLAFAoFFAoFAAAsVgMsVgMlUoFlUql3ja1XalUIn3mz6pdIpFAJBKp95u+HQCUSmW22qVSKQRB0GgXiUSQSCQZasyqPTf6JJen1ZiSIoEgAHK5Zu3JyRKIRIBM9nG7FGKxAKk0rV0QREhJkUAsVkEqVWVol0hUkEjS2lUqMRQKMaRSFcTitHalUgylUgyZTAmRKK12hUIMlSqzdglUKhHkcs3fE/tUcPqkUBT+9xP7xD6xT+wT+5R1nz7e/lPyLcyGh4dDqVTCyspKo93Kygpv3rzJ9D5PnjzBtGnTcPHiRUil2St9yZIlmDdvXob2wMBAFClSBABgYWEBOzs7BAcHIywsTL2NjY0NbGxs8PjxY8TExKjby5cvD0tLS9y7dw/v379Xt9vb26No0aIIDAzU+OU4OjpCLpfjxo0bGjXUqVMHycnJuHv3rrpNIpGgbt26iImJwcOHD9XtBgYGqFGjBsLDwxEUFKRuNzU1hYODA0JDQ/Hy5Ut1e270afLktD55ezsiNlaOyZM1++TpWQcmJskYMSKtT8nJEnh61kXZsjHo0yetT+HhBvD2rgFHx3C0b5/Wp6AgU/j6OqBRo1A0bpzWp9u3LeDvb4c2bYLh5JTWp4sXbXDhgg26d3+M8uXT+uTvXx63b1tiyJB7MDdP65Ovrz2CgorCwyNQI+SxTwWnTzduFP73E/vEPrFP7BP7lHWfAgMDkV35NswgNDQU1tbWuHz5Mho0aKBuX7RoEXbv3q3xCwA+JPf69etj6NChcHd3BwDMnTv3s8MMMjszW7p0aURERKhPW+f3pw9d+UT1/9kfgO6e8fvQXrjOYhbGPsXHF/73E/vEPrFP7BP7lHWfoqKiYGZmlq1hBvkWZpOTk2FoaIgDBw6gS5cu6nYPDw/cvn0b58+f19g+OjoaxYoVU3cSAFQqFQRBgEQiwYkTJ+Di4vLZx+WY2S/HMbOUVzhmlojo26ZNXsu31Qzkcjlq166NkydParSfPHkSDRs2zLC9iYkJ/v77b9y+fVv9z93dHZUrV8bt27dRr169vCqdiIiIiAqIfBszCwATJ05E//79UadOHTRo0ACbNm1CSEiIehjB9OnT8erVK+zatQtisRjVqlXTuL+lpSX09fUztBMREWXLXn7lRHmkL79yyi35GmZ79eqFiIgIzJ8/H69fv0a1atVw7Ngx2NraAgBev3792TVniYiIiOjbla/rzOYHjpn9chwzS3nl2zoqUb7imVnKKzwzqxWdGDNLRERERPS1GGaJiIiISGcxzBIRERGRzmKYJSIiIiKdxTBLRERERDqLYZaIiIiIdBbDLBERERHpLIZZIiIiItJZDLNEREREpLMYZomIiIhIZzHMEhEREZHOYpglIiIiIp3FMEtEREREOothloiIiIh0FsMsEREREekshlkiIiIi0lkMs0RERESksxhmiYiIiEhnMcwSERERkc5imCUiIiIincUwS0REREQ6i2GWiIiIiHQWwywRERER6ayvCrNJSUk5VQcRERERkda0CrPHjx/HoEGDYGdnB5lMBkNDQxgbG6Np06ZYtGgRQkNDc6tOIiIiIqIMshVmjxw5gsqVK2PgwIEQi8WYPHkyDh06hOPHj2Pr1q1o2rQpTp06hfLly8Pd3R1hYWG5XTcREREREUSCIAif28jZ2RmzZ89G+/btIRZnnX9fvXqFNWvWwMrKCpMmTcrRQnNKbGwsTE1NERMTAxMTk/wuR6eIRPldAX0rPn9UIsohe3lgozzSlwc2bWiT17IVZgsThtkvxzBLeeXbOipRvmKYpbzCMKsVbfLaV69m8O7dO8TGxn7tboiIiIiItPbFYfb+/fuoU6cOTExMUKxYMVSvXh03btzIydqIiIiIiD7pi8PsiBEjMGbMGLx79w4RERHo2rUrBg4cmJO1ERERERF9UrbDbKdOnfDq1Sv1z2FhYejYsSMMDQ1RtGhRtGvXDv/991+uFElERERElJlsh9l+/fqhefPmWLt2LQRBwJgxY1C1alX07t0b3bp1g6urK8aPH5+LpRIRERERadJqNYPo6GhMnToVgYGB8Pb2hlQqxblz56BUKtGoUSPUrVs3N2vNEVzN4MtxNQPKK1zNgPIMVzOgvMLVDLSiTV6TarPjokWLwtvbGwEBARg4cCBatWqFBQsWwNDQ8KsKJiIiIiL6ElpNAIuKisLNmzdRvXp13Lx5E8bGxqhZsyb8/f1zqz4iIiIioixlO8z6+fnB2toa7du3h62tLf7880/MnTsXv/32G5YvX46ePXtyAhgRERER5alsh9mpU6di27ZtePPmDU6fPo3Zs2cDAOzt7XH+/Hm0bNkSDRo0yLVCiYiIiIg+lu0wGxcXh8qVKwMA7OzskJCQoHH78OHDcfXq1ZytjoiIiIjoE7I9AWzgwIFo3749mjVrhhs3bqB///4ZtrG0tMzR4oiIiIiIPiXbYXbVqlVo3rw5Hj58iEGDBqF169a5WRcRERER0WdptTSXm5sb3NzccqsWIiIiIiKtZGvM7L59+7K9wxcvXuDSpUtfXBARERERUXZlK8xu2LAB9vb2WLZsGR48eJDh9piYGBw7dgx9+/ZF7dq1ERkZmeOFEhERERF9LFvDDM6fP48//vgD69atw4wZM1CkSBFYWVlBX18fUVFRePPmDSwsLDB48GDcu3ePE8GIiIiIKE9ke8xshw4d0KFDB0RERCAgIADPnj3D+/fvYW5ujpo1a6JmzZoQi7W6oBgRERER0VfRagIYAJiZmaFTp065UQsRERERkVZ4KpWIiIiIdBbDLBERERHpLIZZIiIiItJZDLNEREREpLO+OswqlUrcvn0bUVFROVEPEREREVG2aR1mx48fj61btwL4EGSbNm2KWrVqoXTp0jh37lxO10dERERElCWtw+zBgwdRo0YNAMDRo0cRHByMhw8fYvz48Zg5c2aOF0hERERElBWtw2x4eDhKlCgBADh27Bh69OiBSpUqYejQofj7779zvEAiIiIioqxoHWatrKxw//59KJVK/PXXX2jZsiUAICEhARKJJMcLJCIiIiLKitZXABs8eDB69uyJkiVLQiQSoVWrVgCAa9euwd7ePscLJCIiIiLKitZhdu7cuahWrRpevHiBHj16QE9PDwAgkUgwbdq0HC+QiIiIiCgrWodZAOjevXuGtoEDB351MURERERE2viiMHv69GmcPn0ab9++hUql0rht27ZtOVIYEREREdHnaB1m582bh/nz56NOnTrqcbNERERERPlB6zC7ceNG7NixA/3798+NeoiIiIiIsk3rpbmSk5PRsGHD3KiFiIiIiEgrWofZYcOGYe/evblRCxERERGRVrQeZpCYmIhNmzbh1KlTcHR0hEwm07h91apVOVYcEREREdGnaB1m7969CycnJwDAvXv3NG7jZDAiIiIiyktah9mzZ8/mRh1ERERERFrTesxsei9fvsSrV69yqhYiIiIiIq1oHWZVKhXmz58PU1NT2NraokyZMihatCgWLFiQ4QIKRERERES5SethBjNnzsTWrVuxdOlSNGrUCIIg4NKlS5g7dy4SExOxaNGi3KiTiIiIiCgDrcPszp07sWXLFnTs2FHdVqNGDVhbW2PUqFEMs0RERESUZ7QeZhAZGQl7e/sM7fb29oiMjMyRooiIiIiIskPrMFujRg2sX78+Q/v69etRo0aNHCmKiIiIiCg7tA6zy5cvx7Zt21ClShUMHToUw4YNQ5UqVbBjxw54enpqXYCXlxfKlSsHfX191K5dGxcvXsxy24CAADRq1AhmZmYwMDCAvb09fv75Z60fk4iIiIgKB63DbNOmTfH48WN06dIF0dHRiIyMRNeuXfHo0SM0btxYq335+flh/PjxmDlzJgIDA9G4cWO0bdsWISEhmW5fpEgRjBkzBhcuXMCDBw8wa9YszJo1C5s2bdK2G0RERERUCIgEQRDy68Hr1auHWrVqYcOGDeo2BwcHdO7cGUuWLMnWPrp27YoiRYpg9+7d2do+NjYWpqamiImJgYmJyRfV/a3iBd4or+TfUYm+OXt5YKM80pcHNm1ok9eytZrB3bt3Ua1aNYjFYty9e/eT2zo6OmaryOTkZNy8eRPTpk3TaG/dujUuX76crX0EBgbi8uXLWLhwYZbbJCUlISkpSf1zbGwsAEChUEChUAAAxGIxxGIxVCqVxlq5qe1KpRLpM39W7RKJBCKRSL3f9O0AoFQqs9UulUohCIJGu0gkgkQiyVBjVu250Se5PK3GlBQJBAGQyzVrT06WQCQCZLKP26UQiwVIpWntgiBCSooEYrEKUqkqQ7tEooJEktauUomhUIghlaogFqe1K5ViKJViyGRKiERptSsUYqhUmbVLoFKJIJdr/p7Yp4LTJ4Wi8L+f2KcC0icASsggIC3USqCACCookO6gB0CCFAAClBnakwGIoIRMs09IhgAxlOn+1IogQIIUqCCGKtN2CVSQpNUIFcRQQAUpVOm+TBVDCTGUGWoXQwExVOxTQexTuvdIoX0/5WCfPt7+U7IVZp2cnPDmzRtYWlrCyckJIpEImZ3QFYlEGYrKSnh4OJRKJaysrDTarays8ObNm0/e18bGBmFhYVAoFJg7dy6GDRuW5bZLlizBvHnzMrQHBgaiSJEiAAALCwvY2dkhODgYYWFhGo9jY2ODx48fIyYmRt1evnx5WFpa4t69e3j//r263d7eHkWLFkVgYKDG8+Do6Ai5XI4bN25o1FCnTh0kJydrfECQSCSoW7cuYmJi8PDhQ3W7gYEBatSogfDwcAQFBanbTU1N4eDggNDQULx8+VLdnht9mjw5rU/e3o6IjZVj8mTNPnl61oGJSTJGjEjrU3KyBJ6edVG2bAz69EnrU3i4Aby9a8DRMRzt26f1KSjIFL6+DmjUKBSNG6f16fZtC/j726FNm2A4OaX16eJFG1y4YIPu3R+jfPm0Pvn7l8ft25YYMuQezM3T+uTra4+goKLw8AjUCHnsU8Hp040bhf/9xD4VkD4BuCcfgvci87Q+pfiiqCoIgXoeGoHIMdkbciEWN/Qma/YpyRPJIhPclY9I6xOSUTfJEzHisngo65PWJyEcNZK9ES5xRJC0fVqfVEFwSPFFqKQRXkrThuxZKG/DTuGPYGkbhEmc0vqkuAgb5QU8lnVHjLh8Wp8U/rBU3mafCmKf0r0XCu37KQf7FBgYiOzK1jCD58+fo0yZMhCJRHj+/Pknt7W1tc3WA4eGhsLa2hqXL19GgwYN1O2LFi3C7t27NX4BHwsODsa7d+9w9epVTJs2DevXr0efPn0y3TazM7OlS5dGRESE+rR1fn/60JVPVP+f/QHo7hm/D+2F6yxmYexTfHzhfz+xTwWkT/skun/GrzCexSyMfeqZkNZeWN9POdinqKgomJmZZWuYgdZjZi9cuICGDRtCKtU8qatQKHD58mU0adIkW/tJTk6GoaEhDhw4gC5duqjbPTw8cPv2bZw/fz5b+1m4cCF2796NR48eZWt7jpn9chwzS3mFY2Ypz3DMLOUVjpnVijZ5TevVDJo3b57pxRFiYmLQvHnzbO9HLpejdu3aOHnypEb7yZMn0bBhw2zvRxAEjTOvRERERPTt0PpytoIgQJTJKbqIiAj1GNTsmjhxIvr37486deqgQYMG2LRpE0JCQuDu7g4AmD59Ol69eoVdu3YBAH755ReUKVNGfQWygIAArFixAmPHjtW2G0RERERUCGQ7zHbt2hXAh7EVgwYNgp6envo2pVKJu3fvanVGFQB69eqFiIgIzJ8/H69fv0a1atVw7Ngx9bjb169fa6w5q1KpMH36dAQHB0MqlcLOzg5Lly7FiBEjsnoIIiIiIirEsj1mdvDgwQCAnTt3omfPnjAwMFDfJpfLUbZsWfzwww8wNzfPahcFAsfMfjmOmaW8wjGzlGc4ZpbyCsfMaiXH15kFgO3btwMAypYtix9//FHrIQVERERERDlN6zGzc+bMyY06iIiIiIi0pnWYBYCDBw9i//79CAkJQXJyssZtt27dypHCiIiIiIg+R+uludauXYvBgwfD0tISgYGBcHZ2hpmZGYKCgtC2bdvcqJGIiIiIKFNah1kvLy9s2rQJ69evh1wux5QpU3Dy5EmMGzdO47JmRERERES5TeswGxISol6Cy8DAAHFxcQCA/v37w9fXN2erIyIiIiL6BK3DbIkSJRAREQEAsLW1xdWrVwEAwcHB0PLKuEREREREX0XrMOvi4oKjR48CAIYOHYoJEyagVatW6NWrF7p06ZLjBRIRERERZUXr1Qw2bdoElUoFAHB3d0fx4sUREBAANzc39WVoiYiIiIjygtZhViwWQyxOO6Hbs2dP9OzZM0eLIiIiIiLKjmyF2bt372Z7h46Ojl9cDBERERGRNrIVZp2cnCASiSAIAkSiT1/HWqlU5khhRERERESfk60JYMHBwQgKCkJwcDB+/fVXlCtXDl5eXggMDERgYCC8vLxgZ2eHX3/9NbfrJSIiIiJSy9aZWVtbW/X/e/TogbVr16Jdu3bqNkdHR5QuXRqzZ89G586dc7xIIiIiIqLMaL00199//41y5cplaC9Xrhzu37+fI0UREREREWWH1mHWwcEBCxcuRGJiorotKSkJCxcuhIODQ44WR0RERET0KVovzbVx40a4ubmhdOnSqFGjBgDgzp07EIlE+OOPP3K8QCIiIiKirGgdZp2dnREcHAwfHx88fPgQgiCgV69e6Nu3L4oUKZIbNRIRERERZUrrMAsAhoaGGD58eE7XQkRERESklS8Ks48fP8a5c+fw9u1b9aVtU/300085UhgRERER0edoHWY3b96MkSNHwtzcHCVKlNC4iIJIJGKYJSIiIqI8o3WYXbhwIRYtWoSpU6fmRj1ERERERNmm9dJcUVFR6NGjR27UQkRERESkFa3DbI8ePXDixIncqIWIiIiISCtaDzOoUKECZs+ejatXr6J69eqQyWQat48bNy7HiiMiIiIi+hSRIAiCNnfI7FK26p2JRAgKCvrqonJTbGwsTE1NERMTAxMTk/wuR6ekm+tHlKu0OyoRfYW9PLBRHunLA5s2tMlrWp+ZDQ4O/uLCiIiIiIhyktZjZlMlJyfj0aNHUCgUOVkPEREREVG2aR1mExISMHToUBgaGqJq1aoICQkB8GGs7NKlS3O8QCIiIiKirGgdZqdPn447d+7g3Llz0NfXV7e3bNkSfn5+OVocEREREdGnaD1m9siRI/Dz80P9+vU1rv5VpUoV/PvvvzlaHBERERHRp2h9ZjYsLAyWlpYZ2uPj4zXCLRERERFRbtM6zNatWxf+/v7qn1MD7ObNm9GgQYOcq4yIiIiI6DO0HmawZMkSuLq64v79+1AoFFizZg3++ecfXLlyBefPn8+NGomIiIiIMqX1mdmGDRvi0qVLSEhIgJ2dHU6cOAErKytcuXIFtWvXzo0aiYiIiIgypfWZWQCoXr06du7cmdO1EBERERFp5YvCLAC8ffsWb9++hUql0mh3dHT86qKIiIiIiLJD6zB78+ZNDBw4EA8ePIDw0QXURSIRlEpljhVHRERERPQpWofZwYMHo1KlSti6dSusrKy4HBcRERER5Rutw2xwcDAOHTqEChUq5EY9RERERETZpvVqBi1atMCdO3dyoxYiIiIiIq1ofWZ2y5YtGDhwIO7du4dq1apBJpNp3N6xY8ccK46IiIiI6FO0DrOXL19GQEAA/vzzzwy3cQIYEREREeUlrYcZjBs3Dv3798fr16+hUqk0/jHIEhEREVFe0jrMRkREYMKECbCyssqNeoiIiIiIsk3rMNu1a1ecPXs2N2ohIiIiItKK1mNmK1WqhOnTpyMgIADVq1fPMAFs3LhxOVYcEREREdGniISPL+P1GeXKlct6ZyIRgoKCvrqo3BQbGwtTU1PExMTAxMQkv8vRKbw+BuUV7Y5KRF9hLw9slEf68sCmDW3y2hddNIGIiIiIqCDQeswsEREREVFBofWZWUEQcPDgQZw9exZv376FSqXSuP3QoUM5VhwRERER0adoHWY9PDywadMmNG/eHFZWVhBxICURERER5ROtw6yPjw8OHTqEdu3a5UY9RERERETZpvWYWVNTU5QvXz43aiEiIiIi0orWYXbu3LmYN28e3r9/nxv1EBERERFlm9bDDHr06AFfX19YWlqibNmyGS6acOvWrRwrjoiIiIjoU7QOs4MGDcLNmzfx/fffcwIYEREREeUrrcOsv78/jh8/ju+++y436iEiIiIiyjatx8yWLl2al4ElIiIiogJB6zC7cuVKTJkyBc+ePcuFcoiIiIiIsk/rYQbff/89EhISYGdnB0NDwwwTwCIjI3OsOCIiIiKiT9E6zK5evToXyiAiIiIi0p7WYXbgwIG5UQcRERERkda0DrMAoFQqceTIETx48AAikQhVqlRBx44dIZFIcro+IiIiIqIsaR1mnz59inbt2uHVq1eoXLkyBEHA48ePUbp0afj7+8POzi436iQiIiIiykDr1QzGjRsHOzs7vHjxArdu3UJgYCBCQkJQrlw5jBs3LjdqJCIiIiLKlNZnZs+fP4+rV6+iePHi6jYzMzMsXboUjRo1ytHiiIiIiIg+Reszs3p6eoiLi8vQ/u7dO8jl8hwpioiIiIgoO7QOsx06dMDw4cNx7do1CIIAQRBw9epVuLu7o2PHjrlRIxERERFRprQOs2vXroWdnR0aNGgAfX196Ovro1GjRqhQoQLWrFmTGzUSEREREWVK6zGzRYsWxW+//YanT5/iwYMHEAQBVapUQYUKFXKjPiIiIiKiLH3ROrMAUKFCBQZYIiIiIspXWg8z6N69O5YuXZqh3dPTEz169MiRooiIiIiIskPrMHv+/Hm0b98+Q7urqysuXLigdQFeXl4oV64c9PX1Ubt2bVy8eDHLbQ8dOoRWrVrBwsICJiYmaNCgAY4fP671YxIRERFR4aB1mM1qCS6ZTIbY2Fit9uXn54fx48dj5syZCAwMROPGjdG2bVuEhIRkuv2FCxfQqlUrHDt2DDdv3kTz5s3h5uaGwMBAbbtBRERERIWASBAEQZs71K1bF25ubvjpp5802ufOnYujR4/i5s2b2d5XvXr1UKtWLWzYsEHd5uDggM6dO2PJkiXZ2kfVqlXRq1evDPVkJTY2FqampoiJiYGJiUm2ayVAJMrvCuhbod1Riegr7OWBjfJIXx7YtKFNXtN6Atjs2bPRrVs3/Pvvv3BxcQEAnD59Gr6+vjhw4EC295OcnIybN29i2rRpGu2tW7fG5cuXs7UPlUqFuLg4jauREREREdG3Q+sw27FjRxw5cgSLFy/GwYMHYWBgAEdHR5w6dQpNmzbN9n7Cw8OhVCphZWWl0W5lZYU3b95kax8rV65EfHw8evbsmeU2SUlJSEpKUv+cOhRCoVBAoVAAAMRiMcRiMVQqFVQqlXrb1HalUon0J7CzapdIJBCJROr9pm8HAKVSma12qVQKQRA02kUiESQSSYYas2rPjT6lH12SkiKBIAByuWbtyckSiESATPZxuxRisQCpNK1dEERISZFALFZBKlVlaJdIVJBI0tpVKjEUCjGkUhXE4rR2pVIMpVIMmUwJkSitdoVCDJUqs3YJVCoR5HLN3xP7VHD6pFAU/vcT+1RA+gRACRkEpJ2hlUABEVRQQHNInQQpAAQoM7QnAxBBCZlmn5AMAWIo0/2pFUGABClQQQxVpu0SqCBJqxEqiKGAClKo0o0MFEMJMZQZahdDATFU7FNB7FO690ihfT/lYJ8+3v5Tvmhprvbt22c6CexLiD767loQhAxtmfH19cXcuXPx22+/wdLSMsvtlixZgnnz5mVoDwwMRJEiRQAAFhYWsLOzQ3BwMMLCwtTb2NjYwMbGBo8fP0ZMTIy6vXz58rC0tMS9e/fw/v17dbu9vT2KFi2KwMBAjV+Oo6Mj5HI5bty4oVFDnTp1kJycjLt376rbJBIJ6tati5iYGDx8+FDdbmBggBo1aiA8PBxBQUHqdlNTUzg4OCA0NBQvX75Ut+dGnyZPTuuTt7cjYmPlmDxZs0+ennVgYpKMESPS+pScLIGnZ12ULRuDPn3S+hQebgBv7xpwdAxH+/ZpfQoKMoWvrwMaNQpF48Zpfbp92wL+/nZo0yYYTk5pfbp40QYXLtige/fHKF8+rU/+/uVx+7Ylhgy5B3PztD75+tojKKgoPDwCNUIe+1Rw+nTjRuF/P7FPBaRPAO7Jh+C9yDytTym+KKoKQqCeh0Ygckz2hlyIxQ29yZp9SvJEssgEd+Uj0vqEZNRN8kSMuCweyvqk9UkIR41kb4RLHBEkTfs7aqoKgkOKL0IljfBS2jitT8rbsFP4I1jaBmESp7Q+KS7CRnkBj2XdESMun9YnhT8slbfZp4LYp3TvhUL7fsrBPmkzH0rrMbMAEB0djYMHDyIoKAg//vgjihcvjlu3bsHKygrW1tbZ2kdycjIMDQ1x4MABdOnSRd3u4eGB27dv4/z581ne18/PD4MHD8aBAwc+G6ozOzNbunRpREREqMdg5PenD135RPX/2R+A7p7x+9BeuM5iFsY+xccX/vcT+1RA+rRPovtn/ArjWczC2KeeCWnthfX9lIN9ioqKgpmZWbbGzGodZu/evYuWLVvC1NQUz549w6NHj1C+fHnMnj0bz58/x65du7K9r3r16qF27drw8vJSt1WpUgWdOnXKcgKYr68vhgwZAl9fX3Tu3Fmb0gFwAtjX4AQwyiucAEZ5hhPAKK9wAphWtMlrWi/NNXHiRAwaNAhPnjyBvr6+ur1t27ZarzM7ceJEbNmyBdu2bcODBw8wYcIEhISEwN3dHQAwffp0DBgwQL29r68vBgwYgJUrV6J+/fp48+YN3rx5o3Gam4iIiIi+HVqPmb1+/Tq8vb0ztFtbW2d74laqXr16ISIiAvPnz8fr169RrVo1HDt2DLa2tgCA169fa6w56+3tDYVCgdGjR2P06NHq9oEDB2LHjh3adoWIiIiIdJzWYVZfXz/TiyM8evQIFhYWWhcwatQojBo1KtPbPg6o586d03r/RERERFR4aT3MoFOnTpg/fz5SUlIAfBg4HBISgmnTpqFbt245XiARERERUVa0DrMrVqxAWFgYLC0t8f79ezRt2hQVKlSAkZERFi1alBs1EhERERFlSuthBiYmJggICMCZM2dw69YtqFQq1KpVCy1btsyN+oiIiIiIsvRFF00AABcXF/XlbAHg1q1b+Omnn/DHH3/kSGFERERERJ+j1TCDkydPYvLkyZgxY4b66hEPHz5E586dUbduXa0uPUZERERE9LWyHWZ37tyJNm3aYPv27Vi6dCnq168PHx8fODs7o1ixYrhz5w7++uuv3KyViIiIiEhDtsPszz//jMWLFyM8PBz79u1DeHg4fv75ZwQGBmL79u2oVq1abtZJRERERJRBtsPsv//+i169egEAunfvDolEglWrVsHOzi7XiiMiIiIi+pRsh9n4+HgUKVLkw53EYujr66N06dK5VhgRERER0edotZrB8ePHYWpqCgBQqVQ4ffo07t27p7FNx44dc646IiIiIqJPEAmCIGRnQ7H48ydxRSIRlErlVxeVm2JjY2FqaoqYmBiYmJjkdzk6RSTK7wroW5G9oxJRDtjLAxvlkb48sGlDm7yW7TOzKpXqqwsjIiIiIspJWl/OloiIiIiooGCYJSIiIiKdxTBLRERERDqLYZaIiIiIdBbDLBERERHpLK3WmU0vOTkZb9++zbDKQZkyZb66KCIiIiKi7NA6zD558gRDhgzB5cuXNdoFQdCJdWaJiIiIqPDQOswOGjQIUqkUf/zxB0qWLAkRV9InIiIionyidZi9ffs2bt68CXt7+9yoh4iIiIgo27SeAFalShWEh4fnRi1ERERERFrROswuW7YMU6ZMwblz5xAREYHY2FiNf0REREREeUXrYQYtW7YEALRo0UKjnRPAiIiIiCivaR1mz549mxt1EBERERFpTesw27Rp09yog4iIiIhIa9kKs3fv3kW1atUgFotx9+7dT27r6OiYI4UREREREX1OtsKsk5MT3rx5A0tLSzg5OUEkEkEQhAzbccwsEREREeWlbIXZ4OBgWFhYqP9PRERERFQQZCvM2traZvp/IiIiIqL8pPU6s0REREREBQXDLBERERHpLIZZIiIiItJZDLNEREREpLO+KMxGR0djy5YtmD59OiIjIwEAt27dwqtXr3K0OCIiIiKiT9H6CmB3795Fy5YtYWpqimfPnuGHH35A8eLFcfjwYTx//hy7du3KjTqJiIiIiDLQ+szsxIkTMWjQIDx58gT6+vrq9rZt2+LChQs5WhwRERER0adoHWavX7+OESNGZGi3trbGmzdvcqQoIiIiIqLs0DrM6uvrIzY2NkP7o0eP1FcJIyIiIiLKC1qH2U6dOmH+/PlISUkBAIhEIoSEhGDatGno1q1bjhdIRERERJQVrcPsihUrEBYWBktLS7x//x5NmzZFhQoVYGxsjEWLFuVGjUREREREmdJ6NQMTExMEBATgzJkzuHXrFlQqFWrVqoWWLVvmRn1ERERERFnSOsymcnFxgYuLS07WQkRERESkFa3D7Nq1azNtF4lE0NfXR4UKFdCkSRNIJJKvLo6IiIiI6FO0DrM///wzwsLCkJCQgGLFikEQBERHR8PQ0BBGRkZ4+/Ytypcvj7Nnz6J06dK5UTMREREREYAvmAC2ePFi1K1bF0+ePEFERAQiIyPx+PFj1KtXD2vWrEFISAhKlCiBCRMm5Ea9RERERERqIkEQBG3uYGdnh19//RVOTk4a7YGBgejWrRuCgoJw+fJldOvWDa9fv87JWnNEbGwsTE1NERMTAxMTk/wuR6eIRPldAX0rtDsqEX2FvTywUR7pywObNrTJa1qfmX39+jUUCkWGdoVCob4CWKlSpRAXF6ftromIiIiItKJ1mG3evDlGjBiBwMBAdVtgYCBGjhypXt3g77//Rrly5XKuSiIiIiKiTGgdZrdu3YrixYujdu3a0NPTg56eHurUqYPixYtj69atAAAjIyOsXLkyx4slIiIiIkpP69UMSpQogZMnT+Lhw4d4/PgxBEGAvb09KleurN6mefPmOVokEREREVFmvviiCfb29rC3t8/JWoiIiIiItKJ1mFUqldixYwdOnz6Nt2/fQqVSadx+5syZHCuOiIiIiOhTtA6zHh4e2LFjB9q3b49q1apBxPWaiIiIiCifaB1m9+3bh/3796Ndu3a5UQ8RERERUbZpvZqBXC5HhQoVcqMWIiIiIiKtaB1mJ02ahDVr1kDLC4cREREREeU4rYcZBAQE4OzZs/jzzz9RtWpVyGQyjdsPHTqUY8UREREREX2K1mG2aNGi6NKlS27UQkRERESkFa3D7Pbt23OjDiIiIiIirWk9ZpaIiIiIqKD4oiuAHTx4EPv370dISAiSk5M1brt161aOFEZERERE9Dlan5ldu3YtBg8eDEtLSwQGBsLZ2RlmZmYICgpC27Ztc6NGIiIiIqJMaR1mvby8sGnTJqxfvx5yuRxTpkzByZMnMW7cOMTExORGjUREREREmdI6zIaEhKBhw4YAAAMDA8TFxQEA+vfvD19f35ytjoiIiIjoE7QOsyVKlEBERAQAwNbWFlevXgUABAcH80IKRERERJSntA6zLi4uOHr0KABg6NChmDBhAlq1aoVevXpx/VkiIiIiylNar2awadMmqFQqAIC7uzuKFy+OgIAAuLm5wd3dPccLJCIiIiLKitZhViwWQyxOO6Hbs2dP9OzZM0eLIiIiIiLKji9aZzY6Ohr/+9//8PbtW/VZ2lQDBgzIkcKIiIiIiD5H6zB79OhR9OvXD/Hx8TA2NoZIJFLfJhKJGGaJiIiIKM9oPQFs0qRJGDJkCOLi4hAdHY2oqCj1v8jIyNyokYiIiIgoU1qH2VevXmHcuHEwNDTMjXqIiIiIiLJN6zDbpk0b3LhxIzdqISIiIiLSSrbGzP7+++/q/7dv3x6TJ0/G/fv3Ub16dchkMo1tO3bsqFUBXl5e8PT0xOvXr1G1alWsXr0ajRs3znTb169fY9KkSbh58yaePHmCcePGYfXq1Vo9HhEREREVHtkKs507d87QNn/+/AxtIpEISqUy2w/u5+eH8ePHw8vLC40aNYK3tzfatm2L+/fvo0yZMhm2T0pKgoWFBWbOnImff/45249DRERERIWTSMjHa9DWq1cPtWrVwoYNG9RtDg4O6Ny5M5YsWfLJ+zZr1gxOTk5an5mNjY2FqakpYmJiYGJi8iVlf7PSLVxBlKt4ZWzKM3t5YKM80pcHNm1ok9e+aJ3ZnJCcnIybN29i2rRpGu2tW7fG5cuXc+xxkpKSkJSUpP45NjYWAKBQKKBQKACkXQhCpVJprJub2q5UKpE+82fVLpFIIBKJ1PtN3w4gw1nrrNqlUikEQdBoF4lEkEgkGWrMqj03+iSXp9WYkiKBIAByuWbtyckSiESATPZxuxRisQCpNK1dEERISZFALFZBKlVlaJdIVJBI0tpVKjEUCjGkUhXE4rR2pVIMpVIMmUwJkSitdoVCDJUqs3YJVCoR5HLN3xP7VHD6pFAU/vcT+1RA+gRACRkEpIVaCRQQQQUF0h30AEiQAkCAMkN7MgARlNAcdidFMgSIoUz3p1YEARKkQAUxVJm2S6CCJK1GqCCGAipIoUo3zUUMJcRQZqhdDAXEULFPBbFP6d4jhfb9lIN9+nj7T8l2mD1z5gzGjBmDq1evZkjIMTExaNiwITZs2IAmTZpka3/h4eFQKpWwsrLSaLeyssKbN2+yW9ZnLVmyBPPmzcvQHhgYiCJFigAALCwsYGdnh+DgYISFham3sbGxgY2NDR4/foyYmBh1e/ny5WFpaYl79+7h/fv36nZ7e3sULVoUgYGBGr8cR0dHyOXyDBPn6tSpg+TkZNy9e1fdJpFIULduXcTExODhw4fqdgMDA9SoUQPh4eEICgpSt5uamsLBwQGhoaF4+fKluj03+jR5clqfvL0dERsrx+TJmn3y9KwDE5NkjBiR1qfkZAk8PeuibNkY9OmT1qfwcAN4e9eAo2M42rdP61NQkCl8fR3QqFEoGjdO69Pt2xbw97dDmzbBcHJK69PFiza4cMEG3bs/RvnyaX3y9y+P27ctMWTIPZibp/XJ19ceQUFF4eERqBHy2KeC06cbNwr/+4l9KiB9AnBPPgTvReZpfUrxRVFVEAL1PDQCkWOyN+RCLG7oTdbsU5InkkUmuCsfkdYnJKNukidixGXxUNYnrU9COGokeyNc4oggafu0PqmC4JDii1BJI7yUps0bsVDehp3CH8HSNgiTOKX1SXERNsoLeCzrjhhx+bQ+KfxhqbzNPhXEPqV7LxTa91MO9ikwMBDZle1hBh07dkTz5s0xYcKETG9fu3Ytzp49i8OHD2frgUNDQ2FtbY3Lly+jQYMG6vZFixZh9+7dGr+AzGR3mEFmZ2ZLly6NiIgIdSjP708fuvKJ6v+zPwDdPeP3ob1wncUsjH2Kjy/87yf2qYD0aZ9E98/4FcazmIWxTz0T0toL6/spB/sUFRUFMzOznB1mcOfOHSxbtizL21u3bo0VK1Zkd3cwNzeHRCLJcBb27du3Gc7Wfg09PT3o6ellaJdKpZBKNbuf+ov4WOoTm932j/f7Je0ikSjT9qxq1Lb9S/qUnJyxPTk5Y42CkHm7SiXKol2M5OSMNaaGn48pFGJktqpcSkrmtWfVnlktWbWzT3nbp/Qv/cL6fvradvYpB/uElMxrRCYHvSzbhUzbRVBl2v4h/GTW/iH8ZGxXZLqWZla1s08FsE+ZvLYL5fspF/uUlWyvM/vff/9lWIbr4wdNfxr6c+RyOWrXro2TJ09qtJ88eRINGzbM9n6IiIiI6NuV7dhrbW2Nv//+GxUqVMj09rt376JkyZJaPfjEiRPRv39/1KlTBw0aNMCmTZsQEhICd3d3AMD06dPx6tUr7Nq1S32f27dvAwDevXuHsLAw3L59G3K5HFWqVNHqsYmIiIhI92U7zLZr1w4//fQT2rZtC319fY3b3r9/jzlz5qBDhw5aPXivXr0QERGB+fPn4/Xr16hWrRqOHTsGW1tbAB8ukhASEqJxn5o1a6r/f/PmTezduxe2trZ49uyZVo9NRERERLov2xPA/vvvP9SqVQsSiQRjxoxB5cqVIRKJ8ODBA/zyyy9QKpW4detWjo53zQ1cZ/bLcZ1ZyitcZ5byDNeZpbzCdWa1kivrzFpZWeHy5csYOXIkpk+frp6pJhKJ0KZNG3h5eRX4IEtEREREhYtWF02wtbXFsWPHEBUVhadPn0IQBFSsWBHFihXLrfqIiIiIiLL0RVcAK1asGOrWrZvTtRARERERaSXbS3MRERERERU0DLNEREREpLMYZomIiIhIZzHMEhEREZHOYpglIiIiIp3FMEtEREREOothloiIiIh0FsMsEREREekshlkiIiIi0lkMs0RERESksxhmiYiIiEhnMcwSERERkc5imCUiIiIincUwS0REREQ6i2GWiIiIiHQWwywRERER6SyGWSIiIiLSWQyzRERERKSzGGaJiIiISGcxzBIRERGRzmKYJSIiIiKdxTBLRERERDqLYZaIiIiIdBbDLBERERHpLIZZIiIiItJZDLNEREREpLMYZomIiIhIZzHMEhEREZHOYpglIiIiIp3FMEtEREREOothloiIiIh0FsMsEREREekshlkiIiIi0lkMs0RERESksxhmiYiIiEhnMcwSERERkc5imCUiIiIincUwS0REREQ6i2GWiIiIiHQWwywRERER6SyGWSIiIiLSWQyzRERERKSzGGaJiIiISGcxzBIRERGRzmKYJSIiIiKdxTBLRERERDqLYZaIiIiIdBbDLBERERHpLIZZIiIiItJZDLNEREREpLMYZomIiIhIZzHMEhEREZHOYpglIiIiIp3FMEtEREREOothloiIiIh0FsMsEREREekshlkiIiIi0lkMs0RERESksxhmiYiIiEhnMcwSERERkc5imCUiIiIincUwS0REREQ6i2GWiIiIiHQWwywRERER6SyGWSIiIiLSWQyzRERERKSzGGaJiIiISGcxzBIRERGRzmKYJSIiIiKdxTBLRERERDor38Osl5cXypUrB319fdSuXRsXL1785Pbnz59H7dq1oa+vj/Lly2Pjxo15VCkRERERFTT5Gmb9/Pwwfvx4zJw5E4GBgWjcuDHatm2LkJCQTLcPDg5Gu3bt0LhxYwQGBmLGjBkYN24cfv311zyunIiIiIgKApEgCEJ+PXi9evVQq1YtbNiwQd3m4OCAzp07Y8mSJRm2nzp1Kn7//Xc8ePBA3ebu7o47d+7gypUr2XrM2NhYmJqaIiYmBiYmJl/fiW+ISJTfFdC3Iv+OSvTN2csDG+WRvjywaUObvCbNo5oySE5Oxs2bNzFt2jSN9tatW+Py5cuZ3ufKlSto3bq1RlubNm2wdetWpKSkQCaTZbhPUlISkpKS1D/HxMQAACIjI6FQKAAAYrEYYrEYKpUKKpVKvW1qu1KpRPrMn1W7RCKBSCRS7zd9OwAolcpstUulUgiCoNEuEokgkUgy1JhVe270Kf3Tm5LyoXaZTLP2rNulEIkESKVp7YIggkIhgUikglSqytAuFqsgkaS1q1RiKJViSCQqiMVp7UqlGCqVGFKpEiJRWu0KhRiCkFm7BIIggkym+XtinwpOnyIjC//7iX0qIH1KAJSQQkBaqJVAAREEKKD5N0WClA+1Z7NdihQIEEGZ7k+tCAIkUEAFEVSZtouhgiStRqgghhIqSKBK92WqGEqIocpQuxgKiCGwTwWxT5GRae2F9f2Ug32KiooCAGTnnGu+hdnw8HAolUpYWVlptFtZWeHNmzeZ3ufNmzeZbq9QKBAeHo6SJUtmuM+SJUswb968DO3lypX7iuopVUpK9tsFQbt2lerDv48plR/+feyj98ln27WpPat29il3+mRmlvk2RLkjixclsnjjaNUuaNmu+v9/H1P+/7+PZVU7+1Tg+vQDD2xfIi4uDqampp/cJt/CbCrRR99dC4KQoe1z22fWnmr69OmYOHGi+meVSoXIyEiYmZl98nGIvlZsbCxKly6NFy9ecEgLERUKPK5RXhEEAXFxcShVqtRnt823MGtubg6JRJLhLOzbt28znH1NVaJEiUy3l0qlMMviVI6enh709PQ02ooWLfrlhRNpycTEhAd9IipUeFyjvPC5M7Kp8m01A7lcjtq1a+PkyZMa7SdPnkTDhg0zvU+DBg0ybH/ixAnUqVMn0/GyRERERFS45evSXBMnTsSWLVuwbds2PHjwABMmTEBISAjc3d0BfBgiMGDAAPX27u7ueP78OSZOnIgHDx5g27Zt2Lp1K3788cf86gIRERER5aN8HTPbq1cvREREYP78+Xj9+jWqVauGY8eOwdbWFgDw+vVrjTVny5Urh2PHjmHChAn45ZdfUKpUKaxduxbdunXLry4QZUlPTw9z5szJMMyFiEhX8bhGBVG+rjNLRERERPQ18v1ytkREREREX4phloiIiIh0FsMsEREREekshlkiIiIi0lkMs0RERESksxhmiYiIiEhnMcwSkQaVSpXfJRAREWUbwywRaRCLPxwWXr16BQDgUtREVBilHtvSH+N4vNNNDLNElMHhw4dhb2+PuLg4iESi/C6HiChHqVQq9bHt1atXCA0NRUJCAo93OophlogycHZ2RpUqVXDo0CEAPFtBRIWHIAjqb6AWLFiATp06oUWLFnBycsLvv/+O+Pj4fK6QtMUwS/SNyyyoWlhYwMbGBgcPHgQAnq0gokIj9Xg2f/58rFu3DnPmzMGFCxdQsmRJjB49Gv/9918+V0jaYpgl+salHthDQ0PVbXK5HAsXLsSlS5fg5+eXX6UREeWKmJgYnDt3Dl5eXujYsSOuXr2Ku3fvYsaMGShfvnym42mp4GKYJSJ4e3vD1dUVQ4YMwcuXLxEfHw8HBwe0bdsWV69eBcBVDoio8IiNjcWDBw/QpEkTnD59Gn379sXSpUsxcuRIxMfHY/HixYiJieG3UjqCYZboG/Tx2YZ27dph4MCBCAoKQoMGDeDh4YH//e9/6NixIzZv3ozHjx+rx5gREemSzM6uli5dGrVq1cLIkSPRqVMnrF69GiNGjAAAREZG4s8//8SpU6fyulT6QvzrRPSNEQRBfbYhIiICb9++RenSpTFp0iScO3cOc+bMgUgkQpMmTXDixAkkJCTAy8sLKSkp/MqNiHRK+lUL3r17h+joaPVt3333Hc6dO4e2bdti6NChAID4+Hi4u7tDX18fnTt3zoeK6UuIBP51Ivom7Nu3Dy1btoS5uTkAYPbs2Th58iRevXqFcePGoW/fvrC2tlZvf+3aNezduxcnTpxAYmIi7t+/DwMDA40wTESkC+bOnYuTJ0/i2bNn6NGjB3r27AlnZ2eMGTMGly5dQvHixVGxYkXcv38f8fHxuHHjBmQyGZRKJSQSSX6XT5/BMEv0DTh9+jRatWqF2bNnY+rUqfDx8cHcuXMxY8YMvHnzBitWrMCQIUMwceJEVKhQQX0/hUKBmJgY1KtXD3369MGCBQvysRdERNmjUqnUQ6NWrFiB5cuXY+rUqVAoFPDz84OxsTEmT54MV1dXHDp0CP7+/pDL5ShbtiymTp0KqVQKhUIBqVSazz2h7OBviegb0KJFC2zZsgXDhg1DkSJFkJiYiPXr16Nr164AgPr166N///5QqVSYOnUqypUrB+DDSgdmZmZwc3PTWO2AiKggSw2y9+7dQ2xsLLy9vdGlSxcAQIcOHbB48WKsWrUK9vb26NmzJ3r27Klxf6VSySCrQ/ibIirkUocFDBkyBCqVCsOHD4dcLoe3t7d6mw4dOmD37t3o378/JBIJxo8fj4oVK6q/Xnv58iX+++8/JCcnQyaTcZgBERVIqWdkBUHA5cuX0bhxY4jFYmzbtk29TdWqVTF79mw0adIE586d0/g2KhWHFugWTgAjKsRSg6xSqQQADBs2DHv37kVycjIuXbqE8PBw9bYdOnSAj48PNmzYgCNHjqjbnz59ioiICKxevRpyuZxBlogKrNQzsnFxcWjUqBFWr14NlUqFW7duITExUT2J1d7eHrVq1cKtW7fys1zKITwzS1RIpR8zplKp1Gcaevfujbi4OIwYMQIlS5bE+PHjUaxYMQBA+/btERAQAGdnZ/V+ypYtiyNHjsDExCTvO0FEpKU9e/Zg1qxZuH//PsaNG4eUlBRMnjwZtra2GDZsGIyNjZGQkICXL1+iXr16+V0u5QCGWaJCKP21x9euXYv//e9/kMvlqF+/PgYOHIgffvgBSqUSo0aNAgCNQNuwYUMAUE9+kEqlDLJEpDPKlCkDc3Nz3LhxA40bN8akSZOgUqkwadIkHD9+HJUqVcLz588hFosxa9as/C6XcgCHGRAVMumXzlq4cCFmzpyJokWL4unTp/jll1/g5uaGxMREuLu7Y+PGjVi0aBHmz5+PuLg4jf1w8gMRFXSHDx/Gr7/+qtFWp04diEQijXkBkydPxurVq3HixAncu3cPQ4YMQWBgIGQyGVJSUvK6bMphDLNEhUxqkP3nn39w48YN/Pbbb1i/fj3Onz+POXPmIDo6Gn369EFKSgqGDx+OVatW4X//+x+MjIzyuXIiouzbuHEjunXrhkqVKiEpKUndbmBgAE9PTwQEBODs2bPq9nHjxuHnn3/GhQsX8OrVK0gkEiiVSshksvwon3IQwyxRIbR582b069cPQUFBKF26NIAPIbddu3YYNWoUgoODcefOHQAfDvABAQEQiUS8whcR6YStW7fCw8MDhw8fxv/+9z80a9YM8+fPR3x8PACgevXqsLa2xo0bNwB8mDcAAB4eHli8eDEmTpyIlStXctWCQoJhlqgQat68OSQSCe7du4fz58+r2/X19dGuXTsEBQXh77//VrenBlmuVEBEBd3evXvxww8/YOHChejUqRPq1q2LWrVqwd/fHw4ODliwYAHevXuHH374AYsXL8aLFy/UcwgAYMqUKZg2bRqWLFmCqKiofOwJ5RSGWSIdl3rGIb0KFSrg8OHDqFmzJnbu3Im//vpLfZtMJoONjQ309fU17sMgS0QFnbe3N77//ntUq1YNv/32G65duwZHR0esXr0a586dw/Dhw3H9+nVUrVoVZ8+ehUgkUi81mLpEIfDh8raPHj1ST3wl3cbL2RLpsPTLb92/fx/R0dGoWrUq9PT0oK+vj3///RfdunWDIAho06YNqlSpgsOHD+PRo0e4d+8eJ3kRkc5Ys2YNpk6dil9//RWWlpZYuHAhXr16hQ0bNqBu3brq7eLj4xEQEAAvLy9cu3YN1tbWuHnzJgDwG6hCimdmiXRU+uW3Zs6ciU6dOqFTp0747rvv4OXlhdevX8POzg6HDh2CXC7HihUrcOzYMVSvXh0PHz6EVCrVOFNBRFRQRUVFYdOmTdi+fTvat2+PunXrwsPDA9bW1hg5cqRGWDUwMECbNm2wZ88eHDt2DFFRUdi4cSMAfgNVWDHMEumo9Mtvbd++HevWrUNYWBgqVKiANWvWYN26dQgNDUX58uVx8OBBODk5QaVSoUWLFup9pB9HRkRUUBUrVgxXr15Fnz591B/CXVxc1IF2xIgRuHnzpvq4KAgCjIyMUKVKFdSsWRPPnz/Pz/Ipl/EvGZGOST9G9tGjRzh+/Dg2bNgAV1dXnDhxAqdPn4a9vT18fHzg5eWF0NBQ2NraYv/+/Xj69CmWL1+O48ePA+BZCiLSHcbGxgAAiUSiXnklfaB1d3fHrVu3ND6k6+vrQ6lU4v79+1AoFFyxpZBimCXSIemHFjx+/BhmZmaYMGECWrRogUuXLmHgwIHw9PTE8ePHUb16dezatQuLFi3Cf//9hwoVKuDIkSO4f/8+Nm3ahISEhHzuDRHRl0m/lGBqoC1dujS6dOmCR48eqT+o37x5EyEhIZg3bx6kUik/wBdSnP1BpCPST1wYO3Ysbty4gSNHjqBly5YwMjLC7t270alTJwwdOhTAh0s6Pnv2DIIgwMLCAoIgoGzZsrhw4QKUSiUMDQ3zsztERF8l/ZKCLi4uSEpKQqVKlVChQgX1NlWqVMGJEydgbm6ej5VSbmOYJdIRqUE2MjISwcHBWLp0KaysrNS3R0ZGQk9PDwqFAlKpFFFRUVixYgVcXV0hEomgUqkgCAJsbW3zqwtERDkqfaBt27Yt2rZtC+DDMlxisRgGBgYwMDDI5yopt3GYAZEOWbVqFZo1awaFQoEqVapo3FahQgUEBgaid+/eqF+/Pu7cuYPWrVurg6xYLOaELyLSGXFxcdnaLrOhAxKJhEMKviH8y0ZUgH18QYRKlSrh3bt3uH37tvo2hUIBAFi8eDE6d+4MCwsLODo64u+//1Zfe5whlogKur/++gvh4eEAgNmzZ8PLyytbywemjp3l5K5vFy+aQKQDnj9/DltbWyiVSpw9exZ9+/bFd999h0OHDgEAkpOTIZfLM9wvdcgBEVFBFhYWBjc3N4SFhaFVq1bYsWMHrl+/jurVq3/yfunnEkRGRqJ48eJ5US4VMDxdQ1QApT8j++eff6JcuXI4d+4cJBIJWrRoAR8fH5w/fx69e/cGAMjlcvUZ2vQYZIlIF1hYWGDr1q2IjY3Fjh078Oeff6J69epISUnJ8j7pg+yaNWvg6OiI2NjYvCqZChCGWaICJv0lardu3YqgoCAAwJAhQ9TXGm/dujV8fX1x6tQp9O3bFwCDKxHpnvQf3MViMaytrVG5cmWMHTsWr1+/hkwmy/SDukqlUgdZb29vLFiwAJ6enjAxMcmz2qngYJglKmDSX6J2xowZMDAwwIIFC1C+fHl069YNZ8+eBQB1oN23bx/mzJmTnyUTEWkt/Qf3mzdvwtjYGAEBAdi1axeKFy+OFi1a4M2bNxof1KOiogCkHSe9vb0xZcoUeHt7o0+fPnnfCSoQOGaWqAB6+fIlmjVrhnnz5qFfv34AgJiYGPzwww84ffo0fv31VzRr1gyCIOD69euoVasWz8wSkc5IH2RnzZqFI0eOYMmSJWjbti0kEgmuXr2KKVOmICoqCidPnkTJkiUxaNAg1K5dG2PHjgUAbNq0CVOmTMHWrVvRrVu3/OwO5TOGWaIC6N9//0Xt2rVx6NAhuLi4qA/8b968QfPmzZGUlIQdO3agSZMmUCqVkEgknOxFRDoh/VjX2bNnY/Pmzdi5cyecnZ1RrFgx9XY3b96Eh4cH7ty5A0dHR7x69QpPnz6FVCrFgQMH0KtXLxw8eBBdu3bNr65QAcEwS5TP0h/Y02vUqBGsrKywf/9+SKVSCIKAlJQU9OjRA/fu3UN0dDTu3r0La2vrLPdBRFRQHDhwAD169FD//PTpU3Tq1AlLlixBx44dERUVhdevX+PkyZNwcHBA69at8fbtW/j4+CA+Ph7Tp0+HVCpFSkoKrl27hsTERLRs2TIfe0QFBcMsUT5K/1VbbGwskpOT1Zdd3Lt3L1atWoUmTZpg1apVAICUlBT069cPHh4e+PHHH1G2bFns2bOH68gSUYG2bds2bNmyBQEBAQA+jHn9559/0LVrV6xZswZyuRx+fn64du0aIiMjUbRoUUybNk09wTUVv4GizPAvIFE+EQRBHULnz5+Pjh07onLlyhg4cCAOHDiAvn37ok+fPjh58iRq1qyJiRMnomHDhnj8+DHq1auHSpUq4f379wyyRFTgde7cGRcvXoRYLMbNmzcBAFWrVoWZmRnGjh2LNm3aQF9fH0uWLMGdO3cgl8vx33//ZdgPgyxlhq8KonySOixgzpw5WL9+PZYuXYqkpCScOHECixcvRlRUFCZNmoR69eph8+bNCA4OhpOTE9avXw+pVIrk5GSULFkSCoWCl24kogIt9WIG58+fR/PmzbF8+XL8+OOPuHz5Mn7//XeUKFECzs7O6u0NDAx4TKNs4zADonz08uVLdOnSBdOmTVPPxn327Bk2btyIkydPYu3atWjUqJHGfZKSkjBz5kzs2LEDAQEBsLe3z4/SiYg+K/14/ri4OAiCgBUrVmD9+vWYNWsWJk6cqN723bt3CA8Px6hRoxAaGoobN27wTCxlC7+fJMpH+vr6ePPmjXrtRAAoW7YsRo0ahYSEBFy9elVj+ydPnmDmzJn466+/cPLkSQZZIiqw0l/YYPHixVi2bBlMTEwwcuRIeHh4YO7cuVi7dq16ex8fH3Tt2hXv37/H9evXIZVKoVQq86t80iH8yEOUR9JP9kqlVCphY2OD+/fvIykpCXK5HCKRCGXKlIGDgwPu37+vsX3FihXRr18/TJo0CSVLlszL8omIsmXmzJn4/vvv4eDgoJ6wdeHCBfW3TyVLloS7uzuAD2vMikQijB07FkOHDoWpqSl69uzJ5QZJK3yVEOWB9EH22bNnUCgUKFWqFKysrDB+/Hj06dMHtra2GDp0KIyMjJCQkIBXr16hZs2a6n2kfl2Xvo2IqCC5efMm/vrrL1y4cAHbt29HhQoVkJKSgtDQUMjlcvV2VlZWcHd3h0gkwpw5cxATE4NZs2apr+KlVCoZZCnb+EohymXpVy2YO3cuDh06hPj4eCiVSkybNg3Dhw9HeHg4PDw8cPr0aRgZGeH169fqdRVTcTIEERV0tWvXxvz587Fu3ToMGjQI27dvR8WKFSGVSmFsbAwASExMhJ6eHqysrDBs2DDExMTg/PnzmDlzJoAPxzqJRJKf3SAdwzGzRLks/ZixjRs3YtmyZXj69CkqV66MhQsX4sGDBxg9ejSOHj0KOzs7qFQq1K1bF7dv34ZUKoVCocjnHhARfV7q+Nb27dtj7NixMDAwwODBgxEcHAx7e3t1QE0/DlYmk2HJkiU4ceIEP7DTF+NqBkS5TBAEJCQkoHPnzujfvz8GDBgAf39/9OvXD0uXLoW7u7t6bNjHV/LimDEi0gXph1KlpKRAJpPhr7/+wqpVq/D69Wv8888/qFy5MpRKpfr2xMRENG/eHDt37gSQ9dUQiT6HfyWJcplIJML79+8RFBSEli1b4uzZs+jduzc8PT3h7u6O9+/fY+PGjejWrRvKlCmjcV8GWSIq6NIH2RUrViAmJgaDBg2Cq6srFAoFtmzZgujoaAwfPhzfffcdoqKioFAo1B/yUzHI0pfiX0qiHHb9+nX8888/MDY2RseOHSGTyWBubo6KFSuib9++uHnzJtauXYvBgwcDACIjI3H48GGULFkyQ5glIiroUoPs1KlTsWPHDixZsgQGBgYAgA4dOkAQBCiVShw5cgSdOnVC3bp1Ne6vVCo5Rpa+CsfMEuWgPXv2YOjQoTh37hxevHgBmUymvq1379549uwZGjRooA6y7969w/DhwyGRSNCjR4/8KpuI6KscO3YMe/fuxR9//IEhQ4agVKlSSB3F6ObmhpEjR8LAwACurq54+fKlxn0ZZOlr8cwsUQ7ZsWMHRo8eDS8vL7i5uakv37hnzx7UrVsXvXv3xtOnT3Hw4EHUqlULFSpUwIsXL9QLhEskEp6hICKd9ObNG5QsWRIODg6ZHsfatWuH5ORknD9/nmtkU47jBDCiHHDz5k306tULs2bNwqBBg9TtPXv2xMGDBzFw4EDMmzcPJUqUwJUrV7Bnzx4YGhqidOnS8PDwUK9awDGyRKSL5s+fj40bNyI0NBRA2uRVlUqFc+fOoVy5cihXrpx6e35wp5zEYQZEOeDhw4cwMjJCy5YtoVKpAADff/897ty5g61bt+Ls2bOYN28egoKC0LRpU2zatAmrV6/GpEmT1JdsZJAlooIu9fj2sW7dukEul2Py5MkA0iavxsXFYdmyZTh37pzG9gyylJP415MoB1y8eBHJycmwsbFRt40dOxYlSpSAra0typQpg++//x5JSUn45ZdfYGJiojFzlwd2Iiro0q9acPz4cYSGhsLS0hIODg6oWrUqBg0ahD/++ANDhw7FjBkzEBISgpUrVyIsLAz9+/fP5+qpMGOYJcoBpUqVQnR0NJ48eYIKFSpAJBKhXr16AD6sndiiRQt069YNb968gbGxMZegISKdkxpkp0yZgp07d6JUqVIIDg5GlSpV4OHhgTlz5qBEiRJYv349qlevjrJly6JUqVK4du2a+hsofnCn3MBhBkQ5oEWLFnj79i18fHw0voZLXQQ8Ojoaz549g6Ojo/oPAhGRrtm3bx927dqFw4cP4+bNm7h48SKcnJywbNkyHDlyBO7u7rh37x7OnTuHP/74AydOnIBMJoNCoWCQpVzDCWBEXyk1sM6YMQPLli3DggULMGLECJiZmQEA/vvvPwwYMAARERG4evVqplf6IiIqiFKPValDDGbOnInr16/jxIkT6m0ePnyIn376CSqVCr6+vpDJZBrHuPTDE4hyA4cZEH2l1AO2u7s7EhISMGvWLPzxxx+oXbs2YmNj8fTpUyQmJqqDLL9qIyJdkD6EhoaGwsbGBqampoiNjUVkZKR6+UF7e3v07NkTvXv3xsuXL1GuXDmND+sMspTb+AojyqbPfYlRpkwZLFq0CPv374e+vj7OnDmDuLg4tG3bFteuXeNXbUSkMw4dOoRjx44BAH788UeMGDECgiCgRo0auHPnDg4cOAClUqnevlSpUqhevTqPb5QvOMyA6DN8fX3h4uICKyurbA8PSElJgUqlgp6enrqNZ2SJSBcIgoBhw4Zh+/bt6Ny5M06dOoWAgAA4OjoCABYtWoQ5c+Zg2bJlaNiwIUqVKoXhw4cjKSkJZ86c4ZlYynMMs0SfsHfvXkydOhWDBw/G2LFjYWFhwfGuRFRopT++lS9fHq9evcLKlSsxZswYjQ/kK1aswLp16xAfHw8rKysYGxvj4sWLkMlkHCNLeY5hlugzfvrpJ/j7+8PV1RUeHh6wtLT8bKBNvf3jyRNERAXVuXPn8OrVKzRp0gTW1tZo3bo1jIyMcOrUKfj6+sLNzQ1A2vHt0aNHiIqKQnJyMr777juIxWJeyZDyBf+6EmUhKSkJwIfLNLZq1Qpnz57FunXrEBERoQ6qmUkfdP/55x8AnABBRAXbjh07MGjQIJw4cQIREREQi8U4deoUjhw5gr59+6JPnz44evQogLRJr3p6eqhfvz6aNGkCsVjMKxlSvuGrjigTgiCox7tu2bIFCoUCjx8/xr179yASibIccpD+Zy8vL4wZMwZPnjyBnZ1dvvSDiOhz9uzZg9GjR2Pr1q1wcXGBpaWlxu2bNm2CSqVCv379sH37djRq1AijR4+Gvr4+9uzZoz7ucU4A5ReGWaJMpAbSBQsWYOXKldi0aRNcXFzg6+sLPz8/qFQqjB8/Hubm5hmGFACAt7c3Zs+eDT8/PwZZIiqwnj17hpUrV2L9+vXo3bu3ul0QBDx58gQGBgYoXbo0tmzZAplMhh49eqBKlSoQBAG3b98GAM4hoHzHMEuUCUEQEBMTg99//x2zZ89Gz549AQDt2rXD5MmTsW3bNkgkEowdOxbm5uYaEyO8vb0xZcoUbNu2Dd26dcvPbhARfVJiYiLi4+NRs2ZNddvOnTtx6tQp7N27Fw4ODmjcuDE2bNiADRs2oGPHjkhMTETHjh0hkUg4RpYKBA7kI8qESCSCoaEhZDIZ3r17BwBQKBQAAE9PT9jb22P79u2YP38+IiMj1UF2w4YNmD59OoMsEemM4OBgXLx4EcHBwRg4cCDWrFkDlUqFPXv2oEuXLjh37hz8/PwAAG3btkWXLl0gkUg4RpYKDIZZIny40s3H5HI5bGxscOTIEbx//x5SqVS9XaVKlWBoaAiVSoVixYoBAM6ePYvRo0dj06ZNDLJEVOAJggB7e3ssXboUHh4eaNy4Ma5du4Y5c+Zg1apV6N27N4YOHYqoqCjExMRkuD/HyFJBwaW56JuXftmsq1evQqlUIjk5Gc2bN0dYWBjq1auHypUrY/fu3TAyMoKenh569+6NXr16oUuXLuqlt168eIGwsDDUqVMnn3tERKSdBw8eIDo6Gg0aNNBof/XqFXr06IHJkyejS5cu+VQd0acxzNI3Lf2krRkzZuDAgQMwNDTEy5cv4erqiiVLliAsLAw9evSAWCyGlZUVEhISEB8fjwcPHkAikXANWSIqlKKjo9G/f3/ExMTg7NmzPBNLBRbDLBGA1atXY9GiRfD394ezszOWL1+OadOm4erVq3B2dkZSUhJ+/vlnxMXFQSwWY86cOZBKpbxELRHpBG2uXBgZGYnDhw/j8OHDCA0NxbVr1yCTyXi8owKLI7eJAPz999+YNWsWnJ2dceDAASxZsgS//PILnJ2dER8fjyJFimDatGka9+EsXiIq6Hx9feHi4gIrK6tsB9qAgAD4+fnB1tYWR44cgVQq5fGOCjSemaVvXmJiImrWrImZM2eifPnyaNOmDTw9PeHu7g6FQoEZM2agefPmaNu2bX6XSkSUbXv37sXUqVMxePDgLC/0kpmUlBS8efMGNjY2EIlEPCNLBR4/ZtE3JbPxrfr6+ujduzdWr16Nf/75B15eXhg8eDAA4N27d7h9+zYsLCwYZolIp/Tt2xcPHz6Ev78/lEolPDw8YGlp+dlAK5FIULp0aQDaDU8gyi+ctULfjPRB9smTJ/j777/Vt7Vs2RKJiYmoXbs2nJ2dAQChoaHo168f3r17h4kTJ+ZLzUREXyIpKQkAMH/+fLRq1Qpnz57FunXrEBERob5iYWYEQVAfJ1Mv380JrlTQ8RVK34zUA/K0adPg4uKCRo0aoWrVqli+fDlq166NxYsXQxAEtGrVCk5OTujQoQPCwsJw/vx59QLhREQFnSAI0NPTAwBs2bIFCoUCjx8/xpo1a7BmzRqEhYVlGmjTn4X18vKCo6Mj/v333zyvn0hbHGZAhV76M7K+vr7w8fHBunXrUK5cOWzZsgUHDx7EmzdvsHz5cjg4OODOnTsIDg6GnZ0dOnXqxEs2EpFOSQ2kCxYswMqVK7Fp0ya4uLjA19cXfn5+UKlUGD9+PMzNzdUBNn2Q9fb2xuzZs+Hn5wc7O7v87ApRtnACGH0zDh48iBcvXgAAJkyYoG739PTEzp07MWfOHPTo0SPD/Tj5gYh0iSAIiImJQatWrdC7d29MmjRJfdvkyZOxZ88e/PDDDxg7dizMzc01jnHe3t6YMmUKL8lNOoXDDOibEBUVheHDh2PSpEkZvjabPHkyrK2tsW3btkzvyyBLRLpEJBLB0NAQMpkM7969A/BhKUHgw4d3e3t7bN++HfPnz0dkZKT6GLdhwwZMnz6dQZZ0DsMsFUoff+FQrFgxXLt2DU5OTjh79iyePn2qcXuTJk2gUCiQnJycl2USEX01lUqVoU0ul8PGxgZHjhzB+/fvIZVK1dtVqlQJhoaGUKlUKFasGADg7NmzGD16NDZt2sQgSzqHwwyo0Ek/RjY+Ph5SqVQ9GeLJkydo1aoVypQpox43K5VK0bJlS5QuXRp+fn75WToRkVbSH++uXr0KpVKJ5ORkNG/eHGFhYahXrx4qV66M3bt3w8jICHp6eujduzd69eqFLl26QCQSQaVS4cWLFwgLC0OdOnXyuUdE2mOYpUIl/SSGBQsWICAgACEhIejXrx+aN2+ORo0a4fHjx3B1dUVMTAwqVaqEMmXK4N9//8Xly5chl8u5riIR6YT0x6oZM2bgwIEDMDQ0xMuXL+Hq6oolS5YgLCwMPXr0gFgshpWVFRISEhAfH48HDx5AIpFkuvY2ka5hmKVCI/1B2dPTE0uXLsWUKVPw7Nkz3L17F4Ig4KeffoKrqyuePHmC3r1748WLF/j9999Rr149iEQipKSkQCaT5XNPiIiyb/Xq1Vi0aBH8/f3h7OyM5cuXY9q0abh69SqcnZ2RlJSEn3/+GXFxcRCLxZgzZw6kUiknt1KhwTBLhc6TJ0+wYsUKdOjQAW5ubgCAixcvwtvbG6GhofDy8oK9vT2ePn2KFi1awM7ODvv374e5uXk+V05EpL2hQ4fC0dERHh4eOHDgAIYPH47Fixdj5MiRiI+PR5EiRTLch8sNUmHC7xaoUDl69CgqV66MX3/9VWOoQOPGjTFkyBA8e/YMQUFBAIAKFSrg1KlTePHiBVq3bo2wsLD8KpuI6IskJibi8uXLMDMzw+XLlzFkyBAsWbIEI0eOhEKhwLx58/Dnn39muB+DLBUmDLNUqLi5uWHcuHGIjIzEtWvX1MvSAICLiwtMTExw5swZdVvFihVx9OhRKJVKJCQk5EfJRETZktmqBfr6+ujduzdWr16NFi1aYO3atXB3dwcAvHv3Drdv38a9e/fyulSiPMUwSzorswM78GH82NChQ7FixQocOnRIHWhjY2OhUChQsmRJje3t7e1x48YN2Nra5nrNRERfIv2cgCdPnuDvv/9W39ayZUskJiaidu3acHZ2BgCEhoaiX79+ePfuHSZOnJgvNRPlFY6ZJZ2U/sDu5+eHR48ewdjYGA4ODnB1dQUADB48GLt370anTp1QvXp1BAYG4t9//0VgYCAneRGRTpo2bRr27NmDmJgYlC5dGgMHDsS4ceNw4sQJLFu2DMHBwbC0tIRYLIZUKsWlS5cgk8k42YsKNQ6aIZ2UGmQnT56MHTt2wNnZGU+ePIFYLIarqytWr16N7du3o0iRIvDy8oIgCGjTpg1GjRoFgJMfiEg3pP/g7uvrCx8fH/Ua2Vu2bMHBgwfx5s0bLF++HA4ODrhz5w6Cg4NhZ2eHTp06QSKR8HhHhR5f3aSzjh07Bh8fH/z2229o2LAh3r59i3379mHNmjUwNDTE4sWLsX79egDAnj170KtXL/V9eWAnIl2QGmRTQ+ukSZPQpUsXAMD69evh6emJnTt3okGDBujRowcqVqyocX+lUsnjHRV6fIWTzvh4ce/Q0FCYmZmhbt26AABLS0v069cPUVFROHHiBF68eIHSpUtj/fr1SEpKwogRI5CYmIjevXurrwhGRFTQRUVFYfjw4YiOjlZ/u5Rq8uTJOHXqFLZt24YePXpkuC+HFtC3gBPASGekBlkvLy+cO3cOVlZWSE5OxoMHD9TbmJmZoU2bNrh27Rpevnypbt+8eTNcXV0xc+ZMJCcn53ntRETZ9fFUlmLFiuHatWtwcnLC2bNn8fTpU43bmzRpAoVCwWMbfbMYZqnAS79qwfr16zF37lyYm5vD1tYWCoUCO3bswKtXr9TbWFhYoGrVqupJXgqFAgCwb98+XL9+HcbGxnnbASKibFKpVOo1suPj45GUlATgwzKCfn5+iI+Px5AhQ3Dnzh3ExsYiISEB/v7+KF68OORyeX6WTpRvuJoB6YzAwEAcPHgQVapUQb9+/QAA+/fvx7Bhw9C7d280a9YMlStXxowZMxAdHY0rV66oz+amzuRNfy1zIqKCJP3xacGCBQgICEBISAj69euH5s2bo1GjRnj8+DFcXV0RExODSpUqoUyZMvj3339x+fJlyOVyHuPom8QwSzrhf//7H+rXrw+xWIzNmzdj8ODB6tsOHz6MdevW4c6dO7C2tkbx4sVx8uRJyGSyDONsiYgKovTHKk9PTyxduhRTpkzBs2fPcPfuXQiCgJ9++gmurq548uQJevfujRcvXuD3339HvXr1IBKJkJKSwmUH6ZvEMEsF0ps3bxAWFoY7d+7AyckJ1apVw+HDh9GtWzcMGjQIy5Ytg4WFhXr7qKgoxMbGIjExERUrVoRYLOZyNESkc548eYIVK1agQ4cOcHNzAwBcvHgR3t7eCA0NhZeXF+zt7fH06VO0aNECdnZ22L9/P8zNzfO5cqL8w1NWVOAcOnQIQ4cORevWrTF69GjUrl0bnTp1Qt26dXHw4EHs2LEDmzZtQkxMjPo+RYsWha2tLSpXrgyxWAyVSsUgS0Q65ejRo6hcuTJ+/fVXjaECjRs3xpAhQ/Ds2TMEBQUBACpUqIBTp07hxYsXaN26NcLCwvKrbKJ8xzBLBcrmzZsxbNgwuLi4wMfHB8+fP8esWbPw4MEDtGjRAs7OzvDx8cHs2bPh5eWF2NhYAMgwRoxDC4hI17i5uWHcuHGIjIzEtWvX1JfiBgAXFxeYmJjgzJkz6raKFSvi6NGjUCqVSEhIyI+SiQoEnrqiAmPz5s0YM2YMfH190bVrV3X77NmzYW9vj/nz56Nv3744f/48YmJiMHbsWLx79w4zZsxAkSJF8rFyIiLtZDWef/Xq1YiPj8eKFStQsWJFdO3aFUZGRoiNjYVCoUDJkiU1tre3t8eNGzc4Vpa+aRwzSwXCuXPn4OLigrlz5+Knn35Sr7OY/uo1v/zyCyZNmoQ9e/agW7duWLhwIf78808EBARw9i4R6Yz0QdbPzw+PHj2CsbExHBwc4OrqCgAYPHgwdu/ejU6dOqF69eoIDAzEv//+i8DAQAZXoo8wzFKB8OTJEwwdOhTFixfHpEmT0LhxY/Vt6Q/8jo6OaNSoETZs2AAgbSkbLkdDRLpm8uTJ2LFjB5ydnfHkyROIxWK4urpi9erVAIAxY8bAy8sLnTt3RsuWLdVX/+LkViJNHFhIBULFihWxdetWJCUlYdGiRQgICFDflhpSY2Nj8f79e5QqVUrjNgZZItI1x44dg4+PD3777Tf4+/sjICAAo0aNwtGjRzFjxgwAHy4SM2rUKJw9exZmZmbq+zLIEmlimKUCo2LFili7di1EIhEWLlyIS5cuadweFBQEGxsb1K9fH0DaJR8ZZImooEt/JUMACA0NhZmZGerWrQsAsLS0RL9+/TBgwACcP38eL168APAh0Hbv3h0jRozAzp071VcEI6I0DLNUoKQPtAsWLMDFixchEomgUCgwc+ZMGBkZoUWLFgAYYolId6QOlfLy8sK5c+dgZWWF5ORkPHjwQL2NmZkZ2rRpg2vXruHly5fq9s2bN8PV1RUzZ85EcnJyntdOVNAxzFKBkz7QLl26FJcuXUKvXr3w7NkzHDp0SL2OLBFRQZf+WLV+/XrMnTsX5ubmsLW1hUKhwI4dO/Dq1Sv1NhYWFqhatap6kpdCoQAA7Nu3D9evX4exsXHedoBIB3ACGBVYT548wYQJE3DixAmUL18ef//9N2QyGSc/EJHOCQwMxMGDB1GlShX069cPALB//34MGzYMvXv3RrNmzVC5cmXMmDED0dHRuHLlivpsrlKphEQi4fwAoiwwzFKB9vDhQ3h5eWHVqlWQSqUMskSkc/73v/+hfv36EIvF2Lx5MwYPHqy+7fDhw1i3bh3u3LkDa2trFC9eHCdPnoRMJstyLVoi0sQwSzqDQZaIdMGbN28QFhaGO3fuwMnJCdWqVcPhw4fRrVs3DBo0CMuWLYOFhYV6+6ioKMTGxiIxMREVK1aEWCzm8Y5IC3ynkM7ggZ2ICrpDhw5h69atuHXrFhISEpCYmAhXV1f88ssvOHjwILp37w47OzuMGTMGpqamAICiRYuiWLFi6n2oVCoe74i0wO8viIiIcsDmzZsxbNgwuLi4wMfHB8+fP8esWbPw4MEDtGjRAs7OzvDx8cHs2bPh5eWF2NhYABlXZuHQAiLt8KMfERHRV9q8eTPGjBkDX19fdO3aVd0+e/bs/2vv/mOirOM4gL+fGwedd4bhFH+RYqTcZPhjbhpGuJI0hh3orNlUEKeIJKDI3DBma1BZk9YfilMDVqtsNG66uRiFXAt/7PQEPRTkRJ3OkU0iM8YE7z790Xzmw0GQQOzk/druj+f7/TzfH89fn3v2/X4fhIeH44MPPsA777yDn3/+Gffu3cPWrVvx119/ITc3F0ajcRhHTuT7+PePiIhoAGw2G1JTU7Fr1y6sWLECIgIRUY/VWrVqFTZv3gy73Y7y8nKkpaXh/fffh81mw6hRo4Z59ES+jxvAiIiIBsDlcmHDhg0ICgpCdnY2oqOj1brHTySIjIzEokWLUFRUBADqUVs8cotoYPhmloiIaABefPFFfPHFF3jw4AEKCgpQU1Oj1j1KUv/88090dHRg0qRJmjomskQDx2SWiIhogB7/cmF+fj5Onjypqb927RqmTJmChQsXAvjnrSzAz3ITDQYuMyAiIhokLpcLGRkZEBHs2rUL0dHRePjwISwWC3Q6HY4ePcrTCogGGZNZIiKiQfQoodXpdMjNzUVhYSEaGxtRV1fHL3sRDQEms0RERIPM5XJh27ZtqKysxPTp0+F0OqHX6/llL6IhwGSWiIhoCDQ2NmL//v0oLCyEn58fE1miIcJkloiIaIgxkSUaOkxmiYiIiMhncQU6EREREfksJrNERERE5LOYzBIRERGRz2IyS0REREQ+i8ksEREREfksJrNERD5u8eLFyMrKGu5hEBENCyazRPTUS05OhqIoUBQFer0ewcHBiI2NRXFxMTwez3APb8iVlpaq83/8d/jw4UFp/8aNG1AUBXV1dYPSHhHRf8ETnIloRFi2bBlKSkrgdrtx584dVFRUIDMzE99//z2OHTvW64H2XV1d0Ov1//NoB9+zzz6LK1euaMoCAwOHaTS96+zshL+//3APg4h8CN/MEtGIEBAQgAkTJmDy5MmYN28ecnNzcfToUfzwww8oLS1V4xRFwYEDB2CxWGA0GpGfnw8AKCoqwgsvvAB/f3/MnDkTX331laZ9RVFQVFSEN954AwaDAaGhoSgrK1PrH729PHLkCKKiovDMM89g1qxZsNlsmnYuX76MuLg4mEwmBAcHY+3atbh7965a397ejnXr1sFkMmHixInYu3dvv+avKAomTJig+RkMhn71WVFRgZdffhljxozB2LFjER8fj+bmZrU+NDQUADB37lwoioLFixcD6Hn5Q0JCApKTk9XradOmIT8/H8nJyQgMDMTGjRsBAKdOncIrr7wCg8GAkJAQZGRkoL29vV9zJaKRhcksEY1Yr776KmbPno3y8nJN+e7du2GxWOB0OpGSkgKr1YrMzExkZ2ejvr4eqampWL9+PaqrqzX35eXlYeXKlbhw4QLWrFmD1atXo6GhQROTk5OD7Oxs1NbWIioqCm+++SZaW1sBAC0tLYiJicGcOXNw7tw5VFRU4M6dO3jrrbc091dXV8NqtaKyshI2mw0Oh+OJn0F/+mxvb8f27dtx9uxZVFVVQafTITExUV2iYbfbAQA//fQTWlpavJ5nXz799FNERETA4XAgLy8PTqcTS5cuxYoVK3Dx4kV89913qKmpwbvvvvvE8ySip5gQET3lkpKSxGKx9Fj39ttvi9lsVq8BSFZWliYmKipKNm7cqClbtWqVxMXFae7bvHmzJmbBggWSlpYmIiLXr18XAPLxxx+r9V1dXTJlyhTZs2ePiIjk5eXJ66+/rmnj1q1bAkCuXLki9+/fF39/fzly5Iha39raKgaDQTIzM3udf0lJiQAQo9Go/oKDg/vVZ09+++03ASBOp1Mzt9raWk1cTEyM17gsFoskJSWp11OnTpWEhARNzNq1a2XTpk2asl9++UV0Op10dHT0Ok8iGpm4ZpaIRjQRgaIomrL58+drrhsaGrBp0yZN2aJFi/D5559ryl566SWv6+6boh6P8fPzw/z589W3tw6HA9XV1TCZTF7jbG5uRkdHBzo7OzVtBAUFYebMmX3MEhg9ejTOnz+vXut0un71OWPGDDQ3NyMvLw9nzpzB3bt31TeyN2/eRERERJ9996X783Y4HLh69Sq+/vprtUxE4PF4cP36dZjN5gH3SURPDyazRDSiNTQ0qGs+HzEajV5x3RPenpLgnvyXGI/Hg+XLl2PPnj1eMRMnToTL5eqzrd7odDqEhYV5lffVJwAsX74cISEhOHToECZNmgSPx4OIiAh0dnb22aeIaMq6urq84ro/b4/Hg9TUVGRkZHjFPv/88//aJxGNPFwzS0Qj1okTJ+B0OrFy5cp/jTObzaipqdGUnTp1yusN4ZkzZ7yuw8PDe415+PAhHA6HGjNv3jxcunQJ06ZNQ1hYmOZnNBoRFhYGvV6vaaOtrQ1NTU39n3Q3ffXZ2tqKhoYGvPfee3jttddgNpvR1tamaePR6QNut1tTPm7cOLS0tKjXbrcb9fX1/R5T9/GEhYXxpAMi8sJklohGhAcPHuDXX3/F7du3cf78eXz44YewWCyIj4/HunXr/vXenJwclJaW4sCBA3C5XCgsLER5eTl27NihiSsrK0NxcTGampqwe/du2O12r01L+/btg9VqRWNjI9LT09HW1oaUlBQAQHp6On7//XesXr0adrsd165dQ2VlJVJSUuB2u2EymbBhwwbk5OSgqqoK9fX1SE5OVpcMPIm++nzuuecwduxYHDx4EFevXsWJEyewfft2TRvjx4+HwWBQN4/du3cPwD8b7I4fP47jx4+jsbERW7ZswR9//NHnmHbu3InTp08jPT0ddXV1cLlcOHbsGLZu3frE8ySip9jwLtklIhp6SUlJAkAAiJ+fn4wbN06WLFkixcXF4na7NbEAxGq1erWxf/9+mT59uuj1epkxY4Z8+eWXXvft27dPYmNjJSAgQKZOnSrffvutWv9ok9Q333wjCxYsEH9/fzGbzVJVVaVpp6mpSRITE2XMmDFiMBgkPDxcsrKyxOPxiIjI/fv3Zc2aNTJq1CgJDg6WTz75pMeNVo8rKSmRwMDAXuv76vPHH38Us9ksAQEBEhkZKTabzes5HTp0SEJCQkSn00lMTIyIiHR2dkpaWpoEBQXJ+PHj5aOPPupxA9hnn33mNSa73S6xsbFiMpnEaDRKZGSkFBQU9DoHIhq5FJFuC5qIiOg/UxQFVqsVCQkJPdbfuHEDoaGhqK2txZw5c/7XsRERPc24zICIiIiIfBaTWSIiIiLyWVxmQEREREQ+i29miYiIiMhnMZklIiIiIp/FZJaIiIiIfBaTWSIiIiLyWUxmiYiIiMhnMZklIiIiIp/FZJaIiIiIfBaTWSIiIiLyWUxmiYiIiMhn/Q1uMyCQC7H4eQAAAABJRU5ErkJggg==",
      "text/plain": [
       "<Figure size 800x500 with 1 Axes>"
      ]
     },
     "metadata": {},
     "output_type": "display_data"
    }
   ],
   "source": [
    "\n",
    "\n",
    "importance_scores = {**drop_geo_score, **drop_stockist_score}\n",
    "\n",
    "# Convert to Pandas Series for plotting\n",
    "importance_series = pd.Series(importance_scores)\n",
    "\n",
    "# Plot feature importance as a bar graph\n",
    "plt.figure(figsize=(8, 5))\n",
    "importance_series.sort_values(ascending=False).plot(kind='bar', color=['blue', 'orange'])\n",
    "plt.title(\"Feature Importance Score (Impact of Dropping Features)\")\n",
    "plt.ylabel(\"Change in Recommendations (%)\")\n",
    "plt.xlabel(\"Dropped Feature\")\n",
    "plt.xticks(rotation=45)\n",
    "plt.grid(axis='y', linestyle=\"--\", alpha=0.7)\n",
    "plt.show()"
   ]
  },
  {
   "cell_type": "code",
   "execution_count": null,
   "id": "a15aceac-42de-4b09-8d7c-fbadd1ca997a",
   "metadata": {},
   "outputs": [],
   "source": []
  }
 ],
 "metadata": {
  "kernelspec": {
   "display_name": "Python 3 (ipykernel)",
   "language": "python",
   "name": "python3"
  },
  "language_info": {
   "codemirror_mode": {
    "name": "ipython",
    "version": 3
   },
   "file_extension": ".py",
   "mimetype": "text/x-python",
   "name": "python",
   "nbconvert_exporter": "python",
   "pygments_lexer": "ipython3",
   "version": "3.12.7"
  }
 },
 "nbformat": 4,
 "nbformat_minor": 5
}
