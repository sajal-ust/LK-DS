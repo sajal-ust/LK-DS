{
 "cells": [
  {
   "cell_type": "code",
   "execution_count": 26,
   "id": "1897e537-d707-4f42-a84f-470c9fb6d626",
   "metadata": {},
   "outputs": [],
   "source": [
    "import pandas as pd\n",
    "import numpy as np\n",
    "import logging\n",
    "from copy import deepcopy\n",
    "from sklearn.model_selection import train_test_split\n",
    "from sklearn.neighbors import NearestNeighbors\n",
    "from scipy.sparse import csr_matrix\n",
    "\n",
    "# Configure logging\n",
    "logging.basicConfig(level=logging.INFO, format=\"%(asctime)s - %(levelname)s - %(message)s\")\n"
   ]
  },
  {
   "cell_type": "markdown",
   "id": "ca1acadd-a3db-48f0-8e82-7bd1fe0fb7a3",
   "metadata": {},
   "source": [
    "Loads dataset from a CSV file.\n",
    "\n",
    "Applies one-hot encoding to categorical variables (Geography and Stockist_Type).\n",
    "\n",
    "Ensures these encoded columns exist, raising an error if missing.\n",
    "\n",
    "Replaces zero sales values to avoid errors in logarithmic computations.\n",
    "\n",
    "Computes an \"Engagement Score\", using a log-based formula."
   ]
  },
  {
   "cell_type": "code",
   "execution_count": 27,
   "id": "fc9d9ea3-1077-4600-9a8e-6899395f5c8b",
   "metadata": {},
   "outputs": [],
   "source": [
    "def load_and_preprocess_data(file_path):\n",
    "    logging.info(\"Loading dataset...\")\n",
    "    df = pd.read_csv(file_path)\n",
    "\n",
    "    # One-hot encoding for Geography and Stockist_Type\n",
    "    df = pd.get_dummies(df, columns=[\"Geography\", \"Stockist_Type\"], dtype=int)\n",
    "\n",
    "    # Identify Geography and Stockist_Type columns\n",
    "    geo_columns = [col for col in df.columns if col.startswith(\"Geography\")]\n",
    "    stockist_columns = [col for col in df.columns if col.startswith(\"Stockist_Type\")]\n",
    "\n",
    "    if not geo_columns or not stockist_columns:\n",
    "        raise ValueError(\"No Geography or Stockist_Type features found after encoding!\")\n",
    "\n",
    "    # Replace zero sales values to avoid log issues\n",
    "    df[\"Sales_Value_Last_Period\"] = df[\"Sales_Value_Last_Period\"].replace(0, 1)\n",
    "\n",
    "    # Compute Engagement Score\n",
    "    df[\"Engagement_Score\"] = np.log1p(df[\"Sales_Value_Last_Period\"]) * (\n",
    "        df[\"Feedback_Score\"] + df[stockist_columns+geo_columns].sum(axis=1)\n",
    "    )\n",
    "\n",
    "    logging.info(\"Data preprocessing completed.\")\n",
    "    return df, geo_columns, stockist_columns\n"
   ]
  },
  {
   "cell_type": "markdown",
   "id": "1b50ba65-08f6-44e2-b418-ea8eb51fbc5f",
   "metadata": {},
   "source": [
    "Splits the dataset into 80% training and 20% testing.\n",
    "\n",
    "Uses stratified sampling based on Partner_id to maintain distribution."
   ]
  },
  {
   "cell_type": "code",
   "execution_count": 28,
   "id": "b7d40fb0-e1de-45ec-ba1e-edb996a709a1",
   "metadata": {},
   "outputs": [],
   "source": [
    "def prepare_train_test_data(df):\n",
    "    logging.info(\"Splitting data into train and test sets...\")\n",
    "    train_df, test_df = train_test_split(df, test_size=0.2, random_state=42, stratify=df[\"Partner_id\"])\n",
    "    logging.info(\"Train-test split completed.\")\n",
    "    return train_df, test_df\n"
   ]
  },
  {
   "cell_type": "markdown",
   "id": "ed5e9f93-47da-4ec4-9028-5d49d5264e65",
   "metadata": {},
   "source": [
    "Creates a pivot table where Partner_id is the index, Scheme_Type is columns, and Engagement_Score is aggregated.\n",
    "\n",
    "Merges geographical and stockist-type features with the user-scheme matrix."
   ]
  },
  {
   "cell_type": "code",
   "execution_count": 29,
   "id": "325ac7fe-2980-4e24-8828-8a926c051401",
   "metadata": {},
   "outputs": [],
   "source": [
    "def create_user_scheme_matrix(train_data, geo_columns, stockist_columns):\n",
    "    user_scheme_matrix = train_data.pivot_table(\n",
    "        index=\"Partner_id\", columns=\"Scheme_Type\", values=\"Engagement_Score\", aggfunc=\"sum\", fill_value=0\n",
    "    )\n",
    "    user_features = train_data.groupby(\"Partner_id\")[geo_columns + stockist_columns].mean()\n",
    "    user_scheme_matrix = user_scheme_matrix.merge(user_features, left_index=True, right_index=True, how=\"left\")\n",
    "\n",
    "    logging.info(\"User-scheme matrix created.\")\n",
    "    return user_scheme_matrix\n"
   ]
  },
  {
   "cell_type": "markdown",
   "id": "9b64cad7-0619-4773-b4ed-db8d07ac4bba",
   "metadata": {},
   "source": [
    "Converts the user-scheme matrix into a sparse matrix.\n",
    "\n",
    "Trains a K-Nearest Neighbors (KNN) model using cosine similarity."
   ]
  },
  {
   "cell_type": "code",
   "execution_count": 30,
   "id": "682878ae-a6da-45f7-8a67-d47c205c83c6",
   "metadata": {},
   "outputs": [],
   "source": [
    "def train_knn_model(user_scheme_matrix):\n",
    "    sparse_matrix = csr_matrix(user_scheme_matrix.values)\n",
    "    partner_id_lookup = list(user_scheme_matrix.index)\n",
    "\n",
    "    knn_model = NearestNeighbors(metric='cosine', algorithm='brute')\n",
    "    knn_model.fit(sparse_matrix)\n",
    "\n",
    "    logging.info(\"KNN model trained successfully.\")\n",
    "    return knn_model, sparse_matrix, partner_id_lookup\n"
   ]
  },
  {
   "cell_type": "markdown",
   "id": "b50c3d87-0e8e-4e37-921f-a96e607e6b00",
   "metadata": {},
   "source": [
    "Finds nearest neighbors for a given partner_id.\n",
    "\n",
    "Returns top-3 recommended schemes for a similar user."
   ]
  },
  {
   "cell_type": "code",
   "execution_count": 31,
   "id": "982d21a9-54cd-4290-99c4-31c8b380541b",
   "metadata": {},
   "outputs": [],
   "source": [
    "def recommend_user_based(partner_id, user_scheme_matrix, sparse_matrix, partner_id_lookup, knn_model, train_df, top_n=3):\n",
    "    \"\"\"Recommend schemes based on similar users.\"\"\"\n",
    "    if partner_id not in user_scheme_matrix.index:\n",
    "        return None\n",
    "\n",
    "    idx = partner_id_lookup.index(partner_id)\n",
    "    distances, indices = knn_model.kneighbors(sparse_matrix[idx], n_neighbors=min(top_n + 1, len(user_scheme_matrix)))\n",
    "    similarities = 1 - distances.flatten()\n",
    "    neighbors = indices.flatten()\n",
    "\n",
    "    filtered = [(i, sim) for i, sim in zip(neighbors, similarities) if i != idx]\n",
    "    if not filtered:\n",
    "        return None\n",
    "\n",
    "    top_idx, sim_score = filtered[0]\n",
    "    similar_user = partner_id_lookup[top_idx]\n",
    "    sim_score = round(sim_score, 6)\n",
    "\n",
    "    top_schemes = (\n",
    "        train_df[train_df[\"Partner_id\"] == similar_user][\"Scheme_Type\"]\n",
    "        .value_counts().head(3).index.tolist()\n",
    "    )\n",
    "    while len(top_schemes) < 3:\n",
    "        top_schemes.append(\"No Scheme\")\n",
    "\n",
    "    product = train_df[train_df[\"Partner_id\"] == partner_id][\"Product_id\"].unique()[0]\n",
    "\n",
    "    return [partner_id, product, sim_score, *top_schemes]"
   ]
  },
  {
   "cell_type": "markdown",
   "id": "8f0caf89-6d20-4147-b65f-bbc21affe770",
   "metadata": {},
   "source": [
    "Iterates through test dataset users and generates recommendations.\n",
    "\n"
   ]
  },
  {
   "cell_type": "code",
   "execution_count": 32,
   "id": "a3dd4f5a-f9cd-409c-89d9-6ea386d8e8e0",
   "metadata": {},
   "outputs": [],
   "source": [
    "def generate_recommendations(knn_model, user_scheme_matrix, sparse_matrix, partner_id_lookup, train_df, test_df):\n",
    "    \"\"\"Generate recommendations for all test users.\"\"\"\n",
    "    logging.info(\"Generating recommendations...\")\n",
    "    user_partners = test_df[\"Partner_id\"].unique()\n",
    "\n",
    "    recommendations = [\n",
    "        recommend_user_based(pid, user_scheme_matrix, sparse_matrix, partner_id_lookup, knn_model, train_df) \n",
    "        for pid in user_partners if recommend_user_based(pid, user_scheme_matrix, sparse_matrix, partner_id_lookup, knn_model, train_df)\n",
    "    ]\n",
    "\n",
    "    logging.info(\"Recommendations generated successfully.\")\n",
    "    return recommendations\n",
    "\n",
    "\n",
    "logging.basicConfig(level=logging.INFO)"
   ]
  },
  {
   "cell_type": "markdown",
   "id": "acb72e09-7b42-4cd5-b323-af55acc3e3d3",
   "metadata": {},
   "source": [
    "Uses Permutation Feature Importance (PFI) to evaluate how much each feature impacts recommendations."
   ]
  },
  {
   "cell_type": "code",
   "execution_count": 39,
   "id": "8df66d7e-f857-475c-b228-738315718a4e",
   "metadata": {},
   "outputs": [],
   "source": [
    "from copy import deepcopy\n",
    "import numpy as np\n",
    "import pandas as pd\n",
    "from scipy.sparse import csr_matrix\n",
    "\n",
    "def compute_feature_importance(df, feature_columns, train_df, test_df, geo_columns, stockist_columns, knn_model, user_scheme_matrix, user_scheme_sparse, partner_id_lookup, num_shuffles=50):\n",
    "    \"\"\"Computes Permutation Feature Importance (PFI) for the recommendation system over multiple shuffles.\"\"\"\n",
    "    importance_scores = {feature: [] for feature in feature_columns}\n",
    "\n",
    "    # Generate Baseline Recommendations\n",
    "    baseline_recommendations = {\n",
    "        pid: recommend_user_based(pid, user_scheme_matrix, user_scheme_sparse, partner_id_lookup, knn_model, train_df) \n",
    "        for pid in test_df[\"Partner_id\"].unique()\n",
    "    }\n",
    "\n",
    "    # Convert to DataFrame\n",
    "    baseline_df = pd.DataFrame(\n",
    "        [v for v in baseline_recommendations.values() if v],\n",
    "        columns=[\"Partner_id\", \"Product_id\", \"Similarity_Score\", \"Scheme_1\", \"Scheme_2\", \"Scheme_3\"]\n",
    "    ).set_index([\"Partner_id\", \"Product_id\"])\n",
    "\n",
    "    for feature in feature_columns:\n",
    "        for _ in range(num_shuffles):\n",
    "            perturbed_df = deepcopy(df)\n",
    "            \n",
    "            # Shuffle ONLY the selected feature column\n",
    "            perturbed_df[feature] = np.random.permutation(perturbed_df[feature].values)\n",
    "\n",
    "            # Train-Test Split Again\n",
    "            train_df_perturbed = perturbed_df.loc[train_df.index]\n",
    "\n",
    "            # Recompute Engagement Score\n",
    "            train_df_perturbed[\"Engagement_Score\"] = np.log1p(train_df_perturbed[\"Sales_Value_Last_Period\"]) * (\n",
    "                train_df_perturbed[\"Feedback_Score\"] + train_df_perturbed[geo_columns + stockist_columns].sum(axis=1)\n",
    "            )\n",
    "\n",
    "            # Pivot User-Scheme Matrix\n",
    "            user_scheme_matrix_perturbed = train_df_perturbed.pivot_table(\n",
    "                index=\"Partner_id\", columns=\"Scheme_Type\", values=\"Engagement_Score\", aggfunc=\"sum\", fill_value=0\n",
    "            )\n",
    "\n",
    "            # Add Geography & Stockist_Type Features\n",
    "            user_features_perturbed = train_df_perturbed.groupby(\"Partner_id\")[geo_columns + stockist_columns].sum()\n",
    "            user_scheme_matrix_perturbed = user_scheme_matrix_perturbed.merge(\n",
    "                user_features_perturbed, left_index=True, right_index=True, how=\"left\"\n",
    "            )\n",
    "\n",
    "            # Prepare sparse matrix and retrain KNN\n",
    "            user_scheme_sparse_perturbed = csr_matrix(user_scheme_matrix_perturbed.values)\n",
    "            knn_model.fit(user_scheme_sparse_perturbed)\n",
    "\n",
    "            # Generate New Recommendations\n",
    "            perturbed_recommendations = {\n",
    "                pid: recommend_user_based(pid, user_scheme_matrix_perturbed, user_scheme_sparse_perturbed, partner_id_lookup, knn_model, train_df_perturbed) \n",
    "                for pid in test_df[\"Partner_id\"].unique()\n",
    "            }\n",
    "\n",
    "            # Check for empty recommendations\n",
    "            if perturbed_recommendations:\n",
    "                perturbed_recommendations_df = pd.DataFrame(\n",
    "                    [v for v in perturbed_recommendations.values() if v],\n",
    "                    columns=[\"Partner_id\", \"Product_id\", \"Similarity_Score\", \"Scheme_1\", \"Scheme_2\", \"Scheme_3\"]\n",
    "                ).set_index([\"Partner_id\", \"Product_id\"])\n",
    "            else:\n",
    "                perturbed_recommendations_df = baseline_df.copy()  # Avoid errors if empty\n",
    "\n",
    "            # Compare Recommendations\n",
    "            scheme_columns = [\"Scheme_1\", \"Scheme_2\", \"Scheme_3\"]\n",
    "            changed_recommendations = (baseline_df[scheme_columns] != perturbed_recommendations_df[scheme_columns]).any(axis=1)\n",
    "            changed_count = changed_recommendations.sum()\n",
    "\n",
    "            # Normalize by total recommendations in baseline\n",
    "            importance_scores[feature].append(changed_count / len(baseline_df))\n",
    "\n",
    "    # Compute average importance score over multiple shuffles\n",
    "    importance_scores = {feature: np.mean(scores) for feature, scores in importance_scores.items()}\n",
    "\n",
    "    return importance_scores\n"
   ]
  },
  {
   "cell_type": "code",
   "execution_count": 40,
   "id": "5321ac83-ae1a-40af-900d-9743b32f7f1a",
   "metadata": {},
   "outputs": [
    {
     "name": "stderr",
     "output_type": "stream",
     "text": [
      "2025-04-04 11:02:47,689 - INFO - Loading dataset...\n",
      "2025-04-04 11:02:47,752 - INFO - Data preprocessing completed.\n",
      "2025-04-04 11:02:47,752 - INFO - Splitting data into train and test sets...\n",
      "2025-04-04 11:02:47,787 - INFO - Train-test split completed.\n",
      "2025-04-04 11:02:47,804 - INFO - User-scheme matrix created.\n",
      "2025-04-04 11:02:47,804 - INFO - KNN model trained successfully.\n",
      "2025-04-04 11:02:47,804 - INFO - Generating recommendations...\n",
      "2025-04-04 11:02:49,015 - INFO - Recommendations generated successfully.\n",
      "2025-04-04 11:02:49,020 - INFO - User-Based Recommendations saved successfully.\n"
     ]
    },
    {
     "name": "stdout",
     "output_type": "stream",
     "text": [
      "\n",
      "Feature Importance (Higher means more impact on recommendations):\n",
      "Geography Feature Importance:\n",
      "Geography_South    0.348119\n",
      "Geography_East     0.340594\n",
      "Geography_North    0.325941\n",
      "Geography_West     0.318416\n",
      "dtype: float64\n",
      "\n",
      "Stockist_Type Feature Importance:\n",
      "Stockist_Type_Wholesaler     0.441584\n",
      "Stockist_Type_Distributor    0.430099\n",
      "Stockist_Type_Retailer       0.388515\n",
      "dtype: float64\n"
     ]
    }
   ],
   "source": [
    "if __name__ == \"__main__\":\n",
    "     base_dir = os.getcwd()\n",
    "     file_path = os.path.join(base_dir, \"Augmented_Stockist_Data (1).csv\")\n",
    "\n",
    "    # Load and preprocess data\n",
    "    df, geo_columns, stockist_columns = load_and_preprocess_data(file_path)\n",
    "\n",
    "    # Shuffle dataset and track iterations\n",
    "    #df = shuffle_and_track_iterations(df, num_shuffles=5)\n",
    "\n",
    "    # Split data\n",
    "    train_df, test_df = prepare_train_test_data(df)\n",
    "\n",
    "    # Create User-Scheme Matrix\n",
    "    user_scheme_matrix = create_user_scheme_matrix(train_df, geo_columns, stockist_columns)\n",
    "\n",
    "    # Train KNN Model\n",
    "    knn_model, sparse_matrix, partner_id_lookup = train_knn_model(user_scheme_matrix)\n",
    "\n",
    "    # Generate Recommendations\n",
    "    recommendations = generate_recommendations(knn_model, user_scheme_matrix, sparse_matrix, partner_id_lookup, train_df, test_df)\n",
    "\n",
    "    # Save Recommendations\n",
    "    user_rec_df = pd.DataFrame(recommendations, columns=[\"Partner_id\", \"Product_id\", \"Similarity_Score\", \"Scheme_1\", \"Scheme_2\", \"Scheme_3\"])\n",
    "    user_rec_df.to_csv(\"user_based_recommendations_with_geography_stockist.csv\", index=False)\n",
    "    logging.info(\"User-Based Recommendations saved successfully.\")\n",
    "\n",
    "    # Compute Feature Importance using PFI\n",
    "    geo_importance = compute_feature_importance(df, geo_columns, train_df, test_df, geo_columns, stockist_columns, knn_model, user_scheme_matrix, sparse_matrix, partner_id_lookup)\n",
    "    stockist_importance = compute_feature_importance(df, stockist_columns, train_df, test_df, geo_columns, stockist_columns, knn_model, user_scheme_matrix, sparse_matrix, partner_id_lookup)\n",
    "\n",
    "    # Print Results\n",
    "    print(\"\\nFeature Importance (Higher means more impact on recommendations):\")\n",
    "    print(\"Geography Feature Importance:\")\n",
    "    print(pd.Series(geo_importance).sort_values(ascending=False))\n",
    "\n",
    "    print(\"\\nStockist_Type Feature Importance:\")\n",
    "    print(pd.Series(stockist_importance).sort_values(ascending=False))\n"
   ]
  },
  {
   "cell_type": "code",
   "execution_count": 41,
   "id": "726fde93-ecfa-4c53-89a4-081391701b83",
   "metadata": {},
   "outputs": [],
   "source": [
    "# Convert to DataFrame for saving to CSV\n",
    "geo_importance_df_50 = pd.DataFrame(list(geo_importance.items()), columns=[\"Feature\", \"Importance\"])\n",
    "stockist_importance_df_50 = pd.DataFrame(list(stockist_importance.items()), columns=[\"Feature\", \"Importance\"])\n",
    "\n",
    "# Save results to CSV files\n",
    "geo_importance_df_50.to_csv(\"geo_feature_importance_50.csv\", index=False)\n",
    "stockist_importance_df_50.to_csv(\"stockist_feature_importance_50.csv\", index=False)\n"
   ]
  },
  {
   "cell_type": "code",
   "execution_count": 38,
   "id": "d1397458-26d3-4d7d-bb6d-3f564c23287a",
   "metadata": {},
   "outputs": [
    {
     "data": {
      "image/png": "[encoded data removed]",
      "text/plain": [
       "<Figure size 800x500 with 1 Axes>"
      ]
     },
     "metadata": {},
     "output_type": "display_data"
    }
   ],
   "source": [
    "import matplotlib.pyplot as plt\n",
    "\n",
    "importance_scores = {**geo_importance, **stockist_importance}\n",
    "\n",
    "# Convert to Pandas Series for plotting\n",
    "importance_series = pd.Series(importance_scores)\n",
    "\n",
    "# Plot feature importance as a bar graph\n",
    "plt.figure(figsize=(8, 5))\n",
    "importance_series.sort_values(ascending=False).plot(kind='bar', color=['blue', 'orange'])\n",
    "plt.title(\"Feature Importance Score for 5 shuffles  (Impact of Features)\")\n",
    "plt.ylabel(\"Change in Recommendations (%)\")\n",
    "plt.xticks(rotation=45)\n",
    "plt.grid(axis='y', linestyle=\"--\", alpha=0.7)\n",
    "plt.show()"
   ]
  },
  {
   "cell_type": "code",
   "execution_count": 45,
   "id": "188bca11-9819-49a8-9987-eb072b5353b5",
   "metadata": {},
   "outputs": [
    {
     "data": {
      "text/html": [
       "<div>\n",
       "<style scoped>\n",
       "    .dataframe tbody tr th:only-of-type {\n",
       "        vertical-align: middle;\n",
       "    }\n",
       "\n",
       "    .dataframe tbody tr th {\n",
       "        vertical-align: top;\n",
       "    }\n",
       "\n",
       "    .dataframe thead th {\n",
       "        text-align: right;\n",
       "    }\n",
       "</style>\n",
       "<table border=\"1\" class=\"dataframe\">\n",
       "  <thead>\n",
       "    <tr style=\"text-align: right;\">\n",
       "      <th></th>\n",
       "      <th>Feature</th>\n",
       "      <th>Importance</th>\n",
       "    </tr>\n",
       "  </thead>\n",
       "  <tbody>\n",
       "    <tr>\n",
       "      <th>0</th>\n",
       "      <td>Geography_East</td>\n",
       "      <td>0.332673</td>\n",
       "    </tr>\n",
       "    <tr>\n",
       "      <th>1</th>\n",
       "      <td>Geography_North</td>\n",
       "      <td>0.320792</td>\n",
       "    </tr>\n",
       "    <tr>\n",
       "      <th>2</th>\n",
       "      <td>Geography_South</td>\n",
       "      <td>0.348515</td>\n",
       "    </tr>\n",
       "    <tr>\n",
       "      <th>3</th>\n",
       "      <td>Geography_West</td>\n",
       "      <td>0.326733</td>\n",
       "    </tr>\n",
       "  </tbody>\n",
       "</table>\n",
       "</div>"
      ],
      "text/plain": [
       "           Feature  Importance\n",
       "0   Geography_East    0.332673\n",
       "1  Geography_North    0.320792\n",
       "2  Geography_South    0.348515\n",
       "3   Geography_West    0.326733"
      ]
     },
     "execution_count": 45,
     "metadata": {},
     "output_type": "execute_result"
    }
   ],
   "source": [
    "# 5 shuffle\n",
    "geo_importance_df_5"
   ]
  },
  {
   "cell_type": "code",
   "execution_count": 46,
   "id": "5bca7ef2-feb2-4d0b-9903-db2edbaee041",
   "metadata": {},
   "outputs": [
    {
     "data": {
      "text/html": [
       "<div>\n",
       "<style scoped>\n",
       "    .dataframe tbody tr th:only-of-type {\n",
       "        vertical-align: middle;\n",
       "    }\n",
       "\n",
       "    .dataframe tbody tr th {\n",
       "        vertical-align: top;\n",
       "    }\n",
       "\n",
       "    .dataframe thead th {\n",
       "        text-align: right;\n",
       "    }\n",
       "</style>\n",
       "<table border=\"1\" class=\"dataframe\">\n",
       "  <thead>\n",
       "    <tr style=\"text-align: right;\">\n",
       "      <th></th>\n",
       "      <th>Feature</th>\n",
       "      <th>Importance</th>\n",
       "    </tr>\n",
       "  </thead>\n",
       "  <tbody>\n",
       "    <tr>\n",
       "      <th>0</th>\n",
       "      <td>Stockist_Type_Distributor</td>\n",
       "      <td>0.421782</td>\n",
       "    </tr>\n",
       "    <tr>\n",
       "      <th>1</th>\n",
       "      <td>Stockist_Type_Retailer</td>\n",
       "      <td>0.401980</td>\n",
       "    </tr>\n",
       "    <tr>\n",
       "      <th>2</th>\n",
       "      <td>Stockist_Type_Wholesaler</td>\n",
       "      <td>0.441584</td>\n",
       "    </tr>\n",
       "  </tbody>\n",
       "</table>\n",
       "</div>"
      ],
      "text/plain": [
       "                     Feature  Importance\n",
       "0  Stockist_Type_Distributor    0.421782\n",
       "1     Stockist_Type_Retailer    0.401980\n",
       "2   Stockist_Type_Wholesaler    0.441584"
      ]
     },
     "execution_count": 46,
     "metadata": {},
     "output_type": "execute_result"
    }
   ],
   "source": [
    "# 5 shuffle\n",
    "stockist_importance_df_5"
   ]
  },
  {
   "cell_type": "code",
   "execution_count": 42,
   "id": "248c940b-d6b5-4e97-b5c8-26496503938f",
   "metadata": {},
   "outputs": [
    {
     "data": {
      "text/html": [
       "<div>\n",
       "<style scoped>\n",
       "    .dataframe tbody tr th:only-of-type {\n",
       "        vertical-align: middle;\n",
       "    }\n",
       "\n",
       "    .dataframe tbody tr th {\n",
       "        vertical-align: top;\n",
       "    }\n",
       "\n",
       "    .dataframe thead th {\n",
       "        text-align: right;\n",
       "    }\n",
       "</style>\n",
       "<table border=\"1\" class=\"dataframe\">\n",
       "  <thead>\n",
       "    <tr style=\"text-align: right;\">\n",
       "      <th></th>\n",
       "      <th>Feature</th>\n",
       "      <th>Importance</th>\n",
       "    </tr>\n",
       "  </thead>\n",
       "  <tbody>\n",
       "    <tr>\n",
       "      <th>0</th>\n",
       "      <td>Geography_East</td>\n",
       "      <td>0.340594</td>\n",
       "    </tr>\n",
       "    <tr>\n",
       "      <th>1</th>\n",
       "      <td>Geography_North</td>\n",
       "      <td>0.325941</td>\n",
       "    </tr>\n",
       "    <tr>\n",
       "      <th>2</th>\n",
       "      <td>Geography_South</td>\n",
       "      <td>0.348119</td>\n",
       "    </tr>\n",
       "    <tr>\n",
       "      <th>3</th>\n",
       "      <td>Geography_West</td>\n",
       "      <td>0.318416</td>\n",
       "    </tr>\n",
       "  </tbody>\n",
       "</table>\n",
       "</div>"
      ],
      "text/plain": [
       "           Feature  Importance\n",
       "0   Geography_East    0.340594\n",
       "1  Geography_North    0.325941\n",
       "2  Geography_South    0.348119\n",
       "3   Geography_West    0.318416"
      ]
     },
     "execution_count": 42,
     "metadata": {},
     "output_type": "execute_result"
    }
   ],
   "source": [
    "# 50 shuffles\n",
    "geo_importance_df_50"
   ]
  },
  {
   "cell_type": "code",
   "execution_count": 43,
   "id": "4505c25a-e1aa-4bd6-a681-9ac5c825a33a",
   "metadata": {},
   "outputs": [
    {
     "data": {
      "text/html": [
       "<div>\n",
       "<style scoped>\n",
       "    .dataframe tbody tr th:only-of-type {\n",
       "        vertical-align: middle;\n",
       "    }\n",
       "\n",
       "    .dataframe tbody tr th {\n",
       "        vertical-align: top;\n",
       "    }\n",
       "\n",
       "    .dataframe thead th {\n",
       "        text-align: right;\n",
       "    }\n",
       "</style>\n",
       "<table border=\"1\" class=\"dataframe\">\n",
       "  <thead>\n",
       "    <tr style=\"text-align: right;\">\n",
       "      <th></th>\n",
       "      <th>Feature</th>\n",
       "      <th>Importance</th>\n",
       "    </tr>\n",
       "  </thead>\n",
       "  <tbody>\n",
       "    <tr>\n",
       "      <th>0</th>\n",
       "      <td>Stockist_Type_Distributor</td>\n",
       "      <td>0.430099</td>\n",
       "    </tr>\n",
       "    <tr>\n",
       "      <th>1</th>\n",
       "      <td>Stockist_Type_Retailer</td>\n",
       "      <td>0.388515</td>\n",
       "    </tr>\n",
       "    <tr>\n",
       "      <th>2</th>\n",
       "      <td>Stockist_Type_Wholesaler</td>\n",
       "      <td>0.441584</td>\n",
       "    </tr>\n",
       "  </tbody>\n",
       "</table>\n",
       "</div>"
      ],
      "text/plain": [
       "                     Feature  Importance\n",
       "0  Stockist_Type_Distributor    0.430099\n",
       "1     Stockist_Type_Retailer    0.388515\n",
       "2   Stockist_Type_Wholesaler    0.441584"
      ]
     },
     "execution_count": 43,
     "metadata": {},
     "output_type": "execute_result"
    }
   ],
   "source": [
    "stockist_importance_df_50"
   ]
  },
  {
   "cell_type": "code",
   "execution_count": 44,
   "id": "a5d97ef2-8dfb-41a6-b950-101707f34481",
   "metadata": {},
   "outputs": [
    {
     "data": {
      "image/png": "[encoded data removed]",
      "text/plain": [
       "<Figure size 800x500 with 1 Axes>"
      ]
     },
     "metadata": {},
     "output_type": "display_data"
    }
   ],
   "source": [
    "import matplotlib.pyplot as plt\n",
    "\n",
    "importance_scores = {**geo_importance, **stockist_importance}\n",
    "\n",
    "# Convert to Pandas Series for plotting\n",
    "importance_series = pd.Series(importance_scores)\n",
    "\n",
    "# Plot feature importance as a bar graph\n",
    "plt.figure(figsize=(8, 5))\n",
    "importance_series.sort_values(ascending=False).plot(kind='bar', color=['blue', 'orange'])\n",
    "plt.title(\"Feature Importance Score for 50 shuffles  (Impact of Features)\")\n",
    "plt.ylabel(\"Change in Recommendations (%)\")\n",
    "plt.xticks(rotation=45)\n",
    "plt.grid(axis='y', linestyle=\"--\", alpha=0.7)\n",
    "plt.show()"
   ]
  },
  {
   "cell_type": "code",
   "execution_count": null,
   "id": "eff7c6ab-d15c-4afe-a13d-b6137a624cf0",
   "metadata": {},
   "outputs": [],
   "source": []
  }
 ],
 "metadata": {
  "kernelspec": {
   "display_name": "Python 3 (ipykernel)",
   "language": "python",
   "name": "python3"
  },
  "language_info": {
   "codemirror_mode": {
    "name": "ipython",
    "version": 3
   },
   "file_extension": ".py",
   "mimetype": "text/x-python",
   "name": "python",
   "nbconvert_exporter": "python",
   "pygments_lexer": "ipython3",
   "version": "3.12.7"
  }
 },
 "nbformat": 4,
 "nbformat_minor": 5
}
