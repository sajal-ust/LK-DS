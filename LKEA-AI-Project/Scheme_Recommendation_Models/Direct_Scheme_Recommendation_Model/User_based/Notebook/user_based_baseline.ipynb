{
 "cells": [
  {
   "cell_type": "code",
   "execution_count": 3,
   "id": "a89240f9-b6a8-4a5a-92ad-194be85ea34e",
   "metadata": {},
   "outputs": [],
   "source": [
    "import pandas as pd\n",
    "import numpy as np\n",
    "from sklearn.model_selection import train_test_split\n",
    "from sklearn.neighbors import NearestNeighbors\n",
    "from scipy.sparse import csr_matrix\n",
    "\n",
    "# Load dataset\n",
    "df = pd.read_csv(\"Augmented_Stockist_Dat.csv\")\n",
    "\n",
    "# Train-Test Split\n",
    "train_df, test_df = train_test_split(df, test_size=0.2, random_state=42, stratify=df[\"Partner_id\"])\n",
    "train_df.to_csv(\"Train_Data.csv\", index=False)\n",
    "test_df.to_csv(\"Test_Data.csv\", index=False)\n"
   ]
  },
  {
   "cell_type": "code",
   "execution_count": 4,
   "id": "48b79f0f-9bf5-40af-be45-1c09ea1e6fab",
   "metadata": {},
   "outputs": [],
   "source": [
    "# Pivot User-Scheme Matrix using Scheme_Type frequency\n",
    "scheme_counts = train_df.groupby([\"Partner_id\", \"Scheme_Type\"]).size().reset_index(name=\"Scheme_Count\")\n",
    "user_scheme_matrix = scheme_counts.pivot_table(\n",
    "    index=\"Partner_id\", columns=\"Scheme_Type\", values=\"Scheme_Count\", fill_value=0\n",
    ")\n"
   ]
  },
  {
   "cell_type": "code",
   "execution_count": 5,
   "id": "352fd6b7-538c-4114-bbd6-8a486573170f",
   "metadata": {},
   "outputs": [
    {
     "data": {
      "text/html": [
       "<style>#sk-container-id-1 {color: black;}#sk-container-id-1 pre{padding: 0;}#sk-container-id-1 div.sk-toggleable {background-color: white;}#sk-container-id-1 label.sk-toggleable__label {cursor: pointer;display: block;width: 100%;margin-bottom: 0;padding: 0.3em;box-sizing: border-box;text-align: center;}#sk-container-id-1 label.sk-toggleable__label-arrow:before {content: \"▸\";float: left;margin-right: 0.25em;color: #696969;}#sk-container-id-1 label.sk-toggleable__label-arrow:hover:before {color: black;}#sk-container-id-1 div.sk-estimator:hover label.sk-toggleable__label-arrow:before {color: black;}#sk-container-id-1 div.sk-toggleable__content {max-height: 0;max-width: 0;overflow: hidden;text-align: left;background-color: #f0f8ff;}#sk-container-id-1 div.sk-toggleable__content pre {margin: 0.2em;color: black;border-radius: 0.25em;background-color: #f0f8ff;}#sk-container-id-1 input.sk-toggleable__control:checked~div.sk-toggleable__content {max-height: 200px;max-width: 100%;overflow: auto;}#sk-container-id-1 input.sk-toggleable__control:checked~label.sk-toggleable__label-arrow:before {content: \"▾\";}#sk-container-id-1 div.sk-estimator input.sk-toggleable__control:checked~label.sk-toggleable__label {background-color: #d4ebff;}#sk-container-id-1 div.sk-label input.sk-toggleable__control:checked~label.sk-toggleable__label {background-color: #d4ebff;}#sk-container-id-1 input.sk-hidden--visually {border: 0;clip: rect(1px 1px 1px 1px);clip: rect(1px, 1px, 1px, 1px);height: 1px;margin: -1px;overflow: hidden;padding: 0;position: absolute;width: 1px;}#sk-container-id-1 div.sk-estimator {font-family: monospace;background-color: #f0f8ff;border: 1px dotted black;border-radius: 0.25em;box-sizing: border-box;margin-bottom: 0.5em;}#sk-container-id-1 div.sk-estimator:hover {background-color: #d4ebff;}#sk-container-id-1 div.sk-parallel-item::after {content: \"\";width: 100%;border-bottom: 1px solid gray;flex-grow: 1;}#sk-container-id-1 div.sk-label:hover label.sk-toggleable__label {background-color: #d4ebff;}#sk-container-id-1 div.sk-serial::before {content: \"\";position: absolute;border-left: 1px solid gray;box-sizing: border-box;top: 0;bottom: 0;left: 50%;z-index: 0;}#sk-container-id-1 div.sk-serial {display: flex;flex-direction: column;align-items: center;background-color: white;padding-right: 0.2em;padding-left: 0.2em;position: relative;}#sk-container-id-1 div.sk-item {position: relative;z-index: 1;}#sk-container-id-1 div.sk-parallel {display: flex;align-items: stretch;justify-content: center;background-color: white;position: relative;}#sk-container-id-1 div.sk-item::before, #sk-container-id-1 div.sk-parallel-item::before {content: \"\";position: absolute;border-left: 1px solid gray;box-sizing: border-box;top: 0;bottom: 0;left: 50%;z-index: -1;}#sk-container-id-1 div.sk-parallel-item {display: flex;flex-direction: column;z-index: 1;position: relative;background-color: white;}#sk-container-id-1 div.sk-parallel-item:first-child::after {align-self: flex-end;width: 50%;}#sk-container-id-1 div.sk-parallel-item:last-child::after {align-self: flex-start;width: 50%;}#sk-container-id-1 div.sk-parallel-item:only-child::after {width: 0;}#sk-container-id-1 div.sk-dashed-wrapped {border: 1px dashed gray;margin: 0 0.4em 0.5em 0.4em;box-sizing: border-box;padding-bottom: 0.4em;background-color: white;}#sk-container-id-1 div.sk-label label {font-family: monospace;font-weight: bold;display: inline-block;line-height: 1.2em;}#sk-container-id-1 div.sk-label-container {text-align: center;}#sk-container-id-1 div.sk-container {/* jupyter's `normalize.less` sets `[hidden] { display: none; }` but bootstrap.min.css set `[hidden] { display: none !important; }` so we also need the `!important` here to be able to override the default hidden behavior on the sphinx rendered scikit-learn.org. See: https://github.com/scikit-learn/scikit-learn/issues/21755 */display: inline-block !important;position: relative;}#sk-container-id-1 div.sk-text-repr-fallback {display: none;}</style><div id=\"sk-container-id-1\" class=\"sk-top-container\"><div class=\"sk-text-repr-fallback\"><pre>NearestNeighbors(algorithm=&#x27;brute&#x27;, metric=&#x27;cosine&#x27;)</pre><b>In a Jupyter environment, please rerun this cell to show the HTML representation or trust the notebook. <br />On GitHub, the HTML representation is unable to render, please try loading this page with nbviewer.org.</b></div><div class=\"sk-container\" hidden><div class=\"sk-item\"><div class=\"sk-estimator sk-toggleable\"><input class=\"sk-toggleable__control sk-hidden--visually\" id=\"sk-estimator-id-1\" type=\"checkbox\" checked><label for=\"sk-estimator-id-1\" class=\"sk-toggleable__label sk-toggleable__label-arrow\">NearestNeighbors</label><div class=\"sk-toggleable__content\"><pre>NearestNeighbors(algorithm=&#x27;brute&#x27;, metric=&#x27;cosine&#x27;)</pre></div></div></div></div></div>"
      ],
      "text/plain": [
       "NearestNeighbors(algorithm='brute', metric='cosine')"
      ]
     },
     "execution_count": 5,
     "metadata": {},
     "output_type": "execute_result"
    }
   ],
   "source": [
    "# Prepare sparse matrix\n",
    "user_scheme_sparse = csr_matrix(user_scheme_matrix.values)\n",
    "partner_id_lookup = list(user_scheme_matrix.index)\n",
    "\n",
    "# Fit Nearest Neighbors (Cosine Similarity)\n",
    "knn_model = NearestNeighbors(metric='cosine', algorithm='brute')\n",
    "knn_model.fit(user_scheme_sparse)"
   ]
  },
  {
   "cell_type": "code",
   "execution_count": 6,
   "id": "0ac9d980-cdf6-467e-9962-074d230886c5",
   "metadata": {},
   "outputs": [],
   "source": [
    "# Recommendation Function\n",
    "def recommend_user_based(partner_id, top_n=3):\n",
    "    if partner_id not in user_scheme_matrix.index:\n",
    "        return None\n",
    "\n",
    "    idx = partner_id_lookup.index(partner_id)\n",
    "    distances, indices = knn_model.kneighbors(user_scheme_sparse[idx], n_neighbors=min(top_n + 1, len(user_scheme_matrix)))\n",
    "    similarities = 1 - distances.flatten()\n",
    "    neighbors = indices.flatten()\n",
    "\n",
    "    filtered = [(i, sim) for i, sim in zip(neighbors, similarities) if i != idx]\n",
    "    if not filtered:\n",
    "        return None\n",
    "\n",
    "    top_idx, sim_score = filtered[0]\n",
    "    similar_user = partner_id_lookup[top_idx]\n",
    "    sim_score = round(sim_score, 6)\n",
    "\n",
    "    top_schemes = (\n",
    "        train_df[train_df[\"Partner_id\"] == similar_user][\"Scheme_Type\"]\n",
    "        .value_counts().head(3).index.tolist()\n",
    "    )\n",
    "    while len(top_schemes) < 3:\n",
    "        top_schemes.append(\"No Scheme\")\n",
    "\n",
    "    product = train_df[train_df[\"Partner_id\"] == partner_id][\"Product_id\"].unique()[0]\n",
    "\n",
    "    return [partner_id, product, sim_score, *top_schemes]\n",
    "    \n"
   ]
  },
  {
   "cell_type": "code",
   "execution_count": 7,
   "id": "1b78c578-6e45-49e7-87cd-5589815e4581",
   "metadata": {},
   "outputs": [
    {
     "name": "stdout",
     "output_type": "stream",
     "text": [
      "User-Based Recommendations saved.\n"
     ]
    }
   ],
   "source": [
    "# Generate Recommendations\n",
    "user_partners = test_df[\"Partner_id\"].unique()\n",
    "user_recommendations = [recommend_user_based(pid) for pid in user_partners if recommend_user_based(pid)]\n",
    "\n",
    "# Save Output\n",
    "user_rec_df = pd.DataFrame(user_recommendations, columns=[\"Partner_id\", \"Product_id\", \"Similarity_Score\", \"Scheme_1\", \"Scheme_2\", \"Scheme_3\"])\n",
    "user_rec_df.to_csv(\"user_based_recommendations_enhanced.csv\", index=False)\n",
    "\n",
    "print(\"User-Based Recommendations saved.\")\n"
   ]
  },
  {
   "cell_type": "code",
   "execution_count": 9,
   "id": "892c82e5-9d53-49af-9e86-66076f91bdbf",
   "metadata": {},
   "outputs": [
    {
     "name": "stdout",
     "output_type": "stream",
     "text": [
      "==== Per-Scheme Evaluation\n",
      "\n",
      "Top-1\n",
      "  Avg Precision : 0.9901\n",
      "  Avg Recall    : 0.2485\n",
      "  Avg F1 Score  : 0.3973\n",
      "\n",
      "Top-2\n",
      "  Avg Precision : 0.995\n",
      "  Avg Recall    : 0.5003\n",
      "  Avg F1 Score  : 0.6658\n",
      "\n",
      "Top-3\n",
      "  Avg Precision : 0.9901\n",
      "  Avg Recall    : 0.7455\n",
      "  Avg F1 Score  : 0.8506\n"
     ]
    }
   ],
   "source": [
    "\"\"\"Evaluation Code\"\"\"\n",
    "\n",
    "# Import required library\n",
    "import pandas as pd\n",
    "\n",
    "# Load the test data (long format — one row per availed scheme per partner)\n",
    "test_df = pd.read_csv(\"Test_Data.csv\")\n",
    "\n",
    "# Load the recommendation data (top 3 recommended schemes per partner)\n",
    "rec_df = pd.read_csv(\"user_based_recommendations_enhanced.csv\")\n",
    "\n",
    "# Group by Partner_id to get list of all availed schemes\n",
    "availed_df = (\n",
    "    test_df.groupby(\"Partner_id\")[\"Scheme_Type\"]\n",
    "    .apply(list)\n",
    "    .reset_index()\n",
    "    .rename(columns={\"Scheme_Type\": \"Availed_Schemes\"})\n",
    ")\n",
    "\n",
    "# Combine Scheme_1, Scheme_2, Scheme_3 into a single list column\n",
    "rec_df[\"Recommended_Schemes\"] = rec_df[[\"Scheme_1\", \"Scheme_2\", \"Scheme_3\"]].values.tolist()\n",
    "\n",
    "# Merge availed and recommended schemes using Partner_id\n",
    "df_all = pd.merge(\n",
    "    availed_df,\n",
    "    rec_df[[\"Partner_id\", \"Recommended_Schemes\"]],\n",
    "    on=\"Partner_id\",\n",
    "    how=\"left\"\n",
    ")\n",
    "\n",
    "# Ensure both lists are properly formatted\n",
    "df_all[\"Availed_Schemes\"] = df_all[\"Availed_Schemes\"].apply(lambda x: x if isinstance(x, list) else [])\n",
    "df_all[\"Recommended_Schemes\"] = df_all[\"Recommended_Schemes\"].apply(lambda x: x if isinstance(x, list) else [])\n",
    "\n",
    "# Initialize variables\n",
    "k_list = [1, 2, 3]\n",
    "results = []\n",
    "\n",
    "# Evaluate precision, recall, F1 for each Top-K level\n",
    "for k in k_list:\n",
    "    precision_list = []\n",
    "    recall_list = []\n",
    "\n",
    "    for _, row in df_all.iterrows():\n",
    "        actual_set = set(row[\"Availed_Schemes\"])\n",
    "        recommended_k = row[\"Recommended_Schemes\"][:k]  # Top-K recommendations\n",
    "\n",
    "        if not actual_set:\n",
    "            continue  # skip if no availed schemes\n",
    "\n",
    "        # Count correct predictions in Top-K\n",
    "        tp = sum([1 for scheme in recommended_k if scheme in actual_set])\n",
    "        precision = tp / k\n",
    "        recall = tp / len(actual_set)\n",
    "\n",
    "        precision_list.append(precision)\n",
    "        recall_list.append(recall)\n",
    "\n",
    "    # Average the metrics across all partners\n",
    "    avg_precision = round(sum(precision_list) / len(precision_list), 4) if precision_list else 0\n",
    "    avg_recall = round(sum(recall_list) / len(recall_list), 4) if recall_list else 0\n",
    "    f1 = round(2 * avg_precision * avg_recall / (avg_precision + avg_recall), 4) if (avg_precision + avg_recall) else 0\n",
    "\n",
    "    results.append({\n",
    "        \"Top-K\": k,\n",
    "        \"Avg Precision\": avg_precision,\n",
    "        \"Avg Recall\": avg_recall,\n",
    "        \"Avg F1 Score\": f1\n",
    "    })\n",
    "\n",
    "# Print Top-K per-scheme evaluation metrics\n",
    "print(\"==== Per-Scheme Evaluation\")\n",
    "for r in results:\n",
    "    print(f\"\\nTop-{r['Top-K']}\")\n",
    "    print(f\"  Avg Precision : {r['Avg Precision']}\")\n",
    "    print(f\"  Avg Recall    : {r['Avg Recall']}\")\n",
    "    print(f\"  Avg F1 Score  : {r['Avg F1 Score']}\")"
   ]
  },
  {
   "cell_type": "code",
   "execution_count": null,
   "id": "a74bda6e-6adf-49e6-86b8-7589c257ec3e",
   "metadata": {},
   "outputs": [],
   "source": []
  },
  {
   "cell_type": "code",
   "execution_count": null,
   "id": "40f4bb9a-f13d-4737-98ce-1180e51cecc3",
   "metadata": {},
   "outputs": [],
   "source": []
  }
 ],
 "metadata": {
  "kernelspec": {
   "display_name": "anaconda-2024.02-py310",
   "language": "python",
   "name": "conda-env-anaconda-2024.02-py310-py"
  },
  "language_info": {
   "codemirror_mode": {
    "name": "ipython",
    "version": 3
   },
   "file_extension": ".py",
   "mimetype": "text/x-python",
   "name": "python",
   "nbconvert_exporter": "python",
   "pygments_lexer": "ipython3",
   "version": "3.10.14"
  }
 },
 "nbformat": 4,
 "nbformat_minor": 5
}
