{
 "cells": [
  {
   "cell_type": "code",
   "execution_count": 8,
   "id": "c230f14b-be3c-47f4-9c80-09ae706bb7ef",
   "metadata": {},
   "outputs": [],
   "source": [
    "import pandas as pd\n",
    "import numpy as np\n",
    "from sklearn.model_selection import train_test_split\n",
    "from sklearn.neighbors import NearestNeighbors\n",
    "from scipy.sparse import csr_matrix"
   ]
  },
  {
   "cell_type": "code",
   "execution_count": 17,
   "id": "b33b11e9-8375-4116-9f17-924cf7fd7d82",
   "metadata": {},
   "outputs": [],
   "source": [
    "# Load dataset\n",
    "df = pd.read_csv(\"Revised_Codes/Final Codes/Baseline Recommendation model/Direct/User-Based/Augmented_Stockist_Dat.csv\")\n",
    "\n",
    "# # # One-hot encoding for Geography and Stockist_Type\n",
    "# df = pd.get_dummies(df, columns=[\"Geography\", \"Stockist_Type\"], dtype=int)\n",
    " \n",
    "# # Identify geography and stockist type columns\n",
    "# geo_columns = [col for col in df.columns if col.startswith(\"Geography\")]\n",
    "# stockist_columns = [col for col in df.columns if col.startswith(\"Stockist_Type\")]\n",
    " \n",
    "# if not geo_columns or not stockist_columns:\n",
    "#     raise ValueError(\"No Geography or Stockist_Type features found after encoding! Check encoding step.\")\n",
    " \n",
    "# # Ensure Sales_Value_Last_Period does not contain zeros to avoid log(0)\n",
    "# df[\"Sales_Value_Last_Period\"] = df[\"Sales_Value_Last_Period\"].replace(0, 1)\n",
    " \n",
    "# Compute Engagement Score = log(Sales Value) * (Feedback + Growth %)\n",
    "df[\"Engagement_Score\"] = np.log1p(df[\"Sales_Value_Last_Period\"]) * (\n",
    "    df[\"Feedback_Score\"] + df[\"Growth_Percentage\"]\n",
    ")"
   ]
  },
  {
   "cell_type": "code",
   "execution_count": 18,
   "id": "488b27ce-32e1-4ff0-b351-16ce03d8341f",
   "metadata": {},
   "outputs": [],
   "source": [
    "# Train-Test Split\n",
    "train_df, test_df = train_test_split(df, test_size=0.2, random_state=42, stratify=df[\"Partner_id\"])\n",
    "\n",
    "# # Pivot User-Scheme Matrix using Engagement Score\n",
    "# user_scheme_matrix = train_df.pivot_table(\n",
    "#     index=\"Partner_id\", columns=\"Scheme_Type\", values=\"Engagement_Score\", aggfunc=\"sum\", fill_value=0\n",
    "# )\n",
    "\n",
    "# Pivot User-Scheme Matrix using Engagement Score\n",
    "user_scheme_matrix = train_df.pivot_table(\n",
    "    index=\"Partner_id\", columns=\"Scheme_Type\", values=\"Engagement_Score\", aggfunc=\"mean\", fill_value=0\n",
    ")\n",
    "train_df.to_csv(\"train_data.csv\", index=False)\n",
    "test_df.to_csv(\"test_data.csv\", index=False)\n"
   ]
  },
  {
   "cell_type": "code",
   "execution_count": 19,
   "id": "1979a3f1-481d-4b2e-98c3-10dc079b105a",
   "metadata": {},
   "outputs": [
    {
     "data": {
      "text/html": [
       "<div>\n",
       "<style scoped>\n",
       "    .dataframe tbody tr th:only-of-type {\n",
       "        vertical-align: middle;\n",
       "    }\n",
       "\n",
       "    .dataframe tbody tr th {\n",
       "        vertical-align: top;\n",
       "    }\n",
       "\n",
       "    .dataframe thead th {\n",
       "        text-align: right;\n",
       "    }\n",
       "</style>\n",
       "<table border=\"1\" class=\"dataframe\">\n",
       "  <thead>\n",
       "    <tr style=\"text-align: right;\">\n",
       "      <th>Scheme_Type</th>\n",
       "      <th>Cashback</th>\n",
       "      <th>Loyalty Points</th>\n",
       "      <th>Loyalty Program</th>\n",
       "      <th>Seasonal Offer</th>\n",
       "      <th>Volume Discount</th>\n",
       "    </tr>\n",
       "    <tr>\n",
       "      <th>Partner_id</th>\n",
       "      <th></th>\n",
       "      <th></th>\n",
       "      <th></th>\n",
       "      <th></th>\n",
       "      <th></th>\n",
       "    </tr>\n",
       "  </thead>\n",
       "  <tbody>\n",
       "    <tr>\n",
       "      <th>P1000</th>\n",
       "      <td>266.287178</td>\n",
       "      <td>0.000000</td>\n",
       "      <td>247.152747</td>\n",
       "      <td>278.503879</td>\n",
       "      <td>192.614103</td>\n",
       "    </tr>\n",
       "    <tr>\n",
       "      <th>P1001</th>\n",
       "      <td>253.747512</td>\n",
       "      <td>256.848606</td>\n",
       "      <td>191.607857</td>\n",
       "      <td>252.361077</td>\n",
       "      <td>250.167273</td>\n",
       "    </tr>\n",
       "    <tr>\n",
       "      <th>P1002</th>\n",
       "      <td>248.175090</td>\n",
       "      <td>259.416539</td>\n",
       "      <td>190.738863</td>\n",
       "      <td>255.106867</td>\n",
       "      <td>253.578719</td>\n",
       "    </tr>\n",
       "    <tr>\n",
       "      <th>P1003</th>\n",
       "      <td>260.397812</td>\n",
       "      <td>230.108507</td>\n",
       "      <td>235.007932</td>\n",
       "      <td>239.021409</td>\n",
       "      <td>254.668759</td>\n",
       "    </tr>\n",
       "    <tr>\n",
       "      <th>P1004</th>\n",
       "      <td>202.757154</td>\n",
       "      <td>0.000000</td>\n",
       "      <td>257.549599</td>\n",
       "      <td>241.846588</td>\n",
       "      <td>242.296454</td>\n",
       "    </tr>\n",
       "    <tr>\n",
       "      <th>...</th>\n",
       "      <td>...</td>\n",
       "      <td>...</td>\n",
       "      <td>...</td>\n",
       "      <td>...</td>\n",
       "      <td>...</td>\n",
       "    </tr>\n",
       "    <tr>\n",
       "      <th>P1096</th>\n",
       "      <td>205.518858</td>\n",
       "      <td>0.000000</td>\n",
       "      <td>211.622811</td>\n",
       "      <td>341.724454</td>\n",
       "      <td>212.675405</td>\n",
       "    </tr>\n",
       "    <tr>\n",
       "      <th>P1097</th>\n",
       "      <td>221.052802</td>\n",
       "      <td>0.000000</td>\n",
       "      <td>299.626569</td>\n",
       "      <td>187.602793</td>\n",
       "      <td>277.689874</td>\n",
       "    </tr>\n",
       "    <tr>\n",
       "      <th>P1098</th>\n",
       "      <td>252.359124</td>\n",
       "      <td>0.000000</td>\n",
       "      <td>273.677549</td>\n",
       "      <td>364.697174</td>\n",
       "      <td>258.467401</td>\n",
       "    </tr>\n",
       "    <tr>\n",
       "      <th>P1099</th>\n",
       "      <td>310.929162</td>\n",
       "      <td>0.000000</td>\n",
       "      <td>235.842222</td>\n",
       "      <td>264.669109</td>\n",
       "      <td>350.700260</td>\n",
       "    </tr>\n",
       "    <tr>\n",
       "      <th>P1100</th>\n",
       "      <td>208.865403</td>\n",
       "      <td>0.000000</td>\n",
       "      <td>267.378489</td>\n",
       "      <td>244.345070</td>\n",
       "      <td>191.015102</td>\n",
       "    </tr>\n",
       "  </tbody>\n",
       "</table>\n",
       "<p>101 rows × 5 columns</p>\n",
       "</div>"
      ],
      "text/plain": [
       "Scheme_Type    Cashback  Loyalty Points  Loyalty Program  Seasonal Offer  \\\n",
       "Partner_id                                                                 \n",
       "P1000        266.287178        0.000000       247.152747      278.503879   \n",
       "P1001        253.747512      256.848606       191.607857      252.361077   \n",
       "P1002        248.175090      259.416539       190.738863      255.106867   \n",
       "P1003        260.397812      230.108507       235.007932      239.021409   \n",
       "P1004        202.757154        0.000000       257.549599      241.846588   \n",
       "...                 ...             ...              ...             ...   \n",
       "P1096        205.518858        0.000000       211.622811      341.724454   \n",
       "P1097        221.052802        0.000000       299.626569      187.602793   \n",
       "P1098        252.359124        0.000000       273.677549      364.697174   \n",
       "P1099        310.929162        0.000000       235.842222      264.669109   \n",
       "P1100        208.865403        0.000000       267.378489      244.345070   \n",
       "\n",
       "Scheme_Type  Volume Discount  \n",
       "Partner_id                    \n",
       "P1000             192.614103  \n",
       "P1001             250.167273  \n",
       "P1002             253.578719  \n",
       "P1003             254.668759  \n",
       "P1004             242.296454  \n",
       "...                      ...  \n",
       "P1096             212.675405  \n",
       "P1097             277.689874  \n",
       "P1098             258.467401  \n",
       "P1099             350.700260  \n",
       "P1100             191.015102  \n",
       "\n",
       "[101 rows x 5 columns]"
      ]
     },
     "execution_count": 19,
     "metadata": {},
     "output_type": "execute_result"
    }
   ],
   "source": [
    "user_scheme_matrix"
   ]
  },
  {
   "cell_type": "code",
   "execution_count": 20,
   "id": "795e77f1-11fc-4587-85a8-9613b1c4ebf9",
   "metadata": {},
   "outputs": [],
   "source": [
    "# # Add Geography & Stockist_Type Features\n",
    "# user_features = train_df.groupby(\"Partner_id\")[geo_columns + stockist_columns].mean()  # Aggregate features per Partner_id\n",
    "# user_scheme_matrix = user_scheme_matrix.merge(user_features, left_index=True, right_index=True, how=\"left\")"
   ]
  },
  {
   "cell_type": "code",
   "execution_count": 21,
   "id": "f87cadec-1bfa-4291-8dc0-dc5ddf5dbfdd",
   "metadata": {},
   "outputs": [],
   "source": [
    "# Prepare sparse matrix\n",
    "user_scheme_sparse = csr_matrix(user_scheme_matrix.values)\n",
    "partner_id_lookup = list(user_scheme_matrix.index)"
   ]
  },
  {
   "cell_type": "code",
   "execution_count": 22,
   "id": "6f4f48c0-f320-4e34-9dcf-b4b48ac53d52",
   "metadata": {},
   "outputs": [
    {
     "data": {
      "text/html": [
       "<style>#sk-container-id-2 {color: black;}#sk-container-id-2 pre{padding: 0;}#sk-container-id-2 div.sk-toggleable {background-color: white;}#sk-container-id-2 label.sk-toggleable__label {cursor: pointer;display: block;width: 100%;margin-bottom: 0;padding: 0.3em;box-sizing: border-box;text-align: center;}#sk-container-id-2 label.sk-toggleable__label-arrow:before {content: \"▸\";float: left;margin-right: 0.25em;color: #696969;}#sk-container-id-2 label.sk-toggleable__label-arrow:hover:before {color: black;}#sk-container-id-2 div.sk-estimator:hover label.sk-toggleable__label-arrow:before {color: black;}#sk-container-id-2 div.sk-toggleable__content {max-height: 0;max-width: 0;overflow: hidden;text-align: left;background-color: #f0f8ff;}#sk-container-id-2 div.sk-toggleable__content pre {margin: 0.2em;color: black;border-radius: 0.25em;background-color: #f0f8ff;}#sk-container-id-2 input.sk-toggleable__control:checked~div.sk-toggleable__content {max-height: 200px;max-width: 100%;overflow: auto;}#sk-container-id-2 input.sk-toggleable__control:checked~label.sk-toggleable__label-arrow:before {content: \"▾\";}#sk-container-id-2 div.sk-estimator input.sk-toggleable__control:checked~label.sk-toggleable__label {background-color: #d4ebff;}#sk-container-id-2 div.sk-label input.sk-toggleable__control:checked~label.sk-toggleable__label {background-color: #d4ebff;}#sk-container-id-2 input.sk-hidden--visually {border: 0;clip: rect(1px 1px 1px 1px);clip: rect(1px, 1px, 1px, 1px);height: 1px;margin: -1px;overflow: hidden;padding: 0;position: absolute;width: 1px;}#sk-container-id-2 div.sk-estimator {font-family: monospace;background-color: #f0f8ff;border: 1px dotted black;border-radius: 0.25em;box-sizing: border-box;margin-bottom: 0.5em;}#sk-container-id-2 div.sk-estimator:hover {background-color: #d4ebff;}#sk-container-id-2 div.sk-parallel-item::after {content: \"\";width: 100%;border-bottom: 1px solid gray;flex-grow: 1;}#sk-container-id-2 div.sk-label:hover label.sk-toggleable__label {background-color: #d4ebff;}#sk-container-id-2 div.sk-serial::before {content: \"\";position: absolute;border-left: 1px solid gray;box-sizing: border-box;top: 0;bottom: 0;left: 50%;z-index: 0;}#sk-container-id-2 div.sk-serial {display: flex;flex-direction: column;align-items: center;background-color: white;padding-right: 0.2em;padding-left: 0.2em;position: relative;}#sk-container-id-2 div.sk-item {position: relative;z-index: 1;}#sk-container-id-2 div.sk-parallel {display: flex;align-items: stretch;justify-content: center;background-color: white;position: relative;}#sk-container-id-2 div.sk-item::before, #sk-container-id-2 div.sk-parallel-item::before {content: \"\";position: absolute;border-left: 1px solid gray;box-sizing: border-box;top: 0;bottom: 0;left: 50%;z-index: -1;}#sk-container-id-2 div.sk-parallel-item {display: flex;flex-direction: column;z-index: 1;position: relative;background-color: white;}#sk-container-id-2 div.sk-parallel-item:first-child::after {align-self: flex-end;width: 50%;}#sk-container-id-2 div.sk-parallel-item:last-child::after {align-self: flex-start;width: 50%;}#sk-container-id-2 div.sk-parallel-item:only-child::after {width: 0;}#sk-container-id-2 div.sk-dashed-wrapped {border: 1px dashed gray;margin: 0 0.4em 0.5em 0.4em;box-sizing: border-box;padding-bottom: 0.4em;background-color: white;}#sk-container-id-2 div.sk-label label {font-family: monospace;font-weight: bold;display: inline-block;line-height: 1.2em;}#sk-container-id-2 div.sk-label-container {text-align: center;}#sk-container-id-2 div.sk-container {/* jupyter's `normalize.less` sets `[hidden] { display: none; }` but bootstrap.min.css set `[hidden] { display: none !important; }` so we also need the `!important` here to be able to override the default hidden behavior on the sphinx rendered scikit-learn.org. See: https://github.com/scikit-learn/scikit-learn/issues/21755 */display: inline-block !important;position: relative;}#sk-container-id-2 div.sk-text-repr-fallback {display: none;}</style><div id=\"sk-container-id-2\" class=\"sk-top-container\"><div class=\"sk-text-repr-fallback\"><pre>NearestNeighbors(algorithm=&#x27;brute&#x27;, metric=&#x27;cosine&#x27;)</pre><b>In a Jupyter environment, please rerun this cell to show the HTML representation or trust the notebook. <br />On GitHub, the HTML representation is unable to render, please try loading this page with nbviewer.org.</b></div><div class=\"sk-container\" hidden><div class=\"sk-item\"><div class=\"sk-estimator sk-toggleable\"><input class=\"sk-toggleable__control sk-hidden--visually\" id=\"sk-estimator-id-2\" type=\"checkbox\" checked><label for=\"sk-estimator-id-2\" class=\"sk-toggleable__label sk-toggleable__label-arrow\">NearestNeighbors</label><div class=\"sk-toggleable__content\"><pre>NearestNeighbors(algorithm=&#x27;brute&#x27;, metric=&#x27;cosine&#x27;)</pre></div></div></div></div></div>"
      ],
      "text/plain": [
       "NearestNeighbors(algorithm='brute', metric='cosine')"
      ]
     },
     "execution_count": 22,
     "metadata": {},
     "output_type": "execute_result"
    }
   ],
   "source": [
    "# Fit Nearest Neighbors (Cosine Similarity)\n",
    "'''Brute: model to compute all pairwise distances, it compares the vector to all other vectors in \n",
    "the dataset to find the closest matches.'''\n",
    "knn_model = NearestNeighbors(metric='cosine', algorithm='brute')\n",
    "knn_model.fit(user_scheme_sparse)\n"
   ]
  },
  {
   "cell_type": "code",
   "execution_count": 23,
   "id": "d24e212c-f13f-41ea-8f9d-0179e39653a9",
   "metadata": {},
   "outputs": [],
   "source": [
    "# Recommendation Function\n",
    "'''Uses user-based collaborative filtering via cosine similarity.\n",
    "Finds the most similar user to the target partner.\n",
    "Recommends that user's top 3 most-used schemes.\n",
    "Aims to personalize scheme recommendations based on behavior similarity.'''\n",
    "\n",
    "def recommend_user_based(partner_id, top_n=3):\n",
    "    if partner_id not in user_scheme_matrix.index:\n",
    "        return None\n",
    "\n",
    "    idx = partner_id_lookup.index(partner_id)\n",
    "    distances, indices = knn_model.kneighbors(user_scheme_sparse[idx], n_neighbors=min(top_n + 1, len(user_scheme_matrix)))\n",
    "    similarities = 1 - distances.flatten()\n",
    "    neighbors = indices.flatten()\n",
    "\n",
    "    filtered = [(i, sim) for i, sim in zip(neighbors, similarities) if i != idx]\n",
    "    if not filtered:\n",
    "        return None\n",
    "\n",
    "    top_idx, sim_score = filtered[0]\n",
    "    similar_user = partner_id_lookup[top_idx]\n",
    "    sim_score = round(sim_score, 6)\n",
    "\n",
    "\n",
    "    top_schemes = (\n",
    "        train_df[train_df[\"Partner_id\"] == similar_user][\"Scheme_Type\"]\n",
    "        .value_counts().head(3).index.tolist()\n",
    "    )\n",
    "    while len(top_schemes) < 3:\n",
    "        top_schemes.append(\"No Scheme\")\n",
    "\n",
    "    product = train_df[train_df[\"Partner_id\"] == partner_id][\"Product_id\"].unique()[0]\n",
    "\n",
    "    return [partner_id, product, sim_score, *top_schemes]\n"
   ]
  },
  {
   "cell_type": "code",
   "execution_count": 24,
   "id": "426ce6f3-4e95-4a9c-b998-a028d7093df9",
   "metadata": {},
   "outputs": [
    {
     "name": "stdout",
     "output_type": "stream",
     "text": [
      "User-Based Recommendations saved.\n"
     ]
    }
   ],
   "source": [
    "# Generate Recommendations\n",
    "user_partners = test_df[\"Partner_id\"].unique()\n",
    "user_recommendations = [recommend_user_based(pid) for pid in user_partners if recommend_user_based(pid)]\n",
    "\n",
    "# Save Output\n",
    "user_rec_df = pd.DataFrame(user_recommendations, columns=[\"Partner_id\", \"Product_id\", \"Similarity_Score\", \"Scheme_1\", \"Scheme_2\", \"Scheme_3\"])\n",
    "user_rec_df.to_csv(\"user_based_recommendations_enhanced.csv\", index=False)\n",
    "\n",
    "print(\"User-Based Recommendations saved.\")\n"
   ]
  },
  {
   "cell_type": "code",
   "execution_count": null,
   "id": "64fc3233-4665-4a6f-9d65-d411e4274de4",
   "metadata": {},
   "outputs": [],
   "source": []
  },
  {
   "cell_type": "markdown",
   "id": "88fd6057-569c-48c5-a639-484ab470b581",
   "metadata": {},
   "source": [
    "Evaluation code"
   ]
  },
  {
   "cell_type": "code",
   "execution_count": 25,
   "id": "1e6aad42-54ff-4031-90c1-52436ed4a403",
   "metadata": {},
   "outputs": [],
   "source": [
    "# Import required library\n",
    "import pandas as pd"
   ]
  },
  {
   "cell_type": "code",
   "execution_count": 26,
   "id": "76d2182d-c0ee-43d5-a33a-ed4050ebe5db",
   "metadata": {},
   "outputs": [],
   "source": [
    "# Load the test data (long format — one row per availed scheme per partner)\n",
    "test_df = pd.read_csv(\"test_data.csv\")\n",
    "\n",
    "# Load the recommendation data (top 3 recommended schemes per partner)\n",
    "rec_df = pd.read_csv(\"user_based_recommendations_enhanced.csv\")\n"
   ]
  },
  {
   "cell_type": "code",
   "execution_count": 27,
   "id": "761c88d6-7293-49e6-a1e9-e5d07b2b3aac",
   "metadata": {},
   "outputs": [],
   "source": [
    "# Group by Partner_id to get list of all availed schemes\n",
    "availed_df = (\n",
    "    test_df.groupby(\"Partner_id\")[\"Scheme_Type\"]\n",
    "    .apply(list)\n",
    "    .reset_index()\n",
    "    .rename(columns={\"Scheme_Type\": \"Availed_Schemes\"})\n",
    ")"
   ]
  },
  {
   "cell_type": "code",
   "execution_count": 28,
   "id": "3f756d65-b6de-45c8-89ad-beb563474227",
   "metadata": {},
   "outputs": [],
   "source": [
    "# Combine Scheme_1, Scheme_2, Scheme_3 into a single list column\n",
    "rec_df[\"Recommended_Schemes\"] = rec_df[[\"Scheme_1\", \"Scheme_2\", \"Scheme_3\"]].values.tolist()\n"
   ]
  },
  {
   "cell_type": "code",
   "execution_count": 29,
   "id": "74c8d1a8-400b-4540-b877-8f22d52465c5",
   "metadata": {},
   "outputs": [],
   "source": [
    "# Merge availed and recommended schemes using Partner_id\n",
    "df_all = pd.merge(\n",
    "    availed_df,\n",
    "    rec_df[[\"Partner_id\", \"Recommended_Schemes\"]],\n",
    "    on=\"Partner_id\",\n",
    "    how=\"left\"\n",
    ")\n",
    "\n",
    "# Ensure both lists are properly formatted\n",
    "df_all[\"Availed_Schemes\"] = df_all[\"Availed_Schemes\"].apply(lambda x: x if isinstance(x, list) else [])\n",
    "df_all[\"Recommended_Schemes\"] = df_all[\"Recommended_Schemes\"].apply(lambda x: x if isinstance(x, list) else [])\n"
   ]
  },
  {
   "cell_type": "code",
   "execution_count": 30,
   "id": "d00138f3-6d6d-4401-8848-9cb69ec8cec5",
   "metadata": {},
   "outputs": [],
   "source": [
    "# Initialize variables\n",
    "k_list = [1, 2, 3]\n",
    "results = []\n",
    "\n",
    "# Evaluate precision, recall, F1 for each Top-K level\n",
    "for k in k_list:\n",
    "    precision_list = []\n",
    "    recall_list = []\n",
    "\n",
    "    for _, row in df_all.iterrows():\n",
    "        actual_set = set(row[\"Availed_Schemes\"])\n",
    "        recommended_k = row[\"Recommended_Schemes\"][:k]  # Top-K recommendations\n",
    "\n",
    "        if not actual_set:\n",
    "            continue  # skip if no availed schemes\n",
    "\n",
    "        # Count correct predictions in Top-K\n",
    "        tp = sum([1 for scheme in recommended_k if scheme in actual_set])\n",
    "        precision = tp / k\n",
    "        recall = tp / len(actual_set)\n",
    "        \n",
    "        precision_list.append(precision)\n",
    "        recall_list.append(recall)\n",
    "\n",
    "    # Average the metrics across all partners\n",
    "    avg_precision = round(sum(precision_list) / len(precision_list), 4) if precision_list else 0\n",
    "    avg_recall = round(sum(recall_list) / len(recall_list), 4) if recall_list else 0\n",
    "    f1 = round(2 * avg_precision * avg_recall / (avg_precision + avg_recall), 4) if (avg_precision + avg_recall) else 0\n",
    "\n",
    "    results.append({\n",
    "        \"Top-K\": k,\n",
    "        \"Avg Precision\": avg_precision,\n",
    "        \"Avg Recall\": avg_recall,\n",
    "        \"Avg F1 Score\": f1\n",
    "    })\n"
   ]
  },
  {
   "cell_type": "code",
   "execution_count": 31,
   "id": "92aee72c-2b51-4bf4-9f01-a9c58578a511",
   "metadata": {},
   "outputs": [
    {
     "name": "stdout",
     "output_type": "stream",
     "text": [
      "==== Per-Scheme Evaluation (WITH Availed Schemes) ====\n",
      "\n",
      "Top-1\n",
      "  Avg Precision : 0.9901\n",
      "  Avg Recall    : 0.2485\n",
      "  Avg F1 Score  : 0.3973\n",
      "\n",
      "Top-2\n",
      "  Avg Precision : 0.9851\n",
      "  Avg Recall    : 0.4937\n",
      "  Avg F1 Score  : 0.6578\n",
      "\n",
      "Top-3\n",
      "  Avg Precision : 0.9901\n",
      "  Avg Recall    : 0.7455\n",
      "  Avg F1 Score  : 0.8506\n"
     ]
    }
   ],
   "source": [
    "# Print Top-K per-scheme evaluation metrics\n",
    "print(\"==== Per-Scheme Evaluation (WITH Availed Schemes) ====\")\n",
    "for r in results:\n",
    "    print(f\"\\nTop-{r['Top-K']}\")\n",
    "    print(f\"  Avg Precision : {r['Avg Precision']}\")\n",
    "    print(f\"  Avg Recall    : {r['Avg Recall']}\")\n",
    "    print(f\"  Avg F1 Score  : {r['Avg F1 Score']}\")\n"
   ]
  },
  {
   "cell_type": "code",
   "execution_count": null,
   "id": "12bbe51b-fe98-4408-b5b8-ad1576be3dab",
   "metadata": {},
   "outputs": [],
   "source": []
  },
  {
   "cell_type": "code",
   "execution_count": null,
   "id": "cbbe00ca-cdad-4f21-9b26-e304cbb111c4",
   "metadata": {},
   "outputs": [],
   "source": []
  }
 ],
 "metadata": {
  "kernelspec": {
   "display_name": "anaconda-2024.02-py310",
   "language": "python",
   "name": "conda-env-anaconda-2024.02-py310-py"
  },
  "language_info": {
   "codemirror_mode": {
    "name": "ipython",
    "version": 3
   },
   "file_extension": ".py",
   "mimetype": "text/x-python",
   "name": "python",
   "nbconvert_exporter": "python",
   "pygments_lexer": "ipython3",
   "version": "3.10.14"
  }
 },
 "nbformat": 4,
 "nbformat_minor": 5
}
