{
 "cells": [
  {
   "cell_type": "code",
   "execution_count": 26,
   "id": "c230f14b-be3c-47f4-9c80-09ae706bb7ef",
   "metadata": {},
   "outputs": [],
   "source": [
    "import pandas as pd\n",
    "import numpy as np\n",
    "from sklearn.model_selection import train_test_split\n",
    "from sklearn.neighbors import NearestNeighbors\n",
    "from scipy.sparse import csr_matrix"
   ]
  },
  {
   "cell_type": "code",
   "execution_count": 27,
   "id": "b33b11e9-8375-4116-9f17-924cf7fd7d82",
   "metadata": {},
   "outputs": [],
   "source": [
    "# Load dataset\n",
    "df = pd.read_csv(\"Augmented_Stockist_Data.csv\")\n",
    "\n",
    "# # # One-hot encoding for Geography and Stockist_Type\n",
    "# df = pd.get_dummies(df, columns=[\"Geography\", \"Stockist_Type\"], dtype=int)\n",
    " \n",
    "# # Identify geography and stockist type columns\n",
    "# geo_columns = [col for col in df.columns if col.startswith(\"Geography\")]\n",
    "# stockist_columns = [col for col in df.columns if col.startswith(\"Stockist_Type\")]\n",
    " \n",
    "# if not geo_columns or not stockist_columns:\n",
    "#     raise ValueError(\"No Geography or Stockist_Type features found after encoding! Check encoding step.\")\n",
    " \n",
    "# # Ensure Sales_Value_Last_Period does not contain zeros to avoid log(0)\n",
    "# df[\"Sales_Value_Last_Period\"] = df[\"Sales_Value_Last_Period\"].replace(0, 1)\n",
    " \n",
    "# Compute Engagement Score = log(Sales Value) * (Feedback + Growth %)\n",
    "df[\"Engagement_Score\"] = np.log1p(df[\"Sales_Value_Last_Period\"]) * (\n",
    "    df[\"Feedback_Score\"] + df[\"Growth_Percentage\"]\n",
    ")"
   ]
  },
  {
   "cell_type": "code",
   "execution_count": 28,
   "id": "488b27ce-32e1-4ff0-b351-16ce03d8341f",
   "metadata": {},
   "outputs": [],
   "source": [
    "# Train-Test Split\n",
    "train_df, test_df = train_test_split(df, test_size=0.2, random_state=42, stratify=df[\"Partner_id\"])\n",
    "\n",
    "# Pivot User-Scheme Matrix using Engagement Score\n",
    "user_scheme_matrix = train_df.pivot_table(\n",
    "    index=\"Partner_id\", columns=\"Scheme_Type\", values=\"Engagement_Score\", aggfunc=\"sum\", fill_value=0\n",
    ")"
   ]
  },
  {
   "cell_type": "code",
   "execution_count": 29,
   "id": "1979a3f1-481d-4b2e-98c3-10dc079b105a",
   "metadata": {},
   "outputs": [
    {
     "data": {
      "text/html": [
       "<div>\n",
       "<style scoped>\n",
       "    .dataframe tbody tr th:only-of-type {\n",
       "        vertical-align: middle;\n",
       "    }\n",
       "\n",
       "    .dataframe tbody tr th {\n",
       "        vertical-align: top;\n",
       "    }\n",
       "\n",
       "    .dataframe thead th {\n",
       "        text-align: right;\n",
       "    }\n",
       "</style>\n",
       "<table border=\"1\" class=\"dataframe\">\n",
       "  <thead>\n",
       "    <tr style=\"text-align: right;\">\n",
       "      <th>Scheme_Type</th>\n",
       "      <th>Cashback</th>\n",
       "      <th>Loyalty Points</th>\n",
       "      <th>Loyalty Program</th>\n",
       "      <th>Seasonal Offer</th>\n",
       "      <th>Volume Discount</th>\n",
       "    </tr>\n",
       "    <tr>\n",
       "      <th>Partner_id</th>\n",
       "      <th></th>\n",
       "      <th></th>\n",
       "      <th></th>\n",
       "      <th></th>\n",
       "      <th></th>\n",
       "    </tr>\n",
       "  </thead>\n",
       "  <tbody>\n",
       "    <tr>\n",
       "      <th>P1000</th>\n",
       "      <td>5624.652065</td>\n",
       "      <td>0.000000</td>\n",
       "      <td>6857.821061</td>\n",
       "      <td>8615.187048</td>\n",
       "      <td>4440.781870</td>\n",
       "    </tr>\n",
       "    <tr>\n",
       "      <th>P1001</th>\n",
       "      <td>191673.209996</td>\n",
       "      <td>201711.343636</td>\n",
       "      <td>5182.589408</td>\n",
       "      <td>192524.020053</td>\n",
       "      <td>193165.701180</td>\n",
       "    </tr>\n",
       "    <tr>\n",
       "      <th>P1002</th>\n",
       "      <td>185441.004775</td>\n",
       "      <td>183507.850525</td>\n",
       "      <td>4452.983595</td>\n",
       "      <td>203583.767774</td>\n",
       "      <td>197049.448445</td>\n",
       "    </tr>\n",
       "    <tr>\n",
       "      <th>P1003</th>\n",
       "      <td>209294.199655</td>\n",
       "      <td>173065.259729</td>\n",
       "      <td>5000.926922</td>\n",
       "      <td>190653.339327</td>\n",
       "      <td>186162.472231</td>\n",
       "    </tr>\n",
       "    <tr>\n",
       "      <th>P1004</th>\n",
       "      <td>4570.956423</td>\n",
       "      <td>0.000000</td>\n",
       "      <td>5979.091852</td>\n",
       "      <td>5198.097533</td>\n",
       "      <td>4903.365058</td>\n",
       "    </tr>\n",
       "    <tr>\n",
       "      <th>...</th>\n",
       "      <td>...</td>\n",
       "      <td>...</td>\n",
       "      <td>...</td>\n",
       "      <td>...</td>\n",
       "      <td>...</td>\n",
       "    </tr>\n",
       "    <tr>\n",
       "      <th>P1096</th>\n",
       "      <td>5280.864743</td>\n",
       "      <td>0.000000</td>\n",
       "      <td>6121.352940</td>\n",
       "      <td>6058.569649</td>\n",
       "      <td>4813.450923</td>\n",
       "    </tr>\n",
       "    <tr>\n",
       "      <th>P1097</th>\n",
       "      <td>6877.834282</td>\n",
       "      <td>0.000000</td>\n",
       "      <td>4881.891004</td>\n",
       "      <td>3522.923646</td>\n",
       "      <td>4954.247191</td>\n",
       "    </tr>\n",
       "    <tr>\n",
       "      <th>P1098</th>\n",
       "      <td>4476.946134</td>\n",
       "      <td>0.000000</td>\n",
       "      <td>6338.079130</td>\n",
       "      <td>9602.286576</td>\n",
       "      <td>7376.727396</td>\n",
       "    </tr>\n",
       "    <tr>\n",
       "      <th>P1099</th>\n",
       "      <td>8850.801109</td>\n",
       "      <td>0.000000</td>\n",
       "      <td>5528.362456</td>\n",
       "      <td>4234.029931</td>\n",
       "      <td>7028.747390</td>\n",
       "    </tr>\n",
       "    <tr>\n",
       "      <th>P1100</th>\n",
       "      <td>5883.130971</td>\n",
       "      <td>0.000000</td>\n",
       "      <td>6673.449406</td>\n",
       "      <td>5492.286079</td>\n",
       "      <td>3637.730052</td>\n",
       "    </tr>\n",
       "  </tbody>\n",
       "</table>\n",
       "<p>101 rows × 5 columns</p>\n",
       "</div>"
      ],
      "text/plain": [
       "Scheme_Type       Cashback  Loyalty Points  Loyalty Program  Seasonal Offer  \\\n",
       "Partner_id                                                                    \n",
       "P1000          5624.652065        0.000000      6857.821061     8615.187048   \n",
       "P1001        191673.209996   201711.343636      5182.589408   192524.020053   \n",
       "P1002        185441.004775   183507.850525      4452.983595   203583.767774   \n",
       "P1003        209294.199655   173065.259729      5000.926922   190653.339327   \n",
       "P1004          4570.956423        0.000000      5979.091852     5198.097533   \n",
       "...                    ...             ...              ...             ...   \n",
       "P1096          5280.864743        0.000000      6121.352940     6058.569649   \n",
       "P1097          6877.834282        0.000000      4881.891004     3522.923646   \n",
       "P1098          4476.946134        0.000000      6338.079130     9602.286576   \n",
       "P1099          8850.801109        0.000000      5528.362456     4234.029931   \n",
       "P1100          5883.130971        0.000000      6673.449406     5492.286079   \n",
       "\n",
       "Scheme_Type  Volume Discount  \n",
       "Partner_id                    \n",
       "P1000            4440.781870  \n",
       "P1001          193165.701180  \n",
       "P1002          197049.448445  \n",
       "P1003          186162.472231  \n",
       "P1004            4903.365058  \n",
       "...                      ...  \n",
       "P1096            4813.450923  \n",
       "P1097            4954.247191  \n",
       "P1098            7376.727396  \n",
       "P1099            7028.747390  \n",
       "P1100            3637.730052  \n",
       "\n",
       "[101 rows x 5 columns]"
      ]
     },
     "execution_count": 29,
     "metadata": {},
     "output_type": "execute_result"
    }
   ],
   "source": [
    "user_scheme_matrix"
   ]
  },
  {
   "cell_type": "code",
   "execution_count": 30,
   "id": "795e77f1-11fc-4587-85a8-9613b1c4ebf9",
   "metadata": {},
   "outputs": [],
   "source": [
    "# # Add Geography & Stockist_Type Features\n",
    "# user_features = train_df.groupby(\"Partner_id\")[geo_columns + stockist_columns].mean()  # Aggregate features per Partner_id\n",
    "# user_scheme_matrix = user_scheme_matrix.merge(user_features, left_index=True, right_index=True, how=\"left\")"
   ]
  },
  {
   "cell_type": "code",
   "execution_count": 31,
   "id": "f87cadec-1bfa-4291-8dc0-dc5ddf5dbfdd",
   "metadata": {},
   "outputs": [],
   "source": [
    "# Prepare sparse matrix\n",
    "user_scheme_sparse = csr_matrix(user_scheme_matrix.values)\n",
    "partner_id_lookup = list(user_scheme_matrix.index)"
   ]
  },
  {
   "cell_type": "code",
   "execution_count": 32,
   "id": "6f4f48c0-f320-4e34-9dcf-b4b48ac53d52",
   "metadata": {},
   "outputs": [
    {
     "data": {
      "text/html": [
       "<style>#sk-container-id-4 {color: black;}#sk-container-id-4 pre{padding: 0;}#sk-container-id-4 div.sk-toggleable {background-color: white;}#sk-container-id-4 label.sk-toggleable__label {cursor: pointer;display: block;width: 100%;margin-bottom: 0;padding: 0.3em;box-sizing: border-box;text-align: center;}#sk-container-id-4 label.sk-toggleable__label-arrow:before {content: \"▸\";float: left;margin-right: 0.25em;color: #696969;}#sk-container-id-4 label.sk-toggleable__label-arrow:hover:before {color: black;}#sk-container-id-4 div.sk-estimator:hover label.sk-toggleable__label-arrow:before {color: black;}#sk-container-id-4 div.sk-toggleable__content {max-height: 0;max-width: 0;overflow: hidden;text-align: left;background-color: #f0f8ff;}#sk-container-id-4 div.sk-toggleable__content pre {margin: 0.2em;color: black;border-radius: 0.25em;background-color: #f0f8ff;}#sk-container-id-4 input.sk-toggleable__control:checked~div.sk-toggleable__content {max-height: 200px;max-width: 100%;overflow: auto;}#sk-container-id-4 input.sk-toggleable__control:checked~label.sk-toggleable__label-arrow:before {content: \"▾\";}#sk-container-id-4 div.sk-estimator input.sk-toggleable__control:checked~label.sk-toggleable__label {background-color: #d4ebff;}#sk-container-id-4 div.sk-label input.sk-toggleable__control:checked~label.sk-toggleable__label {background-color: #d4ebff;}#sk-container-id-4 input.sk-hidden--visually {border: 0;clip: rect(1px 1px 1px 1px);clip: rect(1px, 1px, 1px, 1px);height: 1px;margin: -1px;overflow: hidden;padding: 0;position: absolute;width: 1px;}#sk-container-id-4 div.sk-estimator {font-family: monospace;background-color: #f0f8ff;border: 1px dotted black;border-radius: 0.25em;box-sizing: border-box;margin-bottom: 0.5em;}#sk-container-id-4 div.sk-estimator:hover {background-color: #d4ebff;}#sk-container-id-4 div.sk-parallel-item::after {content: \"\";width: 100%;border-bottom: 1px solid gray;flex-grow: 1;}#sk-container-id-4 div.sk-label:hover label.sk-toggleable__label {background-color: #d4ebff;}#sk-container-id-4 div.sk-serial::before {content: \"\";position: absolute;border-left: 1px solid gray;box-sizing: border-box;top: 0;bottom: 0;left: 50%;z-index: 0;}#sk-container-id-4 div.sk-serial {display: flex;flex-direction: column;align-items: center;background-color: white;padding-right: 0.2em;padding-left: 0.2em;position: relative;}#sk-container-id-4 div.sk-item {position: relative;z-index: 1;}#sk-container-id-4 div.sk-parallel {display: flex;align-items: stretch;justify-content: center;background-color: white;position: relative;}#sk-container-id-4 div.sk-item::before, #sk-container-id-4 div.sk-parallel-item::before {content: \"\";position: absolute;border-left: 1px solid gray;box-sizing: border-box;top: 0;bottom: 0;left: 50%;z-index: -1;}#sk-container-id-4 div.sk-parallel-item {display: flex;flex-direction: column;z-index: 1;position: relative;background-color: white;}#sk-container-id-4 div.sk-parallel-item:first-child::after {align-self: flex-end;width: 50%;}#sk-container-id-4 div.sk-parallel-item:last-child::after {align-self: flex-start;width: 50%;}#sk-container-id-4 div.sk-parallel-item:only-child::after {width: 0;}#sk-container-id-4 div.sk-dashed-wrapped {border: 1px dashed gray;margin: 0 0.4em 0.5em 0.4em;box-sizing: border-box;padding-bottom: 0.4em;background-color: white;}#sk-container-id-4 div.sk-label label {font-family: monospace;font-weight: bold;display: inline-block;line-height: 1.2em;}#sk-container-id-4 div.sk-label-container {text-align: center;}#sk-container-id-4 div.sk-container {/* jupyter's `normalize.less` sets `[hidden] { display: none; }` but bootstrap.min.css set `[hidden] { display: none !important; }` so we also need the `!important` here to be able to override the default hidden behavior on the sphinx rendered scikit-learn.org. See: https://github.com/scikit-learn/scikit-learn/issues/21755 */display: inline-block !important;position: relative;}#sk-container-id-4 div.sk-text-repr-fallback {display: none;}</style><div id=\"sk-container-id-4\" class=\"sk-top-container\"><div class=\"sk-text-repr-fallback\"><pre>NearestNeighbors(algorithm=&#x27;brute&#x27;, metric=&#x27;cosine&#x27;)</pre><b>In a Jupyter environment, please rerun this cell to show the HTML representation or trust the notebook. <br />On GitHub, the HTML representation is unable to render, please try loading this page with nbviewer.org.</b></div><div class=\"sk-container\" hidden><div class=\"sk-item\"><div class=\"sk-estimator sk-toggleable\"><input class=\"sk-toggleable__control sk-hidden--visually\" id=\"sk-estimator-id-4\" type=\"checkbox\" checked><label for=\"sk-estimator-id-4\" class=\"sk-toggleable__label sk-toggleable__label-arrow\">NearestNeighbors</label><div class=\"sk-toggleable__content\"><pre>NearestNeighbors(algorithm=&#x27;brute&#x27;, metric=&#x27;cosine&#x27;)</pre></div></div></div></div></div>"
      ],
      "text/plain": [
       "NearestNeighbors(algorithm='brute', metric='cosine')"
      ]
     },
     "execution_count": 32,
     "metadata": {},
     "output_type": "execute_result"
    }
   ],
   "source": [
    "# Fit Nearest Neighbors (Cosine Similarity)\n",
    "'''Brute: model to compute all pairwise distances, it compares the vector to all other vectors in \n",
    "the dataset to find the closest matches.'''\n",
    "knn_model = NearestNeighbors(metric='cosine', algorithm='brute')\n",
    "knn_model.fit(user_scheme_sparse)\n"
   ]
  },
  {
   "cell_type": "code",
   "execution_count": 33,
   "id": "d24e212c-f13f-41ea-8f9d-0179e39653a9",
   "metadata": {},
   "outputs": [],
   "source": [
    "# Recommendation Function\n",
    "'''Uses user-based collaborative filtering via cosine similarity.\n",
    "Finds the most similar user to the target partner.\n",
    "Recommends that user's top 3 most-used schemes.\n",
    "Aims to personalize scheme recommendations based on behavior similarity.'''\n",
    "\n",
    "def recommend_user_based(partner_id, top_n=3):\n",
    "    if partner_id not in user_scheme_matrix.index:\n",
    "        return None\n",
    "\n",
    "    idx = partner_id_lookup.index(partner_id)\n",
    "    distances, indices = knn_model.kneighbors(user_scheme_sparse[idx], n_neighbors=min(top_n + 1, len(user_scheme_matrix)))\n",
    "    similarities = 1 - distances.flatten()\n",
    "    neighbors = indices.flatten()\n",
    "\n",
    "    filtered = [(i, sim) for i, sim in zip(neighbors, similarities) if i != idx]\n",
    "    if not filtered:\n",
    "        return None\n",
    "\n",
    "    top_idx, sim_score = filtered[0]\n",
    "    similar_user = partner_id_lookup[top_idx]\n",
    "    sim_score = round(sim_score, 6)\n",
    "\n",
    "\n",
    "    top_schemes = (\n",
    "        train_df[train_df[\"Partner_id\"] == similar_user][\"Scheme_Type\"]\n",
    "        .value_counts().head(3).index.tolist()\n",
    "    )\n",
    "    while len(top_schemes) < 3:\n",
    "        top_schemes.append(\"No Scheme\")\n",
    "\n",
    "    product = train_df[train_df[\"Partner_id\"] == partner_id][\"Product_id\"].unique()[0]\n",
    "\n",
    "    return [partner_id, product, sim_score, *top_schemes]\n"
   ]
  },
  {
   "cell_type": "code",
   "execution_count": 34,
   "id": "426ce6f3-4e95-4a9c-b998-a028d7093df9",
   "metadata": {},
   "outputs": [
    {
     "name": "stdout",
     "output_type": "stream",
     "text": [
      "User-Based Recommendations saved.\n"
     ]
    }
   ],
   "source": [
    "# Generate Recommendations\n",
    "user_partners = test_df[\"Partner_id\"].unique()\n",
    "user_recommendations = [recommend_user_based(pid) for pid in user_partners if recommend_user_based(pid)]\n",
    "\n",
    "# Save Output\n",
    "user_rec_df = pd.DataFrame(user_recommendations, columns=[\"Partner_id\", \"Product_id\", \"Similarity_Score\", \"Scheme_1\", \"Scheme_2\", \"Scheme_3\"])\n",
    "user_rec_df.to_csv(\"user_based_recommendations_enhanced.csv\", index=False)\n",
    "\n",
    "print(\"User-Based Recommendations saved.\")\n"
   ]
  },
  {
   "cell_type": "code",
   "execution_count": null,
   "id": "64fc3233-4665-4a6f-9d65-d411e4274de4",
   "metadata": {},
   "outputs": [],
   "source": []
  },
  {
   "cell_type": "code",
   "execution_count": null,
   "id": "6555f175-95e8-4039-92e5-7cc4a45aa0dc",
   "metadata": {},
   "outputs": [],
   "source": []
  },
  {
   "cell_type": "code",
   "execution_count": null,
   "id": "1e6aad42-54ff-4031-90c1-52436ed4a403",
   "metadata": {},
   "outputs": [],
   "source": []
  }
 ],
 "metadata": {
  "kernelspec": {
   "display_name": "anaconda-2024.02-py310",
   "language": "python",
   "name": "conda-env-anaconda-2024.02-py310-py"
  },
  "language_info": {
   "codemirror_mode": {
    "name": "ipython",
    "version": 3
   },
   "file_extension": ".py",
   "mimetype": "text/x-python",
   "name": "python",
   "nbconvert_exporter": "python",
   "pygments_lexer": "ipython3",
   "version": "3.10.14"
  }
 },
 "nbformat": 4,
 "nbformat_minor": 5
}
