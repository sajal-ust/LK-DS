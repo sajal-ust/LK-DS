{
 "cells": [
  {
   "cell_type": "code",
   "execution_count": 20,
   "id": "bcf22701-88c1-4b2d-a861-c7d1323e3639",
   "metadata": {},
   "outputs": [],
   "source": [
    "import pandas as pd# Used for working with data in table format (like Excel)\n",
    "from scipy.optimize import linprog# Used to solve optimization problems\n",
    "import numpy as np# Used for working with numbers and arrays\n"
   ]
  },
  {
   "cell_type": "code",
   "execution_count": 21,
   "id": "f4257700-3c79-4963-a27f-0bf189df6a86",
   "metadata": {},
   "outputs": [],
   "source": [
    "# Load dataset\n",
    "# Reads the CSV file and stores the data in a table called 'df'\n",
    "df = pd.read_csv(\"Stockist_Data.csv\")\n"
   ]
  },
  {
   "cell_type": "code",
   "execution_count": 22,
   "id": "857b7e50-213d-41c7-b1c9-e8e88da45ade",
   "metadata": {},
   "outputs": [],
   "source": [
    "# Define metadata columns\n",
    "metadata_cols = ['Partner_id', 'Geography', 'Stockist_Type', 'Scheme_Type', 'Sales_Value_Last_Period', \n",
    "                 'Sales_Quantity_Last_Period', 'MRP', 'Growth_Percentage', 'Discount_Applied', \n",
    "                 'Bulk_Purchase_Tendency', 'New_Stockist', 'Feedback_Score']\n"
   ]
  },
  {
   "cell_type": "code",
   "execution_count": 23,
   "id": "7cba4910-c7e9-4573-a189-101c85e3baec",
   "metadata": {},
   "outputs": [],
   "source": [
    "# Identify product columns (excluding metadata)\n",
    "product_cols = [col for col in df.columns if col not in metadata_cols]\n"
   ]
  },
  {
   "cell_type": "code",
   "execution_count": 24,
   "id": "26e324e7-705d-4d56-9c40-0aad43fba534",
   "metadata": {},
   "outputs": [],
   "source": [
    "# Transform data to have 'Product_id' column\n",
    "# Reshape the data so each row represents a single product for a stockist (partner)\n",
    "# 'metadata_cols' are columns we want to keep as they are (like Partner ID, etc.)\n",
    "# 'product_cols' are the product columns that we want to convert into rows\n",
    "df_melted = df.melt(id_vars=metadata_cols, value_vars=product_cols, \n",
    "                     var_name='Product_id', value_name='Has_Product')\n",
    "# Keep only the rows where the partner actually has the product (Has_Product == 1)\n",
    "# Drop the 'Has_Product' column since we don't need it anymore\n",
    "df_melted = df_melted[df_melted['Has_Product'] == 1].drop(columns=['Has_Product']) # Aggregate sales volume per Partner-Product-Scheme combination\n",
    "# Group the data by Partner ID, Product ID, and Scheme Type\n",
    "# Then, for each group, sum up the sales value and quantity from the last period\n",
    "product_schemes = df_melted.groupby([\"Partner_id\", \"Product_id\", \"Scheme_Type\"]).agg({\n",
    "    \"Sales_Value_Last_Period\": \"sum\",\n",
    "    \"Sales_Quantity_Last_Period\": \"sum\"\n",
    "    # Reset the index to turn the groupby result back into a regular DataFrame\n",
    "}).reset_index()"
   ]
  },
  {
   "cell_type": "code",
   "execution_count": 25,
   "id": "8b95c7ef-445c-43c8-8192-21f47722d414",
   "metadata": {},
   "outputs": [],
   "source": [
    "# Prepare data for optimization\n",
    "optimization_data = product_schemes[[\"Product_id\", \"Scheme_Type\", \"Sales_Value_Last_Period\"]]\n",
    "\n",
    "# Function to perform Linear Programming (LP) optimization for selecting the best schemes for each product\n",
    "def optimize_schemes(product_group):\n",
    "    # Get the list of unique schemes available for the product\n",
    "    schemes = product_group[\"Scheme_Type\"].unique()\n",
    "    num_schemes = len(schemes)# Count how many unique schemes there are\n",
    "\n",
    "    # If there are no schemes, return three empty (None) values\n",
    "    if num_schemes == 0:\n",
    "        return [None, None, None]  # Ensure blank entries\n",
    "\n",
    "    # If there are 3 or fewer schemes, return them directly\n",
    "    # Fill the rest with None to ensure we always return 3 values\n",
    "    if num_schemes <= 3:\n",
    "        return list(schemes) + [None] * (3 - num_schemes)\n",
    "\n",
    "    # If there are more than 3 schemes, apply optimization logic to select the best ones\n",
    "    # Objective: Maximize sales value (we use negative because linprog minimizes by default)\n",
    "    c = -product_group.groupby(\"Scheme_Type\")[\"Sales_Value_Last_Period\"].sum().values\n",
    "    # Bounds: Each scheme can either be selected (1) or not (0), or partially in between\n",
    "    bounds = [(0, 1) for _ in range(num_schemes)]\n",
    "    # Run the linear programming optimization\n",
    "    res = linprog(c, bounds=bounds, method='highs', options={\"disp\": False})\n",
    "    # (Currently) return blank values as the final optimized schemes are not yet extracted\n",
    "    return [None, None, None]\n"
   ]
  },
  {
   "cell_type": "code",
   "execution_count": 26,
   "id": "d8db0373-4a4a-4521-8432-55a60c564b46",
   "metadata": {},
   "outputs": [],
   "source": [
    "# Apply optimization\n",
    "# Apply the optimization function to each product to get the best 3 schemes\n",
    "# This runs the 'optimize_schemes' function for each unique 'Product_id'\n",
    "optimized_schemes = optimization_data.groupby(\"Product_id\").apply(optimize_schemes).reset_index()\n",
    "# Split the list of 3 schemes (returned by the function) into separate columns: Scheme_1, Scheme_2, Scheme_3\n",
    "optimized_schemes[[\"Scheme_1\", \"Scheme_2\", \"Scheme_3\"]] = pd.DataFrame(optimized_schemes[0].tolist(), index=optimized_schemes.index)\n",
    "# Drop the original column that contained the list of schemes (now that we've split it into 3 separate columns)\n",
    "optimized_schemes = optimized_schemes.drop(columns=[0])\n"
   ]
  },
  {
   "cell_type": "code",
   "execution_count": 27,
   "id": "4d8d5f5f-6243-4553-9391-e4ba7faba406",
   "metadata": {},
   "outputs": [],
   "source": [
    "# Group Partner_ids per product\n",
    "partners_per_product = df_melted.groupby(\"Product_id\")[\"Partner_id\"].apply(list).reset_index()\n",
    "\n",
    "# Merge with optimized schemes\n",
    "final_optimized_output = partners_per_product.merge(optimized_schemes, on=\"Product_id\", how=\"left\")\n",
    "final_optimized_output.to_csv(\"Top_Optimized_Schemes_with_LP.csv\", index=False)"
   ]
  },
  {
   "cell_type": "code",
   "execution_count": null,
   "id": "078cf564-ea04-443e-9c35-ea6e81aaa145",
   "metadata": {},
   "outputs": [],
   "source": []
  }
 ],
 "metadata": {
  "kernelspec": {
   "display_name": "anaconda-2024.02-py310",
   "language": "python",
   "name": "conda-env-anaconda-2024.02-py310-py"
  },
  "language_info": {
   "codemirror_mode": {
    "name": "ipython",
    "version": 3
   },
   "file_extension": ".py",
   "mimetype": "text/x-python",
   "name": "python",
   "nbconvert_exporter": "python",
   "pygments_lexer": "ipython3",
   "version": "3.10.14"
  }
 },
 "nbformat": 4,
 "nbformat_minor": 5
}
