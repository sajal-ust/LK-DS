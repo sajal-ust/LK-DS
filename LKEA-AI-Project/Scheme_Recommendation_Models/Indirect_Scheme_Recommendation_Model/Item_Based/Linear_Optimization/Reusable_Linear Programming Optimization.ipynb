{
 "cells": [
  {
   "cell_type": "code",
   "execution_count": 5,
   "id": "6743c6ca-a4d1-4dbc-b720-eac997dc9526",
   "metadata": {},
   "outputs": [],
   "source": [
    "import pandas as pd\n",
    "import numpy as np\n",
    "from scipy.optimize import linprog\n",
    "import logging"
   ]
  },
  {
   "cell_type": "code",
   "execution_count": 6,
   "id": "20344524-45e2-4eaa-bb88-d37b6040c482",
   "metadata": {},
   "outputs": [],
   "source": [
    "# Set up logging\n",
    "logging.basicConfig(level=logging.INFO, format='%(levelname)s - %(message)s')\n",
    "\n",
    "def load_data(filepath):\n",
    "    \"\"\"Loads data from a CSV file.\"\"\"\n",
    "    try:\n",
    "        df = pd.read_csv(filepath)\n",
    "        logging.info(f\"Data loaded successfully from {filepath}. Shape: {df.shape}\")\n",
    "        return df\n",
    "    except Exception as e:\n",
    "        logging.error(f\"Error loading data: {e}\")\n",
    "        raise"
   ]
  },
  {
   "cell_type": "code",
   "execution_count": 7,
   "id": "088e9d78-da72-40c3-8ea1-332be75807eb",
   "metadata": {},
   "outputs": [],
   "source": [
    "def melt_data(df, metadata_cols):\n",
    "    \"\"\"Melts the product columns into rows for optimization.\"\"\"\n",
    "    try:\n",
    "        product_cols = [col for col in df.columns if col not in metadata_cols]\n",
    "        df_melted = df.melt(id_vars=metadata_cols, value_vars=product_cols, \n",
    "                            var_name='Product_id', value_name='Has_Product')\n",
    "        df_melted = df_melted[df_melted['Has_Product'] == 1].drop(columns=['Has_Product'])\n",
    "        logging.info(f\"Data melted successfully. Shape after melting: {df_melted.shape}\")\n",
    "        return df_melted\n",
    "    except Exception as e:\n",
    "        logging.error(f\"Error in melting data: {e}\")\n",
    "        raise"
   ]
  },
  {
   "cell_type": "code",
   "execution_count": 8,
   "id": "ea70b996-87fb-4264-8aa0-fde368576642",
   "metadata": {},
   "outputs": [],
   "source": [
    "def aggregate_sales(df_melted):\n",
    "    \"\"\"Aggregates sales by Partner, Product, and Scheme.\"\"\"\n",
    "    try:\n",
    "        grouped = df_melted.groupby([\"Partner_id\", \"Product_id\", \"Scheme_Type\"]).agg({\n",
    "            \"Sales_Value_Last_Period\": \"sum\",\n",
    "            \"Sales_Quantity_Last_Period\": \"sum\"\n",
    "        }).reset_index()\n",
    "        logging.info(\"Sales aggregation complete.\")\n",
    "        return grouped\n",
    "    except Exception as e:\n",
    "        logging.error(f\"Error aggregating sales: {e}\")\n",
    "        raise"
   ]
  },
  {
   "cell_type": "code",
   "execution_count": 9,
   "id": "bc8900f5-4f23-4a17-8a9f-2d3b27e7a2cf",
   "metadata": {},
   "outputs": [],
   "source": [
    "def optimize_schemes(product_group):\n",
    "    \"\"\"Selects top 3 schemes using Linear Programming for each product.\"\"\"\n",
    "    schemes = product_group[\"Scheme_Type\"].unique()\n",
    "    num_schemes = len(schemes)\n",
    "\n",
    "    if num_schemes == 0:\n",
    "        return [None, None, None]\n",
    "    if num_schemes <= 3:\n",
    "        return list(schemes) + [None] * (3 - num_schemes)\n",
    "\n",
    "    try:\n",
    "        c = -product_group.groupby(\"Scheme_Type\")[\"Sales_Value_Last_Period\"].sum().values\n",
    "        bounds = [(0, 1) for _ in range(num_schemes)]\n",
    "        res = linprog(c, bounds=bounds, method='highs', options={\"disp\": False})\n",
    "        # Currently, we just return empty values until real scheme extraction logic is added\n",
    "        return [None, None, None]\n",
    "    except Exception as e:\n",
    "        logging.warning(f\"Optimization failed for a group: {e}\")\n",
    "        return [None, None, None]"
   ]
  },
  {
   "cell_type": "code",
   "execution_count": 10,
   "id": "e8149c51-0709-45b3-93a9-1dcd47e35839",
   "metadata": {},
   "outputs": [
    {
     "name": "stderr",
     "output_type": "stream",
     "text": [
      "INFO - Data loaded successfully from Stockist_Data.csv. Shape: (1000, 27)\n",
      "INFO - Data melted successfully. Shape after melting: (7643, 13)\n",
      "INFO - Sales aggregation complete.\n",
      "INFO - Starting optimization per product...\n",
      "INFO - Optimization pipeline complete. Output saved to Top_Optimized_Schemes_with_LP.csv\n"
     ]
    }
   ],
   "source": [
    "def run_optimization_pipeline(filepath, output_path):\n",
    "    metadata_cols = [\n",
    "        'Partner_id', 'Geography', 'Stockist_Type', 'Scheme_Type', 'Sales_Value_Last_Period',\n",
    "        'Sales_Quantity_Last_Period', 'MRP', 'Growth_Percentage', 'Discount_Applied',\n",
    "        'Bulk_Purchase_Tendency', 'New_Stockist', 'Feedback_Score'\n",
    "    ]\n",
    "\n",
    "    df = load_data(filepath)\n",
    "    df_melted = melt_data(df, metadata_cols)\n",
    "    product_schemes = aggregate_sales(df_melted)\n",
    "\n",
    "    optimization_data = product_schemes[[\"Product_id\", \"Scheme_Type\", \"Sales_Value_Last_Period\"]]\n",
    "\n",
    "    logging.info(\"Starting optimization per product...\")\n",
    "    optimized_schemes = optimization_data.groupby(\"Product_id\").apply(optimize_schemes).reset_index()\n",
    "    optimized_schemes[[\"Scheme_1\", \"Scheme_2\", \"Scheme_3\"]] = pd.DataFrame(\n",
    "        optimized_schemes[0].tolist(), index=optimized_schemes.index\n",
    "    )\n",
    "    optimized_schemes.drop(columns=[0], inplace=True)\n",
    "\n",
    "    partners_per_product = df_melted.groupby(\"Product_id\")[\"Partner_id\"].apply(list).reset_index()\n",
    "    final_optimized_output = partners_per_product.merge(optimized_schemes, on=\"Product_id\", how=\"left\")\n",
    "\n",
    "    final_optimized_output.to_csv(output_path, index=False)\n",
    "    logging.info(f\"Optimization pipeline complete. Output saved to {output_path}\")\n",
    "\n",
    "# Run the pipeline\n",
    "if __name__ == \"__main__\":\n",
    "    run_optimization_pipeline(\"Stockist_Data.csv\", \"Top_Optimized_Schemes_with_LP.csv\")"
   ]
  },
  {
   "cell_type": "code",
   "execution_count": null,
   "id": "8fc7cdbe-f554-496c-adb9-c64dd2bef02d",
   "metadata": {},
   "outputs": [],
   "source": []
  },
  {
   "cell_type": "code",
   "execution_count": null,
   "id": "dea42626-3b89-4009-be29-19f9d859d7a5",
   "metadata": {},
   "outputs": [],
   "source": []
  }
 ],
 "metadata": {
  "kernelspec": {
   "display_name": "anaconda-2024.02-py310",
   "language": "python",
   "name": "conda-env-anaconda-2024.02-py310-py"
  },
  "language_info": {
   "codemirror_mode": {
    "name": "ipython",
    "version": 3
   },
   "file_extension": ".py",
   "mimetype": "text/x-python",
   "name": "python",
   "nbconvert_exporter": "python",
   "pygments_lexer": "ipython3",
   "version": "3.10.14"
  }
 },
 "nbformat": 4,
 "nbformat_minor": 5
}
