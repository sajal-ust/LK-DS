{
 "cells": [
  {
   "cell_type": "code",
   "execution_count": 1,
   "id": "db60241f-4607-46d9-8dcc-91073d44c2cd",
   "metadata": {},
   "outputs": [],
   "source": [
    "import pandas as pd# This imports the pandas library, which is used for handling and analyzing data in table format (like Excel sheets)\n",
    "import ast # This imports the 'ast' module, which helps convert strings into Python objects (like lists, dictionaries, etc.) safely"
   ]
  },
  {
   "cell_type": "code",
   "execution_count": 5,
   "id": "592d6596-84c4-44be-9174-bdbd1645d291",
   "metadata": {},
   "outputs": [],
   "source": [
    "# Load the data from CSV files\n",
    "df_scheme_mapping = pd.read_csv(\"Top_Optimized_Schemes_with_LP.csv\")\n",
    "df_recommendations = pd.read_csv(\"Partner_Product_Recommendations.csv\")"
   ]
  },
  {
   "cell_type": "code",
   "execution_count": 6,
   "id": "975abe36-ebf0-489d-8cb5-cd98cfe234ca",
   "metadata": {},
   "outputs": [],
   "source": [
    "def safe_eval(val):\n",
    "    # If the value is a string and looks like a list (starts with '['), try converting it to a real Python list\n",
    "    try:\n",
    "        # If there's an error during conversion (e.g. invalid format), just return the original value\n",
    "        return ast.literal_eval(val) if isinstance(val, str) and val.startswith(\"[\") else val\n",
    "    except:\n",
    "        return val"
   ]
  },
  {
   "cell_type": "code",
   "execution_count": 11,
   "id": "ca921c56-4b95-452a-afc5-7b0747bb5630",
   "metadata": {},
   "outputs": [
    {
     "name": "stdout",
     "output_type": "stream",
     "text": [
      "Final Partner Product Schemes saved successfully!\n"
     ]
    }
   ],
   "source": [
    "# Convert the 'Partner_id' column values from string representations of lists to actual Python lists (if needed)\n",
    "df_scheme_mapping[\"Partner_id\"] = df_scheme_mapping[\"Partner_id\"].apply(safe_eval)\n",
    "# Convert 'Recommended_Products' column values from strings like \"['ProdA', 'ProdB']\" to real Python lists\n",
    "df_recommendations[\"Recommended_Products\"] = df_recommendations[\"Recommended_Products\"].apply(safe_eval)\n",
    "# Convert 'Similarity_Scores' column values from strings like \"[0.95, 0.87]\" to real lists of numbers\n",
    "df_recommendations[\"Similarity_Scores\"] = df_recommendations[\"Similarity_Scores\"].apply(safe_eval)\n",
    "\n",
    "# Create an empty list to store the final results\n",
    "results = []\n",
    "# Loop through each row in the recommendations DataFrame\n",
    "for _, row in df_recommendations.iterrows():\n",
    "    partner_id = row[\"Partner_id\"]\n",
    "    # Loop through each recommended product and its corresponding similarity score\n",
    "    for product, score in zip(row[\"Recommended_Products\"], row[\"Similarity_Scores\"]):\n",
    "        # Find the corresponding schemes for this product in the scheme mapping DataFrame\n",
    "        # If schemes are found, extract them and fill missing values with \"Not Available\"\n",
    "        # If no schemes found, mark all as \"Not Available\"\n",
    "        schemes = df_scheme_mapping[df_scheme_mapping[\"Product_id\"] == product][[\"Scheme_1\", \"Scheme_2\", \"Scheme_3\"]]\n",
    "        scheme_1, scheme_2, scheme_3 = schemes.iloc[0].fillna(\"Not Available\").values if not schemes.empty else (\"Not Available\", \"Not Available\", \"Not Available\")\n",
    "        \n",
    "        # Add the combined result to the list\n",
    "        results.append([partner_id, product, score, scheme_1, scheme_2, scheme_3]) \n",
    "\n",
    "# Convert the final results into a DataFrame\n",
    "df_final_schemes = pd.DataFrame(results, columns=[\"Partner_id\", \"Product_id\", \"Similarity_Scores\", \"Scheme_1\", \"Scheme_2\", \"Scheme_3\"])\n",
    "df_final_schemes.to_csv(\"Final_Partner_Product_Schemes.csv\", index=False)\n",
    "\n",
    "# Save the final DataFrame to a CSV file\n",
    "print(\"Final Partner Product Schemes saved successfully!\")"
   ]
  },
  {
   "cell_type": "code",
   "execution_count": null,
   "id": "0f7d8b99-d967-4ad8-a996-26d0f9916299",
   "metadata": {},
   "outputs": [],
   "source": []
  },
  {
   "cell_type": "code",
   "execution_count": null,
   "id": "dd5f3ac6-b30d-4696-81d5-01a2ed7701cd",
   "metadata": {},
   "outputs": [],
   "source": []
  }
 ],
 "metadata": {
  "kernelspec": {
   "display_name": "anaconda-2024.02-py310",
   "language": "python",
   "name": "conda-env-anaconda-2024.02-py310-py"
  },
  "language_info": {
   "codemirror_mode": {
    "name": "ipython",
    "version": 3
   },
   "file_extension": ".py",
   "mimetype": "text/x-python",
   "name": "python",
   "nbconvert_exporter": "python",
   "pygments_lexer": "ipython3",
   "version": "3.10.14"
  }
 },
 "nbformat": 4,
 "nbformat_minor": 5
}
