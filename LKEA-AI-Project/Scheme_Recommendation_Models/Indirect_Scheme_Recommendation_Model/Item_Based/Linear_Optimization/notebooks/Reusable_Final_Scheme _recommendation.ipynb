{
 "cells": [
  {
   "cell_type": "code",
   "execution_count": 4,
   "id": "a4ce02ec-9907-47ca-9962-e19c82a7c871",
   "metadata": {},
   "outputs": [],
   "source": [
    "import pandas as pd  # Used for working with tabular data (like Excel or CSV files)\n",
    "import ast  # Used to safely convert strings that look like Python data structures into real Python objects\n",
    "import logging  # For tracking code execution and debugging"
   ]
  },
  {
   "cell_type": "code",
   "execution_count": 5,
   "id": "eac9ea69-1147-4e20-80f2-011511b7b718",
   "metadata": {},
   "outputs": [],
   "source": [
    "# -----------------------\n",
    "# Configure Logging\n",
    "# -----------------------\n",
    "logging.basicConfig(\n",
    "    level=logging.INFO,  # Use logging.DEBUG for more detailed logs\n",
    "    format=\"%(asctime)s - %(levelname)s - %(message)s\",\n",
    "    handlers=[\n",
    "        logging.FileHandler(\"scheme_mapping_debug.log\"),\n",
    "        logging.StreamHandler()\n",
    "    ]\n",
    ")\n"
   ]
  },
  {
   "cell_type": "code",
   "execution_count": 6,
   "id": "b4d02eeb-659f-46e8-88d6-1c0437176c06",
   "metadata": {},
   "outputs": [],
   "source": [
    "def safe_eval(val):\n",
    "    \"\"\"\n",
    "    Safely evaluate string representations of Python lists or objects.\n",
    "    \"\"\"\n",
    "    try:\n",
    "        return ast.literal_eval(val) if isinstance(val, str) and val.startswith(\"[\") else val\n",
    "    except Exception:\n",
    "        logging.warning(f\"Failed to evaluate: {val}\")\n",
    "        return val\n"
   ]
  },
  {
   "cell_type": "code",
   "execution_count": 7,
   "id": "56abec7c-8528-47d9-8d0a-a5c140b210d9",
   "metadata": {},
   "outputs": [],
   "source": [
    "def load_and_clean_data(scheme_file, recommendation_file):\n",
    "    \"\"\"\n",
    "    Load scheme and recommendation CSVs and clean required columns.\n",
    "    \"\"\"\n",
    "    try:\n",
    "        logging.info(\"Loading data files...\")\n",
    "        df_scheme = pd.read_csv(scheme_file)\n",
    "        df_reco = pd.read_csv(recommendation_file)\n",
    "        logging.info(f\"Scheme mapping shape: {df_scheme.shape}\")\n",
    "        logging.info(f\"Recommendations shape: {df_reco.shape}\")\n",
    "    except Exception:\n",
    "        logging.critical(\"Failed to load input CSVs.\", exc_info=True)\n",
    "        raise\n",
    "# Safely evaluate list-like strings\n",
    "    logging.info(\"Converting stringified lists to actual lists...\")\n",
    "    df_scheme[\"Partner_id\"] = df_scheme[\"Partner_id\"].apply(safe_eval)\n",
    "    df_reco[\"Recommended_Products\"] = df_reco[\"Recommended_Products\"].apply(safe_eval)\n",
    "    df_reco[\"Similarity_Scores\"] = df_reco[\"Similarity_Scores\"].apply(safe_eval)\n",
    "\n",
    "    return df_scheme, df_reco"
   ]
  },
  {
   "cell_type": "code",
   "execution_count": 8,
   "id": "948d506b-9028-4961-8945-5a58c9b37bbd",
   "metadata": {},
   "outputs": [],
   "source": [
    "def map_schemes_to_recommendations(df_scheme, df_reco):\n",
    "    \"\"\"\n",
    "    Map top 3 schemes to each recommended product for each partner.\n",
    "    \"\"\"\n",
    "    results = []\n",
    "\n",
    "    logging.info(\"Mapping schemes to recommended products...\")\n",
    "    for _, row in df_reco.iterrows():\n",
    "        partner_id = row[\"Partner_id\"]\n",
    "        for product, score in zip(row[\"Recommended_Products\"], row[\"Similarity_Scores\"]):\n",
    "            # Look up the scheme mapping for the given product\n",
    "            schemes = df_scheme[df_scheme[\"Product_id\"] == product][[\"Scheme_1\", \"Scheme_2\", \"Scheme_3\"]]\n",
    "            scheme_1, scheme_2, scheme_3 = (\n",
    "                schemes.iloc[0].fillna(\"Not Available\").values\n",
    "                if not schemes.empty\n",
    "                else (\"Not Available\", \"Not Available\", \"Not Available\")\n",
    "            )\n",
    "            results.append([partner_id, product, score, scheme_1, scheme_2, scheme_3])\n",
    "    df_final = pd.DataFrame(results, columns=[\n",
    "        \"Partner_id\", \"Product_id\", \"Similarity_Scores\", \"Scheme_1\", \"Scheme_2\", \"Scheme_3\"\n",
    "    ])\n",
    "    logging.info(f\"Generated final mapping with shape: {df_final.shape}\")\n",
    "    return df_final"
   ]
  },
  {
   "cell_type": "code",
   "execution_count": 9,
   "id": "333028e6-32e3-496d-8fa3-50b69ad037c1",
   "metadata": {},
   "outputs": [],
   "source": [
    "def save_final_mapping(df_final, output_file=\"Final_Partner_Product_Schemes.csv\"):\n",
    "    \"\"\"\n",
    "    Save final mapped data to CSV.\n",
    "    \"\"\"\n",
    "    try:\n",
    "        df_final.to_csv(output_file, index=False)\n",
    "        logging.info(f\"Final partner-product-scheme mapping saved to {output_file}\")\n",
    "    except Exception:\n",
    "        logging.critical(\"Failed to save output CSV.\", exc_info=True)\n",
    "        raise\n"
   ]
  },
  {
   "cell_type": "code",
   "execution_count": 10,
   "id": "c89b97ae-5dce-4298-8476-1a435e69fd0d",
   "metadata": {},
   "outputs": [
    {
     "name": "stderr",
     "output_type": "stream",
     "text": [
      "2025-04-01 12:14:17,014 - INFO - Starting scheme recommendation mapping pipeline...\n",
      "2025-04-01 12:14:17,016 - INFO - Loading data files...\n",
      "2025-04-01 12:14:17,023 - INFO - Scheme mapping shape: (15, 5)\n",
      "2025-04-01 12:14:17,024 - INFO - Recommendations shape: (200, 3)\n",
      "2025-04-01 12:14:17,025 - INFO - Converting stringified lists to actual lists...\n",
      "2025-04-01 12:14:17,077 - INFO - Mapping schemes to recommended products...\n",
      "2025-04-01 12:14:19,174 - INFO - Generated final mapping with shape: (600, 6)\n",
      "2025-04-01 12:14:19,188 - INFO - Final partner-product-scheme mapping saved to Final_Partner_Product_Schemes.csv\n",
      "2025-04-01 12:14:19,189 - INFO - Pipeline executed successfully.\n"
     ]
    }
   ],
   "source": [
    "def run_scheme_mapping_pipeline(scheme_file, recommendation_file):\n",
    "    \"\"\"\n",
    "    Main pipeline to map top schemes to recommended products for each partner.\n",
    "    \"\"\"\n",
    "    logging.info(\"Starting scheme recommendation mapping pipeline...\")\n",
    "\n",
    "    df_scheme, df_reco = load_and_clean_data(scheme_file, recommendation_file)\n",
    "    df_final = map_schemes_to_recommendations(df_scheme, df_reco)\n",
    "    save_final_mapping(df_final)\n",
    "\n",
    "    logging.info(\"Pipeline executed successfully.\")\n",
    "\n",
    "# ----------------------------------\n",
    "# Run the pipeline\n",
    "# ----------------------------------\n",
    "if __name__ == \"__main__\":\n",
    "    scheme_file_path = \"Top_Optimized_Schemes_with_LP.csv\"\n",
    "    recommendation_file_path = \"Partner_Product_Recommendations.csv\"\n",
    "    run_scheme_mapping_pipeline(scheme_file_path, recommendation_file_path)"
   ]
  },
  {
   "cell_type": "code",
   "execution_count": null,
   "id": "81d54cdd-96d2-4f7b-8025-54af3b5bdc29",
   "metadata": {},
   "outputs": [],
   "source": []
  }
 ],
 "metadata": {
  "kernelspec": {
   "display_name": "anaconda-2024.02-py310",
   "language": "python",
   "name": "conda-env-anaconda-2024.02-py310-py"
  },
  "language_info": {
   "codemirror_mode": {
    "name": "ipython",
    "version": 3
   },
   "file_extension": ".py",
   "mimetype": "text/x-python",
   "name": "python",
   "nbconvert_exporter": "python",
   "pygments_lexer": "ipython3",
   "version": "3.10.14"
  }
 },
 "nbformat": 4,
 "nbformat_minor": 5
}
