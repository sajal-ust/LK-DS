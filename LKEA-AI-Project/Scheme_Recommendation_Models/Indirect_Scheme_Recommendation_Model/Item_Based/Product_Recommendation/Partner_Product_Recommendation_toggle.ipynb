{
 "cells": [
  {
   "cell_type": "code",
   "execution_count": 1,
   "id": "236ecc54-2d7c-4bab-96d1-19a5829432fb",
   "metadata": {},
   "outputs": [],
   "source": [
    "import pandas as pd\n",
    "import warnings\n",
    "from sklearn.model_selection import train_test_split\n",
    "from sklearn.metrics.pairwise import pairwise_distances\n",
    "\n",
    "warnings.filterwarnings('ignore')\n",
    "\n",
    "# Toggle to include or exclude already purchased products in recommendations\n",
    "include_purchased = True"
   ]
  },
  {
   "cell_type": "code",
   "execution_count": 2,
   "id": "ddb17d13-b811-4c5d-8a87-56cf1eaf0bbf",
   "metadata": {},
   "outputs": [],
   "source": [
    "# Load dataset\n",
    "df = pd.read_csv(\"stockist_data.csv\")\n",
    "\n",
    "# Define product columns (binary purchase indicators)\n",
    "product_cols = [\n",
    "    \"AIS(Air Insulated Switchgear)\", \"RMU(Ring Main Unit)\", \"PSS(Compact Sub-Stations)\",\n",
    "    \"VCU(Vacuum Contactor Units)\", \"E-House\", \"VCB(Vacuum Circuit Breaker)\",\n",
    "    \"ACB(Air Circuit Breaker)\", \"MCCB(Moduled Case Circuit Breaker)\",\n",
    "    \"SDF(Switch Disconnectors)\", \"BBT(Busbar Trunking)\", \"Modular Switches\"\n",
    "]\n"
   ]
  },
  {
   "cell_type": "code",
   "execution_count": 3,
   "id": "7d73d2ae-e95d-4498-a7c2-4281cf1e06d4",
   "metadata": {},
   "outputs": [
    {
     "name": "stdout",
     "output_type": "stream",
     "text": [
      "Train and test data saved successfully.\n"
     ]
    }
   ],
   "source": [
    "# Split data into train and test sets\n",
    "train_df, test_df = train_test_split(df, test_size=0.2, random_state=42)\n",
    "\n",
    "# Save train and test sets\n",
    "train_df.to_csv(\"train_data.csv\", index=False)\n",
    "test_df.to_csv(\"test_data.csv\", index=False)\n",
    "\n",
    "print(\"Train and test data saved successfully.\")\n"
   ]
  },
  {
   "cell_type": "code",
   "execution_count": 4,
   "id": "da4631c3-8150-4652-b5ec-e856953a957a",
   "metadata": {},
   "outputs": [
    {
     "name": "stdout",
     "output_type": "stream",
     "text": [
      "                               AIS(Air Insulated Switchgear)  \\\n",
      "AIS(Air Insulated Switchgear)                       1.000000   \n",
      "RMU(Ring Main Unit)                                 0.350498   \n",
      "PSS(Compact Sub-Stations)                           0.351396   \n",
      "VCU(Vacuum Contactor Units)                         0.333861   \n",
      "E-House                                             0.384615   \n",
      "\n",
      "                               RMU(Ring Main Unit)  PSS(Compact Sub-Stations)  \\\n",
      "AIS(Air Insulated Switchgear)             0.350498                   0.351396   \n",
      "RMU(Ring Main Unit)                       1.000000                   0.348993   \n",
      "PSS(Compact Sub-Stations)                 0.348993                   1.000000   \n",
      "VCU(Vacuum Contactor Units)               0.320513                   0.349515   \n",
      "E-House                                   0.346090                   0.383446   \n",
      "\n",
      "                               VCU(Vacuum Contactor Units)   E-House  \\\n",
      "AIS(Air Insulated Switchgear)                     0.333861  0.384615   \n",
      "RMU(Ring Main Unit)                               0.320513  0.346090   \n",
      "PSS(Compact Sub-Stations)                         0.349515  0.383446   \n",
      "VCU(Vacuum Contactor Units)                       1.000000  0.357605   \n",
      "E-House                                           0.357605  1.000000   \n",
      "\n",
      "                               VCB(Vacuum Circuit Breaker)  \\\n",
      "AIS(Air Insulated Switchgear)                     0.331683   \n",
      "RMU(Ring Main Unit)                               0.333333   \n",
      "PSS(Compact Sub-Stations)                         0.336683   \n",
      "VCU(Vacuum Contactor Units)                       0.363333   \n",
      "E-House                                           0.370307   \n",
      "\n",
      "                               ACB(Air Circuit Breaker)  \\\n",
      "AIS(Air Insulated Switchgear)                  0.369355   \n",
      "RMU(Ring Main Unit)                            0.349593   \n",
      "PSS(Compact Sub-Stations)                      0.361426   \n",
      "VCU(Vacuum Contactor Units)                    0.345853   \n",
      "E-House                                        0.328616   \n",
      "\n",
      "                               MCCB(Moduled Case Circuit Breaker)  \\\n",
      "AIS(Air Insulated Switchgear)                            0.344156   \n",
      "RMU(Ring Main Unit)                                      0.357383   \n",
      "PSS(Compact Sub-Stations)                                0.360465   \n",
      "VCU(Vacuum Contactor Units)                              0.353226   \n",
      "E-House                                                  0.339837   \n",
      "\n",
      "                               SDF(Switch Disconnectors)  \\\n",
      "AIS(Air Insulated Switchgear)                   0.361874   \n",
      "RMU(Ring Main Unit)                             0.373333   \n",
      "PSS(Compact Sub-Stations)                       0.342995   \n",
      "VCU(Vacuum Contactor Units)                     0.364217   \n",
      "E-House                                         0.366450   \n",
      "\n",
      "                               BBT(Busbar Trunking)  Modular Switches  \n",
      "AIS(Air Insulated Switchgear)              0.330017          0.325000  \n",
      "RMU(Ring Main Unit)                        0.345361          0.331046  \n",
      "PSS(Compact Sub-Stations)                  0.330537          0.327703  \n",
      "VCU(Vacuum Contactor Units)                0.337171          0.373083  \n",
      "E-House                                    0.336683          0.311774  \n"
     ]
    }
   ],
   "source": [
    "# Convert training data to binary (bool)\n",
    "df_products_train = train_df[product_cols].astype(bool)\n",
    "\n",
    "# Compute Jaccard similarity between product columns\n",
    "df_products_np = df_products_train.values\n",
    "jaccard_product_sim = 1 - pairwise_distances(df_products_np.T, metric=\"jaccard\")\n",
    "\n",
    "# Create a similarity DataFrame\n",
    "product_similarity_df = pd.DataFrame(jaccard_product_sim, index=product_cols, columns=product_cols)\n",
    "\n",
    "# Preview\n",
    "print(product_similarity_df.head())\n"
   ]
  },
  {
   "cell_type": "code",
   "execution_count": 5,
   "id": "610ecf62-b4d1-48a6-b282-a6163f372c29",
   "metadata": {},
   "outputs": [],
   "source": [
    "def get_top3_products(product_name):\n",
    "    \"\"\"Returns top 3 most similar products for a given product using Jaccard similarity.\"\"\"\n",
    "    if product_name not in product_similarity_df.index:\n",
    "        return [\"Product not found\"]\n",
    "    return list(product_similarity_df[product_name].sort_values(ascending=False)[1:4].index)\n"
   ]
  },
  {
   "cell_type": "code",
   "execution_count": 6,
   "id": "b70bfe44-27bd-4739-9e3e-403898776257",
   "metadata": {},
   "outputs": [],
   "source": [
    "# Binary matrix to help check purchased products per partner\n",
    "item_matrix = test_df.set_index(\"Partner_id\")[product_cols].astype(bool)\n"
   ]
  },
  {
   "cell_type": "code",
   "execution_count": 7,
   "id": "c1bc0392-9b10-4126-ab68-5bb24563a9e4",
   "metadata": {},
   "outputs": [],
   "source": [
    "recommendations = []\n",
    "similarity_scores = []\n",
    "\n",
    "for index, row in test_df.iterrows():\n",
    "    partner_id = row[\"Partner_id\"]\n",
    "    purchased_products = [product for product in product_cols if row[product] == 1]\n",
    "\n",
    "    if not purchased_products:\n",
    "        recommendations.append([])\n",
    "        similarity_scores.append([])\n",
    "        continue\n",
    "\n",
    "    recommended_products = set()\n",
    "    product_scores = []\n",
    "\n",
    "    for product in purchased_products:\n",
    "        top_products = get_top3_products(product)\n",
    "        recommended_products.update(top_products)\n",
    "        scores = product_similarity_df.loc[product, top_products].values\n",
    "        product_scores.extend(scores)\n",
    "\n",
    "    recommended_products = list(recommended_products)\n",
    "\n",
    "    if not include_purchased:\n",
    "        already_purchased = user_product_matrix.loc[partner_id]\n",
    "        recommended_products = [prod for prod in recommended_products if not already_purchased[prod]]\n",
    "\n",
    "    final_recommendations = recommended_products[:3]\n",
    "    final_scores = product_scores[:3]\n",
    "\n",
    "    recommendations.append(final_recommendations)\n",
    "    similarity_scores.append(final_scores)\n",
    "\n",
    "    if index < 5:\n",
    "        print(f\"\\nRecommendations for Partner {partner_id}:\")\n",
    "        print(f\"Purchased Products: {purchased_products}\")\n",
    "        print(f\"Recommended Products: {final_recommendations}\")\n",
    "        print(f\"Similarity Scores: {final_scores}\")\n",
    "\n"
   ]
  },
  {
   "cell_type": "code",
   "execution_count": 8,
   "id": "54a3fbcc-5786-4456-8a53-5c0e4be1ae63",
   "metadata": {},
   "outputs": [],
   "source": [
    "recommendations = []\n",
    "similarity_scores = []\n",
    "\n",
    "for index, row in test_df.iterrows():\n",
    "    partner_id = row[\"Partner_id\"]\n",
    "    purchased_products = [product for product in product_cols if row[product] == 1]\n",
    "\n",
    "    if not purchased_products:\n",
    "        recommendations.append([])\n",
    "        similarity_scores.append([])\n",
    "        continue\n",
    "\n",
    "    recommended_products = set()\n",
    "    product_scores = []\n",
    "\n",
    "    for product in purchased_products:\n",
    "        top_products = get_top3_products(product)\n",
    "        recommended_products.update(top_products)\n",
    "        scores = product_similarity_df.loc[product, top_products].values\n",
    "        product_scores.extend(scores)\n",
    "\n",
    "    recommended_products = list(recommended_products)\n",
    "\n",
    "    if not include_purchased:\n",
    "        already_purchased = user_product_matrix.loc[partner_id]\n",
    "        recommended_products = [prod for prod in recommended_products if not already_purchased[prod]]\n",
    "\n",
    "    final_recommendations = recommended_products[:3]\n",
    "    final_scores = product_scores[:3]\n",
    "\n",
    "    recommendations.append(final_recommendations)\n",
    "    similarity_scores.append(final_scores)\n",
    "\n",
    "    if index < 5:\n",
    "        print(f\"\\nRecommendations for Partner {partner_id}:\")\n",
    "        print(f\"Purchased Products: {purchased_products}\")\n",
    "        print(f\"Recommended Products: {final_recommendations}\")\n",
    "        print(f\"Similarity Scores: {final_scores}\")\n"
   ]
  },
  {
   "cell_type": "code",
   "execution_count": 9,
   "id": "67ea3013-3d2c-4a15-8761-c799ffd9644f",
   "metadata": {},
   "outputs": [
    {
     "name": "stdout",
     "output_type": "stream",
     "text": [
      "\n",
      "Final Partner Product Recommendations:\n",
      "    Partner_id                               Recommended_Products  \\\n",
      "521     522_20  [SDF(Switch Disconnectors), VCB(Vacuum Circuit...   \n",
      "737      738_5  [SDF(Switch Disconnectors), VCB(Vacuum Circuit...   \n",
      "740      741_1  [SDF(Switch Disconnectors), AIS(Air Insulated ...   \n",
      "660     661_86  [SDF(Switch Disconnectors), AIS(Air Insulated ...   \n",
      "411     412_58  [SDF(Switch Disconnectors), AIS(Air Insulated ...   \n",
      "\n",
      "                                     Similarity_Scores  \n",
      "521  [0.3846153846153846, 0.36935483870967745, 0.36...  \n",
      "737  [0.38344594594594594, 0.36142625607779577, 0.3...  \n",
      "740  [0.3733333333333333, 0.3573825503355704, 0.350...  \n",
      "660  [0.3733333333333333, 0.3573825503355704, 0.350...  \n",
      "411  [0.3846153846153846, 0.36935483870967745, 0.36...  \n",
      "\n",
      " Product recommendations saved to Partner_Product_Recommendations.csv (Include Purchased: True)\n"
     ]
    }
   ],
   "source": [
    "# Add recommendations to test set\n",
    "test_df[\"Recommended_Products\"] = recommendations\n",
    "test_df[\"Similarity_Scores\"] = similarity_scores\n",
    "\n",
    "# Select relevant columns for final output\n",
    "recommended_df = test_df[[\"Partner_id\", \"Recommended_Products\", \"Similarity_Scores\"]]\n",
    "\n",
    "# Display and save\n",
    "print(\"\\nFinal Partner Product Recommendations:\")\n",
    "print(recommended_df.head())\n",
    "\n",
    "output_file = \"Partner_Product_Recommendations.csv\"\n",
    "recommended_df.to_csv(output_file, index=False)\n",
    "\n",
    "print(f\"\\n Product recommendations saved to {output_file} (Include Purchased: {include_purchased})\")\n"
   ]
  },
  {
   "cell_type": "markdown",
   "id": "05ade5a0-a137-428f-a23f-8b3c1f501b18",
   "metadata": {},
   "source": [
    "Evaluation Code"
   ]
  },
  {
   "cell_type": "code",
   "execution_count": 10,
   "id": "abaada5b-6596-4f75-82fc-e1dfa31ab6e5",
   "metadata": {},
   "outputs": [],
   "source": [
    "#Import Required Libraries\n",
    "import pandas as pd"
   ]
  },
  {
   "cell_type": "code",
   "execution_count": 11,
   "id": "e003e91d-4647-4219-a44c-6a0ba314539d",
   "metadata": {},
   "outputs": [],
   "source": [
    "# Load test data with one-hot encoded product columns\n",
    "test_df = pd.read_csv(\"test_data.csv\")"
   ]
  },
  {
   "cell_type": "code",
   "execution_count": 12,
   "id": "7c3ccfd1-ca5d-416b-bcc8-fca7b0143e52",
   "metadata": {},
   "outputs": [],
   "source": [
    "# Load recommendation output (Top-N recommendations per partner)\n",
    "recommendations_df = pd.read_csv(\"Partner_Product_Recommendations.csv\")"
   ]
  },
  {
   "cell_type": "code",
   "execution_count": 13,
   "id": "c23ad594-50fb-4f9f-bbf8-9313a2cdebad",
   "metadata": {},
   "outputs": [],
   "source": [
    "# Fix column naming inconsistency if needed\n",
    "recommendations_df = recommendations_df.rename(columns={\"Partner_ID\": \"Partner_id\"})"
   ]
  },
  {
   "cell_type": "code",
   "execution_count": 14,
   "id": "a2eef646-641a-41f4-ba33-fb8f3a4a91c2",
   "metadata": {},
   "outputs": [],
   "source": [
    "#Identify Producy column\n",
    "meta_cols = [\n",
    "    'Partner_id', 'Stockist_Type', 'Scheme_Type', 'Sales_Value_Last_Period',\n",
    "    'Sales_Quantity_Last_Period', 'MRP', 'Growth_Percentage', 'Discount_Applied',\n",
    "    'Bulk_Purchase_Tendency', 'New_Stockist', 'Feedback_Score'\n",
    "]\n",
    "product_cols = [col for col in test_df.columns if col not in meta_cols]\n"
   ]
  },
  {
   "cell_type": "code",
   "execution_count": 15,
   "id": "19a8dca6-dda6-4b10-a9f8-cfba6edc6ba1",
   "metadata": {},
   "outputs": [],
   "source": [
    "#Convert Product Columns to Purchased List\n",
    "# ------------------------------\n",
    "test_df[product_cols] = test_df[product_cols].apply(pd.to_numeric, errors='coerce').fillna(0).astype(int)\n",
    "\n",
    "# Purchased product list per partner\n",
    "test_df['Purchased_Products'] = test_df[product_cols].apply(\n",
    "    lambda row: [prod for prod, val in zip(product_cols, row) if val == 1], axis=1\n",
    ")\n",
    "\n",
    "# Remove non-buyers\n",
    "test_df['has_purchase'] = test_df['Purchased_Products'].apply(lambda x: len(x) > 0)\n"
   ]
  },
  {
   "cell_type": "code",
   "execution_count": 16,
   "id": "1578c2bc-91cb-47db-8db9-0b1ddb05e91c",
   "metadata": {},
   "outputs": [],
   "source": [
    "# Ensure list parsing from string if needed\n",
    "recommendations_df[\"Recommended_Products\"] = recommendations_df[\"Recommended_Products\"].apply(eval)\n",
    "\n",
    "# Merge with test dataset\n",
    "df_all = pd.merge(\n",
    "    test_df[['Partner_id', 'Purchased_Products', 'has_purchase']],\n",
    "    recommendations_df[['Partner_id', 'Recommended_Products']],\n",
    "    on='Partner_id',\n",
    "    how='left'\n",
    ")"
   ]
  },
  {
   "cell_type": "code",
   "execution_count": 17,
   "id": "c83a7ebc-3115-431b-aff1-6c4787217a37",
   "metadata": {},
   "outputs": [],
   "source": [
    "# Fill any missing recommendations with empty list\n",
    "df_all['Recommended_Products'] = df_all['Recommended_Products'].apply(\n",
    "    lambda x: x if isinstance(x, list) else []\n",
    ")"
   ]
  },
  {
   "cell_type": "code",
   "execution_count": 18,
   "id": "4203e462-f7ee-4376-b5c4-3b280ec8c6f9",
   "metadata": {},
   "outputs": [],
   "source": [
    "results = []\n",
    "\n",
    "for k in [1, 2, 3]:\n",
    "    precision_list = []\n",
    "    recall_list = []\n",
    "\n",
    "    for _, row in df_all.iterrows():\n",
    "        actual_set = set(row[\"Purchased_Products\"])\n",
    "        recommended_k = row[\"Recommended_Products\"][:k]\n",
    "\n",
    "        if not actual_set:\n",
    "            continue  # skip if no purchases\n",
    "\n",
    "        tp = len(set(recommended_k) & actual_set)\n",
    "        precision = tp / k\n",
    "        recall = tp / len(actual_set)\n",
    "\n",
    "        precision_list.append(precision)\n",
    "        recall_list.append(recall)\n",
    "\n",
    "    avg_precision = round(sum(precision_list) / len(precision_list), 4) if precision_list else 0\n",
    "    avg_recall = round(sum(recall_list) / len(recall_list), 4) if recall_list else 0\n",
    "    f1_k = round(2 * avg_precision * avg_recall / (avg_precision + avg_recall), 4) if (avg_precision + avg_recall) else 0\n",
    "\n",
    "    results.append({        \"Top-K\": k,\n",
    "        \"Avg Precision\": avg_precision,\n",
    "        \"Avg Recall\": avg_recall,\n",
    "        \"Avg F1 Score\": f1_k\n",
    "    })\n"
   ]
  },
  {
   "cell_type": "code",
   "execution_count": 19,
   "id": "9f295423-fc86-42b5-a394-4977403d06f1",
   "metadata": {},
   "outputs": [
    {
     "name": "stdout",
     "output_type": "stream",
     "text": [
      "===== Top-K Recommendation Evaluation (Corrected) =====\n",
      "\n",
      "Top-1\n",
      "  Avg Precision : 0.435\n",
      "  Avg Recall    : 0.0561\n",
      "  Avg F1 Score  : 0.0994\n",
      "\n",
      "Top-2\n",
      "  Avg Precision : 0.45\n",
      "  Avg Recall    : 0.1177\n",
      "  Avg F1 Score  : 0.1866\n",
      "\n",
      "Top-3\n",
      "  Avg Precision : 0.4117\n",
      "  Avg Recall    : 0.1604\n",
      "  Avg F1 Score  : 0.2309\n"
     ]
    }
   ],
   "source": [
    "#Display Results\n",
    "\n",
    "print(\"===== Top-K Recommendation Evaluation (Corrected) =====\")\n",
    "for r in results:\n",
    "    print(f\"\\nTop-{r['Top-K']}\")\n",
    "    print(f\"  Avg Precision : {r['Avg Precision']}\")\n",
    "    print(f\"  Avg Recall    : {r['Avg Recall']}\")\n",
    "    print(f\"  Avg F1 Score  : {r['Avg F1 Score']}\")"
   ]
  },
  {
   "cell_type": "code",
   "execution_count": null,
   "id": "d8785d20-0d2c-4657-b7a8-4fb112ae3017",
   "metadata": {},
   "outputs": [],
   "source": []
  }
 ],
 "metadata": {
  "kernelspec": {
   "display_name": "anaconda-2024.02-py310",
   "language": "python",
   "name": "conda-env-anaconda-2024.02-py310-py"
  },
  "language_info": {
   "codemirror_mode": {
    "name": "ipython",
    "version": 3
   },
   "file_extension": ".py",
   "mimetype": "text/x-python",
   "name": "python",
   "nbconvert_exporter": "python",
   "pygments_lexer": "ipython3",
   "version": "3.10.14"
  }
 },
 "nbformat": 4,
 "nbformat_minor": 5
}
