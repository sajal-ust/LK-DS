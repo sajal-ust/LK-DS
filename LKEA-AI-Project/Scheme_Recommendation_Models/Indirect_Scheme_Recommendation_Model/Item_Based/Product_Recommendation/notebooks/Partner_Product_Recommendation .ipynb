{
 "cells": [
  {
   "cell_type": "code",
   "execution_count": 22,
   "id": "236ecc54-2d7c-4bab-96d1-19a5829432fb",
   "metadata": {},
   "outputs": [],
   "source": [
    "import pandas as pd\n",
    "import warnings\n",
    "from sklearn.model_selection import train_test_split\n",
    "from sklearn.metrics.pairwise import pairwise_distances\n",
    "\n",
    "warnings.filterwarnings('ignore')\n"
   ]
  },
  {
   "cell_type": "code",
   "execution_count": 23,
   "id": "8bae57a9-0594-4ddb-965a-0f11e13468b7",
   "metadata": {},
   "outputs": [],
   "source": [
    "# Load data\n",
    "df = pd.read_csv(\"stockist_data.csv\")\n"
   ]
  },
  {
   "cell_type": "code",
   "execution_count": 24,
   "id": "f4135f7d-3a7a-49a7-a03c-d7b06bc52ebe",
   "metadata": {},
   "outputs": [],
   "source": [
    "# Define product columns (assumed to be in binary form)\n",
    "product_cols = [\n",
    "    \"AIS(Air Insulated Switchgear)\", \"RMU(Ring Main Unit)\", \"PSS(Compact Sub-Stations)\",\n",
    "    \"VCU(Vacuum Contactor Units)\", \"E-House\", \"VCB(Vacuum Circuit Breaker)\",\n",
    "    \"ACB(Air Circuit Breaker)\", \"MCCB(Moduled Case Circuit Breaker)\",\n",
    "    \"SDF(Switch Disconnectors)\", \"BBT(Busbar Trunking)\", \"Modular Switches\"\n",
    "]"
   ]
  },
  {
   "cell_type": "code",
   "execution_count": 25,
   "id": "9da31eaa-decd-413c-b272-b9a96675ccbc",
   "metadata": {},
   "outputs": [],
   "source": [
    "# Split data into train and test sets\n",
    "train_df, test_df = train_test_split(df, test_size=0.2, random_state=42)\n"
   ]
  },
  {
   "cell_type": "code",
   "execution_count": 26,
   "id": "98dd04f2-4302-466c-838e-23141c6d22ce",
   "metadata": {},
   "outputs": [
    {
     "name": "stdout",
     "output_type": "stream",
     "text": [
      "Train and test data saved successfully.\n"
     ]
    }
   ],
   "source": [
    "# Save train and test datasets to CSV\n",
    "train_df.to_csv(\"train_data.csv\", index=False)  # Save training data\n",
    "test_df.to_csv(\"test_data.csv\", index=False)    # Save testing data\n",
    "\n",
    "print(\"Train and test data saved successfully.\")\n"
   ]
  },
  {
   "cell_type": "code",
   "execution_count": 27,
   "id": "ddb17d13-b811-4c5d-8a87-56cf1eaf0bbf",
   "metadata": {},
   "outputs": [],
   "source": [
    "# Convert product purchase data to True/False format (needed because Jaccard similarity works with binary data)\n",
    "df_products_train = train_df[product_cols].astype(bool)\n"
   ]
  },
  {
   "cell_type": "code",
   "execution_count": 28,
   "id": "7d73d2ae-e95d-4498-a7c2-4281cf1e06d4",
   "metadata": {},
   "outputs": [],
   "source": [
    "# Compute Jaccard Similarity between products\n",
    "# Convert the DataFrame to a NumPy array for faster computation\n",
    "df_products_np = df_products_train.values\n",
    "# Calculate Jaccard similarity between products (columns) based on purchase patterns\n",
    "# '1 - distance' is used because pairwise_distances gives dissimilarity by default\n",
    "jaccard_product_sim = 1 - pairwise_distances(df_products_np.T, metric=\"jaccard\")\n"
   ]
  },
  {
   "cell_type": "code",
   "execution_count": 29,
   "id": "da4631c3-8150-4652-b5ec-e856953a957a",
   "metadata": {},
   "outputs": [
    {
     "data": {
      "text/plain": [
       "array([[ True, False, False, ..., False,  True, False],\n",
       "       [ True, False,  True, ..., False,  True,  True],\n",
       "       [ True, False, False, ..., False, False,  True],\n",
       "       ...,\n",
       "       [False,  True,  True, ..., False,  True, False],\n",
       "       [False,  True, False, ..., False, False, False],\n",
       "       [ True, False,  True, ..., False, False, False]])"
      ]
     },
     "execution_count": 29,
     "metadata": {},
     "output_type": "execute_result"
    }
   ],
   "source": [
    "df_products_np"
   ]
  },
  {
   "cell_type": "code",
   "execution_count": 30,
   "id": "610ecf62-b4d1-48a6-b282-a6163f372c29",
   "metadata": {},
   "outputs": [
    {
     "name": "stdout",
     "output_type": "stream",
     "text": [
      "                                    AIS(Air Insulated Switchgear)  \\\n",
      "AIS(Air Insulated Switchgear)                            1.000000   \n",
      "RMU(Ring Main Unit)                                      0.350498   \n",
      "PSS(Compact Sub-Stations)                                0.351396   \n",
      "VCU(Vacuum Contactor Units)                              0.333861   \n",
      "E-House                                                  0.384615   \n",
      "VCB(Vacuum Circuit Breaker)                              0.331683   \n",
      "ACB(Air Circuit Breaker)                                 0.369355   \n",
      "MCCB(Moduled Case Circuit Breaker)                       0.344156   \n",
      "SDF(Switch Disconnectors)                                0.361874   \n",
      "BBT(Busbar Trunking)                                     0.330017   \n",
      "Modular Switches                                         0.325000   \n",
      "\n",
      "                                    RMU(Ring Main Unit)  \\\n",
      "AIS(Air Insulated Switchgear)                  0.350498   \n",
      "RMU(Ring Main Unit)                            1.000000   \n",
      "PSS(Compact Sub-Stations)                      0.348993   \n",
      "VCU(Vacuum Contactor Units)                    0.320513   \n",
      "E-House                                        0.346090   \n",
      "VCB(Vacuum Circuit Breaker)                    0.333333   \n",
      "ACB(Air Circuit Breaker)                       0.349593   \n",
      "MCCB(Moduled Case Circuit Breaker)             0.357383   \n",
      "SDF(Switch Disconnectors)                      0.373333   \n",
      "BBT(Busbar Trunking)                           0.345361   \n",
      "Modular Switches                               0.331046   \n",
      "\n",
      "                                    PSS(Compact Sub-Stations)  \\\n",
      "AIS(Air Insulated Switchgear)                        0.351396   \n",
      "RMU(Ring Main Unit)                                  0.348993   \n",
      "PSS(Compact Sub-Stations)                            1.000000   \n",
      "VCU(Vacuum Contactor Units)                          0.349515   \n",
      "E-House                                              0.383446   \n",
      "VCB(Vacuum Circuit Breaker)                          0.336683   \n",
      "ACB(Air Circuit Breaker)                             0.361426   \n",
      "MCCB(Moduled Case Circuit Breaker)                   0.360465   \n",
      "SDF(Switch Disconnectors)                            0.342995   \n",
      "BBT(Busbar Trunking)                                 0.330537   \n",
      "Modular Switches                                     0.327703   \n",
      "\n",
      "                                    VCU(Vacuum Contactor Units)   E-House  \\\n",
      "AIS(Air Insulated Switchgear)                          0.333861  0.384615   \n",
      "RMU(Ring Main Unit)                                    0.320513  0.346090   \n",
      "PSS(Compact Sub-Stations)                              0.349515  0.383446   \n",
      "VCU(Vacuum Contactor Units)                            1.000000  0.357605   \n",
      "E-House                                                0.357605  1.000000   \n",
      "VCB(Vacuum Circuit Breaker)                            0.363333  0.370307   \n",
      "ACB(Air Circuit Breaker)                               0.345853  0.328616   \n",
      "MCCB(Moduled Case Circuit Breaker)                     0.353226  0.339837   \n",
      "SDF(Switch Disconnectors)                              0.364217  0.366450   \n",
      "BBT(Busbar Trunking)                                   0.337171  0.336683   \n",
      "Modular Switches                                       0.373083  0.311774   \n",
      "\n",
      "                                    VCB(Vacuum Circuit Breaker)  \\\n",
      "AIS(Air Insulated Switchgear)                          0.331683   \n",
      "RMU(Ring Main Unit)                                    0.333333   \n",
      "PSS(Compact Sub-Stations)                              0.336683   \n",
      "VCU(Vacuum Contactor Units)                            0.363333   \n",
      "E-House                                                0.370307   \n",
      "VCB(Vacuum Circuit Breaker)                            1.000000   \n",
      "ACB(Air Circuit Breaker)                               0.344209   \n",
      "MCCB(Moduled Case Circuit Breaker)                     0.325083   \n",
      "SDF(Switch Disconnectors)                              0.354305   \n",
      "BBT(Busbar Trunking)                                   0.330479   \n",
      "Modular Switches                                       0.289782   \n",
      "\n",
      "                                    ACB(Air Circuit Breaker)  \\\n",
      "AIS(Air Insulated Switchgear)                       0.369355   \n",
      "RMU(Ring Main Unit)                                 0.349593   \n",
      "PSS(Compact Sub-Stations)                           0.361426   \n",
      "VCU(Vacuum Contactor Units)                         0.345853   \n",
      "E-House                                             0.328616   \n",
      "VCB(Vacuum Circuit Breaker)                         0.344209   \n",
      "ACB(Air Circuit Breaker)                            1.000000   \n",
      "MCCB(Moduled Case Circuit Breaker)                  0.373984   \n",
      "SDF(Switch Disconnectors)                           0.362916   \n",
      "BBT(Busbar Trunking)                                0.367279   \n",
      "Modular Switches                                    0.355593   \n",
      "\n",
      "                                    MCCB(Moduled Case Circuit Breaker)  \\\n",
      "AIS(Air Insulated Switchgear)                                 0.344156   \n",
      "RMU(Ring Main Unit)                                           0.357383   \n",
      "PSS(Compact Sub-Stations)                                     0.360465   \n",
      "VCU(Vacuum Contactor Units)                                   0.353226   \n",
      "E-House                                                       0.339837   \n",
      "VCB(Vacuum Circuit Breaker)                                   0.325083   \n",
      "ACB(Air Circuit Breaker)                                      0.373984   \n",
      "MCCB(Moduled Case Circuit Breaker)                            1.000000   \n",
      "SDF(Switch Disconnectors)                                     0.362013   \n",
      "BBT(Busbar Trunking)                                          0.325581   \n",
      "Modular Switches                                              0.327181   \n",
      "\n",
      "                                    SDF(Switch Disconnectors)  \\\n",
      "AIS(Air Insulated Switchgear)                        0.361874   \n",
      "RMU(Ring Main Unit)                                  0.373333   \n",
      "PSS(Compact Sub-Stations)                            0.342995   \n",
      "VCU(Vacuum Contactor Units)                          0.364217   \n",
      "E-House                                              0.366450   \n",
      "VCB(Vacuum Circuit Breaker)                          0.354305   \n",
      "ACB(Air Circuit Breaker)                             0.362916   \n",
      "MCCB(Moduled Case Circuit Breaker)                   0.362013   \n",
      "SDF(Switch Disconnectors)                            1.000000   \n",
      "BBT(Busbar Trunking)                                 0.326264   \n",
      "Modular Switches                                     0.345576   \n",
      "\n",
      "                                    BBT(Busbar Trunking)  Modular Switches  \n",
      "AIS(Air Insulated Switchgear)                   0.330017          0.325000  \n",
      "RMU(Ring Main Unit)                             0.345361          0.331046  \n",
      "PSS(Compact Sub-Stations)                       0.330537          0.327703  \n",
      "VCU(Vacuum Contactor Units)                     0.337171          0.373083  \n",
      "E-House                                         0.336683          0.311774  \n",
      "VCB(Vacuum Circuit Breaker)                     0.330479          0.289782  \n",
      "ACB(Air Circuit Breaker)                        0.367279          0.355593  \n",
      "MCCB(Moduled Case Circuit Breaker)              0.325581          0.327181  \n",
      "SDF(Switch Disconnectors)                       0.326264          0.345576  \n",
      "BBT(Busbar Trunking)                            1.000000          0.328125  \n",
      "Modular Switches                                0.328125          1.000000  \n"
     ]
    }
   ],
   "source": [
    "# Convert to DataFrame for better readability\n",
    "# Create a DataFrame from the Jaccard similarity matrix\n",
    "# Set product names as row and column labels for easy interpretation\n",
    "product_similarity_df = pd.DataFrame(jaccard_product_sim, index=product_cols, columns=product_cols)\n",
    "# Display the product similarity matrix\n",
    "print(product_similarity_df)"
   ]
  },
  {
   "cell_type": "code",
   "execution_count": 31,
   "id": "b70bfe44-27bd-4739-9e3e-403898776257",
   "metadata": {},
   "outputs": [],
   "source": [
    "# Function to get top 3 similar products for a given product\n",
    "# Check if the product exists in the similarity matrix\n",
    "def get_top3_products(product_name):\n",
    "    \"\"\"Returns top 3 most similar products for a given product using Jaccard similarity.\"\"\"\n",
    "    if product_name not in product_similarity_df.index:\n",
    "        return [\"Product not found\"]\n",
    "       # Sort products by similarity in descending order and return the top 3 (excluding itself) \n",
    "    return list(product_similarity_df[product_name].sort_values(ascending=False)[1:4].index)\n"
   ]
  },
  {
   "cell_type": "code",
   "execution_count": 32,
   "id": "c1bc0392-9b10-4126-ab68-5bb24563a9e4",
   "metadata": {},
   "outputs": [],
   "source": [
    "# Recommend products for each partner in the test set\n",
    "# To store recommended product lists for each partner,recommendations\n",
    "# To store corresponding similarity scores,similarity_scores\n",
    "recommendations = []\n",
    "similarity_scores = []\n"
   ]
  },
  {
   "cell_type": "code",
   "execution_count": 33,
   "id": "d1904a41-a929-4751-b8f3-d8cd6a894f03",
   "metadata": {},
   "outputs": [],
   "source": [
    "for index, row in test_df.iterrows():\n",
    "    # Get the list of products that the partner has already purchased\n",
    "    purchased_products = [product for product in product_cols if row[product] == 1]  # Products bought by partner\n",
    "    \n",
    "    # If no purchases, skip recommendation for this partner\n",
    "    if not purchased_products:  \n",
    "        recommendations.append([]) \n",
    "        similarity_scores.append([])\n",
    "        continue\n",
    "    \n",
    "    recommended_products = set()# Use a set to avoid duplicates\n",
    "    product_scores = [] # Store similarity scores of recommended products\n",
    "\n",
    "    for product in purchased_products:\n",
    "        # Get top 3 similar products for each purchased product\n",
    "        top_products = get_top3_products(product)\n",
    "        recommended_products.update(top_products) # Add them to the recommendation set\n",
    "        # Get similarity scores for those top products\n",
    "        scores = product_similarity_df.loc[product, top_products].values\n",
    "        product_scores.extend(scores)\n",
    "\n",
    "    # Store exactly 3 recommendations and their similarity scores\n",
    "    recommendations.append(list(recommended_products)[:3] if len(recommended_products) >= 3 else list(recommended_products))\n",
    "    # Store the corresponding similarity scores for those recommended products\n",
    "    similarity_scores.append(product_scores[:3] if len(product_scores) >= 3 else product_scores)\n",
    "\n",
    "    # Display intermediate results for first 5 partners\n",
    "    if index < 5:\n",
    "        print(f\"\\nRecommendations for Partner {row['Partner_id']}:\")\n",
    "        print(f\"Purchased Products: {purchased_products}\")\n",
    "        print(f\"Recommended Products: {recommendations[-1]}\")\n",
    "        print(f\"Similarity Scores: {similarity_scores[-1]}\")\n"
   ]
  },
  {
   "cell_type": "code",
   "execution_count": 34,
   "id": "0837bd79-0de6-428d-a2c5-2c88203c7d5b",
   "metadata": {},
   "outputs": [
    {
     "name": "stdout",
     "output_type": "stream",
     "text": [
      "\n",
      "Final Partner Product Recommendations:\n",
      "    Partner_id                               Recommended_Products  \\\n",
      "521     522_20  [AIS(Air Insulated Switchgear), SDF(Switch Dis...   \n",
      "737      738_5  [AIS(Air Insulated Switchgear), SDF(Switch Dis...   \n",
      "740      741_1  [AIS(Air Insulated Switchgear), SDF(Switch Dis...   \n",
      "660     661_86  [AIS(Air Insulated Switchgear), SDF(Switch Dis...   \n",
      "411     412_58  [AIS(Air Insulated Switchgear), SDF(Switch Dis...   \n",
      "\n",
      "                                     Similarity_Scores  \n",
      "521  [0.3846153846153846, 0.36935483870967745, 0.36...  \n",
      "737  [0.38344594594594594, 0.36142625607779577, 0.3...  \n",
      "740  [0.3733333333333333, 0.3573825503355704, 0.350...  \n",
      "660  [0.3733333333333333, 0.3573825503355704, 0.350...  \n",
      "411  [0.3846153846153846, 0.36935483870967745, 0.36...  \n",
      "\n",
      "Product recommendations saved to Partner_Product_Recommendations.csv\n"
     ]
    }
   ],
   "source": [
    "# Save recommendations in DataFrame\n",
    "test_df[\"Recommended_Products\"] = recommendations\n",
    "test_df[\"Similarity_Scores\"] = similarity_scores\n",
    "recommended_df = test_df[[\"Partner_id\", \"Recommended_Products\", \"Similarity_Scores\"]]\n",
    "\n",
    "# Display final recommendation results\n",
    "print(\"\\nFinal Partner Product Recommendations:\")\n",
    "print(recommended_df.head())\n",
    "\n",
    "# Save recommendations\n",
    "output_file = \"Partner_Product_Recommendations.csv\"\n",
    "recommended_df.to_csv(output_file, index=False)\n",
    "\n",
    "print(f\"\\nProduct recommendations saved to {output_file}\")"
   ]
  },
  {
   "cell_type": "code",
   "execution_count": null,
   "id": "74a6dc07-61b1-4e8c-b162-6bbe0a70e34a",
   "metadata": {},
   "outputs": [],
   "source": []
  },
  {
   "cell_type": "code",
   "execution_count": null,
   "id": "5677ca71-856a-4c7a-bee7-3a5b45313080",
   "metadata": {},
   "outputs": [],
   "source": []
  }
 ],
 "metadata": {
  "kernelspec": {
   "display_name": "anaconda-2024.02-py310",
   "language": "python",
   "name": "conda-env-anaconda-2024.02-py310-py"
  },
  "language_info": {
   "codemirror_mode": {
    "name": "ipython",
    "version": 3
   },
   "file_extension": ".py",
   "mimetype": "text/x-python",
   "name": "python",
   "nbconvert_exporter": "python",
   "pygments_lexer": "ipython3",
   "version": "3.10.14"
  }
 },
 "nbformat": 4,
 "nbformat_minor": 5
}
