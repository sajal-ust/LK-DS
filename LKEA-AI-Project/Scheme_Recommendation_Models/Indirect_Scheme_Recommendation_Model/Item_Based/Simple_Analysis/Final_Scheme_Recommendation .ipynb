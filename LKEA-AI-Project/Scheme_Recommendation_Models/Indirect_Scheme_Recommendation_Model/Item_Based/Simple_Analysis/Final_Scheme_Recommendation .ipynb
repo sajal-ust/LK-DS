{
 "cells": [
  {
   "cell_type": "code",
   "execution_count": 1,
   "id": "db60241f-4607-46d9-8dcc-91073d44c2cd",
   "metadata": {},
   "outputs": [],
   "source": [
    "import pandas as pd # Used for working with tabular data (like Excel or CSV files)\n",
    "import ast# Used to safely convert strings that look like Python objects (like lists or dictionaries) into actual Python objects"
   ]
  },
  {
   "cell_type": "code",
   "execution_count": 2,
   "id": "592d6596-84c4-44be-9174-bdbd1645d291",
   "metadata": {},
   "outputs": [],
   "source": [
    "# Load the data from CSV files\n",
    "df_scheme_mapping = pd.read_csv(\"Optimized_Product_Partner_Scheme_Mapping.csv\")\n",
    "df_recommendations = pd.read_csv(\"Partner_Product_Recommendations.csv\")"
   ]
  },
  {
   "cell_type": "code",
   "execution_count": 3,
   "id": "fcedddc4-1c0d-4c16-b1cd-e5ada3dcc179",
   "metadata": {},
   "outputs": [],
   "source": [
    "def safe_eval(val):\n",
    "    # Try to safely convert a string that looks like a list (e.g., \"[1, 2, 3]\") into a real Python list\n",
    "    try:\n",
    "    # Only attempt conversion if it's a string starting with a square bracket\n",
    "        return ast.literal_eval(val) if isinstance(val, str) and val.startswith(\"[\") else val\n",
    "        # If conversion fails, just return the original value without crashing the code\n",
    "    except:\n",
    "        return val"
   ]
  },
  {
   "cell_type": "code",
   "execution_count": 4,
   "id": "f8b91260-a834-4c05-9b15-ce993d546dad",
   "metadata": {},
   "outputs": [
    {
     "name": "stdout",
     "output_type": "stream",
     "text": [
      "Final Partner Product Schemes saved successfully!\n"
     ]
    }
   ],
   "source": [
    "# Convert string representations of lists into actual Python lists (if needed)\n",
    "df_scheme_mapping[\"Partner_id\"] = df_scheme_mapping[\"Partner_id\"].apply(safe_eval)\n",
    "df_recommendations[\"Recommended_Products\"] = df_recommendations[\"Recommended_Products\"].apply(safe_eval)\n",
    "df_recommendations[\"Similarity_Scores\"] = df_recommendations[\"Similarity_Scores\"].apply(safe_eval)\n",
    "\n",
    "# This will store the final mapped results for all partners\n",
    "# Go through each partner's recommended products\n",
    "results = []\n",
    "for _, row in df_recommendations.iterrows():\n",
    "    partner_id = row[\"Partner_id\"]\n",
    "    # Loop through each recommended product and its similarity score\n",
    "    for product, score in zip(row[\"Recommended_Products\"], row[\"Similarity_Scores\"]):\n",
    "        # Look up the top 3 schemes for the recommended product\n",
    "        # Extract the schemes, or set defaults if no mapping is found\n",
    "        schemes = df_scheme_mapping[df_scheme_mapping[\"Product_id\"] == product][[\"Scheme_1\", \"Scheme_2\", \"Scheme_3\"]]\n",
    "        scheme_1, scheme_2, scheme_3 = schemes.iloc[0].fillna(\"Not Available\").values if not schemes.empty else (\"Not Available\", \"Not Available\", \"Not Available\")\n",
    "        # Store the result row: partner, product, score, and its suggested schemes\n",
    "        results.append([partner_id, product, score, scheme_1, scheme_2, scheme_3]) \n",
    "# Convert results list into a new DataFrame\n",
    "df_final_schemes = pd.DataFrame(results, columns=[\"Partner_id\", \"Product_id\", \"Similarity_Scores\", \"Scheme_1\", \"Scheme_2\", \"Scheme_3\"])\n",
    "df_final_schemes.to_csv(\"Final_Partner_Product_Schemes.csv\", index=False)\n",
    "\n",
    "print(\"Final Partner Product Schemes saved successfully!\")\n"
   ]
  },
  {
   "cell_type": "code",
   "execution_count": null,
   "id": "cb28342a-1a45-406c-8cf7-95fdc5f3700a",
   "metadata": {},
   "outputs": [],
   "source": []
  },
  {
   "cell_type": "code",
   "execution_count": null,
   "id": "261b4d0d-69b1-4b70-b067-36b32d36bdf6",
   "metadata": {},
   "outputs": [],
   "source": []
  }
 ],
 "metadata": {
  "kernelspec": {
   "display_name": "anaconda-2024.02-py310",
   "language": "python",
   "name": "conda-env-anaconda-2024.02-py310-py"
  },
  "language_info": {
   "codemirror_mode": {
    "name": "ipython",
    "version": 3
   },
   "file_extension": ".py",
   "mimetype": "text/x-python",
   "name": "python",
   "nbconvert_exporter": "python",
   "pygments_lexer": "ipython3",
   "version": "3.10.14"
  }
 },
 "nbformat": 4,
 "nbformat_minor": 5
}
