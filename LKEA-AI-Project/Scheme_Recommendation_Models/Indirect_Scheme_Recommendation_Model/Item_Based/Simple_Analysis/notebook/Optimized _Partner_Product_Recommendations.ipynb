{
 "cells": [
  {
   "cell_type": "code",
   "execution_count": 1,
   "id": "2b691df2-fc5e-477f-9cc4-a3cdfd01c687",
   "metadata": {},
   "outputs": [],
   "source": [
    "import pandas as pd# For working with data in tables (DataFrames)\n",
    "from collections import Counter# For counting the frequency of items in a list or collection\n",
    "import ast# For safely converting strings that look like Python data structures (like lists or dicts) back into actual Python objects"
   ]
  },
  {
   "cell_type": "code",
   "execution_count": 2,
   "id": "256c0aba-d0e5-47e4-a342-cc20492c0cba",
   "metadata": {},
   "outputs": [],
   "source": [
    "# Load dataset\n",
    "file_path = \"generated_stockist_data.csv\"\n",
    "df = pd.read_csv(file_path)"
   ]
  },
  {
   "cell_type": "code",
   "execution_count": 3,
   "id": "8c23729d-3845-4614-8e76-08a29e985c89",
   "metadata": {},
   "outputs": [],
   "source": [
    "# Define relevant product columns\n",
    "product_columns = [\n",
    "    'AIS(Air Insulated Switchgear)', 'RMU(Ring Main Unit)', 'PSS(Compact Sub-Stations)',\n",
    "    'VCU(Vacuum Contactor Units)', 'E-House', 'VCB(Vacuum Circuit Breaker)', 'ACB(Air Circuit Breaker)',\n",
    "    'MCCB(Moduled Case Circuit Breaker)', 'SDF(Switch Disconnectors)', 'BBT(Busbar Trunking)',\n",
    "    'Modular Switches', 'Starter', 'Controller', 'Solar Solutions', 'Pump Starter and Controller'\n",
    "]\n",
    "existing_product_columns = [col for col in product_columns if col in df.columns]"
   ]
  },
  {
   "cell_type": "code",
   "execution_count": 4,
   "id": "c8d7c29f-0815-4950-948c-e347dcd2d2cb",
   "metadata": {},
   "outputs": [],
   "source": [
    "# Initialize tracking variables\n",
    "product_scheme_data = []"
   ]
  },
  {
   "cell_type": "code",
   "execution_count": 5,
   "id": "19b6b504-4c04-4f02-9507-f6d0f4c591b1",
   "metadata": {},
   "outputs": [],
   "source": [
    "# Process each product separately\n",
    "for product in existing_product_columns:\n",
    "    # Filter the DataFrame to get only those rows (stockists) who sold this product\n",
    "    product_df = df[df[product] == 1]  # Filter stockists selling this product\n",
    "    \n",
    "    if product_df.empty:\n",
    "        continue  # Skip this product if no stockists have sold it\n",
    "\n",
    "    # Extract relevant columns\n",
    "    partner_ids = product_df['Partner_id'].dropna().astype(str).unique()\n",
    "\n",
    "    # Consider only Sales Quantity for scheme selection\n",
    "    # Only keep the columns needed for scheme analysis (scheme type and sales quantity)\n",
    "    scheme_data = product_df[['Scheme_Type', 'Sales_Quantity_Last_Period']].dropna()\n",
    "    \n",
    "    # Compute scheme impact (Weighted by Sales Quantity) for each product separately\n",
    "    # Create a counter to track scheme impact (based on sales quantity) for this product\n",
    "    scheme_growth = Counter()\n",
    "\n",
    "    # Loop through each stockist who sold the product with a scheme\n",
    "    for _, row in scheme_data.iterrows():\n",
    "        # Split multiple schemes (if any) by comma and space\n",
    "        schemes = row['Scheme_Type'].split(', ') if isinstance(row['Scheme_Type'], str) else []\n",
    "        # Add the sales quantity to each scheme to measure how effective each one was\n",
    "        for scheme in schemes:\n",
    "            scheme_growth[scheme] += row['Sales_Quantity_Last_Period']\n",
    "\n",
    "    # Select top 3 schemes for this specific product\n",
    "    top_schemes = [s[0] for s in scheme_growth.most_common(3)]\n",
    "    # If fewer than 3 schemes exist, fill the rest with a placeholder\n",
    "    while len(top_schemes) < 3:\n",
    "        top_schemes.append(\"No Scheme Available\")\n",
    "\n",
    "    # Store the processed data\n",
    "    # Store the product-wise scheme recommendation along with associated partners\n",
    "    # Current product, 'Product_id'\n",
    "    # All stockists who sold this product,'Partner_id'\n",
    "    # Most effective scheme,'Scheme_1'\n",
    "    # Second-best scheme,'Scheme_2'\n",
    "    # Third-best scheme,'Scheme_3'\n",
    "    product_scheme_data.append({\n",
    "        'Product_id': product,\n",
    "        'Partner_id': ', '.join(partner_ids),\n",
    "        'Scheme_1': top_schemes[0],\n",
    "        'Scheme_2': top_schemes[1],\n",
    "        'Scheme_3': top_schemes[2]\n",
    "    })"
   ]
  },
  {
   "cell_type": "code",
   "execution_count": 6,
   "id": "97d6de77-0a93-425a-9c30-8b1a5131a1a0",
   "metadata": {},
   "outputs": [],
   "source": [
    "# Convert results into a DataFrame\n",
    "final_df = pd.DataFrame(product_scheme_data)\n",
    "\n",
    "# Save intermediate results\n",
    "final_scheme_mapping_path = \"Optimized_Product_Partner_Scheme_Mapping.csv\"\n",
    "final_df.to_csv(final_scheme_mapping_path, index=False) "
   ]
  },
  {
   "cell_type": "code",
   "execution_count": null,
   "id": "2584f7bf-78b2-4437-b842-cac14eff01a7",
   "metadata": {},
   "outputs": [],
   "source": []
  },
  {
   "cell_type": "code",
   "execution_count": null,
   "id": "dff86e59-2f80-44d2-8191-70ba568b8253",
   "metadata": {},
   "outputs": [],
   "source": []
  }
 ],
 "metadata": {
  "kernelspec": {
   "display_name": "anaconda-2024.02-py310",
   "language": "python",
   "name": "conda-env-anaconda-2024.02-py310-py"
  },
  "language_info": {
   "codemirror_mode": {
    "name": "ipython",
    "version": 3
   },
   "file_extension": ".py",
   "mimetype": "text/x-python",
   "name": "python",
   "nbconvert_exporter": "python",
   "pygments_lexer": "ipython3",
   "version": "3.10.14"
  }
 },
 "nbformat": 4,
 "nbformat_minor": 5
}
