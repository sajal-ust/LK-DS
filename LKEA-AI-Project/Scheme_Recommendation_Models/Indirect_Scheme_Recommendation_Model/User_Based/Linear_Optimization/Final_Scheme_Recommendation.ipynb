{
 "cells": [
  {
   "cell_type": "code",
   "execution_count": 1,
   "id": "c3f27b79-b6cf-4b49-a680-f1aefe5196c6",
   "metadata": {},
   "outputs": [],
   "source": [
    "import pandas as pd\n",
    "import ast\n",
    "\n",
    "# Load CSVs\n",
    "df_scheme_mapping = pd.read_csv(\"Top_Optimized_Schemes_with_LP.csv\")\n",
    "df_recommendations = pd.read_csv(\"User_Based_Recommendations.csv\")\n"
   ]
  },
  {
   "cell_type": "code",
   "execution_count": 2,
   "id": "08c82043-f3db-48eb-a549-8c7b0efc4d08",
   "metadata": {},
   "outputs": [],
   "source": [
    "# Standardize column names to avoid casing/spacing issues\n",
    "df_scheme_mapping.columns = df_scheme_mapping.columns.str.strip().str.lower()\n",
    "df_recommendations.columns = df_recommendations.columns.str.strip().str.lower()"
   ]
  },
  {
   "cell_type": "code",
   "execution_count": 3,
   "id": "e80c4913-0f77-4c1f-80cc-e6ef267bbd11",
   "metadata": {},
   "outputs": [],
   "source": [
    "# Function to safely convert stringified lists into Python lists\n",
    "def safe_eval(val):\n",
    "    try:\n",
    "        return ast.literal_eval(val) if isinstance(val, str) and val.startswith(\"[\") else val\n",
    "    except (ValueError, SyntaxError):\n",
    "        return val"
   ]
  },
  {
   "cell_type": "code",
   "execution_count": 4,
   "id": "d3a66722-470e-45a1-bffe-6ae99094732a",
   "metadata": {},
   "outputs": [],
   "source": [
    "# Apply safe_eval where needed\n",
    "df_scheme_mapping[\"partner_id\"] = df_scheme_mapping[\"partner_id\"].apply(safe_eval)\n",
    "df_recommendations[\"recommended_products\"] = df_recommendations[\"recommended_products\"].apply(safe_eval)\n",
    "df_recommendations[\"similarity_scores\"] = df_recommendations[\"similarity_scores\"].apply(safe_eval)\n"
   ]
  },
  {
   "cell_type": "code",
   "execution_count": 5,
   "id": "6c56f42b-0b66-49ae-8c3c-08d2cf19d10f",
   "metadata": {},
   "outputs": [],
   "source": [
    "# Combine recommendation and scheme data\n",
    "results = []\n",
    "for _, row in df_recommendations.iterrows():\n",
    "    partner_id = row[\"partner_id\"]\n",
    "    recommended_products = row[\"recommended_products\"]\n",
    "    similarity_scores = row[\"similarity_scores\"]\n",
    "\n",
    "    if not isinstance(recommended_products, list) or not isinstance(similarity_scores, list):\n",
    "        continue  # Skip rows with invalid list structure\n",
    "\n",
    "    for product, score in zip(recommended_products, similarity_scores):\n",
    "        schemes = df_scheme_mapping[df_scheme_mapping[\"product_id\"] == product][[\"scheme_1\", \"scheme_2\", \"scheme_3\"]]\n",
    "        \n",
    "        if not schemes.empty:\n",
    "            scheme_1, scheme_2, scheme_3 = schemes.iloc[0].fillna(\"Not Available\").values\n",
    "        else:\n",
    "            scheme_1, scheme_2, scheme_3 = \"Not Available\", \"Not Available\", \"Not Available\"\n",
    "        \n",
    "        results.append([partner_id, product, score, scheme_1, scheme_2, scheme_3])"
   ]
  },
  {
   "cell_type": "code",
   "execution_count": 6,
   "id": "a028317b-6d4f-4355-b538-44fe4ae90278",
   "metadata": {},
   "outputs": [
    {
     "name": "stdout",
     "output_type": "stream",
     "text": [
      "Final Partner Product Schemes saved successfully.\n"
     ]
    }
   ],
   "source": [
    "# Save the final output\n",
    "df_final_schemes = pd.DataFrame(results, columns=[\n",
    "    \"Partner_id\", \"Product_id\", \"Similarity_Scores\", \"Scheme_1\", \"Scheme_2\", \"Scheme_3\"\n",
    "])\n",
    "df_final_schemes.to_csv(\"Final_Partner_Product_Schemes.csv\", index=False)\n",
    "\n",
    "print(\"Final Partner Product Schemes saved successfully.\")\n"
   ]
  },
  {
   "cell_type": "code",
   "execution_count": null,
   "id": "9b4d7802-cb80-4bfe-b8ea-0352907562b0",
   "metadata": {},
   "outputs": [],
   "source": []
  },
  {
   "cell_type": "code",
   "execution_count": null,
   "id": "54f53cf2-40df-406a-b282-400a58efeffc",
   "metadata": {},
   "outputs": [],
   "source": []
  }
 ],
 "metadata": {
  "kernelspec": {
   "display_name": "anaconda-2024.02-py310",
   "language": "python",
   "name": "conda-env-anaconda-2024.02-py310-py"
  },
  "language_info": {
   "codemirror_mode": {
    "name": "ipython",
    "version": 3
   },
   "file_extension": ".py",
   "mimetype": "text/x-python",
   "name": "python",
   "nbconvert_exporter": "python",
   "pygments_lexer": "ipython3",
   "version": "3.10.14"
  }
 },
 "nbformat": 4,
 "nbformat_minor": 5
}
