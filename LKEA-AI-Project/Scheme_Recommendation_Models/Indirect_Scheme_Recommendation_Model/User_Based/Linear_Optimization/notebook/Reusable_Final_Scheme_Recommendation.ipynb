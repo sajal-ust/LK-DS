{
 "cells": [
  {
   "cell_type": "code",
   "execution_count": 1,
   "id": "592d6596-84c4-44be-9174-bdbd1645d291",
   "metadata": {},
   "outputs": [],
   "source": [
    "import pandas as pd\n",
    "import ast\n",
    "import logging\n",
    "from typing import Any, List, Tuple"
   ]
  },
  {
   "cell_type": "code",
   "execution_count": 2,
   "id": "aa0d08a7-3ed2-4304-83ad-f415f0645d06",
   "metadata": {},
   "outputs": [],
   "source": [
    "# Setup logging\n",
    "logging.basicConfig(level=logging.INFO, format=\"%(asctime)s — %(levelname)s — %(message)s\")\n",
    "logger = logging.getLogger(__name__)\n",
    "\n",
    "\n",
    "def load_and_clean_csv(file_path: str) -> pd.DataFrame:\n",
    "    \"\"\"Load a CSV file and clean column names.\"\"\"\n",
    "    try:\n",
    "        df = pd.read_csv(file_path)\n",
    "        df.columns = df.columns.str.strip().str.lower()\n",
    "        logger.info(f\"Loaded and cleaned: {file_path} — {df.shape[0]} rows.\")\n",
    "        return df\n",
    "    except Exception as e:\n",
    "        logger.error(f\"Failed to load {file_path}: {e}\")\n",
    "        raise\n"
   ]
  },
  {
   "cell_type": "code",
   "execution_count": 3,
   "id": "2bd31856-fa10-49e8-b0b6-63660024427f",
   "metadata": {},
   "outputs": [],
   "source": [
    "def safe_eval(val: Any) -> Any:\n",
    "    \"\"\"Safely convert a string to a Python list if it looks like one.\"\"\"\n",
    "    try:\n",
    "        return ast.literal_eval(val) if isinstance(val, str) and val.startswith(\"[\") else val\n",
    "    except (ValueError, SyntaxError) as e:\n",
    "        logger.warning(f\"safe_eval failed for value: {val} — {e}\")\n",
    "        return val"
   ]
  },
  {
   "cell_type": "code",
   "execution_count": 4,
   "id": "7bd3acc2-2a8d-40c4-aee2-76dd2c77413d",
   "metadata": {},
   "outputs": [],
   "source": [
    "def apply_safe_eval(df: pd.DataFrame, columns: List[str]) -> pd.DataFrame:\n",
    "    \"\"\"Apply safe_eval to specified columns.\"\"\"\n",
    "    for col in columns:\n",
    "        df[col] = df[col].apply(safe_eval)\n",
    "        logger.info(f\"Applied safe_eval on column: {col}\")\n",
    "    return df"
   ]
  },
  {
   "cell_type": "code",
   "execution_count": 5,
   "id": "fd71fbe9-644c-4772-91f6-da654d5977e1",
   "metadata": {},
   "outputs": [],
   "source": [
    "def merge_recommendations_with_schemes(\n",
    "    df_recs: pd.DataFrame,\n",
    "    df_schemes: pd.DataFrame\n",
    ") -> pd.DataFrame:\n",
    "    \"\"\"Combine recommended products with available schemes.\"\"\"\n",
    "    results = []\n",
    "\n",
    "    for _, row in df_recs.iterrows():\n",
    "        partner_id = row.get(\"partner_id\")\n",
    "        recommended_products = row.get(\"recommended_products\", [])\n",
    "        similarity_scores = row.get(\"similarity_scores\", [])\n",
    "\n",
    "        if not isinstance(recommended_products, list) or not isinstance(similarity_scores, list):\n",
    "            logger.warning(f\"Skipping invalid row for Partner {partner_id}\")\n",
    "            continue\n",
    "\n",
    "        for product, score in zip(recommended_products, similarity_scores):\n",
    "            matched_schemes = df_schemes[df_schemes[\"product_id\"] == product][[\"scheme_1\", \"scheme_2\", \"scheme_3\"]]\n",
    "            \n",
    "            if not matched_schemes.empty:\n",
    "                scheme_1, scheme_2, scheme_3 = matched_schemes.iloc[0].fillna(\"Not Available\").values\n",
    "            else:\n",
    "                scheme_1, scheme_2, scheme_3 = \"Not Available\", \"Not Available\", \"Not Available\"\n",
    "            \n",
    "            results.append([partner_id, product, score, scheme_1, scheme_2, scheme_3])\n",
    "\n",
    "    return pd.DataFrame(results, columns=[\n",
    "        \"Partner_id\", \"Product_id\", \"Similarity_Scores\", \"Scheme_1\", \"Scheme_2\", \"Scheme_3\"\n",
    "    ])\n"
   ]
  },
  {
   "cell_type": "code",
   "execution_count": 6,
   "id": "54430872-134d-4628-bf20-6c283ffafab6",
   "metadata": {},
   "outputs": [
    {
     "name": "stderr",
     "output_type": "stream",
     "text": [
      "2025-04-02 09:30:48,465 — INFO — Loaded and cleaned: User_Based_Recommendations.csv — 1000 rows.\n",
      "2025-04-02 09:30:48,469 — INFO — Loaded and cleaned: Top_Optimized_Schemes_with_LP.csv — 15 rows.\n",
      "2025-04-02 09:30:48,484 — INFO — Applied safe_eval on column: recommended_products\n",
      "2025-04-02 09:30:48,496 — INFO — Applied safe_eval on column: similarity_scores\n",
      "2025-04-02 09:30:50,951 — INFO — Final partner-product scheme mapping saved to Final_Partner_Product_Schemes.csv\n"
     ]
    }
   ],
   "source": [
    "def generate_final_scheme_output(\n",
    "    recs_path: str,\n",
    "    scheme_path: str,\n",
    "    output_path: str\n",
    "):\n",
    "    \"\"\"End-to-end function to generate final scheme mapping from recommendations.\"\"\"\n",
    "    df_recs = load_and_clean_csv(recs_path)\n",
    "    df_schemes = load_and_clean_csv(scheme_path)\n",
    "\n",
    "    df_recs = apply_safe_eval(df_recs, [\"recommended_products\", \"similarity_scores\"])\n",
    "    df_schemes[\"partner_id\"] = df_schemes[\"partner_id\"].apply(safe_eval)\n",
    "\n",
    "    final_df = merge_recommendations_with_schemes(df_recs, df_schemes)\n",
    "    final_df.to_csv(output_path, index=False)\n",
    "    logger.info(f\"Final partner-product scheme mapping saved to {output_path}\")\n",
    "\n",
    "\n",
    "if __name__ == \"__main__\":\n",
    "    generate_final_scheme_output(\n",
    "        recs_path=\"User_Based_Recommendations.csv\",\n",
    "        scheme_path=\"Top_Optimized_Schemes_with_LP.csv\",\n",
    "        output_path=\"Final_Partner_Product_Schemes.csv\"\n",
    "    )"
   ]
  },
  {
   "cell_type": "code",
   "execution_count": null,
   "id": "677e5f02-0bee-48bf-932c-5383bbbda0c1",
   "metadata": {},
   "outputs": [],
   "source": []
  },
  {
   "cell_type": "code",
   "execution_count": null,
   "id": "36d0dbc6-102a-47d7-85e2-b2f86cfd0969",
   "metadata": {},
   "outputs": [],
   "source": []
  }
 ],
 "metadata": {
  "kernelspec": {
   "display_name": "anaconda-2024.02-py310",
   "language": "python",
   "name": "conda-env-anaconda-2024.02-py310-py"
  },
  "language_info": {
   "codemirror_mode": {
    "name": "ipython",
    "version": 3
   },
   "file_extension": ".py",
   "mimetype": "text/x-python",
   "name": "python",
   "nbconvert_exporter": "python",
   "pygments_lexer": "ipython3",
   "version": "3.10.14"
  }
 },
 "nbformat": 4,
 "nbformat_minor": 5
}
