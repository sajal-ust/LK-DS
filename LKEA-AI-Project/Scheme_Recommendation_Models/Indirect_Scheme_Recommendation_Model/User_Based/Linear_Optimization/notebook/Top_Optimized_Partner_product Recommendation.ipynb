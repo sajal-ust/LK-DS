{
 "cells": [
  {
   "cell_type": "code",
   "execution_count": 1,
   "id": "c6ee21d9-5e52-465d-9852-7be28557aebf",
   "metadata": {},
   "outputs": [],
   "source": [
    "import pandas as pd\n",
    "from scipy.optimize import linprog\n",
    "import numpy as np\n"
   ]
  },
  {
   "cell_type": "code",
   "execution_count": 2,
   "id": "4a613e7a-b0e4-4c37-b96f-dc17bfeb2d19",
   "metadata": {},
   "outputs": [],
   "source": [
    "# Load dataset\n",
    "df = pd.read_csv(\"Stockist_data.csv\")"
   ]
  },
  {
   "cell_type": "code",
   "execution_count": 3,
   "id": "3b866731-104f-4c52-a08e-7d893bd23309",
   "metadata": {},
   "outputs": [],
   "source": [
    "# Define metadata columns\n",
    "metadata_cols = ['Partner_id', 'Geography', 'Stockist_Type', 'Scheme_Type', 'Sales_Value_Last_Period', \n",
    "                 'Sales_Quantity_Last_Period', 'MRP', 'Growth_Percentage', 'Discount_Applied', \n",
    "                 'Bulk_Purchase_Tendency', 'New_Stockist', 'Feedback_Score']\n"
   ]
  },
  {
   "cell_type": "code",
   "execution_count": 4,
   "id": "418e7b81-5298-4833-91ae-471f11252ffe",
   "metadata": {},
   "outputs": [],
   "source": [
    "# Identify product columns (excluding metadata)\n",
    "product_cols = [col for col in df.columns if col not in metadata_cols]\n",
    "\n",
    "# Transform data to have 'Product_id' column\n",
    "df_melted = df.melt(id_vars=metadata_cols, value_vars=product_cols, \n",
    "                     var_name='Product_id', value_name='Has_Product')\n",
    "df_melted = df_melted[df_melted['Has_Product'] == 1].drop(columns=['Has_Product']) # Aggregate sales volume per Partner-Product-Scheme combination\n",
    "product_schemes = df_melted.groupby([\"Partner_id\", \"Product_id\", \"Scheme_Type\"]).agg({\n",
    "    \"Sales_Value_Last_Period\": \"sum\",\n",
    "    \"Sales_Quantity_Last_Period\": \"sum\"\n",
    "}).reset_index()\n"
   ]
  },
  {
   "cell_type": "code",
   "execution_count": 5,
   "id": "dbe7ab93-4a9e-4dd8-9f7f-0d6f780159c7",
   "metadata": {},
   "outputs": [],
   "source": [
    "# Prepare data for optimization\n",
    "optimization_data = product_schemes[[\"Product_id\", \"Scheme_Type\", \"Sales_Value_Last_Period\"]]\n",
    "\n",
    "# Function to perform LP optimization for each product\n",
    "def optimize_schemes(product_group):\n",
    "    schemes = product_group[\"Scheme_Type\"].unique()\n",
    "    num_schemes = len(schemes)\n",
    "\n",
    "    if num_schemes == 0:\n",
    "        return [None, None, None]  # Ensure blank entries\n",
    "\n",
    "    if num_schemes <= 3:\n",
    "        return list(schemes) + [None] * (3 - num_schemes)\n",
    "\n",
    "    c = -product_group.groupby(\"Scheme_Type\")[\"Sales_Value_Last_Period\"].sum().values\n",
    "    bounds = [(0, 1) for _ in range(num_schemes)]\n",
    "    res = linprog(c, bounds=bounds, method='highs', options={\"disp\": False})\n",
    "    \n",
    "    return [None, None, None]\n"
   ]
  },
  {
   "cell_type": "code",
   "execution_count": 6,
   "id": "d2b69910-4443-4f31-8873-2d5c71a09b16",
   "metadata": {},
   "outputs": [],
   "source": [
    "# Apply optimization\n",
    "optimized_schemes = optimization_data.groupby(\"Product_id\").apply(optimize_schemes).reset_index()\n",
    "optimized_schemes[[\"Scheme_1\", \"Scheme_2\", \"Scheme_3\"]] = pd.DataFrame(optimized_schemes[0].tolist(), index=optimized_schemes.index)\n",
    "optimized_schemes = optimized_schemes.drop(columns=[0])\n"
   ]
  },
  {
   "cell_type": "code",
   "execution_count": 7,
   "id": "91ce9ce5-66db-4b59-8339-18c9e2db05b9",
   "metadata": {},
   "outputs": [],
   "source": [
    "# Group Partner_ids per product\n",
    "partners_per_product = df_melted.groupby(\"Product_id\")[\"Partner_id\"].apply(list).reset_index()\n"
   ]
  },
  {
   "cell_type": "code",
   "execution_count": 8,
   "id": "e3b4ede6-607c-4a65-8738-efc1e03e2663",
   "metadata": {},
   "outputs": [],
   "source": [
    "# Merge with optimized schemes\n",
    "final_optimized_output = partners_per_product.merge(optimized_schemes, on=\"Product_id\", how=\"left\")\n",
    "final_optimized_output.to_csv(\"Top_Optimized_Schemes_with_LP.csv\", index=False)\n"
   ]
  },
  {
   "cell_type": "code",
   "execution_count": null,
   "id": "03f1ad66-a0c5-42b6-a1f9-b675c7216291",
   "metadata": {},
   "outputs": [],
   "source": []
  },
  {
   "cell_type": "code",
   "execution_count": null,
   "id": "ae96316b-1ed2-4925-a9fb-c395f9435468",
   "metadata": {},
   "outputs": [],
   "source": []
  }
 ],
 "metadata": {
  "kernelspec": {
   "display_name": "anaconda-2024.02-py310",
   "language": "python",
   "name": "conda-env-anaconda-2024.02-py310-py"
  },
  "language_info": {
   "codemirror_mode": {
    "name": "ipython",
    "version": 3
   },
   "file_extension": ".py",
   "mimetype": "text/x-python",
   "name": "python",
   "nbconvert_exporter": "python",
   "pygments_lexer": "ipython3",
   "version": "3.10.14"
  }
 },
 "nbformat": 4,
 "nbformat_minor": 5
}
