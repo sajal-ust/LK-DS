{
 "cells": [
  {
   "cell_type": "code",
   "execution_count": 4,
   "id": "236ecc54-2d7c-4bab-96d1-19a5829432fb",
   "metadata": {},
   "outputs": [],
   "source": [
    "import pandas as pd\n",
    "from sklearn.neighbors import NearestNeighbors\n",
    "import numpy as np\n",
    "from sklearn.model_selection import train_test_split"
   ]
  },
  {
   "cell_type": "code",
   "execution_count": 5,
   "id": "8bae57a9-0594-4ddb-965a-0f11e13468b7",
   "metadata": {},
   "outputs": [],
   "source": [
    "# Load the stockist data\n",
    "stockist_df = pd.read_csv(\"stockist_data.csv\")\n"
   ]
  },
  {
   "cell_type": "code",
   "execution_count": 6,
   "id": "b22fe4bb-6ea5-40c1-bd5d-8f18815f0dea",
   "metadata": {},
   "outputs": [],
   "source": [
    "# Define product columns\n",
    "product_columns = [\n",
    "    \"AIS(Air Insulated Switchgear)\", \"RMU(Ring Main Unit)\", \"PSS(Compact Sub-Stations)\",\n",
    "    \"VCU(Vacuum Contactor Units)\", \"E-House\", \"VCB(Vacuum Circuit Breaker)\",\n",
    "    \"ACB(Air Circuit Breaker)\", \"MCCB(Moduled Case Circuit Breaker)\", \"SDF(Switch Disconnectors)\",\n",
    "    \"BBT(Busbar Trunking)\", \"Modular Switches\", \"Starter\", \"Controller\",\n",
    "    \"Solar Solutions\", \"Pump Starter and Controller\"\n",
    "]"
   ]
  },
  {
   "cell_type": "code",
   "execution_count": 7,
   "id": "b4b049a7-7447-46e3-b63a-c5c780b72e33",
   "metadata": {},
   "outputs": [],
   "source": [
    "# Extract the user-product matrix\n",
    "user_product_matrix = stockist_df.set_index(\"Partner_id\")[product_columns]\n",
    "user_product_matrix = user_product_matrix.astype(int)  # Convert to numeric\n"
   ]
  },
  {
   "cell_type": "code",
   "execution_count": 8,
   "id": "1b941f2a-72c6-4b28-874f-5452de919b03",
   "metadata": {},
   "outputs": [],
   "source": [
    "# Split data into train and test sets (80% train, 20% test)\n",
    "train_data, test_data = train_test_split(user_product_matrix, test_size=0.2, random_state=42)\n"
   ]
  },
  {
   "cell_type": "code",
   "execution_count": 9,
   "id": "7f317bea-059b-466e-b160-c172d7b642fd",
   "metadata": {},
   "outputs": [
    {
     "data": {
      "text/html": [
       "<style>#sk-container-id-1 {color: black;}#sk-container-id-1 pre{padding: 0;}#sk-container-id-1 div.sk-toggleable {background-color: white;}#sk-container-id-1 label.sk-toggleable__label {cursor: pointer;display: block;width: 100%;margin-bottom: 0;padding: 0.3em;box-sizing: border-box;text-align: center;}#sk-container-id-1 label.sk-toggleable__label-arrow:before {content: \"▸\";float: left;margin-right: 0.25em;color: #696969;}#sk-container-id-1 label.sk-toggleable__label-arrow:hover:before {color: black;}#sk-container-id-1 div.sk-estimator:hover label.sk-toggleable__label-arrow:before {color: black;}#sk-container-id-1 div.sk-toggleable__content {max-height: 0;max-width: 0;overflow: hidden;text-align: left;background-color: #f0f8ff;}#sk-container-id-1 div.sk-toggleable__content pre {margin: 0.2em;color: black;border-radius: 0.25em;background-color: #f0f8ff;}#sk-container-id-1 input.sk-toggleable__control:checked~div.sk-toggleable__content {max-height: 200px;max-width: 100%;overflow: auto;}#sk-container-id-1 input.sk-toggleable__control:checked~label.sk-toggleable__label-arrow:before {content: \"▾\";}#sk-container-id-1 div.sk-estimator input.sk-toggleable__control:checked~label.sk-toggleable__label {background-color: #d4ebff;}#sk-container-id-1 div.sk-label input.sk-toggleable__control:checked~label.sk-toggleable__label {background-color: #d4ebff;}#sk-container-id-1 input.sk-hidden--visually {border: 0;clip: rect(1px 1px 1px 1px);clip: rect(1px, 1px, 1px, 1px);height: 1px;margin: -1px;overflow: hidden;padding: 0;position: absolute;width: 1px;}#sk-container-id-1 div.sk-estimator {font-family: monospace;background-color: #f0f8ff;border: 1px dotted black;border-radius: 0.25em;box-sizing: border-box;margin-bottom: 0.5em;}#sk-container-id-1 div.sk-estimator:hover {background-color: #d4ebff;}#sk-container-id-1 div.sk-parallel-item::after {content: \"\";width: 100%;border-bottom: 1px solid gray;flex-grow: 1;}#sk-container-id-1 div.sk-label:hover label.sk-toggleable__label {background-color: #d4ebff;}#sk-container-id-1 div.sk-serial::before {content: \"\";position: absolute;border-left: 1px solid gray;box-sizing: border-box;top: 0;bottom: 0;left: 50%;z-index: 0;}#sk-container-id-1 div.sk-serial {display: flex;flex-direction: column;align-items: center;background-color: white;padding-right: 0.2em;padding-left: 0.2em;position: relative;}#sk-container-id-1 div.sk-item {position: relative;z-index: 1;}#sk-container-id-1 div.sk-parallel {display: flex;align-items: stretch;justify-content: center;background-color: white;position: relative;}#sk-container-id-1 div.sk-item::before, #sk-container-id-1 div.sk-parallel-item::before {content: \"\";position: absolute;border-left: 1px solid gray;box-sizing: border-box;top: 0;bottom: 0;left: 50%;z-index: -1;}#sk-container-id-1 div.sk-parallel-item {display: flex;flex-direction: column;z-index: 1;position: relative;background-color: white;}#sk-container-id-1 div.sk-parallel-item:first-child::after {align-self: flex-end;width: 50%;}#sk-container-id-1 div.sk-parallel-item:last-child::after {align-self: flex-start;width: 50%;}#sk-container-id-1 div.sk-parallel-item:only-child::after {width: 0;}#sk-container-id-1 div.sk-dashed-wrapped {border: 1px dashed gray;margin: 0 0.4em 0.5em 0.4em;box-sizing: border-box;padding-bottom: 0.4em;background-color: white;}#sk-container-id-1 div.sk-label label {font-family: monospace;font-weight: bold;display: inline-block;line-height: 1.2em;}#sk-container-id-1 div.sk-label-container {text-align: center;}#sk-container-id-1 div.sk-container {/* jupyter's `normalize.less` sets `[hidden] { display: none; }` but bootstrap.min.css set `[hidden] { display: none !important; }` so we also need the `!important` here to be able to override the default hidden behavior on the sphinx rendered scikit-learn.org. See: https://github.com/scikit-learn/scikit-learn/issues/21755 */display: inline-block !important;position: relative;}#sk-container-id-1 div.sk-text-repr-fallback {display: none;}</style><div id=\"sk-container-id-1\" class=\"sk-top-container\"><div class=\"sk-text-repr-fallback\"><pre>NearestNeighbors(algorithm=&#x27;brute&#x27;, metric=&#x27;cosine&#x27;)</pre><b>In a Jupyter environment, please rerun this cell to show the HTML representation or trust the notebook. <br />On GitHub, the HTML representation is unable to render, please try loading this page with nbviewer.org.</b></div><div class=\"sk-container\" hidden><div class=\"sk-item\"><div class=\"sk-estimator sk-toggleable\"><input class=\"sk-toggleable__control sk-hidden--visually\" id=\"sk-estimator-id-1\" type=\"checkbox\" checked><label for=\"sk-estimator-id-1\" class=\"sk-toggleable__label sk-toggleable__label-arrow\">NearestNeighbors</label><div class=\"sk-toggleable__content\"><pre>NearestNeighbors(algorithm=&#x27;brute&#x27;, metric=&#x27;cosine&#x27;)</pre></div></div></div></div></div>"
      ],
      "text/plain": [
       "NearestNeighbors(algorithm='brute', metric='cosine')"
      ]
     },
     "execution_count": 9,
     "metadata": {},
     "output_type": "execute_result"
    }
   ],
   "source": [
    "# Fit KNN Model for User-Based Collaborative Filtering on training data\n",
    "knn = NearestNeighbors(metric='cosine', algorithm='brute')\n",
    "knn.fit(train_data)\n"
   ]
  },
  {
   "cell_type": "code",
   "execution_count": 10,
   "id": "fe172ea8-99e7-4d6a-9d55-ca079ddb7e8e",
   "metadata": {},
   "outputs": [],
   "source": [
    "# Function to recommend products with similarity scores\n",
    "def recommend_products_with_scores(partner_id, n_neighbors=5):\n",
    "    if partner_id not in user_product_matrix.index:\n",
    "        return [], []\n",
    "\n",
    "\n",
    "    # Find similar users\n",
    "    #distances, indices = knn.kneighbors([user_product_matrix.loc[partner_id]], n_neighbors=n_neighbors+1)\n",
    "    distances, indices = knn.kneighbors(user_product_matrix.loc[[partner_id]], n_neighbors=n_neighbors+1)\n",
    "\n",
    "    # Exclude self (first index)\n",
    "    similar_users = user_product_matrix.iloc[indices[0][1:]]\n",
    "    similarity_scores = 1 - distances[0][1:]  # Convert distance to similarity\n",
    "\n",
    "    # Compute weighted sum of product purchases\n",
    "    recommended_products = similar_users.T.dot(similarity_scores).sort_values(ascending=False)\n",
    "\n",
    "    # Filter out already purchased products\n",
    "    already_purchased = user_product_matrix.loc[partner_id]\n",
    "    recommended_products = recommended_products[~already_purchased.astype(bool)]\n",
    "\n",
    "    # Select top 3 recommendations\n",
    "    top_recommendations = list(recommended_products.head(3).index)\n",
    "    top_similarity_scores = list(recommended_products.head(3).values)\n",
    "\n",
    "    return top_recommendations, top_similarity_scores\n"
   ]
  },
  {
   "cell_type": "code",
   "execution_count": null,
   "id": "71d551de-ac70-4860-a963-04db5e7fdcea",
   "metadata": {},
   "outputs": [],
   "source": [
    "# Generate recommendations with similarity scores\n",
    "recommendations_with_scores = []\n",
    "for partner_id in stockist_df[\"Partner_id\"]:\n",
    "    recommended_products, similarity_scores = recommend_products_with_scores(partner_id)\n",
    "    recommendations_with_scores.append([partner_id, recommended_products, similarity_scores])\n"
   ]
  },
  {
   "cell_type": "code",
   "execution_count": null,
   "id": "055153aa-752c-40fd-aa9f-efb4c0a7f1ea",
   "metadata": {},
   "outputs": [],
   "source": [
    "# Convert to DataFrame\n",
    "user_based_recommendations_df = pd.DataFrame(recommendations_with_scores, columns=[\"Partner_ID\", \"Recommended_Products\", \"Similarity_Scores\"])\n"
   ]
  },
  {
   "cell_type": "code",
   "execution_count": null,
   "id": "fee7a533-d080-494a-afe8-56f89f0f6afb",
   "metadata": {},
   "outputs": [],
   "source": [
    "# Save recommendations to CSV\n",
    "output_file = \"User_Based_Recommendations.csv\"\n",
    "user_based_recommendations_df.to_csv(output_file, index=False)\n"
   ]
  },
  {
   "cell_type": "code",
   "execution_count": null,
   "id": "ca648190-159c-49b7-965d-04f10dba4224",
   "metadata": {},
   "outputs": [],
   "source": [
    "print(f\"User-based collaborative filtering recommendations saved to {output_file}\")"
   ]
  },
  {
   "cell_type": "code",
   "execution_count": null,
   "id": "6715d113-f46c-4de2-8a4b-24d3c61974a2",
   "metadata": {},
   "outputs": [],
   "source": []
  },
  {
   "cell_type": "code",
   "execution_count": null,
   "id": "42e88082-50c1-4d65-a47b-e632ff45e6a8",
   "metadata": {},
   "outputs": [],
   "source": []
  },
  {
   "cell_type": "code",
   "execution_count": null,
   "id": "311de1a0-be5d-4536-b5a6-8b257f222b53",
   "metadata": {},
   "outputs": [],
   "source": []
  }
 ],
 "metadata": {
  "kernelspec": {
   "display_name": "anaconda-2024.02-py310",
   "language": "python",
   "name": "conda-env-anaconda-2024.02-py310-py"
  },
  "language_info": {
   "codemirror_mode": {
    "name": "ipython",
    "version": 3
   },
   "file_extension": ".py",
   "mimetype": "text/x-python",
   "name": "python",
   "nbconvert_exporter": "python",
   "pygments_lexer": "ipython3",
   "version": "3.10.14"
  }
 },
 "nbformat": 4,
 "nbformat_minor": 5
}
