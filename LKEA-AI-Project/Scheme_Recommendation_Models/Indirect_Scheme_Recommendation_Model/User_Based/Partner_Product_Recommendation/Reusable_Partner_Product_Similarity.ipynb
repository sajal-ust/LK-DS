{
 "cells": [
  {
   "cell_type": "code",
   "execution_count": 1,
   "id": "7f4c601f-f61b-46c6-ad1b-23c8f14c83b7",
   "metadata": {},
   "outputs": [],
   "source": [
    "import pandas as pd\n",
    "from sklearn.neighbors import NearestNeighbors\n",
    "from sklearn.model_selection import train_test_split\n",
    "import numpy as np\n",
    "import logging\n",
    "from typing import List, Tuple"
   ]
  },
  {
   "cell_type": "code",
   "execution_count": 2,
   "id": "77bb9ce6-71ca-4bd4-8ed1-e38725a667a9",
   "metadata": {},
   "outputs": [],
   "source": [
    "# Setup logging\n",
    "logging.basicConfig(\n",
    "    level=logging.INFO,\n",
    "    format=\"%(asctime)s — %(levelname)s — %(message)s\"\n",
    ")\n",
    "logger = logging.getLogger(__name__)\n",
    "\n",
    "\n",
    "PRODUCT_COLUMNS = [\n",
    "    \"AIS(Air Insulated Switchgear)\", \"RMU(Ring Main Unit)\", \"PSS(Compact Sub-Stations)\",\n",
    "    \"VCU(Vacuum Contactor Units)\", \"E-House\", \"VCB(Vacuum Circuit Breaker)\",\n",
    "    \"ACB(Air Circuit Breaker)\", \"MCCB(Moduled Case Circuit Breaker)\", \"SDF(Switch Disconnectors)\",\n",
    "    \"BBT(Busbar Trunking)\", \"Modular Switches\", \"Starter\", \"Controller\",\n",
    "    \"Solar Solutions\", \"Pump Starter and Controller\"\n",
    "]\n"
   ]
  },
  {
   "cell_type": "code",
   "execution_count": 3,
   "id": "b72175c6-a61d-4d17-bc52-207fd7f127ff",
   "metadata": {},
   "outputs": [],
   "source": [
    "def load_data(file_path: str) -> pd.DataFrame:\n",
    "    \"\"\"Load stockist data from a CSV file.\"\"\"\n",
    "    logger.info(f\"Loading data from {file_path}\")\n",
    "    try:\n",
    "        df = pd.read_csv(file_path)\n",
    "        logger.info(f\"Loaded {df.shape[0]} rows and {df.shape[1]} columns.\")\n",
    "        return df\n",
    "    except Exception as e:\n",
    "        logger.error(f\"Error loading data: {e}\")\n",
    "        raise"
   ]
  },
  {
   "cell_type": "code",
   "execution_count": 4,
   "id": "aa658515-ac02-4c65-a020-972cdb584b57",
   "metadata": {},
   "outputs": [],
   "source": [
    "def prepare_user_product_matrix(df: pd.DataFrame) -> pd.DataFrame:\n",
    "    \"\"\"Prepare user-product matrix.\"\"\"\n",
    "    logger.info(\"Preparing user-product matrix.\")\n",
    "    matrix = df.set_index(\"Partner_id\")[PRODUCT_COLUMNS].astype(int)\n",
    "    logger.info(f\"User-product matrix shape: {matrix.shape}\")\n",
    "    return matrix\n"
   ]
  },
  {
   "cell_type": "code",
   "execution_count": 5,
   "id": "5017a7b4-80a0-4c29-9ccc-0d18fcb61c84",
   "metadata": {},
   "outputs": [],
   "source": [
    "def train_knn_model(train_data: pd.DataFrame) -> NearestNeighbors:\n",
    "    \"\"\"Train the KNN model.\"\"\"\n",
    "    logger.info(\"Training KNN model with cosine similarity.\")\n",
    "    knn = NearestNeighbors(metric='cosine', algorithm='brute')\n",
    "    knn.fit(train_data)\n",
    "    return knn\n"
   ]
  },
  {
   "cell_type": "code",
   "execution_count": 6,
   "id": "5b31f18d-fb5b-4884-b91b-4ebe138521cf",
   "metadata": {},
   "outputs": [],
   "source": [
    "def recommend_products_with_scores(partner_id: str, matrix: pd.DataFrame,\n",
    "                                   knn: NearestNeighbors, n_neighbors: int = 5\n",
    ") -> Tuple[List[str], List[float]]:\n",
    "    \"\"\"Recommend top N products with similarity scores for a given partner.\"\"\"\n",
    "    if partner_id not in matrix.index:\n",
    "        logger.warning(f\"Partner ID {partner_id} not found in matrix.\")\n",
    "        return [], []\n",
    "\n",
    "    distances, indices = knn.kneighbors(matrix.loc[[partner_id]], n_neighbors=n_neighbors + 1)\n",
    "    similar_users = matrix.iloc[indices[0][1:]]\n",
    "    similarity_scores = 1 - distances[0][1:]\n",
    "\n",
    "    # Weighted sum of product purchases\n",
    "    recommended_products = similar_users.T.dot(similarity_scores).sort_values(ascending=False)\n",
    "\n",
    "    # Filter out already purchased\n",
    "    already_purchased = matrix.loc[partner_id]\n",
    "    recommended_products = recommended_products[~already_purchased.astype(bool)]\n",
    "\n",
    "    top_recommendations = list(recommended_products.head(3).index)\n",
    "    top_scores = list(recommended_products.head(3).values)\n",
    "\n",
    "    logger.debug(f\"Partner {partner_id} recommendations: {top_recommendations}\")\n",
    "    return top_recommendations, top_scores\n"
   ]
  },
  {
   "cell_type": "code",
   "execution_count": 7,
   "id": "a2f42241-51ce-4476-b7d3-5abc856f42c9",
   "metadata": {},
   "outputs": [
    {
     "name": "stderr",
     "output_type": "stream",
     "text": [
      "2025-04-02 09:22:11,896 — INFO — Loading data from generated_stockist_data.csv\n",
      "2025-04-02 09:22:11,903 — INFO — Loaded 1000 rows and 26 columns.\n",
      "2025-04-02 09:22:11,904 — INFO — Preparing user-product matrix.\n",
      "2025-04-02 09:22:11,906 — INFO — User-product matrix shape: (1000, 15)\n",
      "2025-04-02 09:22:11,908 — INFO — Training KNN model with cosine similarity.\n",
      "2025-04-02 09:22:11,910 — INFO — Generating recommendations for each partner.\n",
      "2025-04-02 09:22:14,938 — INFO — Recommendations saved to User_Based_Recommendations.csv\n"
     ]
    }
   ],
   "source": [
    "def generate_recommendations(input_csv: str, output_csv: str):\n",
    "    \"\"\"Main function to generate recommendations and save to CSV.\"\"\"\n",
    "    df = load_data(input_csv)\n",
    "    matrix = prepare_user_product_matrix(df)\n",
    "\n",
    "    train_data, _ = train_test_split(matrix, test_size=0.2, random_state=42)\n",
    "    knn = train_knn_model(train_data)\n",
    "\n",
    "    recommendations = []\n",
    "    logger.info(\"Generating recommendations for each partner.\")\n",
    "    for partner_id in df[\"Partner_id\"]:\n",
    "        recs, scores = recommend_products_with_scores(partner_id, matrix, knn)\n",
    "        recommendations.append([partner_id, recs, scores])\n",
    "\n",
    "    result_df = pd.DataFrame(recommendations, columns=[\"Partner_ID\", \"Recommended_Products\", \"Similarity_Scores\"])\n",
    "    result_df.to_csv(output_csv, index=False)\n",
    "    logger.info(f\"Recommendations saved to {output_csv}\")\n",
    "\n",
    "if __name__ == \"__main__\":\n",
    "    input_path = \"generated_stockist_data.csv\"\n",
    "    output_path = \"User_Based_Recommendations.csv\"\n",
    "    generate_recommendations(input_path, output_path)"
   ]
  },
  {
   "cell_type": "code",
   "execution_count": null,
   "id": "e2b36e4e-9134-4451-be96-9397af36f6d8",
   "metadata": {},
   "outputs": [],
   "source": []
  }
 ],
 "metadata": {
  "kernelspec": {
   "display_name": "anaconda-2024.02-py310",
   "language": "python",
   "name": "conda-env-anaconda-2024.02-py310-py"
  },
  "language_info": {
   "codemirror_mode": {
    "name": "ipython",
    "version": 3
   },
   "file_extension": ".py",
   "mimetype": "text/x-python",
   "name": "python",
   "nbconvert_exporter": "python",
   "pygments_lexer": "ipython3",
   "version": "3.10.14"
  }
 },
 "nbformat": 4,
 "nbformat_minor": 5
}
