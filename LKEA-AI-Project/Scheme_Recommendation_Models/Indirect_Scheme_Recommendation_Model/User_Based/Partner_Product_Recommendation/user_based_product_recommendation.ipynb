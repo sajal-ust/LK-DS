{
 "cells": [
  {
   "cell_type": "code",
   "execution_count": 1,
   "id": "236ecc54-2d7c-4bab-96d1-19a5829432fb",
   "metadata": {},
   "outputs": [],
   "source": [
    "import pandas as pd\n",
    "import numpy as np\n",
    "from sklearn.model_selection import train_test_split\n",
    "from sklearn.neighbors import NearestNeighbors\n",
    "\n",
    "# Configuration: Toggle to include already purchased products\n",
    "INCLUDE_PURCHASED_PRODUCTS = True\n"
   ]
  },
  {
   "cell_type": "code",
   "execution_count": 2,
   "id": "8bae57a9-0594-4ddb-965a-0f11e13468b7",
   "metadata": {},
   "outputs": [],
   "source": [
    "# Load the dataset\n",
    "df = pd.read_csv(\"stockist_data.csv\")\n",
    "\n",
    "# Define the product columns\n",
    "product_columns = [\n",
    "    \"AIS(Air Insulated Switchgear)\", \"RMU(Ring Main Unit)\", \"PSS(Compact Sub-Stations)\",\n",
    "    \"VCU(Vacuum Contactor Units)\", \"E-House\", \"VCB(Vacuum Circuit Breaker)\",\n",
    "    \"ACB(Air Circuit Breaker)\", \"MCCB(Moduled Case Circuit Breaker)\",\n",
    "    \"SDF(Switch Disconnectors)\", \"BBT(Busbar Trunking)\", \"Modular Switches\"\n",
    "]"
   ]
  },
  {
   "cell_type": "code",
   "execution_count": 3,
   "id": "b22fe4bb-6ea5-40c1-bd5d-8f18815f0dea",
   "metadata": {},
   "outputs": [],
   "source": [
    "# Extract user-product matrix and convert to binary\n",
    "user_product_matrix = df.set_index(\"Partner_id\")[product_columns].astype(int)\n",
    "\n",
    "# Save the user IDs separately\n",
    "user_ids = user_product_matrix.index.tolist()\n",
    "\n",
    "# Split data into train and test sets (80% train, 20% test)\n",
    "train_data, test_data = train_test_split(user_product_matrix, test_size=0.2, random_state=42)\n"
   ]
  },
  {
   "cell_type": "code",
   "execution_count": 4,
   "id": "b4b049a7-7447-46e3-b63a-c5c780b72e33",
   "metadata": {},
   "outputs": [],
   "source": [
    "# Save to CSV\n",
    "train_data.reset_index().to_csv(\"train_data.csv\", index=False)\n",
    "test_data.reset_index().to_csv(\"test_data.csv\", index=False)\n",
    "\n",
    "# Fit KNN model on training data\n",
    "model = NearestNeighbors(metric=\"cosine\", algorithm=\"brute\")\n",
    "model.fit(train_data)\n",
    "train_user_ids = train_data.index.tolist()\n"
   ]
  },
  {
   "cell_type": "code",
   "execution_count": 5,
   "id": "c9b3117d-c5fd-40d2-bf89-1ff8daf42b14",
   "metadata": {},
   "outputs": [
    {
     "data": {
      "text/html": [
       "<style>#sk-container-id-1 {color: black;}#sk-container-id-1 pre{padding: 0;}#sk-container-id-1 div.sk-toggleable {background-color: white;}#sk-container-id-1 label.sk-toggleable__label {cursor: pointer;display: block;width: 100%;margin-bottom: 0;padding: 0.3em;box-sizing: border-box;text-align: center;}#sk-container-id-1 label.sk-toggleable__label-arrow:before {content: \"▸\";float: left;margin-right: 0.25em;color: #696969;}#sk-container-id-1 label.sk-toggleable__label-arrow:hover:before {color: black;}#sk-container-id-1 div.sk-estimator:hover label.sk-toggleable__label-arrow:before {color: black;}#sk-container-id-1 div.sk-toggleable__content {max-height: 0;max-width: 0;overflow: hidden;text-align: left;background-color: #f0f8ff;}#sk-container-id-1 div.sk-toggleable__content pre {margin: 0.2em;color: black;border-radius: 0.25em;background-color: #f0f8ff;}#sk-container-id-1 input.sk-toggleable__control:checked~div.sk-toggleable__content {max-height: 200px;max-width: 100%;overflow: auto;}#sk-container-id-1 input.sk-toggleable__control:checked~label.sk-toggleable__label-arrow:before {content: \"▾\";}#sk-container-id-1 div.sk-estimator input.sk-toggleable__control:checked~label.sk-toggleable__label {background-color: #d4ebff;}#sk-container-id-1 div.sk-label input.sk-toggleable__control:checked~label.sk-toggleable__label {background-color: #d4ebff;}#sk-container-id-1 input.sk-hidden--visually {border: 0;clip: rect(1px 1px 1px 1px);clip: rect(1px, 1px, 1px, 1px);height: 1px;margin: -1px;overflow: hidden;padding: 0;position: absolute;width: 1px;}#sk-container-id-1 div.sk-estimator {font-family: monospace;background-color: #f0f8ff;border: 1px dotted black;border-radius: 0.25em;box-sizing: border-box;margin-bottom: 0.5em;}#sk-container-id-1 div.sk-estimator:hover {background-color: #d4ebff;}#sk-container-id-1 div.sk-parallel-item::after {content: \"\";width: 100%;border-bottom: 1px solid gray;flex-grow: 1;}#sk-container-id-1 div.sk-label:hover label.sk-toggleable__label {background-color: #d4ebff;}#sk-container-id-1 div.sk-serial::before {content: \"\";position: absolute;border-left: 1px solid gray;box-sizing: border-box;top: 0;bottom: 0;left: 50%;z-index: 0;}#sk-container-id-1 div.sk-serial {display: flex;flex-direction: column;align-items: center;background-color: white;padding-right: 0.2em;padding-left: 0.2em;position: relative;}#sk-container-id-1 div.sk-item {position: relative;z-index: 1;}#sk-container-id-1 div.sk-parallel {display: flex;align-items: stretch;justify-content: center;background-color: white;position: relative;}#sk-container-id-1 div.sk-item::before, #sk-container-id-1 div.sk-parallel-item::before {content: \"\";position: absolute;border-left: 1px solid gray;box-sizing: border-box;top: 0;bottom: 0;left: 50%;z-index: -1;}#sk-container-id-1 div.sk-parallel-item {display: flex;flex-direction: column;z-index: 1;position: relative;background-color: white;}#sk-container-id-1 div.sk-parallel-item:first-child::after {align-self: flex-end;width: 50%;}#sk-container-id-1 div.sk-parallel-item:last-child::after {align-self: flex-start;width: 50%;}#sk-container-id-1 div.sk-parallel-item:only-child::after {width: 0;}#sk-container-id-1 div.sk-dashed-wrapped {border: 1px dashed gray;margin: 0 0.4em 0.5em 0.4em;box-sizing: border-box;padding-bottom: 0.4em;background-color: white;}#sk-container-id-1 div.sk-label label {font-family: monospace;font-weight: bold;display: inline-block;line-height: 1.2em;}#sk-container-id-1 div.sk-label-container {text-align: center;}#sk-container-id-1 div.sk-container {/* jupyter's `normalize.less` sets `[hidden] { display: none; }` but bootstrap.min.css set `[hidden] { display: none !important; }` so we also need the `!important` here to be able to override the default hidden behavior on the sphinx rendered scikit-learn.org. See: https://github.com/scikit-learn/scikit-learn/issues/21755 */display: inline-block !important;position: relative;}#sk-container-id-1 div.sk-text-repr-fallback {display: none;}</style><div id=\"sk-container-id-1\" class=\"sk-top-container\"><div class=\"sk-text-repr-fallback\"><pre>NearestNeighbors(algorithm=&#x27;brute&#x27;, metric=&#x27;cosine&#x27;)</pre><b>In a Jupyter environment, please rerun this cell to show the HTML representation or trust the notebook. <br />On GitHub, the HTML representation is unable to render, please try loading this page with nbviewer.org.</b></div><div class=\"sk-container\" hidden><div class=\"sk-item\"><div class=\"sk-estimator sk-toggleable\"><input class=\"sk-toggleable__control sk-hidden--visually\" id=\"sk-estimator-id-1\" type=\"checkbox\" checked><label for=\"sk-estimator-id-1\" class=\"sk-toggleable__label sk-toggleable__label-arrow\">NearestNeighbors</label><div class=\"sk-toggleable__content\"><pre>NearestNeighbors(algorithm=&#x27;brute&#x27;, metric=&#x27;cosine&#x27;)</pre></div></div></div></div></div>"
      ],
      "text/plain": [
       "NearestNeighbors(algorithm='brute', metric='cosine')"
      ]
     },
     "execution_count": 5,
     "metadata": {},
     "output_type": "execute_result"
    }
   ],
   "source": [
    "# Fit KNN Model for User-Based Collaborative Filtering on training data\n",
    "knn = NearestNeighbors(metric='cosine', algorithm='brute')\n",
    "knn.fit(train_data)\n",
    "\n"
   ]
  },
  {
   "cell_type": "code",
   "execution_count": 6,
   "id": "84c7d062-d094-4ef9-9202-4f24a8d56574",
   "metadata": {},
   "outputs": [],
   "source": [
    "recommendations = []\n",
    "\n",
    "for partner_id in test_data.index:\n",
    "    partner_vector = test_data.loc[[partner_id]]  # Pass as DataFrame with column names\n",
    "    distances, indices = model.kneighbors(partner_vector, n_neighbors=6)\n",
    "\n",
    "    recommended_products = []\n",
    "    similarity_list = []\n",
    "\n",
    "    for idx, dist in zip(indices.flatten(), distances.flatten()):\n",
    "        if idx == 0:\n",
    "            continue  # skip self\n",
    "\n",
    "        similarity = 1 - dist\n",
    "        similarity_list.append(similarity)\n",
    "\n",
    "        neighbor_id = train_user_ids[idx]\n",
    "        neighbor_products = set(train_data.loc[neighbor_id][train_data.loc[neighbor_id] == 1].index)\n",
    "\n",
    "        if INCLUDE_PURCHASED_PRODUCTS:\n",
    "            recommended_products.extend(list(neighbor_products))\n",
    "        else:\n",
    "            purchased_products = set(test_data.loc[partner_id][test_data.loc[partner_id] == 1].index)\n",
    "            recommended_products.extend(list(neighbor_products - purchased_products))\n",
    "\n",
    "    recommended_products = list(dict.fromkeys(recommended_products))[:3]\n",
    "\n",
    "    recommendations.append({\n",
    "        \"Partner_id\": partner_id,\n",
    "        \"Recommended_Products\": recommended_products,\n",
    "        \"Avg_Similarity_Score\": round(np.mean(similarity_list[1:]), 6) if len(similarity_list) > 1 else 0\n",
    "    })\n"
   ]
  },
  {
   "cell_type": "code",
   "execution_count": 7,
   "id": "6715d113-f46c-4de2-8a4b-24d3c61974a2",
   "metadata": {},
   "outputs": [
    {
     "name": "stdout",
     "output_type": "stream",
     "text": [
      "Recommendations saved to 'User_Based_Recommendations.csv'\n"
     ]
    }
   ],
   "source": [
    "# Save recommendations\n",
    "recommendations_df = pd.DataFrame(recommendations)\n",
    "recommendations_df.to_csv(\"User_Based_Recommendations.csv\", index=False)\n",
    "print(\"Recommendations saved to 'User_Based_Recommendations.csv'\")\n"
   ]
  },
  {
   "cell_type": "code",
   "execution_count": null,
   "id": "1f029ae7-682e-4dc8-8626-93fe0c256f16",
   "metadata": {},
   "outputs": [],
   "source": []
  },
  {
   "cell_type": "code",
   "execution_count": null,
   "id": "02163461-8aba-4fc8-bf2a-5ed0704bc181",
   "metadata": {},
   "outputs": [],
   "source": []
  },
  {
   "cell_type": "markdown",
   "id": "6b32be1d-8134-450c-bee2-373d1740bcb0",
   "metadata": {},
   "source": [
    "Evaluation Code"
   ]
  },
  {
   "cell_type": "code",
   "execution_count": 25,
   "id": "9c04cba2-3100-41ac-a9cf-7b3a003607d2",
   "metadata": {},
   "outputs": [],
   "source": [
    "#Import Required Libraries\n",
    "import pandas as pd"
   ]
  },
  {
   "cell_type": "code",
   "execution_count": 26,
   "id": "dc691ea7-045c-4695-a438-c7ce83c9c132",
   "metadata": {},
   "outputs": [],
   "source": [
    "# Load test data with one-hot encoded product columns\n",
    "test_df = pd.read_csv(\"test_data.csv\")"
   ]
  },
  {
   "cell_type": "code",
   "execution_count": 27,
   "id": "a41025cf-077b-47e7-8c93-be0c2ba5aefc",
   "metadata": {},
   "outputs": [],
   "source": [
    "# Load recommendation output (Top-N recommendations per partner)\n",
    "recommendations_df = pd.read_csv(\"User_Based_Recommendations.csv\")"
   ]
  },
  {
   "cell_type": "code",
   "execution_count": 28,
   "id": "b1d16b1f-b198-4574-a50b-799afaf23ac3",
   "metadata": {},
   "outputs": [],
   "source": [
    "# Fix column naming inconsistency if needed\n",
    "recommendations_df = recommendations_df.rename(columns={\"Partner_ID\": \"Partner_id\"})"
   ]
  },
  {
   "cell_type": "code",
   "execution_count": 29,
   "id": "70e687a0-ada5-45fb-aa4e-69590f94a330",
   "metadata": {},
   "outputs": [],
   "source": [
    "#Identify Producy column\n",
    "meta_cols = [\n",
    "    'Partner_id', 'Stockist_Type', 'Scheme_Type', 'Sales_Value_Last_Period',\n",
    "    'Sales_Quantity_Last_Period', 'MRP', 'Growth_Percentage', 'Discount_Applied',\n",
    "    'Bulk_Purchase_Tendency', 'New_Stockist', 'Feedback_Score'\n",
    "]\n",
    "product_cols = [col for col in test_df.columns if col not in meta_cols]\n"
   ]
  },
  {
   "cell_type": "code",
   "execution_count": 30,
   "id": "c9a67989-feef-4efe-8b7a-b7eef6c28bf4",
   "metadata": {},
   "outputs": [],
   "source": [
    "#Convert Product Columns to Purchased List\n",
    "# ------------------------------\n",
    "test_df[product_cols] = test_df[product_cols].apply(pd.to_numeric, errors='coerce').fillna(0).astype(int)\n",
    "\n",
    "# Purchased product list per partner\n",
    "test_df['Purchased_Products'] = test_df[product_cols].apply(\n",
    "    lambda row: [prod for prod, val in zip(product_cols, row) if val == 1], axis=1\n",
    ")\n",
    "\n",
    "# Remove non-buyers\n",
    "test_df['has_purchase'] = test_df['Purchased_Products'].apply(lambda x: len(x) > 0)\n"
   ]
  },
  {
   "cell_type": "code",
   "execution_count": 31,
   "id": "36f7bbfd-8d59-48cb-8c6f-56ab21874ed3",
   "metadata": {},
   "outputs": [],
   "source": [
    "# Ensure list parsing from string if needed\n",
    "recommendations_df[\"Recommended_Products\"] = recommendations_df[\"Recommended_Products\"].apply(eval)\n",
    "\n",
    "# Merge with test dataset\n",
    "df_all = pd.merge(\n",
    "    test_df[['Partner_id', 'Purchased_Products', 'has_purchase']],\n",
    "    recommendations_df[['Partner_id', 'Recommended_Products']],\n",
    "    on='Partner_id',\n",
    "    how='left'\n",
    ")"
   ]
  },
  {
   "cell_type": "code",
   "execution_count": 32,
   "id": "53ecec02-78f3-4667-8954-81c5d8d3037f",
   "metadata": {},
   "outputs": [],
   "source": [
    "# Fill any missing recommendations with empty list\n",
    "df_all['Recommended_Products'] = df_all['Recommended_Products'].apply(\n",
    "    lambda x: x if isinstance(x, list) else []\n",
    ")"
   ]
  },
  {
   "cell_type": "code",
   "execution_count": 33,
   "id": "b2d70c60-8697-4d39-ab0e-821d1b270539",
   "metadata": {},
   "outputs": [],
   "source": [
    "results = []\n",
    "\n",
    "for k in [1, 2, 3]:\n",
    "    precision_list = []\n",
    "    recall_list = []\n",
    "\n",
    "    for _, row in df_all.iterrows():\n",
    "        actual_set = set(row[\"Purchased_Products\"])\n",
    "        recommended_k = row[\"Recommended_Products\"][:k]\n",
    "\n",
    "        if not actual_set:\n",
    "            continue  # skip if no purchases\n",
    "\n",
    "        tp = len(set(recommended_k) & actual_set)\n",
    "        precision = tp / k\n",
    "        recall = tp / len(actual_set)\n",
    "\n",
    "        precision_list.append(precision)\n",
    "        recall_list.append(recall)\n",
    "\n",
    "    avg_precision = round(sum(precision_list) / len(precision_list), 4) if precision_list else 0\n",
    "    avg_recall = round(sum(recall_list) / len(recall_list), 4) if recall_list else 0\n",
    "    f1_k = round(2 * avg_precision * avg_recall / (avg_precision + avg_recall), 4) if (avg_precision + avg_recall) else 0\n",
    "\n",
    "    results.append({        \"Top-K\": k,\n",
    "        \"Avg Precision\": avg_precision,\n",
    "            \"Avg Recall\": avg_recall,\n",
    "        \"Avg F1 Score\": f1_k\n",
    "    })\n"
   ]
  },
  {
   "cell_type": "code",
   "execution_count": 34,
   "id": "35143a94-d96e-4572-b76d-491cb3919df1",
   "metadata": {},
   "outputs": [
    {
     "name": "stdout",
     "output_type": "stream",
     "text": [
      "===== Top-K Recommendation Evaluation (Corrected) =====\n",
      "\n",
      "Top-1\n",
      "  Avg Precision : 0.875\n",
      "  Avg Recall    : 0.1758\n",
      "  Avg F1 Score  : 0.2928\n",
      "\n",
      "Top-2\n",
      "  Avg Precision : 0.8675\n",
      "  Avg Recall    : 0.3483\n",
      "  Avg F1 Score  : 0.497\n",
      "\n",
      "Top-3\n",
      "  Avg Precision : 0.8783\n",
      "  Avg Recall    : 0.5264\n",
      "  Avg F1 Score  : 0.6583\n"
     ]
    }
   ],
   "source": [
    "#Display Results\n",
    "\n",
    "print(\"===== Top-K Recommendation Evaluation (Corrected) =====\")\n",
    "for r in results:\n",
    "    print(f\"\\nTop-{r['Top-K']}\")\n",
    "    print(f\"  Avg Precision : {r['Avg Precision']}\")\n",
    "    print(f\"  Avg Recall    : {r['Avg Recall']}\")\n",
    "    print(f\"  Avg F1 Score  : {r['Avg F1 Score']}\")"
   ]
  },
  {
   "cell_type": "code",
   "execution_count": null,
   "id": "4239cee7-b73a-42b3-893f-ecc2a5ea9115",
   "metadata": {},
   "outputs": [],
   "source": []
  },
  {
   "cell_type": "code",
   "execution_count": null,
   "id": "aa7daccf-e0df-4710-bb3e-8fac908e3486",
   "metadata": {},
   "outputs": [],
   "source": []
  },
  {
   "cell_type": "code",
   "execution_count": null,
   "id": "560c4d07-bba5-47e9-a472-6de2213e0d10",
   "metadata": {},
   "outputs": [],
   "source": []
  }
 ],
 "metadata": {
  "kernelspec": {
   "display_name": "anaconda-2024.02-py310",
   "language": "python",
   "name": "conda-env-anaconda-2024.02-py310-py"
  },
  "language_info": {
   "codemirror_mode": {
    "name": "ipython",
    "version": 3
   },
   "file_extension": ".py",
   "mimetype": "text/x-python",
   "name": "python",
   "nbconvert_exporter": "python",
   "pygments_lexer": "ipython3",
   "version": "3.10.14"
  }
 },
 "nbformat": 4,
 "nbformat_minor": 5
}
