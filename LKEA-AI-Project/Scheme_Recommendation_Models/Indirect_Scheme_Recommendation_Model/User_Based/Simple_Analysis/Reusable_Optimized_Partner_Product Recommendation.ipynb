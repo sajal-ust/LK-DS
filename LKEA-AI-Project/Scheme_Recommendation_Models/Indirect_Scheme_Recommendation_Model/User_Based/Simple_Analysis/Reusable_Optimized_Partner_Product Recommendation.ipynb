{
 "cells": [
  {
   "cell_type": "code",
   "execution_count": 2,
   "id": "15885be4-55af-4dac-b48c-c8cb27afef84",
   "metadata": {},
   "outputs": [],
   "source": [
    "import pandas as pd\n",
    "from sklearn.neighbors import NearestNeighbors\n",
    "from sklearn.model_selection import train_test_split\n",
    "import numpy as np\n",
    "import logging\n",
    "from typing import List, Tuple"
   ]
  },
  {
   "cell_type": "code",
   "execution_count": 3,
   "id": "94acaf73-8f67-4b40-83e8-5be5fa210efa",
   "metadata": {},
   "outputs": [],
   "source": [
    "# Setup logging\n",
    "logging.basicConfig(\n",
    "    level=logging.INFO,\n",
    "    format=\"%(asctime)s — %(levelname)s — %(message)s\"\n",
    ")\n",
    "logger = logging.getLogger(__name__)\n",
    "\n",
    "\n",
    "PRODUCT_COLUMNS = [\n",
    "    \"AIS(Air Insulated Switchgear)\", \"RMU(Ring Main Unit)\", \"PSS(Compact Sub-Stations)\",\n",
    "    \"VCU(Vacuum Contactor Units)\", \"E-House\", \"VCB(Vacuum Circuit Breaker)\",\n",
    "    \"ACB(Air Circuit Breaker)\", \"MCCB(Moduled Case Circuit Breaker)\", \"SDF(Switch Disconnectors)\",\n",
    "    \"BBT(Busbar Trunking)\", \"Modular Switches\", \"Starter\", \"Controller\",\n",
    "    \"Solar Solutions\", \"Pump Starter and Controller\"\n",
    "]"
   ]
  },
  {
   "cell_type": "code",
   "execution_count": 4,
   "id": "909fbb16-06a7-4563-8e74-63ab61361145",
   "metadata": {},
   "outputs": [],
   "source": [
    "def load_data(file_path: str) -> pd.DataFrame:\n",
    "    \"\"\"Load stockist data from a CSV file.\"\"\"\n",
    "    logger.info(f\"Loading data from {file_path}\")\n",
    "    try:\n",
    "        df = pd.read_csv(file_path)\n",
    "        logger.info(f\"Loaded {df.shape[0]} rows and {df.shape[1]} columns.\")\n",
    "        return df\n",
    "    except Exception as e:\n",
    "        logger.error(f\"Error loading data: {e}\")\n",
    "        raise"
   ]
  },
  {
   "cell_type": "code",
   "execution_count": 5,
   "id": "70769ad5-5a47-4f94-88c5-0910592cd1ea",
   "metadata": {},
   "outputs": [],
   "source": [
    "def prepare_user_product_matrix(df: pd.DataFrame) -> pd.DataFrame:\n",
    "    \"\"\"Prepare user-product matrix.\"\"\"\n",
    "    logger.info(\"Preparing user-product matrix.\")\n",
    "    matrix = df.set_index(\"Partner_id\")[PRODUCT_COLUMNS].astype(int)\n",
    "    logger.info(f\"User-product matrix shape: {matrix.shape}\")\n",
    "    return matrix"
   ]
  },
  {
   "cell_type": "code",
   "execution_count": 6,
   "id": "c584d6ea-2539-4787-94b5-a727e44688f0",
   "metadata": {},
   "outputs": [],
   "source": [
    "def train_knn_model(train_data: pd.DataFrame) -> NearestNeighbors:\n",
    "    \"\"\"Train the KNN model.\"\"\"\n",
    "    logger.info(\"Training KNN model with cosine similarity.\")\n",
    "    knn = NearestNeighbors(metric='cosine', algorithm='brute')\n",
    "    knn.fit(train_data)\n",
    "    return knn\n"
   ]
  },
  {
   "cell_type": "code",
   "execution_count": 7,
   "id": "7344201a-a659-4d1b-a4c8-c4d4a1d2cd90",
   "metadata": {},
   "outputs": [],
   "source": [
    "def recommend_products_with_scores(partner_id: str, matrix: pd.DataFrame,\n",
    "                                   knn: NearestNeighbors, n_neighbors: int = 5\n",
    ") -> Tuple[List[str], List[float]]:\n",
    "    \"\"\"Recommend top N products with similarity scores for a given partner.\"\"\"\n",
    "    if partner_id not in matrix.index:\n",
    "        logger.warning(f\"Partner ID {partner_id} not found in matrix.\")\n",
    "        return [], []\n",
    "\n",
    "    distances, indices = knn.kneighbors(matrix.loc[[partner_id]], n_neighbors=n_neighbors + 1)\n",
    "    similar_users = matrix.iloc[indices[0][1:]]\n",
    "    similarity_scores = 1 - distances[0][1:]\n",
    "\n",
    "    # Weighted sum of product purchases\n",
    "    recommended_products = similar_users.T.dot(similarity_scores).sort_values(ascending=False)\n",
    "\n",
    "    # Filter out already purchased\n",
    "    already_purchased = matrix.loc[partner_id]\n",
    "    recommended_products = recommended_products[~already_purchased.astype(bool)]\n",
    "\n",
    "    top_recommendations = list(recommended_products.head(3).index)\n",
    "    top_scores = list(recommended_products.head(3).values)\n",
    "\n",
    "    logger.debug(f\"Partner {partner_id} recommendations: {top_recommendations}\")\n",
    "    return top_recommendations, top_scores\n"
   ]
  },
  {
   "cell_type": "code",
   "execution_count": 8,
   "id": "49a60e47-0437-4db2-999e-a358d874c790",
   "metadata": {},
   "outputs": [
    {
     "name": "stderr",
     "output_type": "stream",
     "text": [
      "2025-04-01 13:22:18,373 — INFO — Loading data from generated_stockist_data.csv\n",
      "2025-04-01 13:22:18,379 — INFO — Loaded 1000 rows and 26 columns.\n",
      "2025-04-01 13:22:18,380 — INFO — Preparing user-product matrix.\n",
      "2025-04-01 13:22:18,382 — INFO — User-product matrix shape: (1000, 15)\n",
      "2025-04-01 13:22:18,384 — INFO — Training KNN model with cosine similarity.\n",
      "2025-04-01 13:22:18,386 — INFO — Generating recommendations for each partner.\n",
      "2025-04-01 13:22:52,177 — INFO — Recommendations saved to User_Based_Recommendations.csv\n"
     ]
    }
   ],
   "source": [
    "def generate_recommendations(input_csv: str, output_csv: str):\n",
    "    \"\"\"Main function to generate recommendations and save to CSV.\"\"\"\n",
    "    df = load_data(input_csv)\n",
    "    matrix = prepare_user_product_matrix(df)\n",
    "\n",
    "    train_data, _ = train_test_split(matrix, test_size=0.2, random_state=42)\n",
    "    knn = train_knn_model(train_data)\n",
    "\n",
    "    recommendations = []\n",
    "    logger.info(\"Generating recommendations for each partner.\")\n",
    "    for partner_id in df[\"Partner_id\"]:\n",
    "        recs, scores = recommend_products_with_scores(partner_id, matrix, knn)\n",
    "        recommendations.append([partner_id, recs, scores])\n",
    "\n",
    "    result_df = pd.DataFrame(recommendations, columns=[\"Partner_ID\", \"Recommended_Products\", \"Similarity_Scores\"])\n",
    "    result_df.to_csv(output_csv, index=False)\n",
    "    logger.info(f\"Recommendations saved to {output_csv}\")\n",
    "\n",
    "if __name__ == \"__main__\":\n",
    "    input_path = \"generated_stockist_data.csv\"\n",
    "    output_path = \"User_Based_Recommendations.csv\"\n",
    "    generate_recommendations(input_path, output_path)"
   ]
  },
  {
   "cell_type": "code",
   "execution_count": null,
   "id": "54855817-1435-4603-a7b2-2a37beaa00dd",
   "metadata": {},
   "outputs": [],
   "source": []
  }
 ],
 "metadata": {
  "kernelspec": {
   "display_name": "anaconda-2024.02-py310",
   "language": "python",
   "name": "conda-env-anaconda-2024.02-py310-py"
  },
  "language_info": {
   "codemirror_mode": {
    "name": "ipython",
    "version": 3
   },
   "file_extension": ".py",
   "mimetype": "text/x-python",
   "name": "python",
   "nbconvert_exporter": "python",
   "pygments_lexer": "ipython3",
   "version": "3.10.14"
  }
 },
 "nbformat": 4,
 "nbformat_minor": 5
}
