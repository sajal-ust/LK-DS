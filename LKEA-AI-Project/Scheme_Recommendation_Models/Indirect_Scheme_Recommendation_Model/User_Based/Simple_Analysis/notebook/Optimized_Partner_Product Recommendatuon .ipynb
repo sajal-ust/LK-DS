{
 "cells": [
  {
   "cell_type": "code",
   "execution_count": 3,
   "id": "37879eb1-2e7a-4dc8-a780-2db1143f174b",
   "metadata": {},
   "outputs": [],
   "source": [
    "import pandas as pd\n",
    "from collections import Counter\n",
    "import ast"
   ]
  },
  {
   "cell_type": "code",
   "execution_count": 4,
   "id": "498a4919-e37a-4cf5-b54e-00255313c51a",
   "metadata": {},
   "outputs": [],
   "source": [
    "# Load dataset\n",
    "df = pd.read_csv(\"stockist_data.csv\")"
   ]
  },
  {
   "cell_type": "code",
   "execution_count": 5,
   "id": "d87d0b8d-f6d0-439b-ae4e-5163dc02d95f",
   "metadata": {},
   "outputs": [],
   "source": [
    "# Define relevant product columns\n",
    "product_columns = [\n",
    "    'AIS(Air Insulated Switchgear)', 'RMU(Ring Main Unit)', 'PSS(Compact Sub-Stations)',\n",
    "    'VCU(Vacuum Contactor Units)', 'E-House', 'VCB(Vacuum Circuit Breaker)', 'ACB(Air Circuit Breaker)',\n",
    "    'MCCB(Moduled Case Circuit Breaker)', 'SDF(Switch Disconnectors)', 'BBT(Busbar Trunking)',\n",
    "    'Modular Switches', 'Starter', 'Controller', 'Solar Solutions', 'Pump Starter and Controller'\n",
    "]\n",
    "existing_product_columns = [col for col in product_columns if col in df.columns]\n"
   ]
  },
  {
   "cell_type": "code",
   "execution_count": 6,
   "id": "2ffab486-a2eb-4c2a-96fb-f7b105ef7c86",
   "metadata": {},
   "outputs": [],
   "source": [
    "# Initialize tracking variables\n",
    "product_scheme_data = []"
   ]
  },
  {
   "cell_type": "code",
   "execution_count": 7,
   "id": "a3552b91-6f13-420b-999c-f5f47432d024",
   "metadata": {},
   "outputs": [],
   "source": [
    "# Process each product separately\n",
    "for product in existing_product_columns:\n",
    "    product_df = df[df[product] == 1]  # Filter stockists selling this product\n",
    "    \n",
    "    if product_df.empty:\n",
    "        continue  # Skip products without stockists\n",
    "\n",
    "    # Extract relevant columns\n",
    "    partner_ids = product_df['Partner_id'].dropna().astype(str).unique()\n",
    "\n",
    "    # Consider only Sales Quantity for scheme selection\n",
    "    scheme_data = product_df[['Scheme_Type', 'Sales_Quantity_Last_Period']].dropna()\n",
    "    \n",
    "    # Compute scheme impact (Weighted by Sales Quantity) for each product separately\n",
    "    scheme_growth = Counter()\n",
    "    \n",
    "    for _, row in scheme_data.iterrows():\n",
    "        schemes = row['Scheme_Type'].split(', ') if isinstance(row['Scheme_Type'], str) else []\n",
    "        for scheme in schemes:\n",
    "            scheme_growth[scheme] += row['Sales_Quantity_Last_Period']\n",
    "\n",
    "    # Select top 3 schemes for this specific product\n",
    "    top_schemes = [s[0] for s in scheme_growth.most_common(3)]\n",
    "    while len(top_schemes) < 3:\n",
    "        top_schemes.append(\"No Scheme Available\")\n",
    "\n",
    "    # Store the processed data\n",
    "    product_scheme_data.append({\n",
    "        'Product_id': product,\n",
    "        'Partner_id': ', '.join(partner_ids),\n",
    "        'Scheme_1': top_schemes[0],\n",
    "        'Scheme_2': top_schemes[1],\n",
    "        'Scheme_3': top_schemes[2]\n",
    "    })\n"
   ]
  },
  {
   "cell_type": "code",
   "execution_count": 8,
   "id": "fb6c969c-8eaa-4a67-891b-de4e1bfcc610",
   "metadata": {},
   "outputs": [],
   "source": [
    "# Convert results into a DataFrame\n",
    "final_df = pd.DataFrame(product_scheme_data)\n",
    "\n",
    "# Save intermediate results\n",
    "final_scheme_mapping_path = \"Optimized_Product_Partner_Scheme_Mapping.csv\"\n",
    "final_df.to_csv(final_scheme_mapping_path, index=False) "
   ]
  },
  {
   "cell_type": "code",
   "execution_count": null,
   "id": "e324e761-f79e-4142-9831-c2a982d83c53",
   "metadata": {},
   "outputs": [],
   "source": []
  },
  {
   "cell_type": "code",
   "execution_count": null,
   "id": "04162299-2f60-417f-a40f-fe0d380e6013",
   "metadata": {},
   "outputs": [],
   "source": []
  }
 ],
 "metadata": {
  "kernelspec": {
   "display_name": "anaconda-2024.02-py310",
   "language": "python",
   "name": "conda-env-anaconda-2024.02-py310-py"
  },
  "language_info": {
   "codemirror_mode": {
    "name": "ipython",
    "version": 3
   },
   "file_extension": ".py",
   "mimetype": "text/x-python",
   "name": "python",
   "nbconvert_exporter": "python",
   "pygments_lexer": "ipython3",
   "version": "3.10.14"
  }
 },
 "nbformat": 4,
 "nbformat_minor": 5
}
