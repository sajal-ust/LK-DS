{
 "cells": [
  {
   "cell_type": "code",
   "execution_count": null,
   "metadata": {},
   "outputs": [],
   "source": [
    "import openai\n",
    "import numpy as np\n",
    "from lime.lime_text import LimeTextExplainer\n",
    "import pandas as pd\n",
    "from dotenv import load_dotenv\n",
    "import os\n",
    "\n",
    "load_dotenv()\n",
    "openai.api_key = os.getenv(\"OPENAI_API_KEY\")"
   ]
  },
  {
   "cell_type": "code",
   "execution_count": null,
   "metadata": {},
   "outputs": [],
   "source": [
    "# Define prediction function\n",
    "def gpt_sentiment_predict(text):\n",
    "    response = openai.ChatCompletion.create(\n",
    "        model=\"gpt-3.5-turbo\",\n",
    "        messages=[\n",
    "            {\"role\": \"user\", \"content\": f\"Classify this text as Positive or Negative only: '{text}'\"}\n",
    "        ],\n",
    "        temperature=0\n",
    "    )\n",
    "    return response[\"choices\"][0][\"message\"][\"content\"].strip()"
   ]
  },
  {
   "cell_type": "code",
   "execution_count": null,
   "metadata": {},
   "outputs": [],
   "source": [
    "# Probability-like wrapper for LIME\n",
    "def gpt_predict_proba(texts):\n",
    "    preds = []\n",
    "    for text in texts:\n",
    "        label = gpt_sentiment_predict(text)\n",
    "        if \"Positive\" in label:\n",
    "            preds.append([0.1, 0.9])\n",
    "        elif \"Negative\" in label:\n",
    "            preds.append([0.9, 0.1])\n",
    "        else:\n",
    "            preds.append([0.5, 0.5])\n",
    "    return np.array(preds)"
   ]
  },
  {
   "cell_type": "code",
   "execution_count": null,
   "metadata": {},
   "outputs": [],
   "source": [
    "# Load and sample data\n",
    "base_dir = os.getcwd()\n",
    "print(\"Current Directory:\", base_dir)\n",
    "file_path = os.path.join(base_dir, \"new_channel_partner_feedback.csv\")\n",
    "df = pd.read_csv(file_path)\n",
    "sample_texts = df[\"Feedback_Text\"].dropna().sample(4, random_state=42).tolist()"
   ]
  },
  {
   "cell_type": "code",
   "execution_count": null,
   "metadata": {},
   "outputs": [],
   "source": [
    "# Initialize LIME explainer\n",
    "explainer = LimeTextExplainer(class_names=[\"Negative\", \"Positive\"])"
   ]
  },
  {
   "cell_type": "code",
   "execution_count": null,
   "metadata": {},
   "outputs": [],
   "source": [
    "# Explain each sample\n",
    "for i, text in enumerate(sample_texts):\n",
    "    print(f\"\\n--- Explanation for sample {i+1} ---\\n{text}\\n\")\n",
    "    exp = explainer.explain_instance(text, gpt_predict_proba, num_features=10, num_samples=50)\n",
    "    exp.show_in_notebook()"
   ]
  }
 ],
 "metadata": {
  "kernelspec": {
   "display_name": "Python 3",
   "language": "python",
   "name": "python3"
  },
  "language_info": {
   "name": "python",
   "version": ""
  }
 },
 "nbformat": 4,
 "nbformat_minor": 5
}
