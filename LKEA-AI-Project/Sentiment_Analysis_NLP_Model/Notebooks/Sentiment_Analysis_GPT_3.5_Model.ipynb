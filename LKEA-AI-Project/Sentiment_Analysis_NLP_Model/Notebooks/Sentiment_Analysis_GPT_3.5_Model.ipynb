{
 "cells": [
  {
   "cell_type": "code",
   "execution_count": 1,
   "id": "5e3d5a11-dd8f-4572-97ca-5088f41b4364",
   "metadata": {},
   "outputs": [],
   "source": [
    "import pandas as pd\n",
    "import time\n",
    "import os\n",
    "import openai\n",
    "from dotenv import load_dotenv\n",
    "from sklearn.metrics import classification_report"
   ]
  },
  {
   "cell_type": "markdown",
   "id": "0282ebbe-e5f0-418e-8ab3-0cc2fe610c5e",
   "metadata": {},
   "source": [
    "Initialize the OpenAI API by providing the API key, which is necessary to authenticate and make requests to GPT-3.5.\n"
   ]
  },
  {
   "cell_type": "code",
   "execution_count": 37,
   "id": "c8dd7425-82cc-4cd8-87f6-32277031d8fc",
   "metadata": {},
   "outputs": [
    {
     "name": "stdout",
     "output_type": "stream",
     "text": [
      "Overwriting .env\n"
     ]
    }
   ],
   "source": [
    "%%writefile .env\n",
    "OPENAI_API_KEY=your-openai-api-key-here\n"
   ]
  },
  {
   "cell_type": "code",
   "execution_count": 32,
   "id": "885c878d-2d70-4862-bf2c-4629348f5b5f",
   "metadata": {},
   "outputs": [
    {
     "name": "stdout",
     "output_type": "stream",
     "text": [
      "Requirement already satisfied: python-dotenv in c:\\users\\291688\\appdata\\local\\anaconda3\\lib\\site-packages (0.21.0)\n"
     ]
    },
    {
     "name": "stderr",
     "output_type": "stream",
     "text": [
      "WARNING: Ignoring invalid distribution ~ertifi (C:\\Users\\291688\\AppData\\Local\\anaconda3\\Lib\\site-packages)\n",
      "WARNING: Ignoring invalid distribution ~ertifi (C:\\Users\\291688\\AppData\\Local\\anaconda3\\Lib\\site-packages)\n",
      "WARNING: Ignoring invalid distribution ~ertifi (C:\\Users\\291688\\AppData\\Local\\anaconda3\\Lib\\site-packages)\n"
     ]
    }
   ],
   "source": [
    "!pip install python-dotenv\n"
   ]
  },
  {
   "cell_type": "code",
   "execution_count": 33,
   "id": "bfbeed34-fae4-4365-b680-6db3af6b3c1a",
   "metadata": {},
   "outputs": [],
   "source": [
    "\n",
    "# Load the .env file\n",
    "load_dotenv()\n",
    "\n",
    "# Get API key from .env\n",
    "openai.api_key = os.getenv(\"OPENAI_API_KEY\")\n",
    "\n",
    "if not openai.api_key:\n",
    "    raise ValueError(\"Error: OpenAI API key not found! Make sure the .env file is correctly loaded.\")\n"
   ]
  },
  {
   "cell_type": "markdown",
   "id": "05ab0fcf-1b49-48bc-a595-0df818b0532c",
   "metadata": {},
   "source": [
    "This function `get_gpt_sentiment()` sends the text to the OpenAI GPT-3.5 model, asking it to classify the sentiment as Positive or Negative.\n",
    "The function handles errors gracefully and defaults to Negative sentiment in case of any exceptions.\n"
   ]
  },
  {
   "cell_type": "code",
   "execution_count": 34,
   "id": "c830f862-c4b5-459a-bb0c-b5b7453f397c",
   "metadata": {},
   "outputs": [],
   "source": [
    "def get_gpt_sentiment(text):\n",
    "    try:\n",
    "        response = openai.ChatCompletion.create(\n",
    "            model=\"gpt-3.5-turbo\",\n",
    "            request_timeout=10,\n",
    "            messages=[\n",
    "                {\"role\": \"system\", \"content\": \"Classify this text strictly as Positive or Negative only.\"},\n",
    "                {\"role\": \"user\", \"content\": text}\n",
    "            ]\n",
    "        )\n",
    "        sentiment = response['choices'][0]['message']['content'].strip().lower()\n",
    "        return \"Positive\" if \"positive\" in sentiment else \"Negative\"\n",
    "    except Exception as e:\n",
    "        print(f\"Error: {e}\")\n",
    "        return \"Negative\"\n"
   ]
  },
  {
   "cell_type": "markdown",
   "id": "6ccd79d3-b3fc-4aa7-8586-09a7a6349926",
   "metadata": {},
   "source": [
    "We load the dataset and apply the GPT sentiment analysis function to the feedback texts. \n",
    "We also implement a sleep function to avoid hitting OpenAI's rate limit. \n",
    "Finally, we print a classification report to evaluate the performance of the GPT model.\n"
   ]
  },
  {
   "cell_type": "code",
   "execution_count": 35,
   "id": "3ff9fc3b-c78e-4ba7-9c83-d471a1dacd2b",
   "metadata": {},
   "outputs": [
    {
     "name": "stdout",
     "output_type": "stream",
     "text": [
      "\n",
      " GPT Model Performance:\n",
      "              precision    recall  f1-score   support\n",
      "\n",
      "    Negative       1.00      1.00      1.00       500\n",
      "    Positive       1.00      1.00      1.00       500\n",
      "\n",
      "    accuracy                           1.00      1000\n",
      "   macro avg       1.00      1.00      1.00      1000\n",
      "weighted avg       1.00      1.00      1.00      1000\n",
      "\n"
     ]
    }
   ],
   "source": [
    "\n",
    "# Load Data\n",
    "base_dir = os.getcwd()\n",
    "file_path = os.path.join(base_dir, \"new_channel_partner_feedback.csv\")\n",
    "df = pd.read_csv(file_path)\n",
    "\n",
    "# Analyze Sentiment for GPT (Add rate-limiting with sleep)\n",
    "df[\"gpt_prediction\"] = df[\"Feedback_Text\"].apply(\n",
    "    lambda x: (time.sleep(1), get_gpt_sentiment(x))[1]\n",
    ")\n",
    "\n",
    "\n",
    "# Print classification report\n",
    "print(\"\\n GPT Model Performance:\")\n",
    "print(classification_report(df[\"Sentiment\"], df[\"gpt_prediction\"]))\n"
   ]
  },
  {
   "cell_type": "code",
   "execution_count": 36,
   "id": "f4ae1b72-8edc-4f4d-8b91-546ccb290759",
   "metadata": {},
   "outputs": [
    {
     "data": {
      "text/html": [
       "<div>\n",
       "<style scoped>\n",
       "    .dataframe tbody tr th:only-of-type {\n",
       "        vertical-align: middle;\n",
       "    }\n",
       "\n",
       "    .dataframe tbody tr th {\n",
       "        vertical-align: top;\n",
       "    }\n",
       "\n",
       "    .dataframe thead th {\n",
       "        text-align: right;\n",
       "    }\n",
       "</style>\n",
       "<table border=\"1\" class=\"dataframe\">\n",
       "  <thead>\n",
       "    <tr style=\"text-align: right;\">\n",
       "      <th></th>\n",
       "      <th>Feedback_ID</th>\n",
       "      <th>Feedback_Text</th>\n",
       "      <th>Sentiment</th>\n",
       "      <th>gpt_prediction</th>\n",
       "    </tr>\n",
       "  </thead>\n",
       "  <tbody>\n",
       "    <tr>\n",
       "      <th>0</th>\n",
       "      <td>4</td>\n",
       "      <td>The product is well-engineered, leading to hig...</td>\n",
       "      <td>Positive</td>\n",
       "      <td>Positive</td>\n",
       "    </tr>\n",
       "    <tr>\n",
       "      <th>1</th>\n",
       "      <td>819</td>\n",
       "      <td>Shipping partners are unreliable, causing delays.</td>\n",
       "      <td>Negative</td>\n",
       "      <td>Negative</td>\n",
       "    </tr>\n",
       "    <tr>\n",
       "      <th>2</th>\n",
       "      <td>621</td>\n",
       "      <td>Customer service representatives lack technica...</td>\n",
       "      <td>Negative</td>\n",
       "      <td>Negative</td>\n",
       "    </tr>\n",
       "    <tr>\n",
       "      <th>3</th>\n",
       "      <td>850</td>\n",
       "      <td>The platform's navigation is unintuitive, maki...</td>\n",
       "      <td>Negative</td>\n",
       "      <td>Negative</td>\n",
       "    </tr>\n",
       "    <tr>\n",
       "      <th>4</th>\n",
       "      <td>201</td>\n",
       "      <td>Promotional discounts have driven more custome...</td>\n",
       "      <td>Positive</td>\n",
       "      <td>Positive</td>\n",
       "    </tr>\n",
       "    <tr>\n",
       "      <th>...</th>\n",
       "      <td>...</td>\n",
       "      <td>...</td>\n",
       "      <td>...</td>\n",
       "      <td>...</td>\n",
       "    </tr>\n",
       "    <tr>\n",
       "      <th>995</th>\n",
       "      <td>289</td>\n",
       "      <td>Customer demand has been steadily increasing f...</td>\n",
       "      <td>Positive</td>\n",
       "      <td>Positive</td>\n",
       "    </tr>\n",
       "    <tr>\n",
       "      <th>996</th>\n",
       "      <td>806</td>\n",
       "      <td>Support team is difficult to reach during crit...</td>\n",
       "      <td>Negative</td>\n",
       "      <td>Negative</td>\n",
       "    </tr>\n",
       "    <tr>\n",
       "      <th>997</th>\n",
       "      <td>721</td>\n",
       "      <td>Mobile notifications are excessive and cannot ...</td>\n",
       "      <td>Negative</td>\n",
       "      <td>Negative</td>\n",
       "    </tr>\n",
       "    <tr>\n",
       "      <th>998</th>\n",
       "      <td>57</td>\n",
       "      <td>The company maintains transparency in all tran...</td>\n",
       "      <td>Positive</td>\n",
       "      <td>Positive</td>\n",
       "    </tr>\n",
       "    <tr>\n",
       "      <th>999</th>\n",
       "      <td>496</td>\n",
       "      <td>Product stability has led to fewer service int...</td>\n",
       "      <td>Positive</td>\n",
       "      <td>Positive</td>\n",
       "    </tr>\n",
       "  </tbody>\n",
       "</table>\n",
       "<p>1000 rows × 4 columns</p>\n",
       "</div>"
      ],
      "text/plain": [
       "     Feedback_ID                                      Feedback_Text Sentiment  \\\n",
       "0              4  The product is well-engineered, leading to hig...  Positive   \n",
       "1            819  Shipping partners are unreliable, causing delays.  Negative   \n",
       "2            621  Customer service representatives lack technica...  Negative   \n",
       "3            850  The platform's navigation is unintuitive, maki...  Negative   \n",
       "4            201  Promotional discounts have driven more custome...  Positive   \n",
       "..           ...                                                ...       ...   \n",
       "995          289  Customer demand has been steadily increasing f...  Positive   \n",
       "996          806  Support team is difficult to reach during crit...  Negative   \n",
       "997          721  Mobile notifications are excessive and cannot ...  Negative   \n",
       "998           57  The company maintains transparency in all tran...  Positive   \n",
       "999          496  Product stability has led to fewer service int...  Positive   \n",
       "\n",
       "    gpt_prediction  \n",
       "0         Positive  \n",
       "1         Negative  \n",
       "2         Negative  \n",
       "3         Negative  \n",
       "4         Positive  \n",
       "..             ...  \n",
       "995       Positive  \n",
       "996       Negative  \n",
       "997       Negative  \n",
       "998       Positive  \n",
       "999       Positive  \n",
       "\n",
       "[1000 rows x 4 columns]"
      ]
     },
     "execution_count": 36,
     "metadata": {},
     "output_type": "execute_result"
    }
   ],
   "source": [
    "df"
   ]
  },
  {
   "cell_type": "code",
   "execution_count": null,
   "id": "cf7ba258-02bf-43f6-bbc0-53aa0592b47c",
   "metadata": {},
   "outputs": [],
   "source": []
  }
 ],
 "metadata": {
  "kernelspec": {
   "display_name": "Python 3 (ipykernel)",
   "language": "python",
   "name": "python3"
  },
  "language_info": {
   "codemirror_mode": {
    "name": "ipython",
    "version": 3
   },
   "file_extension": ".py",
   "mimetype": "text/x-python",
   "name": "python",
   "nbconvert_exporter": "python",
   "pygments_lexer": "ipython3",
   "version": "3.12.7"
  }
 },
 "nbformat": 4,
 "nbformat_minor": 5
}
