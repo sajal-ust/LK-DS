{
 "cells": [
  {
   "cell_type": "code",
   "execution_count": null,
   "id": "f0acf7df-05b5-442f-bcb1-9d4ef8b1c00d",
   "metadata": {},
   "outputs": [],
   "source": [
    "import stanza\n",
    "import pandas as pd\n",
    "from sklearn.metrics import classification_report"
   ]
  },
  {
   "cell_type": "markdown",
   "id": "f3a878ab-95c9-4f2c-aac4-cb248c2eedbe",
   "metadata": {},
   "source": [
    "We initialize the Stanza pipeline for English language processing with tokenization and sentiment analysis. The stanza.download(\"en\") ensures that the necessary models are downloaded before using them."
   ]
  },
  {
   "cell_type": "code",
   "execution_count": 1,
   "id": "68182b22-64c2-4aff-80af-81e853a6c1c2",
   "metadata": {},
   "outputs": [
    {
     "data": {
      "application/vnd.jupyter.widget-view+json": {
       "model_id": "a26d11dd0fff44f99c136c9daf4c5502",
       "version_major": 2,
       "version_minor": 0
      },
      "text/plain": [
       "Downloading https://raw.githubusercontent.com/stanfordnlp/stanza-resources/main/resources_1.10.0.json:   0%|  …"
      ]
     },
     "metadata": {},
     "output_type": "display_data"
    },
    {
     "name": "stderr",
     "output_type": "stream",
     "text": [
      "2025-04-02 10:45:51 INFO: Downloaded file to C:\\Users\\291688\\stanza_resources\\resources.json\n",
      "2025-04-02 10:45:51 INFO: Downloading default packages for language: en (English) ...\n",
      "2025-04-02 10:45:52 INFO: File exists: C:\\Users\\291688\\stanza_resources\\en\\default.zip\n",
      "2025-04-02 10:45:55 INFO: Finished downloading models and saved to C:\\Users\\291688\\stanza_resources\n",
      "2025-04-02 10:45:55 INFO: Checking for updates to resources.json in case models have been updated.  Note: this behavior can be turned off with download_method=None or download_method=DownloadMethod.REUSE_RESOURCES\n"
     ]
    },
    {
     "data": {
      "application/vnd.jupyter.widget-view+json": {
       "model_id": "523e6f62f010408f9568d9225e8541f6",
       "version_major": 2,
       "version_minor": 0
      },
      "text/plain": [
       "Downloading https://raw.githubusercontent.com/stanfordnlp/stanza-resources/main/resources_1.10.0.json:   0%|  …"
      ]
     },
     "metadata": {},
     "output_type": "display_data"
    },
    {
     "name": "stderr",
     "output_type": "stream",
     "text": [
      "2025-04-02 10:45:55 INFO: Downloaded file to C:\\Users\\291688\\stanza_resources\\resources.json\n",
      "2025-04-02 10:45:55 WARNING: Language en package default expects mwt, which has been added\n",
      "2025-04-02 10:45:56 INFO: Loading these models for language: en (English):\n",
      "==============================\n",
      "| Processor | Package        |\n",
      "------------------------------\n",
      "| tokenize  | combined       |\n",
      "| mwt       | combined       |\n",
      "| sentiment | sstplus_charlm |\n",
      "==============================\n",
      "\n",
      "2025-04-02 10:45:56 INFO: Using device: cpu\n",
      "2025-04-02 10:45:56 INFO: Loading: tokenize\n",
      "2025-04-02 10:45:58 INFO: Loading: mwt\n",
      "2025-04-02 10:45:58 INFO: Loading: sentiment\n",
      "2025-04-02 10:46:00 INFO: Done loading processors!\n"
     ]
    }
   ],
   "source": [
    "\n",
    "# Load Stanza NLP Model\n",
    "stanza.download(\"en\")\n",
    "nlp = stanza.Pipeline(lang=\"en\", processors=\"tokenize,sentiment\")\n"
   ]
  },
  {
   "cell_type": "markdown",
   "id": "5c07b488-bd5c-437c-a76d-2352b5cc8a91",
   "metadata": {},
   "source": [
    "This function `get_stanza_sentiment()` takes a text input and processes it using the Stanza NLP pipeline. \n",
    "The sentiment is classified as Positive if the sentiment score is 2, and Negative otherwise.\n"
   ]
  },
  {
   "cell_type": "code",
   "execution_count": 2,
   "id": "5b093763-de71-4b31-8194-cd1298a78ede",
   "metadata": {},
   "outputs": [],
   "source": [
    "def get_stanza_sentiment(text, nlp):\n",
    "    doc = nlp(text)\n",
    "    sentiment_score = doc.sentences[0].sentiment  # (0 = Negative,1 = Positive)\n",
    "    return \"Positive\" if sentiment_score == 2 else \"Negative\"\n"
   ]
  },
  {
   "cell_type": "markdown",
   "id": "cc71205c-b2ec-48e1-b718-5685218ee818",
   "metadata": {},
   "source": [
    "We load the dataset and apply the Stanza sentiment analysis function to the feedback texts. \n",
    "Predictions are stored in a new column, and we evaluate the model's performance using the classification report.\n"
   ]
  },
  {
   "cell_type": "code",
   "execution_count": 3,
   "id": "1271b0c6-4f51-49e1-b792-7aaae12d7343",
   "metadata": {},
   "outputs": [
    {
     "name": "stdout",
     "output_type": "stream",
     "text": [
      "\n",
      " Stanza Model Performance:\n",
      "              precision    recall  f1-score   support\n",
      "\n",
      "    Negative       0.85      0.98      0.91       500\n",
      "    Positive       0.97      0.83      0.89       500\n",
      "\n",
      "    accuracy                           0.90      1000\n",
      "   macro avg       0.91      0.90      0.90      1000\n",
      "weighted avg       0.91      0.90      0.90      1000\n",
      "\n"
     ]
    }
   ],
   "source": [
    "\n",
    "# Load Data\n",
    "df = pd.read_csv(r\"C:\\Users\\291688\\Downloads\\Sentiment_Analysis_NLP_Model\\channel_partner_feedback.csv\")  # Ensure it has 'text' and 'true_label' columns\n",
    "\n",
    "# Analyze Sentiment for Stanza\n",
    "df[\"stanza_prediction\"] = df[\"Feedback_Text\"].apply(lambda x: get_stanza_sentiment(x, nlp))\n",
    "\n",
    "# Print classification report\n",
    "print(\"\\n Stanza Model Performance:\")\n",
    "print(classification_report(df[\"Sentiment\"], df[\"stanza_prediction\"]))\n"
   ]
  },
  {
   "cell_type": "code",
   "execution_count": 5,
   "id": "46d642b4-c663-4c5e-a056-5f1a088d184e",
   "metadata": {},
   "outputs": [
    {
     "data": {
      "text/html": [
       "<div>\n",
       "<style scoped>\n",
       "    .dataframe tbody tr th:only-of-type {\n",
       "        vertical-align: middle;\n",
       "    }\n",
       "\n",
       "    .dataframe tbody tr th {\n",
       "        vertical-align: top;\n",
       "    }\n",
       "\n",
       "    .dataframe thead th {\n",
       "        text-align: right;\n",
       "    }\n",
       "</style>\n",
       "<table border=\"1\" class=\"dataframe\">\n",
       "  <thead>\n",
       "    <tr style=\"text-align: right;\">\n",
       "      <th></th>\n",
       "      <th>Feedback_ID</th>\n",
       "      <th>Feedback_Text</th>\n",
       "      <th>Sentiment</th>\n",
       "      <th>stanza_prediction</th>\n",
       "    </tr>\n",
       "  </thead>\n",
       "  <tbody>\n",
       "    <tr>\n",
       "      <th>0</th>\n",
       "      <td>4</td>\n",
       "      <td>The product is well-engineered, leading to hig...</td>\n",
       "      <td>Positive</td>\n",
       "      <td>Positive</td>\n",
       "    </tr>\n",
       "    <tr>\n",
       "      <th>1</th>\n",
       "      <td>819</td>\n",
       "      <td>Shipping partners are unreliable, causing delays.</td>\n",
       "      <td>Negative</td>\n",
       "      <td>Negative</td>\n",
       "    </tr>\n",
       "    <tr>\n",
       "      <th>2</th>\n",
       "      <td>621</td>\n",
       "      <td>Customer service representatives lack technica...</td>\n",
       "      <td>Negative</td>\n",
       "      <td>Negative</td>\n",
       "    </tr>\n",
       "    <tr>\n",
       "      <th>3</th>\n",
       "      <td>850</td>\n",
       "      <td>The platform's navigation is unintuitive, maki...</td>\n",
       "      <td>Negative</td>\n",
       "      <td>Negative</td>\n",
       "    </tr>\n",
       "    <tr>\n",
       "      <th>4</th>\n",
       "      <td>201</td>\n",
       "      <td>Promotional discounts have driven more custome...</td>\n",
       "      <td>Positive</td>\n",
       "      <td>Negative</td>\n",
       "    </tr>\n",
       "    <tr>\n",
       "      <th>...</th>\n",
       "      <td>...</td>\n",
       "      <td>...</td>\n",
       "      <td>...</td>\n",
       "      <td>...</td>\n",
       "    </tr>\n",
       "    <tr>\n",
       "      <th>995</th>\n",
       "      <td>289</td>\n",
       "      <td>Customer demand has been steadily increasing f...</td>\n",
       "      <td>Positive</td>\n",
       "      <td>Negative</td>\n",
       "    </tr>\n",
       "    <tr>\n",
       "      <th>996</th>\n",
       "      <td>806</td>\n",
       "      <td>Support team is difficult to reach during crit...</td>\n",
       "      <td>Negative</td>\n",
       "      <td>Negative</td>\n",
       "    </tr>\n",
       "    <tr>\n",
       "      <th>997</th>\n",
       "      <td>721</td>\n",
       "      <td>Mobile notifications are excessive and cannot ...</td>\n",
       "      <td>Negative</td>\n",
       "      <td>Negative</td>\n",
       "    </tr>\n",
       "    <tr>\n",
       "      <th>998</th>\n",
       "      <td>57</td>\n",
       "      <td>The company maintains transparency in all tran...</td>\n",
       "      <td>Positive</td>\n",
       "      <td>Negative</td>\n",
       "    </tr>\n",
       "    <tr>\n",
       "      <th>999</th>\n",
       "      <td>496</td>\n",
       "      <td>Product stability has led to fewer service int...</td>\n",
       "      <td>Positive</td>\n",
       "      <td>Negative</td>\n",
       "    </tr>\n",
       "  </tbody>\n",
       "</table>\n",
       "<p>1000 rows × 4 columns</p>\n",
       "</div>"
      ],
      "text/plain": [
       "     Feedback_ID                                      Feedback_Text Sentiment  \\\n",
       "0              4  The product is well-engineered, leading to hig...  Positive   \n",
       "1            819  Shipping partners are unreliable, causing delays.  Negative   \n",
       "2            621  Customer service representatives lack technica...  Negative   \n",
       "3            850  The platform's navigation is unintuitive, maki...  Negative   \n",
       "4            201  Promotional discounts have driven more custome...  Positive   \n",
       "..           ...                                                ...       ...   \n",
       "995          289  Customer demand has been steadily increasing f...  Positive   \n",
       "996          806  Support team is difficult to reach during crit...  Negative   \n",
       "997          721  Mobile notifications are excessive and cannot ...  Negative   \n",
       "998           57  The company maintains transparency in all tran...  Positive   \n",
       "999          496  Product stability has led to fewer service int...  Positive   \n",
       "\n",
       "    stanza_prediction  \n",
       "0            Positive  \n",
       "1            Negative  \n",
       "2            Negative  \n",
       "3            Negative  \n",
       "4            Negative  \n",
       "..                ...  \n",
       "995          Negative  \n",
       "996          Negative  \n",
       "997          Negative  \n",
       "998          Negative  \n",
       "999          Negative  \n",
       "\n",
       "[1000 rows x 4 columns]"
      ]
     },
     "execution_count": 5,
     "metadata": {},
     "output_type": "execute_result"
    }
   ],
   "source": [
    "df"
   ]
  },
  {
   "cell_type": "code",
   "execution_count": null,
   "id": "74aa5cd4-4aa3-411c-9593-6ba6fda6d698",
   "metadata": {},
   "outputs": [],
   "source": []
  }
 ],
 "metadata": {
  "kernelspec": {
   "display_name": "Python 3 (ipykernel)",
   "language": "python",
   "name": "python3"
  },
  "language_info": {
   "codemirror_mode": {
    "name": "ipython",
    "version": 3
   },
   "file_extension": ".py",
   "mimetype": "text/x-python",
   "name": "python",
   "nbconvert_exporter": "python",
   "pygments_lexer": "ipython3",
   "version": "3.12.7"
  }
 },
 "nbformat": 4,
 "nbformat_minor": 5
}
